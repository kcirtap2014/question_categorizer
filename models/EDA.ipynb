{
 "cells": [
  {
   "cell_type": "markdown",
   "metadata": {},
   "source": [
    "Several branches corresponding to different models are created on the following github page:\n",
    "https://github.com/kcirtap2014/question_categorizer\n",
    "\n",
    "This branch is different in the corpus creation, we create the corpus out of the tags in the train set. \n",
    "Only from train set because otherwise we would have commited some data leakage."
   ]
  },
  {
   "cell_type": "code",
   "execution_count": 1,
   "metadata": {},
   "outputs": [
    {
     "name": "stdout",
     "output_type": "stream",
     "text": [
      "Populating the interactive namespace from numpy and matplotlib\n"
     ]
    }
   ],
   "source": [
    "import os\n",
    "import pandas as pd\n",
    "import seaborn as sns\n",
    "import string\n",
    "import re\n",
    "from collections import defaultdict\n",
    "from helper_functions import (group_sort, unique_values, freq_stats_corpora, \n",
    "                              evaluate, ngram, jaccard_distance, \n",
    "                              cosine_similarity, check_similar_tags, \n",
    "                              get_best_tags, CrossValidation)\n",
    "\n",
    "\n",
    "sns.set_style(\"white\")\n",
    "%pylab inline"
   ]
  },
  {
   "cell_type": "markdown",
   "metadata": {},
   "source": [
    "# Mission\n",
    "Développer un système de suggestion de tag pour le site stackoverflow"
   ]
  },
  {
   "cell_type": "markdown",
   "metadata": {},
   "source": [
    "# Load Data"
   ]
  },
  {
   "cell_type": "code",
   "execution_count": 2,
   "metadata": {
    "collapsed": true
   },
   "outputs": [],
   "source": [
    "cur_dir = os.path.dirname(os.getcwd())\n",
    "num_db = 6\n",
    "df = pd.DataFrame([])\n",
    "\n",
    "for i in range(num_db):\n",
    "    df = df.append(\n",
    "        pd.read_csv(\n",
    "            cur_dir + \"/db/QueryResults%d.csv\" % (i + 1), index_col=0))"
   ]
  },
  {
   "cell_type": "code",
   "execution_count": 3,
   "metadata": {},
   "outputs": [
    {
     "data": {
      "text/plain": [
       "(300000, 21)"
      ]
     },
     "execution_count": 3,
     "metadata": {},
     "output_type": "execute_result"
    }
   ],
   "source": [
    "df.shape"
   ]
  },
  {
   "cell_type": "code",
   "execution_count": 4,
   "metadata": {
    "collapsed": true
   },
   "outputs": [],
   "source": [
    "df_reduced = df.sample(50000, random_state=23)"
   ]
  },
  {
   "cell_type": "code",
   "execution_count": 5,
   "metadata": {},
   "outputs": [
    {
     "data": {
      "image/png": "[encoded data removed]",
      "text/plain": [
       "<matplotlib.figure.Figure at 0x1a1f336fd0>"
      ]
     },
     "metadata": {},
     "output_type": "display_data"
    }
   ],
   "source": [
    "df_count = df_reduced.count().sort_values(ascending=False)\n",
    "fig, ax = plt.subplots()\n",
    "df_count.plot.bar(color=\"steelblue\", ax=ax)\n",
    "sns.despine()"
   ]
  },
  {
   "cell_type": "markdown",
   "metadata": {},
   "source": [
    "__Observation__:\n",
    "- Each post has an id, PostTypeId, CommentCount, CreationDate, Score and LastActivityDate\n",
    "- User information are given by OwnerUserId and OwnerDisplayName, almost all posts are given by distinct user.\n",
    "- Tags have a significant missing values -> users do not tag much\n",
    "\n",
    "Here, we are interested in analysing the title and body and then suggest tags to users.\n",
    "\n",
    "In the *unsupervised learning*, tags are not necessary, but in *supervised learning*, tags are the target variable."
   ]
  },
  {
   "cell_type": "code",
   "execution_count": 6,
   "metadata": {
    "collapsed": true
   },
   "outputs": [],
   "source": [
    "# Combine columns\n",
    "# add an empty space for distinction\n",
    "df_text = pd.DataFrame(list(zip(df_reduced.Title,\n",
    "                                df_reduced.Body)), index = df_reduced.index).rename(columns={\n",
    "                                    0: 'TITLE',\n",
    "                                    1: 'BODY',\n",
    "                                })"
   ]
  },
  {
   "cell_type": "code",
   "execution_count": 7,
   "metadata": {
    "collapsed": true
   },
   "outputs": [],
   "source": [
    "def stringbetweencode(data):\n",
    "    p = re.compile(\"<code>(.+?)<\\/code>\", flags=re.DOTALL)\n",
    "    return p.findall(data) \n",
    "\n",
    "def tag_between_brackets(data):\n",
    "    if pd.notnull(data):\n",
    "        p = re.compile(r'<(.*?)>')\n",
    "        return p.findall(data)\n",
    "    return data\n",
    "\n",
    "#df_text[\"CODE\"] = np.nan\n",
    "df_text[\"CODE\"] = df_text[\"BODY\"].apply(stringbetweencode) \n",
    "df_text[\"TAGS\"] = df_reduced[\"Tags\"].apply(tag_between_brackets) "
   ]
  },
  {
   "cell_type": "markdown",
   "metadata": {},
   "source": [
    "# EDA for Tags"
   ]
  },
  {
   "cell_type": "markdown",
   "metadata": {},
   "source": [
    "## Tags frequencies analysis"
   ]
  },
  {
   "cell_type": "code",
   "execution_count": 8,
   "metadata": {
    "collapsed": true
   },
   "outputs": [],
   "source": [
    "from nltk import FreqDist\n",
    "from nltk.tokenize import word_tokenize\n",
    "\n",
    "df_tags = df_text[df_text.TAGS.notnull()][\"TAGS\"]\n",
    "\n",
    "# combine all tokens together for freq dist\n",
    "tagslist = df_tags.sum()\n",
    "\n",
    "# count frequency of each tag\n",
    "# How many documents are tagged with a specific tag?\n",
    "tagsfreq = FreqDist(tagslist)"
   ]
  },
  {
   "cell_type": "code",
   "execution_count": 9,
   "metadata": {
    "collapsed": true
   },
   "outputs": [],
   "source": [
    "from operator import itemgetter\n",
    "# sort by values in descending order\n",
    "sorted_tagsfreq = sorted(tagsfreq.items(), key=itemgetter(1), reverse=True)\n",
    "tags_key, tags_value = zip(*sorted_tagsfreq)"
   ]
  },
  {
   "cell_type": "code",
   "execution_count": 10,
   "metadata": {},
   "outputs": [
    {
     "name": "stderr",
     "output_type": "stream",
     "text": [
      "/Users/pmlee/anaconda3/lib/python3.6/site-packages/seaborn/categorical.py:1460: FutureWarning: remove_na is deprecated and is a private function. Do not use.\n",
      "  stat_data = remove_na(group_data)\n"
     ]
    },
    {
     "data": {
      "image/png": "[encoded data removed]",
      "text/plain": [
       "<matplotlib.figure.Figure at 0x1a1cc95a20>"
      ]
     },
     "metadata": {},
     "output_type": "display_data"
    }
   ],
   "source": [
    "# prepare for sns.barplot\n",
    "fig, ax = plt.subplots( figsize=(10, 3))\n",
    "\n",
    "n_element = 20\n",
    "x_tags = np.array(tags_key[:n_element]+ tags_key[-n_element:])\n",
    "y_tags = np.array(tags_value[:n_element]+ tags_value[-n_element:])\n",
    "sns.barplot(x_tags, y_tags, ax=ax)\n",
    "ax.set_xticklabels(x_tags, rotation=90)\n",
    "ax.set_title('Top and Bottom 20 tags')\n",
    "sns.despine()"
   ]
  },
  {
   "cell_type": "code",
   "execution_count": 11,
   "metadata": {},
   "outputs": [
    {
     "data": {
      "text/plain": [
       "count    4476.000000\n",
       "mean        7.005585\n",
       "std        38.234422\n",
       "min         1.000000\n",
       "50%         1.000000\n",
       "75%         4.000000\n",
       "90%        10.000000\n",
       "95%        22.000000\n",
       "max      1409.000000\n",
       "dtype: float64"
      ]
     },
     "execution_count": 11,
     "metadata": {},
     "output_type": "execute_result"
    }
   ],
   "source": [
    "pd.Series(tags_value).describe([0.5, 0.75,0.9,0.95])"
   ]
  },
  {
   "cell_type": "markdown",
   "metadata": {},
   "source": [
    "__Observation__:\n",
    "- 50% of the tags only occur once, we will eliminate tags that have low counts, taking the arg of 75% as threshold"
   ]
  },
  {
   "cell_type": "markdown",
   "metadata": {},
   "source": [
    "# Text preprocessing with scikit learn and NLTK"
   ]
  },
  {
   "cell_type": "code",
   "execution_count": 12,
   "metadata": {
    "collapsed": true,
    "scrolled": false
   },
   "outputs": [],
   "source": [
    "from sklearn.decomposition import LatentDirichletAllocation\n",
    "from nltk import regexp_tokenize, pos_tag\n",
    "from nltk.corpus import stopwords\n",
    "from nltk.stem import WordNetLemmatizer\n",
    "import pdb\n",
    "\n",
    "wnl = WordNetLemmatizer()\n",
    "\n",
    "def convert_tag(tag):\n",
    "    \"\"\"\n",
    "    Convert the tag given by nltk.pos_tag \n",
    "    to the tag used by wordnet.synsets\n",
    "    \"\"\"\n",
    "    tag_dict = {'N': 'n', 'J': 'a', 'R': 'r', 'V': 'v'}\n",
    "    try:\n",
    "        return tag_dict[tag[0]]\n",
    "    except KeyError:\n",
    "        # defalut value\n",
    "        return 'n'  #None\n",
    "\n",
    "\n",
    "def lemmatizer(doc):\n",
    "    \"\"\"\n",
    "    returns lemmatized tokens after removing stop words and pos tagging\n",
    "    \n",
    "    Parameters:\n",
    "    -----------\n",
    "    doc: pandas dataframe\n",
    "        text description in df\n",
    "    \n",
    "    Return:\n",
    "    -------\n",
    "    pandas dataframe\n",
    "        lemmatized, pos_tagged, and removed stopwords tokens\n",
    "    \"\"\"\n",
    "    if pd.notnull(doc):\n",
    "        # add words to stoplist, previously punctuations have been removed,\n",
    "        # so we should do the same for the stoplist\n",
    "        stoplist = [striphtmlpunct(x)\n",
    "                    for x in stopwords.words('english')] + ['im', 'ive']\n",
    "        #stoplist = stopwords.words('english') + [\n",
    "        #    \"i've\", \"either\", \"i'm\", \"i'd\", \"would\", \"could\", 'it', \"like\",\n",
    "        #    \"something\", \"also\", \"might\", \"want\", 'this', 'make', 'sure'\n",
    "        #]\n",
    "\n",
    "        lemmatized = []\n",
    "\n",
    "        regex_tokens = regexp_tokenize(doc, pattern='\\w+\\S+|\\.\\w+')\n",
    "        \n",
    "        for word, p_tags in pos_tag(regex_tokens):\n",
    "            if word not in set(stoplist):\n",
    "                convert_pos_tag = convert_tag(p_tags)\n",
    "                lemmatized.append(wnl.lemmatize(word, pos=convert_pos_tag))\n",
    "   \n",
    "        return pd.Series(' '.join(lemmatized))\n",
    "    return pd.Series(doc)\n",
    "\n",
    "\n",
    "def striphtmlpunct(data):\n",
    "    # remove html tags, code unnecessary punctuations\n",
    "    # <.*?> to remove everything between <>\n",
    "    # [^\\w\\s+\\.\\-\\#\\+] remove punctuations except .-#+\n",
    "    # (\\.{1,3})(?!\\S) negative lookahead assertion: only match .{1,3} that\n",
    "    # is followed by white space\n",
    "    if pd.notnull(data):\n",
    "        p = re.compile(r'<.*?>|[^\\w\\s+\\.\\-\\#\\+]')\n",
    "        res = p.sub('', data)\n",
    "        pe = re.compile('(\\.{1,3})(?!\\S)')\n",
    "        \n",
    "        return pe.sub('', res)\n",
    "    \n",
    "    return data\n",
    "\n",
    "\n",
    "def striptabs(data):\n",
    "    # remove tabs breaklines\n",
    "    p = re.compile(r'(\\r\\n)+|\\r+|\\n+|\\t+/i')\n",
    "    return p.sub(' ', data)\n",
    "\n",
    "def lower(data):\n",
    "    if pd.notnull(data):\n",
    "        return data.lower()\n",
    "    return data\n",
    "\n",
    "\n",
    "# remove html tags\n",
    "df_text[\"BODY_STRIPPED\"] = df_text.BODY.apply(lower).apply(\n",
    "    striphtmlpunct).apply(striptabs)\n",
    "df_text[\"CODE_STRIPPED\"] = df_text.CODE.apply(\n",
    "    lambda x: [striptabs(line.lower()) for line in x if x])\n",
    "df_text[\"TITLE_STRIPPED\"] = df_text.TITLE.apply(lower).apply(striphtmlpunct)\n",
    "\n",
    "# remove stop words, pos_tag, and lemmatize\n",
    "df_text[\"BODY_LEMMATIZED\"] = df_text[\"BODY_STRIPPED\"].apply(lemmatizer)\n",
    "df_text[\"TITLE_LEMMATIZED\"] = df_text[\"TITLE_STRIPPED\"].apply(lemmatizer)"
   ]
  },
  {
   "cell_type": "code",
   "execution_count": 13,
   "metadata": {},
   "outputs": [
    {
     "data": {
      "text/html": [
       "<div>\n",
       "<style scoped>\n",
       "    .dataframe tbody tr th:only-of-type {\n",
       "        vertical-align: middle;\n",
       "    }\n",
       "\n",
       "    .dataframe tbody tr th {\n",
       "        vertical-align: top;\n",
       "    }\n",
       "\n",
       "    .dataframe thead th {\n",
       "        text-align: right;\n",
       "    }\n",
       "</style>\n",
       "<table border=\"1\" class=\"dataframe\">\n",
       "  <thead>\n",
       "    <tr style=\"text-align: right;\">\n",
       "      <th></th>\n",
       "      <th>TITLE</th>\n",
       "      <th>BODY</th>\n",
       "      <th>CODE</th>\n",
       "      <th>TAGS</th>\n",
       "      <th>BODY_STRIPPED</th>\n",
       "      <th>CODE_STRIPPED</th>\n",
       "      <th>TITLE_STRIPPED</th>\n",
       "      <th>BODY_LEMMATIZED</th>\n",
       "      <th>TITLE_LEMMATIZED</th>\n",
       "    </tr>\n",
       "    <tr>\n",
       "      <th>Id</th>\n",
       "      <th></th>\n",
       "      <th></th>\n",
       "      <th></th>\n",
       "      <th></th>\n",
       "      <th></th>\n",
       "      <th></th>\n",
       "      <th></th>\n",
       "      <th></th>\n",
       "      <th></th>\n",
       "    </tr>\n",
       "  </thead>\n",
       "  <tbody>\n",
       "    <tr>\n",
       "      <th>401982</th>\n",
       "      <td>NaN</td>\n",
       "      <td>&lt;h2&gt;Re Is cut-and-past ever acceptable:&lt;/h2&gt;\\n...</td>\n",
       "      <td>[private static final String EMPLOYEE_COLUMNS ...</td>\n",
       "      <td>NaN</td>\n",
       "      <td>re is cut-and-past ever acceptable yes when th...</td>\n",
       "      <td>[private static final string employee_columns ...</td>\n",
       "      <td>NaN</td>\n",
       "      <td>cut-and-past ever acceptable yes segment sligh...</td>\n",
       "      <td>NaN</td>\n",
       "    </tr>\n",
       "    <tr>\n",
       "      <th>109829</th>\n",
       "      <td>NaN</td>\n",
       "      <td>&lt;p&gt;You need to start further down the line. Yo...</td>\n",
       "      <td>[]</td>\n",
       "      <td>NaN</td>\n",
       "      <td>you need to start further down the line you ne...</td>\n",
       "      <td>[]</td>\n",
       "      <td>NaN</td>\n",
       "      <td>need start line need know container format spe...</td>\n",
       "      <td>NaN</td>\n",
       "    </tr>\n",
       "    <tr>\n",
       "      <th>552890</th>\n",
       "      <td>What do you think about the new Debian release...</td>\n",
       "      <td>&lt;p&gt;I was surprised to know that Lenny already ...</td>\n",
       "      <td>[]</td>\n",
       "      <td>[linux, unix, debian, release-cycle]</td>\n",
       "      <td>i was surprised to know that lenny already pro...</td>\n",
       "      <td>[]</td>\n",
       "      <td>what do you think about the new debian release...</td>\n",
       "      <td>surprise know lenny already promote stable amo...</td>\n",
       "      <td>think new debian release cycle</td>\n",
       "    </tr>\n",
       "    <tr>\n",
       "      <th>236203</th>\n",
       "      <td>Why does a h1 tag display different in a div, ...</td>\n",
       "      <td>&lt;p&gt;I have a div with a &lt;code&gt;&amp;lt;h1&amp;gt;&lt;/code&gt;...</td>\n",
       "      <td>[&amp;lt;h1&amp;gt;, &amp;lt;h1&amp;gt;, &amp;lt;!DOCTYPE HTML PUB...</td>\n",
       "      <td>[html, css]</td>\n",
       "      <td>i have a div with a lth1gt tag in a div with n...</td>\n",
       "      <td>[&amp;lt;h1&amp;gt;, &amp;lt;h1&amp;gt;, &amp;lt;!doctype html pub...</td>\n",
       "      <td>why does a h1 tag display different in a div w...</td>\n",
       "      <td>div lth1gt tag div margin define doctype white...</td>\n",
       "      <td>h1 tag display different div doctype set</td>\n",
       "    </tr>\n",
       "    <tr>\n",
       "      <th>138781</th>\n",
       "      <td>NaN</td>\n",
       "      <td>&lt;p&gt;A while back I did a how-to blog post on us...</td>\n",
       "      <td>[]</td>\n",
       "      <td>NaN</td>\n",
       "      <td>a while back i did a how-to blog post on using...</td>\n",
       "      <td>[]</td>\n",
       "      <td>NaN</td>\n",
       "      <td>back how-to blog post use svn one developer ca...</td>\n",
       "      <td>NaN</td>\n",
       "    </tr>\n",
       "  </tbody>\n",
       "</table>\n",
       "</div>"
      ],
      "text/plain": [
       "                                                    TITLE  \\\n",
       "Id                                                          \n",
       "401982                                                NaN   \n",
       "109829                                                NaN   \n",
       "552890  What do you think about the new Debian release...   \n",
       "236203  Why does a h1 tag display different in a div, ...   \n",
       "138781                                                NaN   \n",
       "\n",
       "                                                     BODY  \\\n",
       "Id                                                          \n",
       "401982  <h2>Re Is cut-and-past ever acceptable:</h2>\\n...   \n",
       "109829  <p>You need to start further down the line. Yo...   \n",
       "552890  <p>I was surprised to know that Lenny already ...   \n",
       "236203  <p>I have a div with a <code>&lt;h1&gt;</code>...   \n",
       "138781  <p>A while back I did a how-to blog post on us...   \n",
       "\n",
       "                                                     CODE  \\\n",
       "Id                                                          \n",
       "401982  [private static final String EMPLOYEE_COLUMNS ...   \n",
       "109829                                                 []   \n",
       "552890                                                 []   \n",
       "236203  [&lt;h1&gt;, &lt;h1&gt;, &lt;!DOCTYPE HTML PUB...   \n",
       "138781                                                 []   \n",
       "\n",
       "                                        TAGS  \\\n",
       "Id                                             \n",
       "401982                                   NaN   \n",
       "109829                                   NaN   \n",
       "552890  [linux, unix, debian, release-cycle]   \n",
       "236203                           [html, css]   \n",
       "138781                                   NaN   \n",
       "\n",
       "                                            BODY_STRIPPED  \\\n",
       "Id                                                          \n",
       "401982  re is cut-and-past ever acceptable yes when th...   \n",
       "109829  you need to start further down the line you ne...   \n",
       "552890  i was surprised to know that lenny already pro...   \n",
       "236203  i have a div with a lth1gt tag in a div with n...   \n",
       "138781  a while back i did a how-to blog post on using...   \n",
       "\n",
       "                                            CODE_STRIPPED  \\\n",
       "Id                                                          \n",
       "401982  [private static final string employee_columns ...   \n",
       "109829                                                 []   \n",
       "552890                                                 []   \n",
       "236203  [&lt;h1&gt;, &lt;h1&gt;, &lt;!doctype html pub...   \n",
       "138781                                                 []   \n",
       "\n",
       "                                           TITLE_STRIPPED  \\\n",
       "Id                                                          \n",
       "401982                                                NaN   \n",
       "109829                                                NaN   \n",
       "552890  what do you think about the new debian release...   \n",
       "236203  why does a h1 tag display different in a div w...   \n",
       "138781                                                NaN   \n",
       "\n",
       "                                          BODY_LEMMATIZED  \\\n",
       "Id                                                          \n",
       "401982  cut-and-past ever acceptable yes segment sligh...   \n",
       "109829  need start line need know container format spe...   \n",
       "552890  surprise know lenny already promote stable amo...   \n",
       "236203  div lth1gt tag div margin define doctype white...   \n",
       "138781  back how-to blog post use svn one developer ca...   \n",
       "\n",
       "                                TITLE_LEMMATIZED  \n",
       "Id                                                \n",
       "401982                                       NaN  \n",
       "109829                                       NaN  \n",
       "552890            think new debian release cycle  \n",
       "236203  h1 tag display different div doctype set  \n",
       "138781                                       NaN  "
      ]
     },
     "execution_count": 13,
     "metadata": {},
     "output_type": "execute_result"
    }
   ],
   "source": [
    "df_text.head()"
   ]
  },
  {
   "cell_type": "markdown",
   "metadata": {},
   "source": [
    "### Eliminate entries without tags\n",
    "- since we have remove low count tags, some entries will be tagless, we remove these entries for supervised learning "
   ]
  },
  {
   "cell_type": "code",
   "execution_count": 14,
   "metadata": {
    "collapsed": true
   },
   "outputs": [],
   "source": [
    "df_text_reduced = df_text.loc[df_tags.index]"
   ]
  },
  {
   "cell_type": "code",
   "execution_count": 15,
   "metadata": {},
   "outputs": [
    {
     "data": {
      "text/html": [
       "<div>\n",
       "<style scoped>\n",
       "    .dataframe tbody tr th:only-of-type {\n",
       "        vertical-align: middle;\n",
       "    }\n",
       "\n",
       "    .dataframe tbody tr th {\n",
       "        vertical-align: top;\n",
       "    }\n",
       "\n",
       "    .dataframe thead th {\n",
       "        text-align: right;\n",
       "    }\n",
       "</style>\n",
       "<table border=\"1\" class=\"dataframe\">\n",
       "  <thead>\n",
       "    <tr style=\"text-align: right;\">\n",
       "      <th></th>\n",
       "      <th>TITLE</th>\n",
       "      <th>BODY</th>\n",
       "      <th>CODE</th>\n",
       "      <th>TAGS</th>\n",
       "      <th>BODY_STRIPPED</th>\n",
       "      <th>CODE_STRIPPED</th>\n",
       "      <th>TITLE_STRIPPED</th>\n",
       "      <th>BODY_LEMMATIZED</th>\n",
       "      <th>TITLE_LEMMATIZED</th>\n",
       "    </tr>\n",
       "    <tr>\n",
       "      <th>Id</th>\n",
       "      <th></th>\n",
       "      <th></th>\n",
       "      <th></th>\n",
       "      <th></th>\n",
       "      <th></th>\n",
       "      <th></th>\n",
       "      <th></th>\n",
       "      <th></th>\n",
       "      <th></th>\n",
       "    </tr>\n",
       "  </thead>\n",
       "  <tbody>\n",
       "    <tr>\n",
       "      <th>411457</th>\n",
       "      <td>How to refresh a simple binding of a Windows F...</td>\n",
       "      <td>&lt;p&gt;I'm binding a domain objects property to th...</td>\n",
       "      <td>[DataBindings, Label l = new Label();\\nl.DataB...</td>\n",
       "      <td>[c#, .net, binding]</td>\n",
       "      <td>im binding a domain objects property to the te...</td>\n",
       "      <td>[databindings, label l = new label(); l.databi...</td>\n",
       "      <td>how to refresh a simple binding of a windows f...</td>\n",
       "      <td>bind domain object property text property syst...</td>\n",
       "      <td>refresh simple binding window form control</td>\n",
       "    </tr>\n",
       "    <tr>\n",
       "      <th>302637</th>\n",
       "      <td>How to resolve AIX tar command sockets errors?</td>\n",
       "      <td>&lt;p&gt;Working in an AIX environment, I'm issuing ...</td>\n",
       "      <td>[ $ tar  -cvf /post_patches.tar /xyz \\n   tar:...</td>\n",
       "      <td>[linux, unix, aix, tar]</td>\n",
       "      <td>working in an aix environment im issuing the f...</td>\n",
       "      <td>[ $ tar  -cvf /post_patches.tar /xyz     tar: ...</td>\n",
       "      <td>how to resolve aix tar command sockets errors</td>\n",
       "      <td>work aix environment issue following tar comma...</td>\n",
       "      <td>resolve aix tar command socket error</td>\n",
       "    </tr>\n",
       "    <tr>\n",
       "      <th>301224</th>\n",
       "      <td>Using Web Browser as a Thin Client to Access c...</td>\n",
       "      <td>&lt;p&gt;I have an ASP.NET MVC application, when a u...</td>\n",
       "      <td>[]</td>\n",
       "      <td>[asp.net-mvc, architecture]</td>\n",
       "      <td>i have an asp.net mvc application when a user ...</td>\n",
       "      <td>[]</td>\n",
       "      <td>using web browser as a thin client to access c...</td>\n",
       "      <td>asp.net mvc application user click submit butt...</td>\n",
       "      <td>use web browser thin client access certain app...</td>\n",
       "    </tr>\n",
       "  </tbody>\n",
       "</table>\n",
       "</div>"
      ],
      "text/plain": [
       "                                                    TITLE  \\\n",
       "Id                                                          \n",
       "411457  How to refresh a simple binding of a Windows F...   \n",
       "302637     How to resolve AIX tar command sockets errors?   \n",
       "301224  Using Web Browser as a Thin Client to Access c...   \n",
       "\n",
       "                                                     BODY  \\\n",
       "Id                                                          \n",
       "411457  <p>I'm binding a domain objects property to th...   \n",
       "302637  <p>Working in an AIX environment, I'm issuing ...   \n",
       "301224  <p>I have an ASP.NET MVC application, when a u...   \n",
       "\n",
       "                                                     CODE  \\\n",
       "Id                                                          \n",
       "411457  [DataBindings, Label l = new Label();\\nl.DataB...   \n",
       "302637  [ $ tar  -cvf /post_patches.tar /xyz \\n   tar:...   \n",
       "301224                                                 []   \n",
       "\n",
       "                               TAGS  \\\n",
       "Id                                    \n",
       "411457          [c#, .net, binding]   \n",
       "302637      [linux, unix, aix, tar]   \n",
       "301224  [asp.net-mvc, architecture]   \n",
       "\n",
       "                                            BODY_STRIPPED  \\\n",
       "Id                                                          \n",
       "411457  im binding a domain objects property to the te...   \n",
       "302637  working in an aix environment im issuing the f...   \n",
       "301224  i have an asp.net mvc application when a user ...   \n",
       "\n",
       "                                            CODE_STRIPPED  \\\n",
       "Id                                                          \n",
       "411457  [databindings, label l = new label(); l.databi...   \n",
       "302637  [ $ tar  -cvf /post_patches.tar /xyz     tar: ...   \n",
       "301224                                                 []   \n",
       "\n",
       "                                           TITLE_STRIPPED  \\\n",
       "Id                                                          \n",
       "411457  how to refresh a simple binding of a windows f...   \n",
       "302637      how to resolve aix tar command sockets errors   \n",
       "301224  using web browser as a thin client to access c...   \n",
       "\n",
       "                                          BODY_LEMMATIZED  \\\n",
       "Id                                                          \n",
       "411457  bind domain object property text property syst...   \n",
       "302637  work aix environment issue following tar comma...   \n",
       "301224  asp.net mvc application user click submit butt...   \n",
       "\n",
       "                                         TITLE_LEMMATIZED  \n",
       "Id                                                         \n",
       "411457         refresh simple binding window form control  \n",
       "302637               resolve aix tar command socket error  \n",
       "301224  use web browser thin client access certain app...  "
      ]
     },
     "execution_count": 15,
     "metadata": {},
     "output_type": "execute_result"
    }
   ],
   "source": [
    "df_text_reduced.sample(3, random_state=344)"
   ]
  },
  {
   "cell_type": "code",
   "execution_count": 16,
   "metadata": {},
   "outputs": [
    {
     "data": {
      "text/plain": [
       "\"<p>A service I have in WCF occasionally goes down due a problem with a COM component. While I am troubleshooting I would like to setup another host to make regular calls to this service to monitor availability.</p>\\n\\n<p>It is slightly more complicated that a simple HTTP call though as the service is secured by SSL and WCF authentication (username / password). I'd also like to be able to parse successful calls to see if they return warning / fail states from my code.</p>\\n\\n<p>Would you recommend any monitoring providers for this or is it beyond the simple monitoring they normally provide?</p>\\n\\n<p>Regards</p>\\n\\n<p>Ryan</p>\\n\""
      ]
     },
     "execution_count": 16,
     "metadata": {},
     "output_type": "execute_result"
    }
   ],
   "source": [
    "df_text_reduced.iloc[39].BODY"
   ]
  },
  {
   "cell_type": "code",
   "execution_count": 17,
   "metadata": {},
   "outputs": [
    {
     "data": {
      "text/plain": [
       "'a service i have in wcf occasionally goes down due a problem with a com component while i am troubleshooting i would like to setup another host to make regular calls to this service to monitor availability it is slightly more complicated that a simple http call though as the service is secured by ssl and wcf authentication username  password id also like to be able to parse successful calls to see if they return warning  fail states from my code would you recommend any monitoring providers for this or is it beyond the simple monitoring they normally provide regards ryan '"
      ]
     },
     "execution_count": 17,
     "metadata": {},
     "output_type": "execute_result"
    }
   ],
   "source": [
    "df_text_reduced.iloc[39].BODY_STRIPPED"
   ]
  },
  {
   "cell_type": "code",
   "execution_count": 18,
   "metadata": {
    "scrolled": true
   },
   "outputs": [
    {
     "data": {
      "text/plain": [
       "'service wcf occasionally go due problem com component troubleshoot would like setup another host make regular call service monitor availability slightly complicated simple http call though service secure ssl wcf authentication username password id also like able parse successful call see return warn fail state code would recommend monitoring provider beyond simple monitoring normally provide regard ryan'"
      ]
     },
     "execution_count": 18,
     "metadata": {},
     "output_type": "execute_result"
    }
   ],
   "source": [
    "df_text_reduced.iloc[39].BODY_LEMMATIZED"
   ]
  },
  {
   "cell_type": "markdown",
   "metadata": {},
   "source": [
    "## Eliminate low count tags"
   ]
  },
  {
   "cell_type": "code",
   "execution_count": 19,
   "metadata": {
    "collapsed": true,
    "scrolled": true
   },
   "outputs": [],
   "source": [
    "def remove_low_count_tags(data, tags_key=None):\n",
    "\n",
    "    reduced = []\n",
    "    for el in data:\n",
    "        if el in set(tags_key):\n",
    "            reduced.append(el)\n",
    "\n",
    "    if not reduced:\n",
    "        reduced = np.NaN\n",
    "\n",
    "    return reduced\n",
    "\n",
    "\n",
    "# combine all tokens together for freq dist\n",
    "tagslist_reduced = df_text_reduced.TAGS.sum()\n",
    "\n",
    "# count frequency of each tag\n",
    "# How many documents are tagged with a specific tag?\n",
    "tagsfreq_reduced = FreqDist(tagslist_reduced)\n",
    "sorted_tagsfreq_reduced = sorted(\n",
    "    tagsfreq_reduced.items(), key=itemgetter(1), reverse=True)\n",
    "tags_key_reduced, tags_value_reduced = zip(*sorted_tagsfreq_reduced)\n",
    "\n",
    "# drop keywords that have less than tag_freq\n",
    "quartile = 0.95\n",
    "n_tag = pd.Series(tags_value_reduced).quantile([quartile]).values[0]\n",
    "sorted_tagsfreq_reduced_quartile = [\n",
    "    el for el in sorted_tagsfreq_reduced if el[1] > n_tag\n",
    "]\n",
    "tags_key_reduced_quartile, tags_value_reduced_quartile = zip(\n",
    "    *sorted_tagsfreq_reduced_quartile)\n",
    "df_tags_temp = df_text_reduced.TAGS.apply(\n",
    "    remove_low_count_tags, tags_key=tags_key_reduced_quartile)\n",
    "df_text_reduced[\"TAGS_MODIFIED\"] = df_tags_temp\n",
    "df_tags_reduced = df_text_reduced[df_text_reduced.TAGS_MODIFIED.notnull()]\n"
   ]
  },
  {
   "cell_type": "code",
   "execution_count": 20,
   "metadata": {},
   "outputs": [
    {
     "name": "stdout",
     "output_type": "stream",
     "text": [
      "91.8% of the data are retained\n"
     ]
    }
   ],
   "source": [
    "print(\"%.1f%% of the data are retained\" %(100*len(df_tags_reduced)/len(df_tags)))"
   ]
  },
  {
   "cell_type": "markdown",
   "metadata": {},
   "source": [
    "## Tags similarity\n",
    "### Comparison between Cosine similarity and Jaccard distance\n"
   ]
  },
  {
   "cell_type": "code",
   "execution_count": 21,
   "metadata": {
    "collapsed": true
   },
   "outputs": [],
   "source": [
    "from nltk.stem import PorterStemmer\n",
    "\n",
    "stemmer = PorterStemmer()\n",
    "selection_threshold =0.5\n",
    "\n",
    "sim_word_cosine = defaultdict(list)\n",
    "sim_word_jaccard = defaultdict(list)\n",
    "\n",
    "for i in range(len(tags_key_reduced_quartile)):\n",
    "    for j in range(len(tags_key_reduced_quartile)):\n",
    "        word_i = tags_key_reduced_quartile[i]\n",
    "        word_j = tags_key_reduced_quartile[j]\n",
    "        \n",
    "        # Porter stem to avoid matching words that have the same ending\n",
    "        # such as serialization, internationalization\n",
    "        word_i_lem = stemmer.stem(word_i)\n",
    "        word_j_lem = stemmer.stem(word_j)\n",
    "        \n",
    "        # generation of trigrams\n",
    "        trigrams_i = ngram(word_i_lem, 3)\n",
    "        trigrams_j = ngram(word_j_lem, 3)\n",
    "\n",
    "        cosine_sim = cosine_similarity(trigrams_i, trigrams_j)\n",
    "        jaccard_sim = jaccard_distance(trigrams_i, trigrams_j)\n",
    "\n",
    "        if cosine_sim >= selection_threshold and cosine_sim < 0.98:\n",
    "            sim_word_cosine[tags_key_reduced_quartile[i]].append({\n",
    "                tags_key_reduced_quartile[j]:\n",
    "                cosine_sim\n",
    "            })\n",
    "\n",
    "        if jaccard_sim >= selection_threshold and jaccard_sim < 1.:\n",
    "            sim_word_jaccard[tags_key_reduced_quartile[i]].append({\n",
    "                tags_key_reduced_quartile[j]:\n",
    "                jaccard_sim\n",
    "            })"
   ]
  },
  {
   "cell_type": "markdown",
   "metadata": {},
   "source": [
    "#### Use graph from network x to store associations"
   ]
  },
  {
   "cell_type": "code",
   "execution_count": 22,
   "metadata": {
    "collapsed": true
   },
   "outputs": [],
   "source": [
    "# Create a dataframe to illustrate the differences\n",
    "df_tags_sim = pd.DataFrame()\n",
    "\n",
    "for key, values in sim_word_cosine.items():\n",
    "    for i in range(len(sim_word_cosine[key])):\n",
    "        try:\n",
    "            jaccard_entry = list(sim_word_jaccard[key][i].keys())[0]\n",
    "        except IndexError:\n",
    "            jaccard_entry = np.NaN\n",
    "\n",
    "        try:\n",
    "            cosine_entry = list(sim_word_cosine[key][i].keys())[0]\n",
    "        except IndexError:\n",
    "            cosine_entry = np.NaN\n",
    "            \n",
    "        df_tags_sim = df_tags_sim.append(\n",
    "            {\n",
    "                \"TAG\": key,\n",
    "                \"TAG_JACCARD\": jaccard_entry,\n",
    "                \"TAG_COSINE\": cosine_entry\n",
    "            },\n",
    "            ignore_index=True)"
   ]
  },
  {
   "cell_type": "code",
   "execution_count": 23,
   "metadata": {
    "collapsed": true
   },
   "outputs": [],
   "source": [
    "import networkx as nx\n",
    "from networkx.drawing.nx_agraph import graphviz_layout\n",
    "\n",
    "# use a bidirectional graph\n",
    "G_tags = nx.Graph()\n",
    "node2link = zip(df_tags_sim.TAG, df_tags_sim.TAG_COSINE)\n",
    "G_tags.add_nodes_from(list(df_tags_sim.TAG))\n",
    "G_tags.add_edges_from(node2link)\n",
    "info = nx.info(G_tags)"
   ]
  },
  {
   "cell_type": "code",
   "execution_count": 24,
   "metadata": {},
   "outputs": [
    {
     "name": "stdout",
     "output_type": "stream",
     "text": [
      "Name: \n",
      "Type: Graph\n",
      "Number of nodes: 80\n",
      "Number of edges: 73\n",
      "Average degree:   1.8250\n"
     ]
    }
   ],
   "source": [
    "print(info)"
   ]
  },
  {
   "cell_type": "code",
   "execution_count": 25,
   "metadata": {},
   "outputs": [
    {
     "data": {
      "text/html": [
       "<div>\n",
       "<style scoped>\n",
       "    .dataframe tbody tr th:only-of-type {\n",
       "        vertical-align: middle;\n",
       "    }\n",
       "\n",
       "    .dataframe tbody tr th {\n",
       "        vertical-align: top;\n",
       "    }\n",
       "\n",
       "    .dataframe thead th {\n",
       "        text-align: right;\n",
       "    }\n",
       "</style>\n",
       "<table border=\"1\" class=\"dataframe\">\n",
       "  <thead>\n",
       "    <tr style=\"text-align: right;\">\n",
       "      <th></th>\n",
       "      <th>TAG</th>\n",
       "      <th>TAG_COSINE</th>\n",
       "      <th>TAG_JACCARD</th>\n",
       "    </tr>\n",
       "  </thead>\n",
       "  <tbody>\n",
       "    <tr>\n",
       "      <th>0</th>\n",
       "      <td>.net</td>\n",
       "      <td>asp.net</td>\n",
       "      <td>vb.net</td>\n",
       "    </tr>\n",
       "    <tr>\n",
       "      <th>1</th>\n",
       "      <td>.net</td>\n",
       "      <td>vb.net</td>\n",
       "      <td>NaN</td>\n",
       "    </tr>\n",
       "    <tr>\n",
       "      <th>2</th>\n",
       "      <td>.net</td>\n",
       "      <td>.net-3.5</td>\n",
       "      <td>NaN</td>\n",
       "    </tr>\n",
       "    <tr>\n",
       "      <th>3</th>\n",
       "      <td>.net</td>\n",
       "      <td>.net-2.0</td>\n",
       "      <td>NaN</td>\n",
       "    </tr>\n",
       "    <tr>\n",
       "      <th>4</th>\n",
       "      <td>.net</td>\n",
       "      <td>ado.net</td>\n",
       "      <td>NaN</td>\n",
       "    </tr>\n",
       "    <tr>\n",
       "      <th>5</th>\n",
       "      <td>java</td>\n",
       "      <td>java-ee</td>\n",
       "      <td>java-ee</td>\n",
       "    </tr>\n",
       "    <tr>\n",
       "      <th>6</th>\n",
       "      <td>asp.net</td>\n",
       "      <td>.net</td>\n",
       "      <td>asp.net-mvc</td>\n",
       "    </tr>\n",
       "    <tr>\n",
       "      <th>7</th>\n",
       "      <td>asp.net</td>\n",
       "      <td>asp.net-mvc</td>\n",
       "      <td>asp.net-ajax</td>\n",
       "    </tr>\n",
       "    <tr>\n",
       "      <th>8</th>\n",
       "      <td>asp.net</td>\n",
       "      <td>asp.net-ajax</td>\n",
       "      <td>NaN</td>\n",
       "    </tr>\n",
       "    <tr>\n",
       "      <th>9</th>\n",
       "      <td>javascript</td>\n",
       "      <td>scripting</td>\n",
       "      <td>scripting</td>\n",
       "    </tr>\n",
       "  </tbody>\n",
       "</table>\n",
       "</div>"
      ],
      "text/plain": [
       "          TAG    TAG_COSINE   TAG_JACCARD\n",
       "0        .net       asp.net        vb.net\n",
       "1        .net        vb.net           NaN\n",
       "2        .net      .net-3.5           NaN\n",
       "3        .net      .net-2.0           NaN\n",
       "4        .net       ado.net           NaN\n",
       "5        java       java-ee       java-ee\n",
       "6     asp.net          .net   asp.net-mvc\n",
       "7     asp.net   asp.net-mvc  asp.net-ajax\n",
       "8     asp.net  asp.net-ajax           NaN\n",
       "9  javascript     scripting     scripting"
      ]
     },
     "execution_count": 25,
     "metadata": {},
     "output_type": "execute_result"
    }
   ],
   "source": [
    "df_tags_sim.head(10)"
   ]
  },
  {
   "cell_type": "markdown",
   "metadata": {},
   "source": [
    "## Bag-of-words distribution associated to a tag"
   ]
  },
  {
   "cell_type": "markdown",
   "metadata": {},
   "source": [
    "### On text title"
   ]
  },
  {
   "cell_type": "code",
   "execution_count": 26,
   "metadata": {
    "collapsed": true
   },
   "outputs": [],
   "source": [
    "df_text_reduced_tokens = df_text_reduced.loc[\n",
    "    :, \"TITLE_LEMMATIZED\"].apply(lambda x: x.split())\n",
    "df_tags_title = pd.DataFrame(\n",
    "    list(zip(df_tags_reduced.TAGS_MODIFIED,\n",
    "             df_text_reduced_tokens))).rename(columns={\n",
    "                 0: \"elkey\",\n",
    "                 1: \"elvalue\"\n",
    "             })"
   ]
  },
  {
   "cell_type": "code",
   "execution_count": 27,
   "metadata": {
    "collapsed": true
   },
   "outputs": [],
   "source": [
    "corpfreq_title, corpstats_title, corpora_title = freq_stats_corpora(\n",
    "    df_tags_title)"
   ]
  },
  {
   "cell_type": "code",
   "execution_count": 28,
   "metadata": {
    "collapsed": true
   },
   "outputs": [],
   "source": [
    "# sort by values in descending order\n",
    "sorted_corpfreq_title = defaultdict(list)\n",
    "cutoff = 10\n",
    "\n",
    "for tag, tagfreq in corpfreq_title.items():\n",
    "    # only add into sorted_corpfreq if the word occurencces are>50\n",
    "    if sum(list(tagfreq.values())) > cutoff:\n",
    "        sorted_corpfreq_title[tag] = sorted(\n",
    "            tagfreq.items(), key=itemgetter(1), reverse=True)"
   ]
  },
  {
   "cell_type": "code",
   "execution_count": 29,
   "metadata": {},
   "outputs": [
    {
     "name": "stderr",
     "output_type": "stream",
     "text": [
      "/Users/pmlee/anaconda3/lib/python3.6/site-packages/seaborn/categorical.py:1460: FutureWarning: remove_na is deprecated and is a private function. Do not use.\n",
      "  stat_data = remove_na(group_data)\n"
     ]
    },
    {
     "data": {
      "image/png": "[encoded data removed]",
      "text/plain": [
       "<matplotlib.figure.Figure at 0x1a302f89e8>"
      ]
     },
     "metadata": {},
     "output_type": "display_data"
    }
   ],
   "source": [
    "token_index = 10\n",
    "key = list(sorted_corpfreq_title.keys())[token_index]\n",
    "corptags_key_title, corptags_value_title = zip(*sorted_corpfreq_title[key])\n",
    "fig, ax = plt.subplots(figsize=(10, 4))\n",
    "n_element = 50\n",
    "sns.barplot(\n",
    "    np.array(corptags_key_title[:n_element]),\n",
    "    np.array(corptags_value_title[:n_element]),\n",
    "    ax=ax)\n",
    "ax.set_xticklabels(corptags_key_title[:n_element], rotation=90)\n",
    "ax.set_title('Top 50 words for %s from title' %key)\n",
    "sns.despine()"
   ]
  },
  {
   "cell_type": "markdown",
   "metadata": {},
   "source": [
    "### On text body"
   ]
  },
  {
   "cell_type": "code",
   "execution_count": 30,
   "metadata": {
    "collapsed": true
   },
   "outputs": [],
   "source": [
    "df_body_reduced_tokens = df_text_reduced.loc[\n",
    "    :, \"BODY_LEMMATIZED\"].apply(lambda x: x.split())\n",
    "\n",
    "df_tags_body = pd.DataFrame(\n",
    "    list(\n",
    "        zip(df_tags_reduced.TAGS_MODIFIED,\n",
    "            df_body_reduced_tokens))).rename(\n",
    "                columns={\n",
    "                    0: \"elkey\",\n",
    "                    1: \"elvalue\"\n",
    "                })"
   ]
  },
  {
   "cell_type": "code",
   "execution_count": 31,
   "metadata": {
    "collapsed": true
   },
   "outputs": [],
   "source": [
    "corpfreq_body, corpstats_body, corpora_body = freq_stats_corpora(df_tags_body)"
   ]
  },
  {
   "cell_type": "code",
   "execution_count": 32,
   "metadata": {
    "collapsed": true
   },
   "outputs": [],
   "source": [
    "# sort by values in descending order\n",
    "sorted_corpfreq_body = defaultdict(list)\n",
    "cutoff = 1\n",
    "cutoff_doc = 50\n",
    "n_most_common = 20\n",
    "# most frequent words will be the corpora that we use as a dictionary\n",
    "most_frequent_words = defaultdict(list)\n",
    "\n",
    "for tag, tagfreq in corpfreq_body.items():\n",
    "    # only add into sorted_corpfreq if the word occurencces > cutoff_doc\n",
    "    if sum(list(tagfreq.values())) > cutoff_doc:\n",
    "    \n",
    "        most_frequent_words[tag] = set(\n",
    "            i[0] for i in tagfreq.most_common(n_most_common) if i[1] > cutoff)\n",
    "        sorted_corpfreq_body[tag] = sorted(\n",
    "            tagfreq.items(), key=itemgetter(1), reverse=True)\n"
   ]
  },
  {
   "cell_type": "code",
   "execution_count": 33,
   "metadata": {},
   "outputs": [
    {
     "name": "stderr",
     "output_type": "stream",
     "text": [
      "/Users/pmlee/anaconda3/lib/python3.6/site-packages/seaborn/categorical.py:1460: FutureWarning: remove_na is deprecated and is a private function. Do not use.\n",
      "  stat_data = remove_na(group_data)\n"
     ]
    },
    {
     "data": {
      "image/png": "[encoded data removed]",
      "text/plain": [
       "<matplotlib.figure.Figure at 0x1a35e74128>"
      ]
     },
     "metadata": {},
     "output_type": "display_data"
    }
   ],
   "source": [
    "token_index = 10\n",
    "key = list(sorted_corpfreq_body.keys())[token_index]\n",
    "corptags_key_body, corptags_value_body = zip(*sorted_corpfreq_body[key])\n",
    "fig, ax = plt.subplots(figsize=(10, 4))\n",
    "n_element = 50\n",
    "sns.barplot(\n",
    "    np.array(corptags_key_body[:n_element]),\n",
    "    np.array(corptags_value_body[:n_element]),\n",
    "    ax=ax)\n",
    "ax.set_xticklabels(corptags_key_body[:n_element], rotation=90)\n",
    "ax.set_title(\n",
    "    'Top 50 words for %s from text body' %key)\n",
    "sns.despine()"
   ]
  },
  {
   "cell_type": "markdown",
   "metadata": {},
   "source": [
    "__Observation__:\n",
    "- From text.body and text.title, the tag words appear the most often in the word distrbution. For example, \n",
    "    - {tagword: *python*, word_distrb: {python: 280, way: 120...}\n",
    "    - {tagword: *performance*, word_distrb: {performance: 120, time: 50...}\n",
    "    - {tagword: *html*, word_distrb: {html: 150, page: 80...}\n",
    "- This implies that we can rely on the presence of certain words to correctly predict tags"
   ]
  },
  {
   "cell_type": "markdown",
   "metadata": {},
   "source": [
    "# Supervised learning: ScikitLearn OneVsRest Classifier"
   ]
  },
  {
   "cell_type": "markdown",
   "metadata": {},
   "source": [
    "## Use text title only"
   ]
  },
  {
   "cell_type": "markdown",
   "metadata": {},
   "source": [
    "### Random sampling"
   ]
  },
  {
   "cell_type": "code",
   "execution_count": 34,
   "metadata": {
    "collapsed": true
   },
   "outputs": [],
   "source": [
    "df_tags_reduced_sampled = df_tags_reduced.sample(5000, random_state=2)"
   ]
  },
  {
   "cell_type": "markdown",
   "metadata": {},
   "source": [
    "### Label binarization"
   ]
  },
  {
   "cell_type": "code",
   "execution_count": 35,
   "metadata": {
    "collapsed": true
   },
   "outputs": [],
   "source": [
    "from sklearn.preprocessing import MultiLabelBinarizer\n",
    "\n",
    "lb = MultiLabelBinarizer()\n",
    "targets = lb.fit_transform(df_tags_reduced_sampled.TAGS_MODIFIED)"
   ]
  },
  {
   "cell_type": "markdown",
   "metadata": {},
   "source": [
    "\n",
    "### Train/crossval/test split\n",
    "We create a corpus from the train set. This corpus contains the n most frequent words in each tag. We have seen previously that the tag is often found in the text body."
   ]
  },
  {
   "cell_type": "code",
   "execution_count": 71,
   "metadata": {
    "collapsed": true
   },
   "outputs": [],
   "source": [
    "X_counts = df_tags_reduced_sampled.TITLE_LEMMATIZED \\\n",
    "            +' '+ df_tags_reduced_sampled.BODY_LEMMATIZED\n",
    "\n",
    "# shuffle indices\n",
    "idx = np.arange(X_counts.shape[0])\n",
    "np.random.seed(23)\n",
    "np.random.shuffle(idx)\n",
    "\n",
    "# Generate train/crossval/test sets\n",
    "train_size = int(.8 * X_counts.shape[0])\n",
    "\n",
    "X_train = X_counts.iloc[idx[:train_size]]\n",
    "y_train = targets[idx[:train_size],:]\n",
    "X_test = X_counts.iloc[idx[train_size:]]\n",
    "y_test = targets[idx[train_size:],:]"
   ]
  },
  {
   "cell_type": "markdown",
   "metadata": {},
   "source": [
    "### Training with Dummy Classifier (strategy=prior)\n",
    "__Count vectorizer__ "
   ]
  },
  {
   "cell_type": "code",
   "execution_count": 72,
   "metadata": {},
   "outputs": [
    {
     "name": "stdout",
     "output_type": "stream",
     "text": [
      "Test score: 0.134\n"
     ]
    }
   ],
   "source": [
    "from sklearn.multiclass import OneVsRestClassifier\n",
    "from sklearn.pipeline import Pipeline\n",
    "from sklearn.dummy import DummyClassifier\n",
    "from sklearn.metrics import jaccard_similarity_score\n",
    "from sklearn.feature_extraction.text import CountVectorizer\n",
    "\n",
    "Dummy_pipeline_count = Pipeline([\n",
    "    ('count', CountVectorizer()),\n",
    "    ('clf', OneVsRestClassifier(DummyClassifier(strategy='prior'))),\n",
    "])\n",
    "\n",
    "Dummy_pipeline_count.fit(X_train, y_train)\n",
    "# compute the testing accuracy\n",
    "y_pred_count_dummy = Dummy_pipeline_count.predict(X_test)\n",
    "y_pred_proba_count_dummy = Dummy_pipeline_count.predict_proba(X_test)\n",
    "y_pred_new_count_dummy = get_best_tags(y_pred_count_dummy,\n",
    "                                       y_pred_proba_count_dummy)\n",
    "test_score_count_dummy = evaluate(\n",
    "    y_test,\n",
    "    y_pred_new_count_dummy,\n",
    "    binarizer=lb,\n",
    "    G_tags=G_tags,\n",
    "    l_print_errors=False)\n",
    "\n",
    "print('Test score: {}'.format(test_score_count_dummy))"
   ]
  },
  {
   "cell_type": "markdown",
   "metadata": {},
   "source": [
    "__Tfidf vectorizer__ "
   ]
  },
  {
   "cell_type": "code",
   "execution_count": 73,
   "metadata": {},
   "outputs": [
    {
     "name": "stdout",
     "output_type": "stream",
     "text": [
      "Test score: 0.134\n"
     ]
    }
   ],
   "source": [
    "from sklearn.feature_extraction.text import TfidfVectorizer\n",
    "\n",
    "Dummy_pipeline_tfidf = Pipeline([\n",
    "    ('tfidf', TfidfVectorizer()),\n",
    "    ('clf', OneVsRestClassifier(DummyClassifier(strategy='prior'))),\n",
    "])\n",
    "\n",
    "Dummy_pipeline_tfidf.fit(X_train, y_train)\n",
    "# compute the testing accuracy\n",
    "y_pred_tfidf_dummy = Dummy_pipeline_tfidf.predict(X_test)\n",
    "y_pred_proba_tfidf_dummy = Dummy_pipeline_tfidf.predict_proba(X_test)\n",
    "y_pred_new_tfidf_dummy = get_best_tags(y_pred_tfidf_dummy,\n",
    "                                       y_pred_proba_tfidf_dummy)\n",
    "test_score_tfidf_dummy = evaluate(\n",
    "    y_test,\n",
    "    y_pred_new_tfidf_dummy,\n",
    "    binarizer=lb,\n",
    "    G_tags=G_tags,\n",
    "    l_print_errors=False)\n",
    "\n",
    "print('Test score: {}'.format(test_score_count_dummy))"
   ]
  },
  {
   "cell_type": "markdown",
   "metadata": {},
   "source": [
    "### Training with Naive Bayes Classifier\n",
    "__Count vectorizer__ "
   ]
  },
  {
   "cell_type": "code",
   "execution_count": 74,
   "metadata": {
    "scrolled": true
   },
   "outputs": [
    {
     "name": "stdout",
     "output_type": "stream",
     "text": [
      "Test score: 0.329\n"
     ]
    }
   ],
   "source": [
    "from sklearn.naive_bayes import MultinomialNB\n",
    "\n",
    "NB_pipeline_count = Pipeline([\n",
    "    ('count', CountVectorizer()),\n",
    "    ('clf', OneVsRestClassifier(\n",
    "        MultinomialNB(fit_prior=True, class_prior=None))),\n",
    "])\n",
    "\n",
    "NB_pipeline_count.fit(X_train, y_train)\n",
    "# compute the testing accuracy\n",
    "y_pred_count = NB_pipeline_count.predict(X_test)\n",
    "y_pred_proba_count = NB_pipeline_count.predict_proba(X_test)\n",
    "y_pred_new_count = get_best_tags(y_pred_count, y_pred_proba_count)\n",
    "test_score_count, errors_count = evaluate(\n",
    "        y_test,\n",
    "        y_pred_new_count,\n",
    "        binarizer=lb,\n",
    "        G_tags=G_tags,\n",
    "        l_print_errors=True)\n",
    "\n",
    "print('Test score: {}'.format(test_score_count))"
   ]
  },
  {
   "cell_type": "markdown",
   "metadata": {},
   "source": [
    "__Tfidf vectorizer__"
   ]
  },
  {
   "cell_type": "code",
   "execution_count": 75,
   "metadata": {},
   "outputs": [
    {
     "name": "stdout",
     "output_type": "stream",
     "text": [
      "Test score: 0.173\n"
     ]
    }
   ],
   "source": [
    "NB_pipeline_tfidf = Pipeline([\n",
    "    ('tfidf', TfidfVectorizer()),\n",
    "    ('clf', OneVsRestClassifier(\n",
    "        MultinomialNB(fit_prior=True, class_prior=None))),\n",
    "])\n",
    "\n",
    "NB_pipeline_tfidf.fit(X_train, y_train)\n",
    "# compute the testing accuracy\n",
    "y_pred_tfidf = NB_pipeline_tfidf.predict(X_test)\n",
    "y_pred_proba_tfidf = NB_pipeline_tfidf.predict_proba(X_test)\n",
    "y_pred_new_tfidf = get_best_tags(y_pred_tfidf, y_pred_proba_tfidf)\n",
    "test_score_tfidf, errors_tfidf = evaluate(\n",
    "    y_test, y_pred_new_tfidf, binarizer=lb, G_tags=G_tags, l_print_errors=True)\n",
    "\n",
    "print('Test score: {}'.format(test_score_tfidf))"
   ]
  },
  {
   "cell_type": "markdown",
   "metadata": {},
   "source": [
    "### Training with SVM\n",
    "__Count vectorizer__"
   ]
  },
  {
   "cell_type": "code",
   "execution_count": 76,
   "metadata": {},
   "outputs": [
    {
     "name": "stdout",
     "output_type": "stream",
     "text": [
      "Best parameter {'C': {'value': 0.1, 'mean': 0.6282562019815299}}\n",
      "Test score: 0.554\n"
     ]
    }
   ],
   "source": [
    "from sklearn.svm import SVC\n",
    "\n",
    "# cross validation\n",
    "crossval = CrossValidation(\n",
    "    OneVsRestClassifier(SVC(kernel='linear')),\n",
    "    CountVectorizer, {\"C\": np.logspace(-2, 1, 4)},\n",
    "    lb,\n",
    "    G_tags)\n",
    "crossval.cv(X_train, y_train)\n",
    "\n",
    "SVM_pipeline_count = Pipeline([\n",
    "    ('count', CountVectorizer()),\n",
    "    ('clf',\n",
    "     OneVsRestClassifier(SVC(C=crossval.best_parameter_['C']['value']))),\n",
    "])\n",
    "\n",
    "print(\"Best parameter\", crossval.best_parameter_)\n",
    "\n",
    "SVM_pipeline_count.fit(X_train, y_train)\n",
    "y_pred_svm_count = SVM_pipeline_count.predict(X_test)\n",
    "y_pred_proba_svm_count = SVM_pipeline_count.decision_function(X_test)\n",
    "y_pred_new_svm_count = get_best_tags(y_pred_svm_count, y_pred_proba_svm_count)\n",
    "\n",
    "print('Test score: {}'.format(\n",
    "    evaluate(\n",
    "        y_test,\n",
    "        y_pred_new_svm_count,\n",
    "        binarizer=lb,\n",
    "        G_tags=G_tags,\n",
    "        l_print_errors=False)))"
   ]
  },
  {
   "cell_type": "markdown",
   "metadata": {},
   "source": [
    "__Tfidf vectorizer__"
   ]
  },
  {
   "cell_type": "code",
   "execution_count": 77,
   "metadata": {},
   "outputs": [
    {
     "name": "stdout",
     "output_type": "stream",
     "text": [
      "Best parameter {'C': {'value': 1.0, 'mean': 0.6410063910280418}}\n",
      "Test score: 0.624\n"
     ]
    }
   ],
   "source": [
    "# cross validation\n",
    "crossval_tfidf = CrossValidation(\n",
    "    OneVsRestClassifier(SVC(kernel='linear')),\n",
    "    TfidfVectorizer, {\"C\": np.logspace(-2, 1, 4)},\n",
    "    lb,\n",
    "    G_tags)\n",
    "crossval_tfidf.cv(X_train, y_train)\n",
    "\n",
    "SVM_pipeline_tfidf = Pipeline([\n",
    "    ('tfidf', TfidfVectorizer()),\n",
    "    ('clf',\n",
    "     OneVsRestClassifier(SVC(C=crossval_tfidf.best_parameter_['C']['value']))),\n",
    "])\n",
    "\n",
    "print(\"Best parameter\", crossval_tfidf.best_parameter_)\n",
    "\n",
    "SVM_pipeline_tfidf.fit(X_train, y_train)\n",
    "y_pred_svm_tfidf = SVM_pipeline_tfidf.predict(X_test)\n",
    "y_pred_proba_svm_tfidf = SVM_pipeline_tfidf.decision_function(X_test)\n",
    "y_pred_new_svm_tfidf = get_best_tags(y_pred_svm_tfidf, y_pred_proba_svm_tfidf)\n",
    "\n",
    "print('Test score: {}'.format(\n",
    "    evaluate(\n",
    "        y_test,\n",
    "        y_pred_new_svm_tfidf,\n",
    "        binarizer=lb,\n",
    "        G_tags=G_tags,\n",
    "        l_print_errors=False)))"
   ]
  },
  {
   "cell_type": "markdown",
   "metadata": {},
   "source": [
    "## Training with Logistic Regression"
   ]
  },
  {
   "cell_type": "markdown",
   "metadata": {},
   "source": [
    "__Count vectorizer__"
   ]
  },
  {
   "cell_type": "code",
   "execution_count": 78,
   "metadata": {
    "scrolled": true
   },
   "outputs": [
    {
     "name": "stdout",
     "output_type": "stream",
     "text": [
      "Test score: 0.581\n"
     ]
    }
   ],
   "source": [
    "from sklearn.linear_model import LogisticRegressionCV\n",
    "\n",
    "lr_pipeline_count = Pipeline([\n",
    "    ('count', CountVectorizer()),\n",
    "    ('clf',\n",
    "     OneVsRestClassifier(\n",
    "         LogisticRegressionCV(\n",
    "             Cs=np.logspace(-2, 2, 5), dual=True, cv=5, solver='liblinear'))),\n",
    "])\n",
    "\n",
    "lr_pipeline_count.fit(X_train, y_train)\n",
    "y_pred_lr_count = lr_pipeline_count.predict(X_test)\n",
    "y_pred_proba_lr_count = lr_pipeline_count.decision_function(X_test)\n",
    "y_pred_new_lr_count = get_best_tags(y_pred_lr_count, y_pred_proba_lr_count)\n",
    "\n",
    "print('Test score: {}'.format(\n",
    "    evaluate(\n",
    "        y_test,\n",
    "        y_pred_new_lr_count,\n",
    "        binarizer=lb,\n",
    "        G_tags=G_tags,\n",
    "        l_print_errors=False)))"
   ]
  },
  {
   "cell_type": "markdown",
   "metadata": {},
   "source": [
    "__Tfidf vectorizer__"
   ]
  },
  {
   "cell_type": "code",
   "execution_count": 79,
   "metadata": {},
   "outputs": [
    {
     "name": "stdout",
     "output_type": "stream",
     "text": [
      "Test score: 0.567\n"
     ]
    }
   ],
   "source": [
    "lr_pipeline_tfidf = Pipeline([\n",
    "    ('tfidf', TfidfVectorizer()),\n",
    "    ('clf',\n",
    "     OneVsRestClassifier(\n",
    "         LogisticRegressionCV(\n",
    "             Cs=np.logspace(-2, 2, 5), dual=True, cv=5, solver='liblinear'))),\n",
    "])\n",
    "\n",
    "lr_pipeline_tfidf.fit(X_train, y_train)\n",
    "y_pred_lr_tfidf = lr_pipeline_tfidf.predict(X_test)\n",
    "y_pred_proba_lr_tfidf = lr_pipeline_tfidf.decision_function(X_test)\n",
    "y_pred_new_lr_tfidf = get_best_tags(y_pred_lr_tfidf, y_pred_proba_lr_tfidf)\n",
    "\n",
    "print('Test score: {}'.format(\n",
    "    evaluate(\n",
    "        y_test,\n",
    "        y_pred_new_lr_tfidf,\n",
    "        binarizer=lb,\n",
    "        G_tags=G_tags,\n",
    "        l_print_errors=False)))"
   ]
  },
  {
   "cell_type": "markdown",
   "metadata": {},
   "source": [
    "__Observation__:\n",
    "- SVM with TFIDF vectorizer returns the best test score so far (0.561). \n",
    "- Logistic regressions are not that bad either."
   ]
  }
 ],
 "metadata": {
  "kernelspec": {
   "display_name": "Python 3",
   "language": "python",
   "name": "python3"
  },
  "language_info": {
   "codemirror_mode": {
    "name": "ipython",
    "version": 3
   },
   "file_extension": ".py",
   "mimetype": "text/x-python",
   "name": "python",
   "nbconvert_exporter": "python",
   "pygments_lexer": "ipython3",
   "version": "3.6.3"
  }
 },
 "nbformat": 4,
 "nbformat_minor": 2
}
