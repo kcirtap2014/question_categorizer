{
 "cells": [
  {
   "cell_type": "markdown",
   "metadata": {},
   "source": [
    "Several branches corresponding to different models are created on the following github page:\n",
    "https://github.com/kcirtap2014/question_categorizer\n",
    "\n",
    "This branch is different in the corpus creation, we create the corpus out of the tags in the train set. \n",
    "Only from train set because otherwise we would have commited some data leakage."
   ]
  },
  {
   "cell_type": "code",
   "execution_count": 1,
   "metadata": {},
   "outputs": [
    {
     "name": "stdout",
     "output_type": "stream",
     "text": [
      "Populating the interactive namespace from numpy and matplotlib\n"
     ]
    }
   ],
   "source": [
    "import os\n",
    "import pandas as pd\n",
    "import seaborn as sns\n",
    "import string\n",
    "import re\n",
    "from collections import defaultdict\n",
    "from helper_functions import group_sort, unique_values, freq_stats_corpora\n",
    "\n",
    "\n",
    "sns.set_style(\"white\")\n",
    "%pylab inline"
   ]
  },
  {
   "cell_type": "markdown",
   "metadata": {},
   "source": [
    "# Mission\n",
    "Développer un système de suggestion de tag pour le site stackoverflow"
   ]
  },
  {
   "cell_type": "markdown",
   "metadata": {},
   "source": [
    "# Load Data"
   ]
  },
  {
   "cell_type": "code",
   "execution_count": 2,
   "metadata": {},
   "outputs": [],
   "source": [
    "cur_dir = os.path.dirname(os.getcwd())\n",
    "num_db = 1\n",
    "df = pd.DataFrame([])\n",
    "\n",
    "for i in range(num_db):\n",
    "    df = df.append(\n",
    "        pd.read_csv(\n",
    "            cur_dir + \"/db/QueryResults%d.csv\" % (i + 1), index_col=0))"
   ]
  },
  {
   "cell_type": "code",
   "execution_count": 3,
   "metadata": {},
   "outputs": [
    {
     "data": {
      "text/plain": [
       "(50000, 21)"
      ]
     },
     "execution_count": 3,
     "metadata": {},
     "output_type": "execute_result"
    }
   ],
   "source": [
    "df.shape"
   ]
  },
  {
   "cell_type": "code",
   "execution_count": 4,
   "metadata": {},
   "outputs": [
    {
     "data": {
      "image/png": "[encoded data removed]",
      "text/plain": [
       "<matplotlib.figure.Figure at 0x111485860>"
      ]
     },
     "metadata": {},
     "output_type": "display_data"
    }
   ],
   "source": [
    "df_count = df.count().sort_values(ascending=False)\n",
    "fig, ax = plt.subplots()\n",
    "df_count.plot.bar(color=\"steelblue\", ax=ax)\n",
    "sns.despine()"
   ]
  },
  {
   "cell_type": "markdown",
   "metadata": {},
   "source": [
    "__Observation__:\n",
    "- Each post has an id, PostTypeId, CommentCount, CreationDate, Score and LastActivityDate\n",
    "- User information are given by OwnerUserId and OwnerDisplayName, almost all posts are given by distinct user.\n",
    "- Tags have a significant missing values -> users do not tag much\n",
    "\n",
    "Here, we are interested in analysing the title and body and then suggest tags to users.\n",
    "\n",
    "In the *unsupervised learning*, tags are not necessary, but in *supervised learning*, tags are the target variable."
   ]
  },
  {
   "cell_type": "code",
   "execution_count": 471,
   "metadata": {},
   "outputs": [],
   "source": [
    "# Combine columns\n",
    "# add an empty space for distinction\n",
    "df_text = pd.DataFrame(list(zip(df.Title,\n",
    "                                df.Body)), index = df.index).rename(columns={\n",
    "                                    0: 'TITLE',\n",
    "                                    1: 'BODY',\n",
    "                                })"
   ]
  },
  {
   "cell_type": "code",
   "execution_count": 477,
   "metadata": {},
   "outputs": [],
   "source": [
    "def stringbetweencode(data):\n",
    "    p = re.compile(\"<code>(.+?)<\\/code>\", flags=re.DOTALL)\n",
    "    return p.findall(data) \n",
    "\n",
    "def tag_between_brackets(data):\n",
    "    if pd.notnull(data):\n",
    "        p = re.compile(r'<(.*?)>')\n",
    "        return p.findall(data)\n",
    "    return data\n",
    "\n",
    "#df_text[\"CODE\"] = np.nan\n",
    "df_text[\"CODE\"] = df_text[\"BODY\"].apply(stringbetweencode) \n",
    "df_text[\"TAGS\"] = df[\"Tags\"].apply(tag_between_brackets) "
   ]
  },
  {
   "cell_type": "markdown",
   "metadata": {},
   "source": [
    "# EDA for Tags"
   ]
  },
  {
   "cell_type": "code",
   "execution_count": 484,
   "metadata": {},
   "outputs": [],
   "source": [
    "from nltk import FreqDist\n",
    "from nltk.tokenize import word_tokenize\n",
    "\n",
    "df_tags = df_text[df_text.TAGS.notnull()][\"TAGS\"]\n",
    "\n",
    "# combine all tokens together for freq dist\n",
    "tagslist = df_tags.sum()\n",
    "\n",
    "# count frequency of each tag\n",
    "# How many documents are tagged with a specific tag?\n",
    "tagsfreq = FreqDist(tagslist)"
   ]
  },
  {
   "cell_type": "code",
   "execution_count": 485,
   "metadata": {},
   "outputs": [],
   "source": [
    "from operator import itemgetter\n",
    "# sort by values in descending order\n",
    "sorted_tagsfreq = sorted(tagsfreq.items(), key=itemgetter(1), reverse=True)\n",
    "tags_key, tags_value = zip(*sorted_tagsfreq)"
   ]
  },
  {
   "cell_type": "code",
   "execution_count": 486,
   "metadata": {},
   "outputs": [
    {
     "name": "stderr",
     "output_type": "stream",
     "text": [
      "/Users/pmlee/anaconda3/lib/python3.6/site-packages/seaborn/categorical.py:1460: FutureWarning: remove_na is deprecated and is a private function. Do not use.\n",
      "  stat_data = remove_na(group_data)\n"
     ]
    },
    {
     "data": {
      "image/png": "[encoded data removed]",
      "text/plain": [
       "<matplotlib.figure.Figure at 0x1a241c3e48>"
      ]
     },
     "metadata": {},
     "output_type": "display_data"
    }
   ],
   "source": [
    "# prepare for sns.barplot\n",
    "fig, ax = plt.subplots( figsize=(10, 3))\n",
    "\n",
    "n_element = 20\n",
    "x_tags = np.array(tags_key[:n_element]+ tags_key[-n_element:])\n",
    "y_tags = np.array(tags_value[:n_element]+ tags_value[-n_element:])\n",
    "sns.barplot(x_tags, y_tags, ax=ax)\n",
    "ax.set_xticklabels(x_tags, rotation=90)\n",
    "ax.set_title('Top and Bottom 20 tags')\n",
    "sns.despine()"
   ]
  },
  {
   "cell_type": "code",
   "execution_count": 199,
   "metadata": {},
   "outputs": [
    {
     "data": {
      "text/plain": [
       "count    3745.000000\n",
       "mean        7.397597\n",
       "std        37.596823\n",
       "min         1.000000\n",
       "50%         1.000000\n",
       "75%         4.000000\n",
       "90%        11.000000\n",
       "95%        24.000000\n",
       "max      1152.000000\n",
       "dtype: float64"
      ]
     },
     "execution_count": 199,
     "metadata": {},
     "output_type": "execute_result"
    }
   ],
   "source": [
    "pd.Series(tags_value).describe([0.5, 0.75,0.9,0.95])"
   ]
  },
  {
   "cell_type": "markdown",
   "metadata": {},
   "source": [
    "__Observation__:\n",
    "- 50% of the tags only occur once, we will eliminate tags that have low counts, taking the arg of 75% as threshold"
   ]
  },
  {
   "cell_type": "markdown",
   "metadata": {},
   "source": [
    "### Remove low count tags "
   ]
  },
  {
   "cell_type": "code",
   "execution_count": 487,
   "metadata": {
    "collapsed": true
   },
   "outputs": [],
   "source": [
    "def remove_low_count_tags(data):\n",
    "    reduced = [el for el in data if el in set(tags_key_reduced)]\n",
    "\n",
    "    if not reduced:\n",
    "        reduced = np.NaN\n",
    "    return reduced\n",
    "\n",
    "# drop keywords that have less than tag_freq\n",
    "quartile = 0.95\n",
    "n_tag = pd.Series(tags_value).quantile([quartile]).values[0]\n",
    "sorted_tagsfreq_reduced = [el for el in sorted_tagsfreq if el[1] > n_tag]\n",
    "tags_key_reduced, tags_value_reduced = zip(*sorted_tagsfreq_reduced)\n",
    "df_tags_temp = df_tags.apply(remove_low_count_tags)\n",
    "df_tags_reduced = df_tags_temp[df_stags_temp.notnull()]"
   ]
  },
  {
   "cell_type": "markdown",
   "metadata": {},
   "source": [
    "# Text preprocessing with scikit learn and NLTK"
   ]
  },
  {
   "cell_type": "code",
   "execution_count": 488,
   "metadata": {
    "scrolled": false
   },
   "outputs": [],
   "source": [
    "from sklearn.decomposition import LatentDirichletAllocation\n",
    "from nltk import regexp_tokenize, pos_tag\n",
    "from nltk.stem import WordNetLemmatizer\n",
    "from nltk.corpus import stopwords\n",
    "import pdb\n",
    "wnl = WordNetLemmatizer()\n",
    "\n",
    "\n",
    "def convert_tag(tag):\n",
    "    \"\"\"\n",
    "    Convert the tag given by nltk.pos_tag \n",
    "    to the tag used by wordnet.synsets\n",
    "    \"\"\"\n",
    "    tag_dict = {'N': 'n', 'J': 'a', 'R': 'r', 'V': 'v'}\n",
    "    try:\n",
    "        return tag_dict[tag[0]]\n",
    "    except KeyError:\n",
    "        # defalut value\n",
    "        return 'n'  #None\n",
    "\n",
    "\n",
    "def lemmatizer(doc):\n",
    "    \"\"\"\n",
    "    returns lemmatized tokens after removing stop words and pos tagging\n",
    "    \n",
    "    Parameters:\n",
    "    -----------\n",
    "    doc: pandas dataframe\n",
    "        text description in df\n",
    "    \n",
    "    Return:\n",
    "    -------\n",
    "    pandas dataframe\n",
    "        lemmatized, pos_tagged, and removed stopwords tokens\n",
    "    \"\"\"\n",
    "    if pd.notnull(doc):\n",
    "        # add words to stoplist, previously punctuations have been removed,\n",
    "        # so we should do the same for the stoplist\n",
    "        stoplist = [striphtmlpunct(x)\n",
    "                    for x in stopwords.words('english')] + ['im', 'ive']\n",
    "        #stoplist = stopwords.words('english') + [\n",
    "        #    \"i've\", \"either\", \"i'm\", \"i'd\", \"would\", \"could\", 'it', \"like\",\n",
    "        #    \"something\", \"also\", \"might\", \"want\", 'this', 'make', 'sure'\n",
    "        #]\n",
    "\n",
    "        lemmatized = []\n",
    "\n",
    "        regex_tokens = regexp_tokenize(doc, pattern='\\w+\\S+|\\.\\w+')\n",
    "        \n",
    "        for word, p_tags in pos_tag(regex_tokens):\n",
    "            if word not in set(stoplist):\n",
    "                convert_pos_tag = convert_tag(p_tags)\n",
    "                lemmatized.append(wnl.lemmatize(word, pos=convert_pos_tag))\n",
    "   \n",
    "        return pd.Series(' '.join(lemmatized))\n",
    "    return pd.Series(doc)\n",
    "\n",
    "\n",
    "def striphtmlpunct(data):\n",
    "    # remove html tags, code unnecessary punctuations\n",
    "    # <.*?> to remove everything between <>\n",
    "    # [^\\w\\s+\\.\\-\\#\\+] remove punctuations except .-#+\n",
    "    # (\\.{1,3})(?!\\S) negative lookahead assertion: only match .{1,3} that\n",
    "    # is followed by white space\n",
    "    if pd.notnull(data):\n",
    "        p = re.compile(r'<.*?>|[^\\w\\s+\\.\\-\\#\\+]')\n",
    "        res = p.sub('', data)\n",
    "        pe = re.compile('(\\.{1,3})(?!\\S)')\n",
    "        \n",
    "        return pe.sub('', res)\n",
    "    \n",
    "    return data\n",
    "\n",
    "\n",
    "def striptabs(data):\n",
    "    # remove tabs breaklines\n",
    "    p = re.compile(r'(\\r\\n)+|\\r+|\\n+|\\t+/i')\n",
    "    return p.sub(' ', data)\n",
    "\n",
    "def lower(data):\n",
    "    if pd.notnull(data):\n",
    "        return data.lower()\n",
    "    return data\n",
    "\n",
    "\n",
    "# remove html tags\n",
    "df_text[\"BODY_STRIPPED\"] = df_text.BODY.apply(lower).apply(\n",
    "    striphtmlpunct).apply(striptabs)\n",
    "df_text[\"CODE_STRIPPED\"] = df_text.CODE.apply(\n",
    "    lambda x: [striptabs(line.lower()) for line in x if x])\n",
    "df_text[\"TITLE_STRIPPED\"] = df_text.TITLE.apply(lower).apply(striphtmlpunct)\n",
    "\n",
    "# remove stop words, pos_tag, and lemmatize\n",
    "df_text[\"BODY_LEMMATIZED\"] = df_text[\"BODY_STRIPPED\"].apply(lemmatizer)\n",
    "df_text[\"TITLE_LEMMATIZED\"] = df_text[\"TITLE_STRIPPED\"].apply(lemmatizer)"
   ]
  },
  {
   "cell_type": "code",
   "execution_count": 489,
   "metadata": {},
   "outputs": [
    {
     "data": {
      "text/html": [
       "<div>\n",
       "<style scoped>\n",
       "    .dataframe tbody tr th:only-of-type {\n",
       "        vertical-align: middle;\n",
       "    }\n",
       "\n",
       "    .dataframe tbody tr th {\n",
       "        vertical-align: top;\n",
       "    }\n",
       "\n",
       "    .dataframe thead th {\n",
       "        text-align: right;\n",
       "    }\n",
       "</style>\n",
       "<table border=\"1\" class=\"dataframe\">\n",
       "  <thead>\n",
       "    <tr style=\"text-align: right;\">\n",
       "      <th></th>\n",
       "      <th>TITLE</th>\n",
       "      <th>BODY</th>\n",
       "      <th>TAG</th>\n",
       "      <th>CODE</th>\n",
       "      <th>TAGS</th>\n",
       "      <th>BODY_STRIPPED</th>\n",
       "      <th>CODE_STRIPPED</th>\n",
       "      <th>TITLE_STRIPPED</th>\n",
       "      <th>BODY_LEMMATIZED</th>\n",
       "      <th>TITLE_LEMMATIZED</th>\n",
       "    </tr>\n",
       "    <tr>\n",
       "      <th>Id</th>\n",
       "      <th></th>\n",
       "      <th></th>\n",
       "      <th></th>\n",
       "      <th></th>\n",
       "      <th></th>\n",
       "      <th></th>\n",
       "      <th></th>\n",
       "      <th></th>\n",
       "      <th></th>\n",
       "      <th></th>\n",
       "    </tr>\n",
       "  </thead>\n",
       "  <tbody>\n",
       "    <tr>\n",
       "      <th>4</th>\n",
       "      <td>While applying opacity to a form, should we us...</td>\n",
       "      <td>&lt;p&gt;I want to use a track-bar to change a form'...</td>\n",
       "      <td>&lt;c#&gt;&lt;winforms&gt;&lt;type-conversion&gt;&lt;decimal&gt;&lt;opacity&gt;</td>\n",
       "      <td>[decimal trans = trackBar1.Value / 5000;\\nthis...</td>\n",
       "      <td>[c#, winforms, type-conversion, decimal, opacity]</td>\n",
       "      <td>i want to use a track-bar to change a forms op...</td>\n",
       "      <td>[decimal trans = trackbar1.value / 5000; this....</td>\n",
       "      <td>while applying opacity to a form should we use...</td>\n",
       "      <td>want use track-bar change form opacity code de...</td>\n",
       "      <td>apply opacity form use decimal double value</td>\n",
       "    </tr>\n",
       "    <tr>\n",
       "      <th>6</th>\n",
       "      <td>Percentage width child element in absolutely p...</td>\n",
       "      <td>&lt;p&gt;I have an absolutely positioned &lt;code&gt;div&lt;/...</td>\n",
       "      <td>&lt;html&gt;&lt;css&gt;&lt;css3&gt;&lt;internet-explorer-7&gt;</td>\n",
       "      <td>[div, div, div]</td>\n",
       "      <td>[html, css, css3, internet-explorer-7]</td>\n",
       "      <td>i have an absolutely positioned div containing...</td>\n",
       "      <td>[div, div, div]</td>\n",
       "      <td>percentage width child element in absolutely p...</td>\n",
       "      <td>absolutely position div contain several child ...</td>\n",
       "      <td>percentage width child element absolutely posi...</td>\n",
       "    </tr>\n",
       "    <tr>\n",
       "      <th>7</th>\n",
       "      <td>NaN</td>\n",
       "      <td>&lt;p&gt;An explicit cast to double like this isn't ...</td>\n",
       "      <td>NaN</td>\n",
       "      <td>[double trans = (double) trackBar1.Value / 500...</td>\n",
       "      <td>NaN</td>\n",
       "      <td>an explicit cast to double like this isnt nece...</td>\n",
       "      <td>[double trans = (double) trackbar1.value / 500...</td>\n",
       "      <td>NaN</td>\n",
       "      <td>explicit cast double like necessary double tra...</td>\n",
       "      <td>NaN</td>\n",
       "    </tr>\n",
       "    <tr>\n",
       "      <th>9</th>\n",
       "      <td>How do I calculate someone's age in C#?</td>\n",
       "      <td>&lt;p&gt;Given a &lt;code&gt;DateTime&lt;/code&gt; representing ...</td>\n",
       "      <td>&lt;c#&gt;&lt;.net&gt;&lt;datetime&gt;</td>\n",
       "      <td>[DateTime]</td>\n",
       "      <td>[c#, .net, datetime]</td>\n",
       "      <td>given a datetime representing a persons birthd...</td>\n",
       "      <td>[datetime]</td>\n",
       "      <td>how do i calculate someones age in c#</td>\n",
       "      <td>give datetime represent person birthday calcul...</td>\n",
       "      <td>calculate someone age c#</td>\n",
       "    </tr>\n",
       "    <tr>\n",
       "      <th>11</th>\n",
       "      <td>Calculate relative time in C#</td>\n",
       "      <td>&lt;p&gt;Given a specific &lt;code&gt;DateTime&lt;/code&gt; valu...</td>\n",
       "      <td>&lt;c#&gt;&lt;datetime&gt;&lt;time&gt;&lt;datediff&gt;&lt;relative-time-s...</td>\n",
       "      <td>[DateTime]</td>\n",
       "      <td>[c#, datetime, time, datediff, relative-time-s...</td>\n",
       "      <td>given a specific datetime value how do i displ...</td>\n",
       "      <td>[datetime]</td>\n",
       "      <td>calculate relative time in c#</td>\n",
       "      <td>give specific datetime value display relative ...</td>\n",
       "      <td>calculate relative time c#</td>\n",
       "    </tr>\n",
       "  </tbody>\n",
       "</table>\n",
       "</div>"
      ],
      "text/plain": [
       "                                                TITLE  \\\n",
       "Id                                                      \n",
       "4   While applying opacity to a form, should we us...   \n",
       "6   Percentage width child element in absolutely p...   \n",
       "7                                                 NaN   \n",
       "9             How do I calculate someone's age in C#?   \n",
       "11                      Calculate relative time in C#   \n",
       "\n",
       "                                                 BODY  \\\n",
       "Id                                                      \n",
       "4   <p>I want to use a track-bar to change a form'...   \n",
       "6   <p>I have an absolutely positioned <code>div</...   \n",
       "7   <p>An explicit cast to double like this isn't ...   \n",
       "9   <p>Given a <code>DateTime</code> representing ...   \n",
       "11  <p>Given a specific <code>DateTime</code> valu...   \n",
       "\n",
       "                                                  TAG  \\\n",
       "Id                                                      \n",
       "4   <c#><winforms><type-conversion><decimal><opacity>   \n",
       "6              <html><css><css3><internet-explorer-7>   \n",
       "7                                                 NaN   \n",
       "9                                <c#><.net><datetime>   \n",
       "11  <c#><datetime><time><datediff><relative-time-s...   \n",
       "\n",
       "                                                 CODE  \\\n",
       "Id                                                      \n",
       "4   [decimal trans = trackBar1.Value / 5000;\\nthis...   \n",
       "6                                     [div, div, div]   \n",
       "7   [double trans = (double) trackBar1.Value / 500...   \n",
       "9                                          [DateTime]   \n",
       "11                                         [DateTime]   \n",
       "\n",
       "                                                 TAGS  \\\n",
       "Id                                                      \n",
       "4   [c#, winforms, type-conversion, decimal, opacity]   \n",
       "6              [html, css, css3, internet-explorer-7]   \n",
       "7                                                 NaN   \n",
       "9                                [c#, .net, datetime]   \n",
       "11  [c#, datetime, time, datediff, relative-time-s...   \n",
       "\n",
       "                                        BODY_STRIPPED  \\\n",
       "Id                                                      \n",
       "4   i want to use a track-bar to change a forms op...   \n",
       "6   i have an absolutely positioned div containing...   \n",
       "7   an explicit cast to double like this isnt nece...   \n",
       "9   given a datetime representing a persons birthd...   \n",
       "11  given a specific datetime value how do i displ...   \n",
       "\n",
       "                                        CODE_STRIPPED  \\\n",
       "Id                                                      \n",
       "4   [decimal trans = trackbar1.value / 5000; this....   \n",
       "6                                     [div, div, div]   \n",
       "7   [double trans = (double) trackbar1.value / 500...   \n",
       "9                                          [datetime]   \n",
       "11                                         [datetime]   \n",
       "\n",
       "                                       TITLE_STRIPPED  \\\n",
       "Id                                                      \n",
       "4   while applying opacity to a form should we use...   \n",
       "6   percentage width child element in absolutely p...   \n",
       "7                                                 NaN   \n",
       "9               how do i calculate someones age in c#   \n",
       "11                      calculate relative time in c#   \n",
       "\n",
       "                                      BODY_LEMMATIZED  \\\n",
       "Id                                                      \n",
       "4   want use track-bar change form opacity code de...   \n",
       "6   absolutely position div contain several child ...   \n",
       "7   explicit cast double like necessary double tra...   \n",
       "9   give datetime represent person birthday calcul...   \n",
       "11  give specific datetime value display relative ...   \n",
       "\n",
       "                                     TITLE_LEMMATIZED  \n",
       "Id                                                     \n",
       "4         apply opacity form use decimal double value  \n",
       "6   percentage width child element absolutely posi...  \n",
       "7                                                 NaN  \n",
       "9                            calculate someone age c#  \n",
       "11                         calculate relative time c#  "
      ]
     },
     "execution_count": 489,
     "metadata": {},
     "output_type": "execute_result"
    }
   ],
   "source": [
    "df_text.head()"
   ]
  },
  {
   "cell_type": "markdown",
   "metadata": {},
   "source": [
    "### Eliminate entries without tags\n",
    "- since we have remove low count tags, some entries will be tagless, we remove these entries for supervised learning "
   ]
  },
  {
   "cell_type": "code",
   "execution_count": 490,
   "metadata": {
    "collapsed": true
   },
   "outputs": [],
   "source": [
    "df_text_reduced = df_text.loc[df_stags_reduced.index]"
   ]
  },
  {
   "cell_type": "code",
   "execution_count": 491,
   "metadata": {},
   "outputs": [
    {
     "name": "stdout",
     "output_type": "stream",
     "text": [
      "91.4% of the data are retained\n"
     ]
    }
   ],
   "source": [
    "print(\"%.1f%% of the data are retained\" %(100*len(df_text_reduced)/len(df_tags)))"
   ]
  },
  {
   "cell_type": "code",
   "execution_count": 492,
   "metadata": {},
   "outputs": [
    {
     "data": {
      "text/html": [
       "<div>\n",
       "<style scoped>\n",
       "    .dataframe tbody tr th:only-of-type {\n",
       "        vertical-align: middle;\n",
       "    }\n",
       "\n",
       "    .dataframe tbody tr th {\n",
       "        vertical-align: top;\n",
       "    }\n",
       "\n",
       "    .dataframe thead th {\n",
       "        text-align: right;\n",
       "    }\n",
       "</style>\n",
       "<table border=\"1\" class=\"dataframe\">\n",
       "  <thead>\n",
       "    <tr style=\"text-align: right;\">\n",
       "      <th></th>\n",
       "      <th>TITLE</th>\n",
       "      <th>BODY</th>\n",
       "      <th>TAG</th>\n",
       "      <th>CODE</th>\n",
       "      <th>TAGS</th>\n",
       "      <th>BODY_STRIPPED</th>\n",
       "      <th>CODE_STRIPPED</th>\n",
       "      <th>TITLE_STRIPPED</th>\n",
       "      <th>BODY_LEMMATIZED</th>\n",
       "      <th>TITLE_LEMMATIZED</th>\n",
       "    </tr>\n",
       "    <tr>\n",
       "      <th>Id</th>\n",
       "      <th></th>\n",
       "      <th></th>\n",
       "      <th></th>\n",
       "      <th></th>\n",
       "      <th></th>\n",
       "      <th></th>\n",
       "      <th></th>\n",
       "      <th></th>\n",
       "      <th></th>\n",
       "      <th></th>\n",
       "    </tr>\n",
       "  </thead>\n",
       "  <tbody>\n",
       "    <tr>\n",
       "      <th>61535</th>\n",
       "      <td>How To Discover RSS Feeds for a given URL</td>\n",
       "      <td>&lt;p&gt;I get a URL from a user. I need to know:&lt;br...</td>\n",
       "      <td>&lt;php&gt;&lt;rss&gt;&lt;feeds&gt;&lt;discover&gt;&lt;atom-feed&gt;</td>\n",
       "      <td>[]</td>\n",
       "      <td>[php, rss, feeds, discover, atom-feed]</td>\n",
       "      <td>i get a url from a user i need to know a is th...</td>\n",
       "      <td>[]</td>\n",
       "      <td>how to discover rss feeds for a given url</td>\n",
       "      <td>get url user need know url valid r feed valid ...</td>\n",
       "      <td>discover r feed give url</td>\n",
       "    </tr>\n",
       "    <tr>\n",
       "      <th>45407</th>\n",
       "      <td>Is there any difference between the box models...</td>\n",
       "      <td>&lt;p&gt;What are the main differences (if any) betw...</td>\n",
       "      <td>&lt;firefox&gt;&lt;browser&gt;&lt;internet-explorer-8&gt;</td>\n",
       "      <td>[]</td>\n",
       "      <td>[firefox, browser, internet-explorer-8]</td>\n",
       "      <td>what are the main differences if any between t...</td>\n",
       "      <td>[]</td>\n",
       "      <td>is there any difference between the box models...</td>\n",
       "      <td>main difference box model ie8 firefox3 main di...</td>\n",
       "      <td>difference box model ie8 firefox3</td>\n",
       "    </tr>\n",
       "    <tr>\n",
       "      <th>45898</th>\n",
       "      <td>Opening a non-standard URL in a Cocoa app</td>\n",
       "      <td>&lt;p&gt;In an application that I'm writing I have s...</td>\n",
       "      <td>&lt;objective-c&gt;&lt;macos&gt;&lt;cocoa&gt;</td>\n",
       "      <td>[NSWorkspace* ws = [NSWorkspace sharedWorkspac...</td>\n",
       "      <td>[objective-c, macos, cocoa]</td>\n",
       "      <td>in an application that im writing i have some ...</td>\n",
       "      <td>[nsworkspace* ws = [nsworkspace sharedworkspac...</td>\n",
       "      <td>opening a non-standard url in a cocoa app</td>\n",
       "      <td>application write code like nsworkspace ws nsw...</td>\n",
       "      <td>open non-standard url cocoa app</td>\n",
       "    </tr>\n",
       "  </tbody>\n",
       "</table>\n",
       "</div>"
      ],
      "text/plain": [
       "                                                   TITLE  \\\n",
       "Id                                                         \n",
       "61535          How To Discover RSS Feeds for a given URL   \n",
       "45407  Is there any difference between the box models...   \n",
       "45898          Opening a non-standard URL in a Cocoa app   \n",
       "\n",
       "                                                    BODY  \\\n",
       "Id                                                         \n",
       "61535  <p>I get a URL from a user. I need to know:<br...   \n",
       "45407  <p>What are the main differences (if any) betw...   \n",
       "45898  <p>In an application that I'm writing I have s...   \n",
       "\n",
       "                                           TAG  \\\n",
       "Id                                               \n",
       "61535   <php><rss><feeds><discover><atom-feed>   \n",
       "45407  <firefox><browser><internet-explorer-8>   \n",
       "45898              <objective-c><macos><cocoa>   \n",
       "\n",
       "                                                    CODE  \\\n",
       "Id                                                         \n",
       "61535                                                 []   \n",
       "45407                                                 []   \n",
       "45898  [NSWorkspace* ws = [NSWorkspace sharedWorkspac...   \n",
       "\n",
       "                                          TAGS  \\\n",
       "Id                                               \n",
       "61535   [php, rss, feeds, discover, atom-feed]   \n",
       "45407  [firefox, browser, internet-explorer-8]   \n",
       "45898              [objective-c, macos, cocoa]   \n",
       "\n",
       "                                           BODY_STRIPPED  \\\n",
       "Id                                                         \n",
       "61535  i get a url from a user i need to know a is th...   \n",
       "45407  what are the main differences if any between t...   \n",
       "45898  in an application that im writing i have some ...   \n",
       "\n",
       "                                           CODE_STRIPPED  \\\n",
       "Id                                                         \n",
       "61535                                                 []   \n",
       "45407                                                 []   \n",
       "45898  [nsworkspace* ws = [nsworkspace sharedworkspac...   \n",
       "\n",
       "                                          TITLE_STRIPPED  \\\n",
       "Id                                                         \n",
       "61535          how to discover rss feeds for a given url   \n",
       "45407  is there any difference between the box models...   \n",
       "45898          opening a non-standard url in a cocoa app   \n",
       "\n",
       "                                         BODY_LEMMATIZED  \\\n",
       "Id                                                         \n",
       "61535  get url user need know url valid r feed valid ...   \n",
       "45407  main difference box model ie8 firefox3 main di...   \n",
       "45898  application write code like nsworkspace ws nsw...   \n",
       "\n",
       "                        TITLE_LEMMATIZED  \n",
       "Id                                        \n",
       "61535           discover r feed give url  \n",
       "45407  difference box model ie8 firefox3  \n",
       "45898    open non-standard url cocoa app  "
      ]
     },
     "execution_count": 492,
     "metadata": {},
     "output_type": "execute_result"
    }
   ],
   "source": [
    "df_text_reduced.sample(3, random_state=344)"
   ]
  },
  {
   "cell_type": "code",
   "execution_count": 493,
   "metadata": {},
   "outputs": [
    {
     "data": {
      "text/plain": [
       "\"<p>This is something I've pseudo-solved many times and have never quite found a solution for.</p>\\n\\n<p>The problem is to come up with a way to generate <code>N</code> colors, that are as distinguishable as possible where <code>N</code> is a parameter.</p>\\n\""
      ]
     },
     "execution_count": 493,
     "metadata": {},
     "output_type": "execute_result"
    }
   ],
   "source": [
    "df_text_reduced.iloc[39].BODY"
   ]
  },
  {
   "cell_type": "code",
   "execution_count": 494,
   "metadata": {},
   "outputs": [
    {
     "data": {
      "text/plain": [
       "'this is something ive pseudo-solved many times and have never quite found a solution for the problem is to come up with a way to generate n colors that are as distinguishable as possible where n is a parameter '"
      ]
     },
     "execution_count": 494,
     "metadata": {},
     "output_type": "execute_result"
    }
   ],
   "source": [
    "df_text_reduced.iloc[39].BODY_STRIPPED"
   ]
  },
  {
   "cell_type": "code",
   "execution_count": 495,
   "metadata": {
    "scrolled": true
   },
   "outputs": [
    {
     "data": {
      "text/plain": [
       "'something pseudo-solved many time never quite found solution problem come way generate color distinguishable possible parameter'"
      ]
     },
     "execution_count": 495,
     "metadata": {},
     "output_type": "execute_result"
    }
   ],
   "source": [
    "df_text_reduced.iloc[39].BODY_LEMMATIZED"
   ]
  },
  {
   "cell_type": "markdown",
   "metadata": {},
   "source": [
    "## Bag-of-words distribution associated to a tag"
   ]
  },
  {
   "cell_type": "markdown",
   "metadata": {},
   "source": [
    "### On text title"
   ]
  },
  {
   "cell_type": "code",
   "execution_count": 231,
   "metadata": {
    "collapsed": true
   },
   "outputs": [],
   "source": [
    "df_tags_title = pd.DataFrame(\n",
    "    list(\n",
    "        zip(df_stags_reduced,\n",
    "            df_text_reduced.loc[df_stags_reduced.index, \"TITLE_LEMMATIZED\"]))).rename(\n",
    "                columns={\n",
    "                    0: \"elkey\",\n",
    "                    1: \"elvalue\"\n",
    "                })"
   ]
  },
  {
   "cell_type": "code",
   "execution_count": 232,
   "metadata": {
    "collapsed": true
   },
   "outputs": [],
   "source": [
    "corpfreq_title, corpstats_title, corpora_title = freq_stats_corpora(\n",
    "    df_tags_title)"
   ]
  },
  {
   "cell_type": "code",
   "execution_count": 233,
   "metadata": {
    "collapsed": true
   },
   "outputs": [],
   "source": [
    "# sort by values in descending order\n",
    "sorted_corpfreq_title = defaultdict(list)\n",
    "cutoff = 10\n",
    "\n",
    "for tag, tagfreq in corpfreq_title.items():\n",
    "    # only add into sorted_corpfreq if the word occurencces are>50\n",
    "    if sum(list(tagfreq.values())) > cutoff:\n",
    "        sorted_corpfreq_title[tag] = sorted(\n",
    "            tagfreq.items(), key=itemgetter(1), reverse=True)"
   ]
  },
  {
   "cell_type": "code",
   "execution_count": 380,
   "metadata": {},
   "outputs": [
    {
     "name": "stderr",
     "output_type": "stream",
     "text": [
      "/Users/pmlee/anaconda3/lib/python3.6/site-packages/seaborn/categorical.py:1460: FutureWarning: remove_na is deprecated and is a private function. Do not use.\n",
      "  stat_data = remove_na(group_data)\n"
     ]
    },
    {
     "data": {
      "image/png": "[encoded data removed]",
      "text/plain": [
       "<matplotlib.figure.Figure at 0x1a8a614828>"
      ]
     },
     "metadata": {},
     "output_type": "display_data"
    }
   ],
   "source": [
    "token_index = 98\n",
    "key = list(sorted_corpfreq_title.keys())[token_index]\n",
    "corptags_key_title, corptags_value_title = zip(*sorted_corpfreq_title[key])\n",
    "fig, ax = plt.subplots(figsize=(10, 4))\n",
    "n_element = 50\n",
    "sns.barplot(\n",
    "    np.array(corptags_key_title[:n_element]),\n",
    "    np.array(corptags_value_title[:n_element]),\n",
    "    ax=ax)\n",
    "ax.set_xticklabels(corptags_key_title[:n_element], rotation=90)\n",
    "ax.set_title('Top 50 words for %s from title' %key)\n",
    "sns.despine()"
   ]
  },
  {
   "cell_type": "markdown",
   "metadata": {},
   "source": [
    "### On text body"
   ]
  },
  {
   "cell_type": "code",
   "execution_count": 235,
   "metadata": {},
   "outputs": [],
   "source": [
    "df_tags_body = pd.DataFrame(\n",
    "    list(\n",
    "        zip(df_stags_reduced,\n",
    "            df_text_reduced.loc[df_stags_reduced.index, \"BODY_LEMMATIZED\"]))).rename(\n",
    "                columns={\n",
    "                    0: \"elkey\",\n",
    "                    1: \"elvalue\"\n",
    "                })"
   ]
  },
  {
   "cell_type": "code",
   "execution_count": 236,
   "metadata": {},
   "outputs": [],
   "source": [
    "corpfreq_body, corpstats_body, corpora_body = freq_stats_corpora(df_tags_body)"
   ]
  },
  {
   "cell_type": "code",
   "execution_count": 237,
   "metadata": {},
   "outputs": [],
   "source": [
    "# sort by values in descending order\n",
    "sorted_corpfreq_body = defaultdict(list)\n",
    "cutoff = 1\n",
    "cutoff_doc = 50\n",
    "n_most_common = 20\n",
    "# most frequent words will be the corpora that we use as a dictionary\n",
    "most_frequent_words = defaultdict(list)\n",
    "\n",
    "for tag, tagfreq in corpfreq_body.items():\n",
    "    # only add into sorted_corpfreq if the word occurencces > cutoff_doc\n",
    "    if sum(list(tagfreq.values())) > cutoff_doc:\n",
    "    \n",
    "        most_frequent_words[tag] = set(\n",
    "            i[0] for i in tagfreq.most_common(n_most_common) if i[1] > cutoff)\n",
    "        sorted_corpfreq_body[tag] = sorted(\n",
    "            tagfreq.items(), key=itemgetter(1), reverse=True)\n"
   ]
  },
  {
   "cell_type": "code",
   "execution_count": 381,
   "metadata": {},
   "outputs": [
    {
     "name": "stderr",
     "output_type": "stream",
     "text": [
      "/Users/pmlee/anaconda3/lib/python3.6/site-packages/seaborn/categorical.py:1460: FutureWarning: remove_na is deprecated and is a private function. Do not use.\n",
      "  stat_data = remove_na(group_data)\n"
     ]
    },
    {
     "data": {
      "image/png": "[encoded data removed]",
      "text/plain": [
       "<matplotlib.figure.Figure at 0x1a8a0a7ac8>"
      ]
     },
     "metadata": {},
     "output_type": "display_data"
    }
   ],
   "source": [
    "token_index = 76\n",
    "key = list(sorted_corpfreq_body.keys())[token_index]\n",
    "corptags_key_body, corptags_value_body = zip(*sorted_corpfreq_body[key])\n",
    "fig, ax = plt.subplots(figsize=(10, 4))\n",
    "n_element = 50\n",
    "sns.barplot(\n",
    "    np.array(corptags_key_body[:n_element]),\n",
    "    np.array(corptags_value_body[:n_element]),\n",
    "    ax=ax)\n",
    "ax.set_xticklabels(corptags_key_body[:n_element], rotation=90)\n",
    "ax.set_title(\n",
    "    'Top 50 words for %s from text body' %key)\n",
    "sns.despine()"
   ]
  },
  {
   "cell_type": "markdown",
   "metadata": {},
   "source": [
    "__Observation__:\n",
    "- From text.body and text.title, the tag words appear the most often in the word distrbution. For example, \n",
    "    - {tagword: *python*, word_distrb: {python: 280, way: 120...}\n",
    "    - {tagword: *performance*, word_distrb: {performance: 120, time: 50...}\n",
    "    - {tagword: *html*, word_distrb: {html: 150, page: 80...}\n",
    "- This implies that we can rely on the presence of certain words to correctly predict tags"
   ]
  },
  {
   "cell_type": "markdown",
   "metadata": {},
   "source": [
    "# Supervised learning: ScikitLearn OneVsRest Classifier"
   ]
  },
  {
   "cell_type": "markdown",
   "metadata": {},
   "source": [
    "## Use text body only\n",
    "### Train/crossval/test split\n",
    "We create a corpus from the train set. This corpus contains the n most frequent words in each tag. We have seen previously that the tag is often found in the text body."
   ]
  },
  {
   "cell_type": "code",
   "execution_count": 557,
   "metadata": {},
   "outputs": [],
   "source": [
    "# Label binarization\n",
    "from sklearn.preprocessing import MultiLabelBinarizer\n",
    "\n",
    "lb = MultiLabelBinarizer()\n",
    "targets = lb.fit_transform(df_stags_reduced)"
   ]
  },
  {
   "cell_type": "markdown",
   "metadata": {},
   "source": [
    "### Feature engineering by count vectorization"
   ]
  },
  {
   "cell_type": "code",
   "execution_count": 571,
   "metadata": {},
   "outputs": [
    {
     "data": {
      "text/plain": [
       "(8805, 39701)"
      ]
     },
     "execution_count": 571,
     "metadata": {},
     "output_type": "execute_result"
    }
   ],
   "source": [
    "from sklearn.feature_extraction.text import CountVectorizer\n",
    "\n",
    "count_vect = CountVectorizer()\n",
    "X_counts = count_vect.fit_transform(df_text_reduced.BODY_LEMMATIZED)\n",
    "X_counts.shape"
   ]
  },
  {
   "cell_type": "code",
   "execution_count": 591,
   "metadata": {},
   "outputs": [],
   "source": [
    "# shuffle indices\n",
    "idx = np.arange(X_counts.shape[0])\n",
    "np.random.shuffle(idx, random_state=2)\n",
    "\n",
    "# Generate train/crossval/test sets\n",
    "train_size = int(.6 * X_counts.shape[0])\n",
    "crossval_size = int(.8 * X_counts.shape[0])\n",
    "\n",
    "X_train = X_counts[idx[:train_size],:]\n",
    "y_train = targets[idx[:train_size],:]\n",
    "X_crossval = X_counts[idx[train_size:crossval_size],:]\n",
    "y_crossval = targets[idx[train_size:crossval_size],:]\n",
    "X_test = X_counts[idx[crossval_size:],:]\n",
    "y_test = targets[idx[crossval_size:],:]"
   ]
  },
  {
   "cell_type": "code",
   "execution_count": 598,
   "metadata": {},
   "outputs": [
    {
     "data": {
      "text/plain": [
       "(5283, 39701)"
      ]
     },
     "execution_count": 598,
     "metadata": {},
     "output_type": "execute_result"
    }
   ],
   "source": [
    "X_train.shape"
   ]
  },
  {
   "cell_type": "markdown",
   "metadata": {},
   "source": [
    "### Training"
   ]
  },
  {
   "cell_type": "code",
   "execution_count": 604,
   "metadata": {},
   "outputs": [
    {
     "data": {
      "text/plain": [
       "OneVsRestClassifier(estimator=SVC(C=1.0, cache_size=200, class_weight=None, coef0=0.0,\n",
       "  decision_function_shape='ovr', degree=3, gamma='auto', kernel='linear',\n",
       "  max_iter=-1, probability=False, random_state=None, shrinking=True,\n",
       "  tol=0.001, verbose=False),\n",
       "          n_jobs=1)"
      ]
     },
     "execution_count": 604,
     "metadata": {},
     "output_type": "execute_result"
    }
   ],
   "source": [
    "from sklearn.multiclass import OneVsRestClassifier\n",
    "from sklearn.svm import SVC\n",
    "\n",
    "clf = OneVsRestClassifier(SVC(kernel='linear'))\n",
    "clf.fit(X_train, y_train)"
   ]
  },
  {
   "cell_type": "markdown",
   "metadata": {},
   "source": [
    "### Cross validation"
   ]
  },
  {
   "cell_type": "code",
   "execution_count": 619,
   "metadata": {},
   "outputs": [],
   "source": [
    "# identify error guesses\n",
    "errors_body = []\n",
    "for (index, features) in enumerate(X_crossval):\n",
    "    y_crossval_predict = clf.predict(features)\n",
    "\n",
    "    if not np.array_equal(y_crossval_predict.flatten(), y_crossval[index]):\n",
    "        errors_body.append((lb.inverse_transform(y_crossval[index].reshape(1,-1)),\n",
    "                            lb.inverse_transform(y_crossval_predict),\n",
    "                            features))"
   ]
  },
  {
   "cell_type": "markdown",
   "metadata": {},
   "source": [
    "### Evaluation: accuracy"
   ]
  },
  {
   "cell_type": "code",
   "execution_count": 620,
   "metadata": {},
   "outputs": [
    {
     "name": "stdout",
     "output_type": "stream",
     "text": [
      "Accuracy score:\n",
      "Train score: 1.00\n",
      "Crossval score: 0.08\n",
      "Test score: 0.10\n"
     ]
    }
   ],
   "source": [
    "train_score = clf.score(X_train,y_train)\n",
    "crossval_score = clf.score(X_crossval,y_crossval)\n",
    "test_score = clf.score(X_test,y_test)\n",
    "\n",
    "print(\"Accuracy score:\")\n",
    "print(\"Train score: %.2f\" %train_score)\n",
    "print(\"Crossval score: %.2f\" %crossval_score)\n",
    "print(\"Test score: %.2f\" %test_score)"
   ]
  },
  {
   "cell_type": "markdown",
   "metadata": {},
   "source": [
    "## Tokenizing text with count vectorization"
   ]
  },
  {
   "cell_type": "code",
   "execution_count": null,
   "metadata": {
    "collapsed": true
   },
   "outputs": [],
   "source": [
    "from sklearn.feature_extraction.text import CountVectorizer\n",
    "count_vect = CountVectorizer()\n",
    "X_train_counts = count_vect.fit_transform(train_size)\n",
    "X_train_counts.shape\n",
    "(2257, 35788)"
   ]
  },
  {
   "cell_type": "markdown",
   "metadata": {},
   "source": [
    "### Corpus creation"
   ]
  },
  {
   "cell_type": "markdown",
   "metadata": {},
   "source": [
    "__Use of tags in train set as corpus__\n"
   ]
  },
  {
   "cell_type": "code",
   "execution_count": 359,
   "metadata": {},
   "outputs": [],
   "source": [
    "corpus_dict_tags = set(train_freq_body.keys())"
   ]
  },
  {
   "cell_type": "markdown",
   "metadata": {},
   "source": [
    "### Feature engineering\n",
    "From the corpus, we look at tokens of each document. If the token is found in the corpus, then we attribute True to feature 'contain(word)', else False."
   ]
  },
  {
   "cell_type": "code",
   "execution_count": 360,
   "metadata": {},
   "outputs": [],
   "source": [
    "def featuregenerator(data, corpus_dict):\n",
    "    features = {}\n",
    "\n",
    "    for word in corpus_dict:\n",
    "        features['contains({})'.format(word)] = (word in set(data))\n",
    "    return features"
   ]
  },
  {
   "cell_type": "code",
   "execution_count": 361,
   "metadata": {},
   "outputs": [],
   "source": [
    "train_featuresets_body = []\n",
    "#n_words = 10\n",
    "for index, row in train_crossval_set_body.iterrows():\n",
    "    for key in row.elkey:\n",
    "        #sorted_elvalue = sorted(\n",
    "        #    FreqDist(row.elvalue).items(), key=itemgetter(1), reverse=True)\n",
    "        #fd_elvalue =  FreqDist(row.elvalue)\n",
    "        #existing_keywords = {i:fd_elvalue[i] for i in set(fd_elvalue.keys()).intersection(most_frequent_words[key])}\n",
    "        #pdb.set_trace()\n",
    "        #featuresets.append((dict(sorted_elvalue), key))\n",
    "        #featuresets.append(({i:True for i in row.elvalue},key))\n",
    "        train_featuresets_body.append((featuregenerator(\n",
    "            row.elvalue, corpus_dict_tags), key))"
   ]
  },
  {
   "cell_type": "markdown",
   "metadata": {},
   "source": [
    "### Train/crossval split\n",
    "Proportion of train/crossval:80/20\n"
   ]
  },
  {
   "cell_type": "code",
   "execution_count": 362,
   "metadata": {
    "collapsed": true
   },
   "outputs": [],
   "source": [
    "import random\n",
    "\n",
    "random.seed(32)\n",
    "shuffled_train_featuresets_body = random.sample(train_featuresets_body,\n",
    "                                                len(train_featuresets_body))\n",
    "train_size = int(0.8 * len(shuffled_train_featuresets_body))\n",
    "\n",
    "train_body = shuffled_train_featuresets_body[:train_size]\n",
    "crossval_body = shuffled_train_featuresets_body[train_size:]"
   ]
  },
  {
   "cell_type": "markdown",
   "metadata": {},
   "source": [
    "### Training"
   ]
  },
  {
   "cell_type": "code",
   "execution_count": 363,
   "metadata": {
    "scrolled": true
   },
   "outputs": [],
   "source": [
    "from nltk import NaiveBayesClassifier\n",
    "\n",
    "classifier = NaiveBayesClassifier.train(train_body)"
   ]
  },
  {
   "cell_type": "markdown",
   "metadata": {},
   "source": [
    "### Cross validation"
   ]
  },
  {
   "cell_type": "code",
   "execution_count": 364,
   "metadata": {
    "collapsed": true
   },
   "outputs": [],
   "source": [
    "# identify error guesses\n",
    "errors_body = []\n",
    "for (features, tag) in crossval_body:\n",
    "    guess = classifier.classify(features)\n",
    "    if guess != tag:\n",
    "        errors_body.append( (tag, guess, features) )"
   ]
  },
  {
   "cell_type": "code",
   "execution_count": 365,
   "metadata": {
    "scrolled": true
   },
   "outputs": [
    {
     "name": "stdout",
     "output_type": "stream",
     "text": [
      "correct=cruisecontrol.net, guess=.net, features={'contains(winforms)': False, 'contains(plugins)': False, 'contains(browser)': False, 'contains(outlook)': False, 'contains(css)': False, 'contains(asp.net-mvc)': False, 'contains(syntax)': False, 'contains(compiler-construction)': False, 'contains(project-management)': False, 'contains(indexing)': False, 'contains(sharepoint)': False, 'contains(unit-testing)': False, 'contains(data-binding)': False, 'contains(asp-classic)': False, 'contains(installer)': False, 'contains(iis)': False, 'contains(build-process)': False, 'contains(bash)': False, 'contains(javascript)': False, 'contains(debugging)': False, 'contains(postgresql)': False, 'contains(svn)': False, 'contains(file)': True, 'contains(firefox)': False, 'contains(jquery)': False, 'contains(shell)': False, 'contains(git)': False, 'contains(templates)': False, 'contains(linq)': False, 'contains(unix)': False, 'contains(language-agnostic)': False, 'contains(django)': False, 'contains(math)': False, 'contains(configuration)': False, 'contains(com)': False, 'contains(objective-c)': False, 'contains(networking)': False, 'contains(caching)': False, 'contains(ms-access)': False, 'contains(java)': False, 'contains(algorithm)': False, 'contains(vb6)': False, 'contains(linq-to-sql)': False, 'contains(actionscript-3)': False, 'contains(flash)': False, 'contains(php)': False, 'contains(http)': False, 'contains(sockets)': False, 'contains(c#)': False, 'contains(multithreading)': False, 'contains(data-structures)': False, 'contains(gcc)': False, 'contains(scripting)': False, 'contains(c)': False, 'contains(tdd)': False, 'contains(database-design)': False, 'contains(filesystems)': False, 'contains(tsql)': False, 'contains(perl)': False, 'contains(macos)': False, 'contains(audio)': False, 'contains(tomcat)': False, 'contains(mysql)': False, 'contains(web-services)': False, 'contains(.net-3.5)': False, 'contains(regex)': False, 'contains(opengl)': False, 'contains(video)': False, 'contains(exception)': False, 'contains(vim)': False, 'contains(user-controls)': False, 'contains(web-applications)': False, 'contains(iphone)': False, 'contains(optimization)': False, 'contains(command-line)': False, 'contains(sql-server)': False, 'contains(python)': False, 'contains(inheritance)': False, 'contains(ssl)': False, 'contains(reporting-services)': False, 'contains(testing)': False, 'contains(flex)': False, 'contains(windows)': False, 'contains(pdf)': False, 'contains(security)': False, 'contains(encryption)': False, 'contains(visual-studio-2008)': False, 'contains(tortoisesvn)': False, 'contains(string)': False, 'contains(ide)': False, 'contains(api)': False, 'contains(datetime)': False, 'contains(reflection)': False, 'contains(collections)': False, 'contains(mfc)': False, 'contains(parsing)': False, 'contains(java-ee)': False, 'contains(ruby)': False, 'contains(ajax)': False, 'contains(serialization)': False, 'contains(installation)': False, 'contains(visual-studio)': False, 'contains(backup)': False, 'contains(html)': False, 'contains(visual-studio-2005)': False, 'contains(c++)': False, 'contains(date)': False, 'contains(architecture)': False, 'contains(excel)': False, 'contains(user-interface)': False, 'contains(events)': False, 'contains(orm)': False, 'contains(asp.net)': False, 'contains(xslt)': False, 'contains(sql-server-2005)': False, 'contains(ruby-on-rails)': False, 'contains(visual-c++)': False, 'contains(search)': False, 'contains(design-patterns)': False, 'contains(cocoa)': False, 'contains(validation)': False, 'contains(powershell)': False, 'contains(image)': False, 'contains(windows-mobile)': False, 'contains(wpf)': False, 'contains(coding-style)': False, 'contains(oop)': False, 'contains(internet-explorer)': False, 'contains(nhibernate)': False, 'contains(database)': False, 'contains(ado.net)': False, 'contains(.net)': False, 'contains(unicode)': False, 'contains(email)': False, 'contains(hibernate)': False, 'contains(apache)': False, 'contains(vb.net)': False, 'contains(model-view-controller)': False, 'contains(windows-xp)': False, 'contains(.net-2.0)': False, 'contains(generics)': False, 'contains(frameworks)': False, 'contains(logging)': False, 'contains(cross-platform)': False, 'contains(windows-vista)': False, 'contains(wcf)': False, 'contains(cruisecontrol.net)': False, 'contains(forms)': False, 'contains(xml)': False, 'contains(open-source)': False, 'contains(msbuild)': False, 'contains(silverlight)': False, 'contains(automation)': False, 'contains(soap)': False, 'contains(internationalization)': False, 'contains(oracle)': False, 'contains(winapi)': False, 'contains(memory)': False, 'contains(authentication)': False, 'contains(tfs)': False, 'contains(graphics)': False, 'contains(asp.net-ajax)': False, 'contains(version-control)': False, 'contains(design)': False, 'contains(dom)': False, 'contains(stored-procedures)': False, 'contains(eclipse)': False, 'contains(functional-programming)': False, 'contains(performance)': False, 'contains(deployment)': False, 'contains(sql)': False, 'contains(arrays)': False, 'contains(delphi)': False, 'contains(editor)': False, 'contains(linux)': False, 'contains(build-automation)': False, 'contains(sqlite)': False, 'contains(emacs)': False, 'contains(refactoring)': False}\n",
      "correct=outlook, guess=windows, features={'contains(winforms)': False, 'contains(plugins)': False, 'contains(browser)': False, 'contains(outlook)': True, 'contains(css)': False, 'contains(asp.net-mvc)': False, 'contains(syntax)': False, 'contains(compiler-construction)': False, 'contains(project-management)': False, 'contains(indexing)': False, 'contains(sharepoint)': False, 'contains(unit-testing)': False, 'contains(data-binding)': False, 'contains(asp-classic)': False, 'contains(installer)': False, 'contains(iis)': False, 'contains(build-process)': False, 'contains(bash)': False, 'contains(javascript)': False, 'contains(debugging)': False, 'contains(postgresql)': False, 'contains(svn)': False, 'contains(file)': False, 'contains(firefox)': False, 'contains(jquery)': False, 'contains(shell)': False, 'contains(git)': False, 'contains(templates)': False, 'contains(linq)': False, 'contains(unix)': False, 'contains(language-agnostic)': False, 'contains(django)': False, 'contains(math)': False, 'contains(configuration)': False, 'contains(com)': False, 'contains(objective-c)': False, 'contains(networking)': False, 'contains(caching)': False, 'contains(ms-access)': False, 'contains(java)': False, 'contains(algorithm)': False, 'contains(vb6)': False, 'contains(linq-to-sql)': False, 'contains(actionscript-3)': False, 'contains(flash)': False, 'contains(php)': False, 'contains(http)': False, 'contains(sockets)': False, 'contains(c#)': False, 'contains(multithreading)': False, 'contains(data-structures)': False, 'contains(gcc)': False, 'contains(scripting)': False, 'contains(c)': False, 'contains(tdd)': False, 'contains(database-design)': False, 'contains(filesystems)': False, 'contains(tsql)': False, 'contains(perl)': False, 'contains(macos)': False, 'contains(audio)': False, 'contains(tomcat)': False, 'contains(mysql)': False, 'contains(web-services)': False, 'contains(.net-3.5)': False, 'contains(regex)': False, 'contains(opengl)': False, 'contains(video)': False, 'contains(exception)': False, 'contains(vim)': False, 'contains(user-controls)': False, 'contains(web-applications)': False, 'contains(iphone)': False, 'contains(optimization)': False, 'contains(command-line)': False, 'contains(sql-server)': False, 'contains(python)': False, 'contains(inheritance)': False, 'contains(ssl)': False, 'contains(reporting-services)': False, 'contains(testing)': False, 'contains(flex)': False, 'contains(windows)': False, 'contains(pdf)': False, 'contains(security)': False, 'contains(encryption)': False, 'contains(visual-studio-2008)': False, 'contains(tortoisesvn)': False, 'contains(string)': False, 'contains(ide)': False, 'contains(api)': False, 'contains(datetime)': False, 'contains(reflection)': False, 'contains(collections)': False, 'contains(mfc)': False, 'contains(parsing)': False, 'contains(java-ee)': False, 'contains(ruby)': False, 'contains(ajax)': False, 'contains(serialization)': False, 'contains(installation)': False, 'contains(visual-studio)': False, 'contains(backup)': False, 'contains(html)': False, 'contains(visual-studio-2005)': False, 'contains(c++)': False, 'contains(date)': False, 'contains(architecture)': False, 'contains(excel)': False, 'contains(user-interface)': False, 'contains(events)': False, 'contains(orm)': False, 'contains(asp.net)': False, 'contains(xslt)': False, 'contains(sql-server-2005)': False, 'contains(ruby-on-rails)': False, 'contains(visual-c++)': False, 'contains(search)': False, 'contains(design-patterns)': False, 'contains(cocoa)': False, 'contains(validation)': False, 'contains(powershell)': False, 'contains(image)': False, 'contains(windows-mobile)': False, 'contains(wpf)': False, 'contains(coding-style)': False, 'contains(oop)': False, 'contains(internet-explorer)': False, 'contains(nhibernate)': False, 'contains(database)': False, 'contains(ado.net)': False, 'contains(.net)': False, 'contains(unicode)': False, 'contains(email)': False, 'contains(hibernate)': False, 'contains(apache)': False, 'contains(vb.net)': False, 'contains(model-view-controller)': False, 'contains(windows-xp)': False, 'contains(.net-2.0)': False, 'contains(generics)': False, 'contains(frameworks)': False, 'contains(logging)': False, 'contains(cross-platform)': False, 'contains(windows-vista)': False, 'contains(wcf)': False, 'contains(cruisecontrol.net)': False, 'contains(forms)': False, 'contains(xml)': False, 'contains(open-source)': False, 'contains(msbuild)': False, 'contains(silverlight)': False, 'contains(automation)': False, 'contains(soap)': False, 'contains(internationalization)': False, 'contains(oracle)': False, 'contains(winapi)': False, 'contains(memory)': False, 'contains(authentication)': False, 'contains(tfs)': False, 'contains(graphics)': False, 'contains(asp.net-ajax)': False, 'contains(version-control)': False, 'contains(design)': False, 'contains(dom)': False, 'contains(stored-procedures)': False, 'contains(eclipse)': False, 'contains(functional-programming)': False, 'contains(performance)': False, 'contains(deployment)': False, 'contains(sql)': False, 'contains(arrays)': False, 'contains(delphi)': False, 'contains(editor)': True, 'contains(linux)': False, 'contains(build-automation)': False, 'contains(sqlite)': False, 'contains(emacs)': False, 'contains(refactoring)': False}\n",
      "correct=ajax, guess=javascript, features={'contains(winforms)': False, 'contains(plugins)': False, 'contains(browser)': False, 'contains(outlook)': False, 'contains(css)': False, 'contains(asp.net-mvc)': False, 'contains(syntax)': False, 'contains(compiler-construction)': False, 'contains(project-management)': False, 'contains(indexing)': False, 'contains(sharepoint)': False, 'contains(unit-testing)': False, 'contains(data-binding)': False, 'contains(asp-classic)': False, 'contains(installer)': False, 'contains(iis)': False, 'contains(build-process)': False, 'contains(bash)': False, 'contains(javascript)': False, 'contains(debugging)': False, 'contains(postgresql)': False, 'contains(svn)': False, 'contains(file)': False, 'contains(firefox)': True, 'contains(jquery)': False, 'contains(shell)': False, 'contains(git)': False, 'contains(templates)': False, 'contains(linq)': False, 'contains(unix)': False, 'contains(language-agnostic)': False, 'contains(django)': False, 'contains(math)': False, 'contains(configuration)': False, 'contains(com)': False, 'contains(objective-c)': False, 'contains(networking)': False, 'contains(caching)': False, 'contains(ms-access)': False, 'contains(java)': False, 'contains(algorithm)': False, 'contains(vb6)': False, 'contains(linq-to-sql)': False, 'contains(actionscript-3)': False, 'contains(flash)': False, 'contains(php)': False, 'contains(http)': False, 'contains(sockets)': False, 'contains(c#)': False, 'contains(multithreading)': False, 'contains(data-structures)': False, 'contains(gcc)': False, 'contains(scripting)': False, 'contains(c)': False, 'contains(tdd)': False, 'contains(database-design)': False, 'contains(filesystems)': False, 'contains(tsql)': False, 'contains(perl)': False, 'contains(macos)': False, 'contains(audio)': False, 'contains(tomcat)': False, 'contains(mysql)': False, 'contains(web-services)': False, 'contains(.net-3.5)': False, 'contains(regex)': False, 'contains(opengl)': False, 'contains(video)': False, 'contains(exception)': False, 'contains(vim)': False, 'contains(user-controls)': False, 'contains(web-applications)': False, 'contains(iphone)': False, 'contains(optimization)': False, 'contains(command-line)': False, 'contains(sql-server)': False, 'contains(python)': False, 'contains(inheritance)': False, 'contains(ssl)': False, 'contains(reporting-services)': False, 'contains(testing)': False, 'contains(flex)': False, 'contains(windows)': False, 'contains(pdf)': False, 'contains(security)': False, 'contains(encryption)': False, 'contains(visual-studio-2008)': False, 'contains(tortoisesvn)': False, 'contains(string)': False, 'contains(ide)': False, 'contains(api)': False, 'contains(datetime)': False, 'contains(reflection)': False, 'contains(collections)': False, 'contains(mfc)': False, 'contains(parsing)': False, 'contains(java-ee)': False, 'contains(ruby)': False, 'contains(ajax)': True, 'contains(serialization)': False, 'contains(installation)': False, 'contains(visual-studio)': False, 'contains(backup)': False, 'contains(html)': False, 'contains(visual-studio-2005)': False, 'contains(c++)': False, 'contains(date)': False, 'contains(architecture)': False, 'contains(excel)': False, 'contains(user-interface)': False, 'contains(events)': False, 'contains(orm)': False, 'contains(asp.net)': False, 'contains(xslt)': False, 'contains(sql-server-2005)': False, 'contains(ruby-on-rails)': False, 'contains(visual-c++)': False, 'contains(search)': False, 'contains(design-patterns)': False, 'contains(cocoa)': False, 'contains(validation)': False, 'contains(powershell)': False, 'contains(image)': False, 'contains(windows-mobile)': False, 'contains(wpf)': False, 'contains(coding-style)': False, 'contains(oop)': False, 'contains(internet-explorer)': False, 'contains(nhibernate)': False, 'contains(database)': False, 'contains(ado.net)': False, 'contains(.net)': False, 'contains(unicode)': False, 'contains(email)': False, 'contains(hibernate)': False, 'contains(apache)': False, 'contains(vb.net)': False, 'contains(model-view-controller)': False, 'contains(windows-xp)': False, 'contains(.net-2.0)': False, 'contains(generics)': False, 'contains(frameworks)': False, 'contains(logging)': False, 'contains(cross-platform)': False, 'contains(windows-vista)': False, 'contains(wcf)': False, 'contains(cruisecontrol.net)': False, 'contains(forms)': False, 'contains(xml)': False, 'contains(open-source)': False, 'contains(msbuild)': False, 'contains(silverlight)': False, 'contains(automation)': False, 'contains(soap)': False, 'contains(internationalization)': False, 'contains(oracle)': False, 'contains(winapi)': False, 'contains(memory)': False, 'contains(authentication)': False, 'contains(tfs)': False, 'contains(graphics)': False, 'contains(asp.net-ajax)': False, 'contains(version-control)': False, 'contains(design)': False, 'contains(dom)': False, 'contains(stored-procedures)': False, 'contains(eclipse)': False, 'contains(functional-programming)': False, 'contains(performance)': False, 'contains(deployment)': False, 'contains(sql)': False, 'contains(arrays)': False, 'contains(delphi)': False, 'contains(editor)': False, 'contains(linux)': False, 'contains(build-automation)': False, 'contains(sqlite)': False, 'contains(emacs)': False, 'contains(refactoring)': False}\n",
      "correct=testing, guess=unit-testing, features={'contains(winforms)': False, 'contains(plugins)': False, 'contains(browser)': False, 'contains(outlook)': False, 'contains(css)': False, 'contains(asp.net-mvc)': False, 'contains(syntax)': False, 'contains(compiler-construction)': False, 'contains(project-management)': False, 'contains(indexing)': False, 'contains(sharepoint)': False, 'contains(unit-testing)': False, 'contains(data-binding)': False, 'contains(asp-classic)': False, 'contains(installer)': False, 'contains(iis)': False, 'contains(build-process)': False, 'contains(bash)': False, 'contains(javascript)': False, 'contains(debugging)': False, 'contains(postgresql)': False, 'contains(svn)': False, 'contains(file)': False, 'contains(firefox)': False, 'contains(jquery)': False, 'contains(shell)': False, 'contains(git)': False, 'contains(templates)': False, 'contains(linq)': False, 'contains(unix)': False, 'contains(language-agnostic)': False, 'contains(django)': False, 'contains(math)': False, 'contains(configuration)': False, 'contains(com)': False, 'contains(objective-c)': False, 'contains(networking)': False, 'contains(caching)': False, 'contains(ms-access)': False, 'contains(java)': False, 'contains(algorithm)': False, 'contains(vb6)': False, 'contains(linq-to-sql)': False, 'contains(actionscript-3)': False, 'contains(flash)': False, 'contains(php)': False, 'contains(http)': False, 'contains(sockets)': False, 'contains(c#)': False, 'contains(multithreading)': False, 'contains(data-structures)': False, 'contains(gcc)': False, 'contains(scripting)': False, 'contains(c)': False, 'contains(tdd)': False, 'contains(database-design)': False, 'contains(filesystems)': False, 'contains(tsql)': False, 'contains(perl)': False, 'contains(macos)': False, 'contains(audio)': False, 'contains(tomcat)': False, 'contains(mysql)': False, 'contains(web-services)': False, 'contains(.net-3.5)': False, 'contains(regex)': False, 'contains(opengl)': False, 'contains(video)': False, 'contains(exception)': False, 'contains(vim)': False, 'contains(user-controls)': False, 'contains(web-applications)': False, 'contains(iphone)': False, 'contains(optimization)': False, 'contains(command-line)': False, 'contains(sql-server)': False, 'contains(python)': False, 'contains(inheritance)': False, 'contains(ssl)': False, 'contains(reporting-services)': False, 'contains(testing)': True, 'contains(flex)': False, 'contains(windows)': False, 'contains(pdf)': False, 'contains(security)': False, 'contains(encryption)': False, 'contains(visual-studio-2008)': False, 'contains(tortoisesvn)': False, 'contains(string)': False, 'contains(ide)': False, 'contains(api)': False, 'contains(datetime)': False, 'contains(reflection)': False, 'contains(collections)': False, 'contains(mfc)': False, 'contains(parsing)': False, 'contains(java-ee)': False, 'contains(ruby)': False, 'contains(ajax)': False, 'contains(serialization)': False, 'contains(installation)': False, 'contains(visual-studio)': False, 'contains(backup)': False, 'contains(html)': False, 'contains(visual-studio-2005)': False, 'contains(c++)': False, 'contains(date)': False, 'contains(architecture)': False, 'contains(excel)': False, 'contains(user-interface)': False, 'contains(events)': False, 'contains(orm)': False, 'contains(asp.net)': False, 'contains(xslt)': False, 'contains(sql-server-2005)': False, 'contains(ruby-on-rails)': False, 'contains(visual-c++)': False, 'contains(search)': False, 'contains(design-patterns)': False, 'contains(cocoa)': False, 'contains(validation)': False, 'contains(powershell)': False, 'contains(image)': False, 'contains(windows-mobile)': False, 'contains(wpf)': False, 'contains(coding-style)': False, 'contains(oop)': False, 'contains(internet-explorer)': False, 'contains(nhibernate)': False, 'contains(database)': False, 'contains(ado.net)': False, 'contains(.net)': False, 'contains(unicode)': False, 'contains(email)': False, 'contains(hibernate)': False, 'contains(apache)': False, 'contains(vb.net)': False, 'contains(model-view-controller)': False, 'contains(windows-xp)': False, 'contains(.net-2.0)': False, 'contains(generics)': False, 'contains(frameworks)': False, 'contains(logging)': False, 'contains(cross-platform)': False, 'contains(windows-vista)': False, 'contains(wcf)': False, 'contains(cruisecontrol.net)': False, 'contains(forms)': False, 'contains(xml)': False, 'contains(open-source)': False, 'contains(msbuild)': False, 'contains(silverlight)': False, 'contains(automation)': False, 'contains(soap)': False, 'contains(internationalization)': False, 'contains(oracle)': False, 'contains(winapi)': False, 'contains(memory)': False, 'contains(authentication)': False, 'contains(tfs)': False, 'contains(graphics)': False, 'contains(asp.net-ajax)': False, 'contains(version-control)': False, 'contains(design)': False, 'contains(dom)': False, 'contains(stored-procedures)': False, 'contains(eclipse)': False, 'contains(functional-programming)': False, 'contains(performance)': False, 'contains(deployment)': False, 'contains(sql)': False, 'contains(arrays)': False, 'contains(delphi)': False, 'contains(editor)': False, 'contains(linux)': False, 'contains(build-automation)': False, 'contains(sqlite)': False, 'contains(emacs)': False, 'contains(refactoring)': False}\n",
      "correct=.net, guess=vb.net, features={'contains(winforms)': False, 'contains(plugins)': False, 'contains(browser)': False, 'contains(outlook)': False, 'contains(css)': False, 'contains(asp.net-mvc)': False, 'contains(syntax)': False, 'contains(compiler-construction)': False, 'contains(project-management)': False, 'contains(indexing)': False, 'contains(sharepoint)': False, 'contains(unit-testing)': False, 'contains(data-binding)': False, 'contains(asp-classic)': False, 'contains(installer)': False, 'contains(iis)': False, 'contains(build-process)': False, 'contains(bash)': False, 'contains(javascript)': False, 'contains(debugging)': False, 'contains(postgresql)': False, 'contains(svn)': False, 'contains(file)': False, 'contains(firefox)': False, 'contains(jquery)': False, 'contains(shell)': False, 'contains(git)': False, 'contains(templates)': False, 'contains(linq)': False, 'contains(unix)': False, 'contains(language-agnostic)': False, 'contains(django)': False, 'contains(math)': False, 'contains(configuration)': False, 'contains(com)': False, 'contains(objective-c)': False, 'contains(networking)': False, 'contains(caching)': False, 'contains(ms-access)': False, 'contains(java)': False, 'contains(algorithm)': False, 'contains(vb6)': False, 'contains(linq-to-sql)': False, 'contains(actionscript-3)': False, 'contains(flash)': False, 'contains(php)': False, 'contains(http)': False, 'contains(sockets)': False, 'contains(c#)': False, 'contains(multithreading)': False, 'contains(data-structures)': False, 'contains(gcc)': False, 'contains(scripting)': False, 'contains(c)': False, 'contains(tdd)': False, 'contains(database-design)': False, 'contains(filesystems)': False, 'contains(tsql)': False, 'contains(perl)': False, 'contains(macos)': False, 'contains(audio)': False, 'contains(tomcat)': False, 'contains(mysql)': False, 'contains(web-services)': False, 'contains(.net-3.5)': False, 'contains(regex)': False, 'contains(opengl)': False, 'contains(video)': False, 'contains(exception)': False, 'contains(vim)': False, 'contains(user-controls)': False, 'contains(web-applications)': False, 'contains(iphone)': False, 'contains(optimization)': False, 'contains(command-line)': False, 'contains(sql-server)': False, 'contains(python)': False, 'contains(inheritance)': False, 'contains(ssl)': False, 'contains(reporting-services)': False, 'contains(testing)': False, 'contains(flex)': False, 'contains(windows)': False, 'contains(pdf)': False, 'contains(security)': True, 'contains(encryption)': False, 'contains(visual-studio-2008)': False, 'contains(tortoisesvn)': False, 'contains(string)': False, 'contains(ide)': False, 'contains(api)': False, 'contains(datetime)': False, 'contains(reflection)': False, 'contains(collections)': False, 'contains(mfc)': False, 'contains(parsing)': False, 'contains(java-ee)': False, 'contains(ruby)': False, 'contains(ajax)': False, 'contains(serialization)': False, 'contains(installation)': False, 'contains(visual-studio)': False, 'contains(backup)': False, 'contains(html)': False, 'contains(visual-studio-2005)': False, 'contains(c++)': False, 'contains(date)': False, 'contains(architecture)': False, 'contains(excel)': False, 'contains(user-interface)': False, 'contains(events)': False, 'contains(orm)': False, 'contains(asp.net)': False, 'contains(xslt)': False, 'contains(sql-server-2005)': False, 'contains(ruby-on-rails)': False, 'contains(visual-c++)': False, 'contains(search)': False, 'contains(design-patterns)': False, 'contains(cocoa)': False, 'contains(validation)': False, 'contains(powershell)': False, 'contains(image)': False, 'contains(windows-mobile)': False, 'contains(wpf)': False, 'contains(coding-style)': False, 'contains(oop)': False, 'contains(internet-explorer)': False, 'contains(nhibernate)': False, 'contains(database)': False, 'contains(ado.net)': False, 'contains(.net)': True, 'contains(unicode)': False, 'contains(email)': False, 'contains(hibernate)': False, 'contains(apache)': False, 'contains(vb.net)': True, 'contains(model-view-controller)': False, 'contains(windows-xp)': False, 'contains(.net-2.0)': False, 'contains(generics)': False, 'contains(frameworks)': False, 'contains(logging)': False, 'contains(cross-platform)': False, 'contains(windows-vista)': False, 'contains(wcf)': False, 'contains(cruisecontrol.net)': False, 'contains(forms)': False, 'contains(xml)': False, 'contains(open-source)': False, 'contains(msbuild)': False, 'contains(silverlight)': False, 'contains(automation)': False, 'contains(soap)': False, 'contains(internationalization)': False, 'contains(oracle)': False, 'contains(winapi)': False, 'contains(memory)': False, 'contains(authentication)': False, 'contains(tfs)': False, 'contains(graphics)': False, 'contains(asp.net-ajax)': False, 'contains(version-control)': False, 'contains(design)': False, 'contains(dom)': False, 'contains(stored-procedures)': False, 'contains(eclipse)': False, 'contains(functional-programming)': False, 'contains(performance)': False, 'contains(deployment)': False, 'contains(sql)': False, 'contains(arrays)': False, 'contains(delphi)': False, 'contains(editor)': False, 'contains(linux)': False, 'contains(build-automation)': False, 'contains(sqlite)': False, 'contains(emacs)': False, 'contains(refactoring)': False}\n",
      "correct=optimization, guess=sql, features={'contains(winforms)': False, 'contains(plugins)': False, 'contains(browser)': False, 'contains(outlook)': False, 'contains(css)': False, 'contains(asp.net-mvc)': False, 'contains(syntax)': False, 'contains(compiler-construction)': False, 'contains(project-management)': False, 'contains(indexing)': False, 'contains(sharepoint)': False, 'contains(unit-testing)': False, 'contains(data-binding)': False, 'contains(asp-classic)': False, 'contains(installer)': False, 'contains(iis)': False, 'contains(build-process)': False, 'contains(bash)': False, 'contains(javascript)': False, 'contains(debugging)': False, 'contains(postgresql)': False, 'contains(svn)': False, 'contains(file)': False, 'contains(firefox)': False, 'contains(jquery)': False, 'contains(shell)': False, 'contains(git)': False, 'contains(templates)': False, 'contains(linq)': False, 'contains(unix)': False, 'contains(language-agnostic)': False, 'contains(django)': False, 'contains(math)': False, 'contains(configuration)': False, 'contains(com)': False, 'contains(objective-c)': False, 'contains(networking)': False, 'contains(caching)': False, 'contains(ms-access)': False, 'contains(java)': False, 'contains(algorithm)': False, 'contains(vb6)': False, 'contains(linq-to-sql)': False, 'contains(actionscript-3)': False, 'contains(flash)': False, 'contains(php)': False, 'contains(http)': False, 'contains(sockets)': False, 'contains(c#)': False, 'contains(multithreading)': False, 'contains(data-structures)': False, 'contains(gcc)': False, 'contains(scripting)': False, 'contains(c)': False, 'contains(tdd)': False, 'contains(database-design)': False, 'contains(filesystems)': False, 'contains(tsql)': False, 'contains(perl)': False, 'contains(macos)': False, 'contains(audio)': False, 'contains(tomcat)': False, 'contains(mysql)': False, 'contains(web-services)': False, 'contains(.net-3.5)': False, 'contains(regex)': False, 'contains(opengl)': False, 'contains(video)': False, 'contains(exception)': False, 'contains(vim)': False, 'contains(user-controls)': False, 'contains(web-applications)': False, 'contains(iphone)': False, 'contains(optimization)': False, 'contains(command-line)': False, 'contains(sql-server)': False, 'contains(python)': False, 'contains(inheritance)': False, 'contains(ssl)': False, 'contains(reporting-services)': False, 'contains(testing)': False, 'contains(flex)': False, 'contains(windows)': False, 'contains(pdf)': False, 'contains(security)': False, 'contains(encryption)': False, 'contains(visual-studio-2008)': False, 'contains(tortoisesvn)': False, 'contains(string)': False, 'contains(ide)': False, 'contains(api)': False, 'contains(datetime)': False, 'contains(reflection)': False, 'contains(collections)': False, 'contains(mfc)': False, 'contains(parsing)': False, 'contains(java-ee)': False, 'contains(ruby)': False, 'contains(ajax)': False, 'contains(serialization)': False, 'contains(installation)': False, 'contains(visual-studio)': False, 'contains(backup)': False, 'contains(html)': False, 'contains(visual-studio-2005)': False, 'contains(c++)': False, 'contains(date)': False, 'contains(architecture)': False, 'contains(excel)': False, 'contains(user-interface)': False, 'contains(events)': False, 'contains(orm)': False, 'contains(asp.net)': False, 'contains(xslt)': False, 'contains(sql-server-2005)': False, 'contains(ruby-on-rails)': False, 'contains(visual-c++)': False, 'contains(search)': False, 'contains(design-patterns)': False, 'contains(cocoa)': False, 'contains(validation)': False, 'contains(powershell)': False, 'contains(image)': False, 'contains(windows-mobile)': False, 'contains(wpf)': False, 'contains(coding-style)': False, 'contains(oop)': False, 'contains(internet-explorer)': False, 'contains(nhibernate)': False, 'contains(database)': True, 'contains(ado.net)': False, 'contains(.net)': False, 'contains(unicode)': False, 'contains(email)': True, 'contains(hibernate)': False, 'contains(apache)': False, 'contains(vb.net)': False, 'contains(model-view-controller)': False, 'contains(windows-xp)': False, 'contains(.net-2.0)': False, 'contains(generics)': False, 'contains(frameworks)': False, 'contains(logging)': False, 'contains(cross-platform)': False, 'contains(windows-vista)': False, 'contains(wcf)': False, 'contains(cruisecontrol.net)': False, 'contains(forms)': False, 'contains(xml)': False, 'contains(open-source)': False, 'contains(msbuild)': False, 'contains(silverlight)': False, 'contains(automation)': False, 'contains(soap)': False, 'contains(internationalization)': False, 'contains(oracle)': False, 'contains(winapi)': False, 'contains(memory)': False, 'contains(authentication)': False, 'contains(tfs)': False, 'contains(graphics)': False, 'contains(asp.net-ajax)': False, 'contains(version-control)': False, 'contains(design)': False, 'contains(dom)': False, 'contains(stored-procedures)': False, 'contains(eclipse)': False, 'contains(functional-programming)': False, 'contains(performance)': False, 'contains(deployment)': False, 'contains(sql)': False, 'contains(arrays)': False, 'contains(delphi)': False, 'contains(editor)': False, 'contains(linux)': False, 'contains(build-automation)': False, 'contains(sqlite)': False, 'contains(emacs)': False, 'contains(refactoring)': False}\n",
      "correct=sql-server, guess=c#, features={'contains(winforms)': False, 'contains(plugins)': False, 'contains(browser)': False, 'contains(outlook)': False, 'contains(css)': False, 'contains(asp.net-mvc)': False, 'contains(syntax)': False, 'contains(compiler-construction)': False, 'contains(project-management)': False, 'contains(indexing)': False, 'contains(sharepoint)': False, 'contains(unit-testing)': False, 'contains(data-binding)': False, 'contains(asp-classic)': False, 'contains(installer)': False, 'contains(iis)': False, 'contains(build-process)': False, 'contains(bash)': False, 'contains(javascript)': False, 'contains(debugging)': False, 'contains(postgresql)': False, 'contains(svn)': False, 'contains(file)': False, 'contains(firefox)': False, 'contains(jquery)': False, 'contains(shell)': False, 'contains(git)': False, 'contains(templates)': False, 'contains(linq)': False, 'contains(unix)': False, 'contains(language-agnostic)': False, 'contains(django)': False, 'contains(math)': False, 'contains(configuration)': False, 'contains(com)': False, 'contains(objective-c)': False, 'contains(networking)': False, 'contains(caching)': False, 'contains(ms-access)': False, 'contains(java)': False, 'contains(algorithm)': False, 'contains(vb6)': False, 'contains(linq-to-sql)': False, 'contains(actionscript-3)': False, 'contains(flash)': False, 'contains(php)': False, 'contains(http)': False, 'contains(sockets)': False, 'contains(c#)': False, 'contains(multithreading)': False, 'contains(data-structures)': False, 'contains(gcc)': False, 'contains(scripting)': False, 'contains(c)': False, 'contains(tdd)': False, 'contains(database-design)': False, 'contains(filesystems)': False, 'contains(tsql)': False, 'contains(perl)': False, 'contains(macos)': False, 'contains(audio)': False, 'contains(tomcat)': False, 'contains(mysql)': False, 'contains(web-services)': False, 'contains(.net-3.5)': False, 'contains(regex)': False, 'contains(opengl)': False, 'contains(video)': False, 'contains(exception)': False, 'contains(vim)': False, 'contains(user-controls)': False, 'contains(web-applications)': False, 'contains(iphone)': False, 'contains(optimization)': False, 'contains(command-line)': False, 'contains(sql-server)': False, 'contains(python)': False, 'contains(inheritance)': False, 'contains(ssl)': False, 'contains(reporting-services)': False, 'contains(testing)': False, 'contains(flex)': False, 'contains(windows)': False, 'contains(pdf)': False, 'contains(security)': False, 'contains(encryption)': False, 'contains(visual-studio-2008)': False, 'contains(tortoisesvn)': False, 'contains(string)': False, 'contains(ide)': False, 'contains(api)': False, 'contains(datetime)': False, 'contains(reflection)': False, 'contains(collections)': False, 'contains(mfc)': False, 'contains(parsing)': False, 'contains(java-ee)': False, 'contains(ruby)': False, 'contains(ajax)': False, 'contains(serialization)': False, 'contains(installation)': False, 'contains(visual-studio)': False, 'contains(backup)': False, 'contains(html)': False, 'contains(visual-studio-2005)': False, 'contains(c++)': False, 'contains(date)': False, 'contains(architecture)': False, 'contains(excel)': False, 'contains(user-interface)': False, 'contains(events)': False, 'contains(orm)': False, 'contains(asp.net)': False, 'contains(xslt)': False, 'contains(sql-server-2005)': False, 'contains(ruby-on-rails)': False, 'contains(visual-c++)': False, 'contains(search)': False, 'contains(design-patterns)': False, 'contains(cocoa)': False, 'contains(validation)': False, 'contains(powershell)': False, 'contains(image)': False, 'contains(windows-mobile)': False, 'contains(wpf)': False, 'contains(coding-style)': False, 'contains(oop)': False, 'contains(internet-explorer)': False, 'contains(nhibernate)': False, 'contains(database)': False, 'contains(ado.net)': False, 'contains(.net)': False, 'contains(unicode)': False, 'contains(email)': False, 'contains(hibernate)': False, 'contains(apache)': False, 'contains(vb.net)': False, 'contains(model-view-controller)': False, 'contains(windows-xp)': False, 'contains(.net-2.0)': False, 'contains(generics)': False, 'contains(frameworks)': False, 'contains(logging)': False, 'contains(cross-platform)': False, 'contains(windows-vista)': False, 'contains(wcf)': False, 'contains(cruisecontrol.net)': False, 'contains(forms)': False, 'contains(xml)': False, 'contains(open-source)': False, 'contains(msbuild)': False, 'contains(silverlight)': False, 'contains(automation)': False, 'contains(soap)': False, 'contains(internationalization)': False, 'contains(oracle)': False, 'contains(winapi)': False, 'contains(memory)': False, 'contains(authentication)': False, 'contains(tfs)': False, 'contains(graphics)': False, 'contains(asp.net-ajax)': False, 'contains(version-control)': False, 'contains(design)': False, 'contains(dom)': False, 'contains(stored-procedures)': False, 'contains(eclipse)': False, 'contains(functional-programming)': False, 'contains(performance)': False, 'contains(deployment)': False, 'contains(sql)': False, 'contains(arrays)': False, 'contains(delphi)': False, 'contains(editor)': False, 'contains(linux)': False, 'contains(build-automation)': False, 'contains(sqlite)': False, 'contains(emacs)': False, 'contains(refactoring)': False}\n",
      "correct=user-interface, guess=ruby-on-rails, features={'contains(winforms)': False, 'contains(plugins)': False, 'contains(browser)': False, 'contains(outlook)': False, 'contains(css)': False, 'contains(asp.net-mvc)': False, 'contains(syntax)': False, 'contains(compiler-construction)': False, 'contains(project-management)': False, 'contains(indexing)': False, 'contains(sharepoint)': False, 'contains(unit-testing)': False, 'contains(data-binding)': False, 'contains(asp-classic)': False, 'contains(installer)': False, 'contains(iis)': False, 'contains(build-process)': False, 'contains(bash)': False, 'contains(javascript)': False, 'contains(debugging)': False, 'contains(postgresql)': False, 'contains(svn)': False, 'contains(file)': False, 'contains(firefox)': False, 'contains(jquery)': False, 'contains(shell)': False, 'contains(git)': False, 'contains(templates)': False, 'contains(linq)': False, 'contains(unix)': False, 'contains(language-agnostic)': False, 'contains(django)': False, 'contains(math)': False, 'contains(configuration)': False, 'contains(com)': False, 'contains(objective-c)': False, 'contains(networking)': False, 'contains(caching)': False, 'contains(ms-access)': False, 'contains(java)': False, 'contains(algorithm)': False, 'contains(vb6)': False, 'contains(linq-to-sql)': False, 'contains(actionscript-3)': False, 'contains(flash)': False, 'contains(php)': False, 'contains(http)': False, 'contains(sockets)': False, 'contains(c#)': False, 'contains(multithreading)': False, 'contains(data-structures)': False, 'contains(gcc)': False, 'contains(scripting)': False, 'contains(c)': False, 'contains(tdd)': False, 'contains(database-design)': False, 'contains(filesystems)': False, 'contains(tsql)': False, 'contains(perl)': False, 'contains(macos)': False, 'contains(audio)': False, 'contains(tomcat)': False, 'contains(mysql)': False, 'contains(web-services)': False, 'contains(.net-3.5)': False, 'contains(regex)': False, 'contains(opengl)': False, 'contains(video)': False, 'contains(exception)': False, 'contains(vim)': False, 'contains(user-controls)': False, 'contains(web-applications)': False, 'contains(iphone)': False, 'contains(optimization)': False, 'contains(command-line)': False, 'contains(sql-server)': False, 'contains(python)': False, 'contains(inheritance)': False, 'contains(ssl)': False, 'contains(reporting-services)': False, 'contains(testing)': False, 'contains(flex)': False, 'contains(windows)': False, 'contains(pdf)': False, 'contains(security)': False, 'contains(encryption)': False, 'contains(visual-studio-2008)': False, 'contains(tortoisesvn)': False, 'contains(string)': False, 'contains(ide)': False, 'contains(api)': False, 'contains(datetime)': False, 'contains(reflection)': False, 'contains(collections)': False, 'contains(mfc)': False, 'contains(parsing)': False, 'contains(java-ee)': False, 'contains(ruby)': True, 'contains(ajax)': False, 'contains(serialization)': False, 'contains(installation)': False, 'contains(visual-studio)': False, 'contains(backup)': False, 'contains(html)': False, 'contains(visual-studio-2005)': False, 'contains(c++)': False, 'contains(date)': False, 'contains(architecture)': False, 'contains(excel)': False, 'contains(user-interface)': False, 'contains(events)': False, 'contains(orm)': False, 'contains(asp.net)': False, 'contains(xslt)': False, 'contains(sql-server-2005)': False, 'contains(ruby-on-rails)': False, 'contains(visual-c++)': False, 'contains(search)': False, 'contains(design-patterns)': False, 'contains(cocoa)': False, 'contains(validation)': False, 'contains(powershell)': False, 'contains(image)': False, 'contains(windows-mobile)': False, 'contains(wpf)': False, 'contains(coding-style)': False, 'contains(oop)': False, 'contains(internet-explorer)': False, 'contains(nhibernate)': False, 'contains(database)': True, 'contains(ado.net)': False, 'contains(.net)': False, 'contains(unicode)': False, 'contains(email)': False, 'contains(hibernate)': False, 'contains(apache)': False, 'contains(vb.net)': False, 'contains(model-view-controller)': False, 'contains(windows-xp)': False, 'contains(.net-2.0)': False, 'contains(generics)': False, 'contains(frameworks)': False, 'contains(logging)': False, 'contains(cross-platform)': False, 'contains(windows-vista)': False, 'contains(wcf)': False, 'contains(cruisecontrol.net)': False, 'contains(forms)': False, 'contains(xml)': False, 'contains(open-source)': False, 'contains(msbuild)': False, 'contains(silverlight)': False, 'contains(automation)': False, 'contains(soap)': False, 'contains(internationalization)': False, 'contains(oracle)': False, 'contains(winapi)': False, 'contains(memory)': False, 'contains(authentication)': False, 'contains(tfs)': False, 'contains(graphics)': False, 'contains(asp.net-ajax)': False, 'contains(version-control)': False, 'contains(design)': False, 'contains(dom)': False, 'contains(stored-procedures)': False, 'contains(eclipse)': False, 'contains(functional-programming)': False, 'contains(performance)': False, 'contains(deployment)': False, 'contains(sql)': False, 'contains(arrays)': False, 'contains(delphi)': False, 'contains(editor)': False, 'contains(linux)': False, 'contains(build-automation)': False, 'contains(sqlite)': False, 'contains(emacs)': False, 'contains(refactoring)': False}\n",
      "correct=javascript, guess=c#, features={'contains(winforms)': False, 'contains(plugins)': False, 'contains(browser)': False, 'contains(outlook)': False, 'contains(css)': False, 'contains(asp.net-mvc)': False, 'contains(syntax)': False, 'contains(compiler-construction)': False, 'contains(project-management)': False, 'contains(indexing)': False, 'contains(sharepoint)': False, 'contains(unit-testing)': False, 'contains(data-binding)': False, 'contains(asp-classic)': False, 'contains(installer)': False, 'contains(iis)': False, 'contains(build-process)': False, 'contains(bash)': False, 'contains(javascript)': False, 'contains(debugging)': False, 'contains(postgresql)': False, 'contains(svn)': False, 'contains(file)': False, 'contains(firefox)': False, 'contains(jquery)': False, 'contains(shell)': False, 'contains(git)': False, 'contains(templates)': False, 'contains(linq)': False, 'contains(unix)': False, 'contains(language-agnostic)': False, 'contains(django)': False, 'contains(math)': False, 'contains(configuration)': False, 'contains(com)': False, 'contains(objective-c)': False, 'contains(networking)': False, 'contains(caching)': False, 'contains(ms-access)': False, 'contains(java)': False, 'contains(algorithm)': False, 'contains(vb6)': False, 'contains(linq-to-sql)': False, 'contains(actionscript-3)': False, 'contains(flash)': False, 'contains(php)': False, 'contains(http)': False, 'contains(sockets)': False, 'contains(c#)': False, 'contains(multithreading)': False, 'contains(data-structures)': False, 'contains(gcc)': False, 'contains(scripting)': False, 'contains(c)': False, 'contains(tdd)': False, 'contains(database-design)': False, 'contains(filesystems)': False, 'contains(tsql)': False, 'contains(perl)': False, 'contains(macos)': False, 'contains(audio)': False, 'contains(tomcat)': False, 'contains(mysql)': False, 'contains(web-services)': False, 'contains(.net-3.5)': False, 'contains(regex)': False, 'contains(opengl)': False, 'contains(video)': False, 'contains(exception)': False, 'contains(vim)': False, 'contains(user-controls)': False, 'contains(web-applications)': False, 'contains(iphone)': False, 'contains(optimization)': False, 'contains(command-line)': False, 'contains(sql-server)': False, 'contains(python)': False, 'contains(inheritance)': False, 'contains(ssl)': False, 'contains(reporting-services)': False, 'contains(testing)': False, 'contains(flex)': False, 'contains(windows)': False, 'contains(pdf)': False, 'contains(security)': False, 'contains(encryption)': False, 'contains(visual-studio-2008)': False, 'contains(tortoisesvn)': False, 'contains(string)': False, 'contains(ide)': False, 'contains(api)': False, 'contains(datetime)': False, 'contains(reflection)': False, 'contains(collections)': False, 'contains(mfc)': False, 'contains(parsing)': False, 'contains(java-ee)': False, 'contains(ruby)': False, 'contains(ajax)': False, 'contains(serialization)': False, 'contains(installation)': False, 'contains(visual-studio)': False, 'contains(backup)': False, 'contains(html)': False, 'contains(visual-studio-2005)': False, 'contains(c++)': False, 'contains(date)': False, 'contains(architecture)': False, 'contains(excel)': False, 'contains(user-interface)': False, 'contains(events)': False, 'contains(orm)': False, 'contains(asp.net)': False, 'contains(xslt)': False, 'contains(sql-server-2005)': False, 'contains(ruby-on-rails)': False, 'contains(visual-c++)': False, 'contains(search)': False, 'contains(design-patterns)': False, 'contains(cocoa)': False, 'contains(validation)': False, 'contains(powershell)': False, 'contains(image)': False, 'contains(windows-mobile)': False, 'contains(wpf)': False, 'contains(coding-style)': False, 'contains(oop)': False, 'contains(internet-explorer)': False, 'contains(nhibernate)': False, 'contains(database)': False, 'contains(ado.net)': False, 'contains(.net)': False, 'contains(unicode)': False, 'contains(email)': False, 'contains(hibernate)': False, 'contains(apache)': False, 'contains(vb.net)': False, 'contains(model-view-controller)': False, 'contains(windows-xp)': False, 'contains(.net-2.0)': False, 'contains(generics)': False, 'contains(frameworks)': False, 'contains(logging)': False, 'contains(cross-platform)': False, 'contains(windows-vista)': False, 'contains(wcf)': False, 'contains(cruisecontrol.net)': False, 'contains(forms)': False, 'contains(xml)': False, 'contains(open-source)': False, 'contains(msbuild)': False, 'contains(silverlight)': False, 'contains(automation)': False, 'contains(soap)': False, 'contains(internationalization)': False, 'contains(oracle)': False, 'contains(winapi)': False, 'contains(memory)': False, 'contains(authentication)': False, 'contains(tfs)': False, 'contains(graphics)': False, 'contains(asp.net-ajax)': False, 'contains(version-control)': False, 'contains(design)': False, 'contains(dom)': False, 'contains(stored-procedures)': False, 'contains(eclipse)': False, 'contains(functional-programming)': False, 'contains(performance)': False, 'contains(deployment)': False, 'contains(sql)': False, 'contains(arrays)': False, 'contains(delphi)': False, 'contains(editor)': False, 'contains(linux)': False, 'contains(build-automation)': False, 'contains(sqlite)': False, 'contains(emacs)': False, 'contains(refactoring)': False}\n",
      "correct=linq-to-sql, guess=c#, features={'contains(winforms)': False, 'contains(plugins)': False, 'contains(browser)': False, 'contains(outlook)': False, 'contains(css)': False, 'contains(asp.net-mvc)': False, 'contains(syntax)': False, 'contains(compiler-construction)': False, 'contains(project-management)': False, 'contains(indexing)': False, 'contains(sharepoint)': False, 'contains(unit-testing)': False, 'contains(data-binding)': False, 'contains(asp-classic)': False, 'contains(installer)': False, 'contains(iis)': False, 'contains(build-process)': False, 'contains(bash)': False, 'contains(javascript)': False, 'contains(debugging)': False, 'contains(postgresql)': False, 'contains(svn)': False, 'contains(file)': False, 'contains(firefox)': False, 'contains(jquery)': False, 'contains(shell)': False, 'contains(git)': False, 'contains(templates)': False, 'contains(linq)': False, 'contains(unix)': False, 'contains(language-agnostic)': False, 'contains(django)': False, 'contains(math)': False, 'contains(configuration)': False, 'contains(com)': False, 'contains(objective-c)': False, 'contains(networking)': False, 'contains(caching)': False, 'contains(ms-access)': False, 'contains(java)': False, 'contains(algorithm)': False, 'contains(vb6)': False, 'contains(linq-to-sql)': False, 'contains(actionscript-3)': False, 'contains(flash)': False, 'contains(php)': False, 'contains(http)': False, 'contains(sockets)': False, 'contains(c#)': False, 'contains(multithreading)': False, 'contains(data-structures)': False, 'contains(gcc)': False, 'contains(scripting)': False, 'contains(c)': False, 'contains(tdd)': False, 'contains(database-design)': False, 'contains(filesystems)': False, 'contains(tsql)': False, 'contains(perl)': False, 'contains(macos)': False, 'contains(audio)': False, 'contains(tomcat)': False, 'contains(mysql)': False, 'contains(web-services)': False, 'contains(.net-3.5)': False, 'contains(regex)': False, 'contains(opengl)': False, 'contains(video)': False, 'contains(exception)': False, 'contains(vim)': False, 'contains(user-controls)': False, 'contains(web-applications)': False, 'contains(iphone)': False, 'contains(optimization)': False, 'contains(command-line)': False, 'contains(sql-server)': False, 'contains(python)': False, 'contains(inheritance)': False, 'contains(ssl)': False, 'contains(reporting-services)': False, 'contains(testing)': False, 'contains(flex)': False, 'contains(windows)': False, 'contains(pdf)': False, 'contains(security)': False, 'contains(encryption)': False, 'contains(visual-studio-2008)': False, 'contains(tortoisesvn)': False, 'contains(string)': False, 'contains(ide)': False, 'contains(api)': False, 'contains(datetime)': False, 'contains(reflection)': False, 'contains(collections)': False, 'contains(mfc)': False, 'contains(parsing)': False, 'contains(java-ee)': False, 'contains(ruby)': False, 'contains(ajax)': False, 'contains(serialization)': False, 'contains(installation)': False, 'contains(visual-studio)': False, 'contains(backup)': False, 'contains(html)': False, 'contains(visual-studio-2005)': False, 'contains(c++)': False, 'contains(date)': False, 'contains(architecture)': False, 'contains(excel)': False, 'contains(user-interface)': False, 'contains(events)': False, 'contains(orm)': False, 'contains(asp.net)': False, 'contains(xslt)': False, 'contains(sql-server-2005)': False, 'contains(ruby-on-rails)': False, 'contains(visual-c++)': False, 'contains(search)': False, 'contains(design-patterns)': False, 'contains(cocoa)': False, 'contains(validation)': False, 'contains(powershell)': False, 'contains(image)': False, 'contains(windows-mobile)': False, 'contains(wpf)': False, 'contains(coding-style)': False, 'contains(oop)': False, 'contains(internet-explorer)': False, 'contains(nhibernate)': False, 'contains(database)': False, 'contains(ado.net)': False, 'contains(.net)': False, 'contains(unicode)': False, 'contains(email)': False, 'contains(hibernate)': False, 'contains(apache)': False, 'contains(vb.net)': False, 'contains(model-view-controller)': False, 'contains(windows-xp)': False, 'contains(.net-2.0)': False, 'contains(generics)': False, 'contains(frameworks)': False, 'contains(logging)': False, 'contains(cross-platform)': False, 'contains(windows-vista)': False, 'contains(wcf)': False, 'contains(cruisecontrol.net)': False, 'contains(forms)': False, 'contains(xml)': False, 'contains(open-source)': False, 'contains(msbuild)': False, 'contains(silverlight)': False, 'contains(automation)': False, 'contains(soap)': False, 'contains(internationalization)': False, 'contains(oracle)': False, 'contains(winapi)': False, 'contains(memory)': False, 'contains(authentication)': False, 'contains(tfs)': False, 'contains(graphics)': False, 'contains(asp.net-ajax)': False, 'contains(version-control)': False, 'contains(design)': False, 'contains(dom)': False, 'contains(stored-procedures)': False, 'contains(eclipse)': False, 'contains(functional-programming)': False, 'contains(performance)': False, 'contains(deployment)': False, 'contains(sql)': False, 'contains(arrays)': False, 'contains(delphi)': False, 'contains(editor)': False, 'contains(linux)': False, 'contains(build-automation)': False, 'contains(sqlite)': False, 'contains(emacs)': False, 'contains(refactoring)': False}\n"
     ]
    }
   ],
   "source": [
    "# display error guesses\n",
    "for (tag, guess, features) in errors_body[:10]:\n",
    "    #print(tag, guess, features)\n",
    "    print('correct={:}, guess={:}, features={:}'.format(tag, guess, features))"
   ]
  },
  {
   "cell_type": "markdown",
   "metadata": {},
   "source": [
    "__Observation__:\n",
    "- some guesses are very close to the correct ones, such as correct=testing, guess=unit-testing, or correct=.net, guess=vb.net\n",
    "- errors are more often commited when all the word features are false... (a more detailed look has to be done)"
   ]
  },
  {
   "cell_type": "markdown",
   "metadata": {},
   "source": [
    "### Generation of test featureset"
   ]
  },
  {
   "cell_type": "code",
   "execution_count": 366,
   "metadata": {
    "collapsed": true
   },
   "outputs": [],
   "source": [
    "test_body = []\n",
    "\n",
    "for index, row in test_set_body.iterrows():\n",
    "    for key in row.elkey:\n",
    "        #sorted_elvalue = sorted(\n",
    "        #    FreqDist(row.elvalue).items(), key=itemgetter(1), reverse=True)\n",
    "        #fd_elvalue =  FreqDist(row.elvalue)\n",
    "        #existing_keywords = {i:fd_elvalue[i] for i in set(fd_elvalue.keys()).intersection(most_frequent_words[key])}\n",
    "        #pdb.set_trace()\n",
    "        #featuresets.append((dict(sorted_elvalue), key))    \n",
    "        #featuresets.append(({i:True for i in row.elvalue},key))\n",
    "        test_body.append((featuregenerator(row.elvalue, corpus_dict_tags), key))"
   ]
  },
  {
   "cell_type": "markdown",
   "metadata": {},
   "source": [
    "### Scoring"
   ]
  },
  {
   "cell_type": "code",
   "execution_count": 367,
   "metadata": {},
   "outputs": [
    {
     "name": "stdout",
     "output_type": "stream",
     "text": [
      "Train/test_score:\n",
      "Train score(accuracy): 0.25\n",
      "Crossval score(accuracy): 0.20\n",
      "Test score(accuracy): 0.22\n"
     ]
    }
   ],
   "source": [
    "from nltk.classify import accuracy\n",
    "train_score_body = accuracy(classifier, train_body)\n",
    "crossval_score_body = accuracy(classifier, crossval_body)\n",
    "test_score_body = accuracy(classifier, test_body)\n",
    "\n",
    "print(\"Train/test_score:\")\n",
    "print(\"Train score(accuracy): %.2f\" % train_score_body)\n",
    "print(\"Crossval score(accuracy): %.2f\" % crossval_score_body)\n",
    "print(\"Test score(accuracy): %.2f\" % test_score_body)"
   ]
  },
  {
   "cell_type": "code",
   "execution_count": 368,
   "metadata": {},
   "outputs": [
    {
     "name": "stdout",
     "output_type": "stream",
     "text": [
      "Most Informative Features\n",
      "         contains(video) = True            video : c#     =    440.4 : 1.0\n",
      "    contains(powershell) = True           powers : .net   =    394.7 : 1.0\n",
      "        contains(apache) = True           apache : c#     =    359.0 : 1.0\n",
      "   contains(tortoisesvn) = True           tortoi : .net   =    354.7 : 1.0\n",
      "    contains(sharepoint) = True           sharep : c#     =    336.9 : 1.0\n",
      "     contains(hibernate) = True           hibern : .net   =    330.7 : 1.0\n",
      "        contains(delphi) = True           delphi : .net   =    322.8 : 1.0\n",
      "        contains(jquery) = True           jquery : .net   =    312.8 : 1.0\n",
      "        contains(backup) = True           backup : c#     =    295.1 : 1.0\n",
      "           contains(pdf) = True              pdf : c#     =    271.6 : 1.0\n"
     ]
    }
   ],
   "source": [
    "classifier.show_most_informative_features()"
   ]
  },
  {
   "cell_type": "markdown",
   "metadata": {},
   "source": [
    "__Observation__:\n",
    "- Train/test score are rather low, we can try to include title in hope of improving the prediction."
   ]
  },
  {
   "cell_type": "markdown",
   "metadata": {},
   "source": [
    "## Use body + title\n",
    "### Feature engineering\n",
    "- include all freqdist(tokens) from the title when available directly into the featuresets"
   ]
  },
  {
   "cell_type": "code",
   "execution_count": 369,
   "metadata": {},
   "outputs": [],
   "source": [
    "# train crossval set\n",
    "train_featuresets_body_title = []\n",
    "#n_words = 10\n",
    "for index, row in train_crossval_set_body.iterrows():\n",
    "    for key in row.elkey:\n",
    "        #sorted_elvalue = sorted(\n",
    "        #    FreqDist(row.elvalue).items(), key=itemgetter(1), reverse=True)\n",
    "        #fd_elvalue =  FreqDist(row.elvalue)\n",
    "        #existing_keywords = {i:fd_elvalue[i] for i in set(fd_elvalue.keys()).intersection(most_frequent_words[key])}\n",
    "        #pdb.set_trace()\n",
    "        #featuresets.append((dict(sorted_elvalue), key))\n",
    "        #featuresets.append(({i:True for i in row.elvalue},key))\n",
    "        train_featuresets_body_title.append((featuregenerator(\n",
    "            row.elvalue + df_tags_title.loc[index].elvalue, corpus_dict_tags),\n",
    "                                             key))"
   ]
  },
  {
   "cell_type": "markdown",
   "metadata": {},
   "source": [
    "### Train/crossval/test split"
   ]
  },
  {
   "cell_type": "code",
   "execution_count": 370,
   "metadata": {
    "collapsed": true
   },
   "outputs": [],
   "source": [
    "random.seed(32)\n",
    "shuffled_train_featuresets_body_title = random.sample(train_featuresets_body_title, len(train_featuresets_body_title))\n",
    "train_size = int(0.8 * len(shuffled_train_featuresets_body_title))\n",
    "\n",
    "train_body_title = shuffled_train_featuresets_body_title[:train_size]\n",
    "crossval_body_title = shuffled_train_featuresets_body_title[train_size:]"
   ]
  },
  {
   "cell_type": "markdown",
   "metadata": {},
   "source": [
    "### Training"
   ]
  },
  {
   "cell_type": "code",
   "execution_count": 371,
   "metadata": {
    "collapsed": true
   },
   "outputs": [],
   "source": [
    "from nltk import NaiveBayesClassifier\n",
    "\n",
    "classifier_body_title = NaiveBayesClassifier.train(train_body_title)"
   ]
  },
  {
   "cell_type": "markdown",
   "metadata": {},
   "source": [
    "### Cross validation"
   ]
  },
  {
   "cell_type": "code",
   "execution_count": 372,
   "metadata": {},
   "outputs": [],
   "source": [
    "# identify error guesses\n",
    "errors_body_title  = []\n",
    "for (features, tag) in crossval_body_title:\n",
    "    guess = classifier_body_title.classify(features)\n",
    "    if guess != tag:\n",
    "        errors_body_title.append( (tag, guess, features) )"
   ]
  },
  {
   "cell_type": "code",
   "execution_count": 373,
   "metadata": {},
   "outputs": [
    {
     "name": "stdout",
     "output_type": "stream",
     "text": [
      "correct=outlook, guess=windows, features=['contains(winforms)', 'contains(plugins)', 'contains(browser)', 'contains(outlook)', 'contains(css)', 'contains(asp.net-mvc)', 'contains(syntax)', 'contains(compiler-construction)', 'contains(project-management)', 'contains(indexing)', 'contains(sharepoint)', 'contains(unit-testing)', 'contains(data-binding)', 'contains(asp-classic)', 'contains(installer)', 'contains(iis)', 'contains(build-process)', 'contains(bash)', 'contains(javascript)', 'contains(debugging)', 'contains(postgresql)', 'contains(svn)', 'contains(file)', 'contains(firefox)', 'contains(jquery)', 'contains(shell)', 'contains(git)', 'contains(templates)', 'contains(linq)', 'contains(unix)', 'contains(language-agnostic)', 'contains(django)', 'contains(math)', 'contains(configuration)', 'contains(com)', 'contains(objective-c)', 'contains(networking)', 'contains(caching)', 'contains(ms-access)', 'contains(java)', 'contains(algorithm)', 'contains(vb6)', 'contains(linq-to-sql)', 'contains(actionscript-3)', 'contains(flash)', 'contains(php)', 'contains(http)', 'contains(sockets)', 'contains(c#)', 'contains(multithreading)', 'contains(data-structures)', 'contains(gcc)', 'contains(scripting)', 'contains(c)', 'contains(tdd)', 'contains(database-design)', 'contains(filesystems)', 'contains(tsql)', 'contains(perl)', 'contains(macos)', 'contains(audio)', 'contains(tomcat)', 'contains(mysql)', 'contains(web-services)', 'contains(.net-3.5)', 'contains(regex)', 'contains(opengl)', 'contains(video)', 'contains(exception)', 'contains(vim)', 'contains(user-controls)', 'contains(web-applications)', 'contains(iphone)', 'contains(optimization)', 'contains(command-line)', 'contains(sql-server)', 'contains(python)', 'contains(inheritance)', 'contains(ssl)', 'contains(reporting-services)', 'contains(testing)', 'contains(flex)', 'contains(windows)', 'contains(pdf)', 'contains(security)', 'contains(encryption)', 'contains(visual-studio-2008)', 'contains(tortoisesvn)', 'contains(string)', 'contains(ide)', 'contains(api)', 'contains(datetime)', 'contains(reflection)', 'contains(collections)', 'contains(mfc)', 'contains(parsing)', 'contains(java-ee)', 'contains(ruby)', 'contains(ajax)', 'contains(serialization)', 'contains(installation)', 'contains(visual-studio)', 'contains(backup)', 'contains(html)', 'contains(visual-studio-2005)', 'contains(c++)', 'contains(date)', 'contains(architecture)', 'contains(excel)', 'contains(user-interface)', 'contains(events)', 'contains(orm)', 'contains(asp.net)', 'contains(xslt)', 'contains(sql-server-2005)', 'contains(ruby-on-rails)', 'contains(visual-c++)', 'contains(search)', 'contains(design-patterns)', 'contains(cocoa)', 'contains(validation)', 'contains(powershell)', 'contains(image)', 'contains(windows-mobile)', 'contains(wpf)', 'contains(coding-style)', 'contains(oop)', 'contains(internet-explorer)', 'contains(nhibernate)', 'contains(database)', 'contains(ado.net)', 'contains(.net)', 'contains(unicode)', 'contains(email)', 'contains(hibernate)', 'contains(apache)', 'contains(vb.net)', 'contains(model-view-controller)', 'contains(windows-xp)', 'contains(.net-2.0)', 'contains(generics)', 'contains(frameworks)', 'contains(logging)', 'contains(cross-platform)', 'contains(windows-vista)', 'contains(wcf)', 'contains(cruisecontrol.net)', 'contains(forms)', 'contains(xml)', 'contains(open-source)', 'contains(msbuild)', 'contains(silverlight)', 'contains(automation)', 'contains(soap)', 'contains(internationalization)', 'contains(oracle)', 'contains(winapi)', 'contains(memory)', 'contains(authentication)', 'contains(tfs)', 'contains(graphics)', 'contains(asp.net-ajax)', 'contains(version-control)', 'contains(design)', 'contains(dom)', 'contains(stored-procedures)', 'contains(eclipse)', 'contains(functional-programming)', 'contains(performance)', 'contains(deployment)', 'contains(sql)', 'contains(arrays)', 'contains(delphi)', 'contains(editor)', 'contains(linux)', 'contains(build-automation)', 'contains(sqlite)', 'contains(emacs)', 'contains(refactoring)']\n",
      "correct=ajax, guess=javascript, features=['contains(winforms)', 'contains(plugins)', 'contains(browser)', 'contains(outlook)', 'contains(css)', 'contains(asp.net-mvc)', 'contains(syntax)', 'contains(compiler-construction)', 'contains(project-management)', 'contains(indexing)', 'contains(sharepoint)', 'contains(unit-testing)', 'contains(data-binding)', 'contains(asp-classic)', 'contains(installer)', 'contains(iis)', 'contains(build-process)', 'contains(bash)', 'contains(javascript)', 'contains(debugging)', 'contains(postgresql)', 'contains(svn)', 'contains(file)', 'contains(firefox)', 'contains(jquery)', 'contains(shell)', 'contains(git)', 'contains(templates)', 'contains(linq)', 'contains(unix)', 'contains(language-agnostic)', 'contains(django)', 'contains(math)', 'contains(configuration)', 'contains(com)', 'contains(objective-c)', 'contains(networking)', 'contains(caching)', 'contains(ms-access)', 'contains(java)', 'contains(algorithm)', 'contains(vb6)', 'contains(linq-to-sql)', 'contains(actionscript-3)', 'contains(flash)', 'contains(php)', 'contains(http)', 'contains(sockets)', 'contains(c#)', 'contains(multithreading)', 'contains(data-structures)', 'contains(gcc)', 'contains(scripting)', 'contains(c)', 'contains(tdd)', 'contains(database-design)', 'contains(filesystems)', 'contains(tsql)', 'contains(perl)', 'contains(macos)', 'contains(audio)', 'contains(tomcat)', 'contains(mysql)', 'contains(web-services)', 'contains(.net-3.5)', 'contains(regex)', 'contains(opengl)', 'contains(video)', 'contains(exception)', 'contains(vim)', 'contains(user-controls)', 'contains(web-applications)', 'contains(iphone)', 'contains(optimization)', 'contains(command-line)', 'contains(sql-server)', 'contains(python)', 'contains(inheritance)', 'contains(ssl)', 'contains(reporting-services)', 'contains(testing)', 'contains(flex)', 'contains(windows)', 'contains(pdf)', 'contains(security)', 'contains(encryption)', 'contains(visual-studio-2008)', 'contains(tortoisesvn)', 'contains(string)', 'contains(ide)', 'contains(api)', 'contains(datetime)', 'contains(reflection)', 'contains(collections)', 'contains(mfc)', 'contains(parsing)', 'contains(java-ee)', 'contains(ruby)', 'contains(ajax)', 'contains(serialization)', 'contains(installation)', 'contains(visual-studio)', 'contains(backup)', 'contains(html)', 'contains(visual-studio-2005)', 'contains(c++)', 'contains(date)', 'contains(architecture)', 'contains(excel)', 'contains(user-interface)', 'contains(events)', 'contains(orm)', 'contains(asp.net)', 'contains(xslt)', 'contains(sql-server-2005)', 'contains(ruby-on-rails)', 'contains(visual-c++)', 'contains(search)', 'contains(design-patterns)', 'contains(cocoa)', 'contains(validation)', 'contains(powershell)', 'contains(image)', 'contains(windows-mobile)', 'contains(wpf)', 'contains(coding-style)', 'contains(oop)', 'contains(internet-explorer)', 'contains(nhibernate)', 'contains(database)', 'contains(ado.net)', 'contains(.net)', 'contains(unicode)', 'contains(email)', 'contains(hibernate)', 'contains(apache)', 'contains(vb.net)', 'contains(model-view-controller)', 'contains(windows-xp)', 'contains(.net-2.0)', 'contains(generics)', 'contains(frameworks)', 'contains(logging)', 'contains(cross-platform)', 'contains(windows-vista)', 'contains(wcf)', 'contains(cruisecontrol.net)', 'contains(forms)', 'contains(xml)', 'contains(open-source)', 'contains(msbuild)', 'contains(silverlight)', 'contains(automation)', 'contains(soap)', 'contains(internationalization)', 'contains(oracle)', 'contains(winapi)', 'contains(memory)', 'contains(authentication)', 'contains(tfs)', 'contains(graphics)', 'contains(asp.net-ajax)', 'contains(version-control)', 'contains(design)', 'contains(dom)', 'contains(stored-procedures)', 'contains(eclipse)', 'contains(functional-programming)', 'contains(performance)', 'contains(deployment)', 'contains(sql)', 'contains(arrays)', 'contains(delphi)', 'contains(editor)', 'contains(linux)', 'contains(build-automation)', 'contains(sqlite)', 'contains(emacs)', 'contains(refactoring)']\n",
      "correct=testing, guess=.net, features=['contains(winforms)', 'contains(plugins)', 'contains(browser)', 'contains(outlook)', 'contains(css)', 'contains(asp.net-mvc)', 'contains(syntax)', 'contains(compiler-construction)', 'contains(project-management)', 'contains(indexing)', 'contains(sharepoint)', 'contains(unit-testing)', 'contains(data-binding)', 'contains(asp-classic)', 'contains(installer)', 'contains(iis)', 'contains(build-process)', 'contains(bash)', 'contains(javascript)', 'contains(debugging)', 'contains(postgresql)', 'contains(svn)', 'contains(file)', 'contains(firefox)', 'contains(jquery)', 'contains(shell)', 'contains(git)', 'contains(templates)', 'contains(linq)', 'contains(unix)', 'contains(language-agnostic)', 'contains(django)', 'contains(math)', 'contains(configuration)', 'contains(com)', 'contains(objective-c)', 'contains(networking)', 'contains(caching)', 'contains(ms-access)', 'contains(java)', 'contains(algorithm)', 'contains(vb6)', 'contains(linq-to-sql)', 'contains(actionscript-3)', 'contains(flash)', 'contains(php)', 'contains(http)', 'contains(sockets)', 'contains(c#)', 'contains(multithreading)', 'contains(data-structures)', 'contains(gcc)', 'contains(scripting)', 'contains(c)', 'contains(tdd)', 'contains(database-design)', 'contains(filesystems)', 'contains(tsql)', 'contains(perl)', 'contains(macos)', 'contains(audio)', 'contains(tomcat)', 'contains(mysql)', 'contains(web-services)', 'contains(.net-3.5)', 'contains(regex)', 'contains(opengl)', 'contains(video)', 'contains(exception)', 'contains(vim)', 'contains(user-controls)', 'contains(web-applications)', 'contains(iphone)', 'contains(optimization)', 'contains(command-line)', 'contains(sql-server)', 'contains(python)', 'contains(inheritance)', 'contains(ssl)', 'contains(reporting-services)', 'contains(testing)', 'contains(flex)', 'contains(windows)', 'contains(pdf)', 'contains(security)', 'contains(encryption)', 'contains(visual-studio-2008)', 'contains(tortoisesvn)', 'contains(string)', 'contains(ide)', 'contains(api)', 'contains(datetime)', 'contains(reflection)', 'contains(collections)', 'contains(mfc)', 'contains(parsing)', 'contains(java-ee)', 'contains(ruby)', 'contains(ajax)', 'contains(serialization)', 'contains(installation)', 'contains(visual-studio)', 'contains(backup)', 'contains(html)', 'contains(visual-studio-2005)', 'contains(c++)', 'contains(date)', 'contains(architecture)', 'contains(excel)', 'contains(user-interface)', 'contains(events)', 'contains(orm)', 'contains(asp.net)', 'contains(xslt)', 'contains(sql-server-2005)', 'contains(ruby-on-rails)', 'contains(visual-c++)', 'contains(search)', 'contains(design-patterns)', 'contains(cocoa)', 'contains(validation)', 'contains(powershell)', 'contains(image)', 'contains(windows-mobile)', 'contains(wpf)', 'contains(coding-style)', 'contains(oop)', 'contains(internet-explorer)', 'contains(nhibernate)', 'contains(database)', 'contains(ado.net)', 'contains(.net)', 'contains(unicode)', 'contains(email)', 'contains(hibernate)', 'contains(apache)', 'contains(vb.net)', 'contains(model-view-controller)', 'contains(windows-xp)', 'contains(.net-2.0)', 'contains(generics)', 'contains(frameworks)', 'contains(logging)', 'contains(cross-platform)', 'contains(windows-vista)', 'contains(wcf)', 'contains(cruisecontrol.net)', 'contains(forms)', 'contains(xml)', 'contains(open-source)', 'contains(msbuild)', 'contains(silverlight)', 'contains(automation)', 'contains(soap)', 'contains(internationalization)', 'contains(oracle)', 'contains(winapi)', 'contains(memory)', 'contains(authentication)', 'contains(tfs)', 'contains(graphics)', 'contains(asp.net-ajax)', 'contains(version-control)', 'contains(design)', 'contains(dom)', 'contains(stored-procedures)', 'contains(eclipse)', 'contains(functional-programming)', 'contains(performance)', 'contains(deployment)', 'contains(sql)', 'contains(arrays)', 'contains(delphi)', 'contains(editor)', 'contains(linux)', 'contains(build-automation)', 'contains(sqlite)', 'contains(emacs)', 'contains(refactoring)']\n",
      "correct=.net, guess=vb.net, features=['contains(winforms)', 'contains(plugins)', 'contains(browser)', 'contains(outlook)', 'contains(css)', 'contains(asp.net-mvc)', 'contains(syntax)', 'contains(compiler-construction)', 'contains(project-management)', 'contains(indexing)', 'contains(sharepoint)', 'contains(unit-testing)', 'contains(data-binding)', 'contains(asp-classic)', 'contains(installer)', 'contains(iis)', 'contains(build-process)', 'contains(bash)', 'contains(javascript)', 'contains(debugging)', 'contains(postgresql)', 'contains(svn)', 'contains(file)', 'contains(firefox)', 'contains(jquery)', 'contains(shell)', 'contains(git)', 'contains(templates)', 'contains(linq)', 'contains(unix)', 'contains(language-agnostic)', 'contains(django)', 'contains(math)', 'contains(configuration)', 'contains(com)', 'contains(objective-c)', 'contains(networking)', 'contains(caching)', 'contains(ms-access)', 'contains(java)', 'contains(algorithm)', 'contains(vb6)', 'contains(linq-to-sql)', 'contains(actionscript-3)', 'contains(flash)', 'contains(php)', 'contains(http)', 'contains(sockets)', 'contains(c#)', 'contains(multithreading)', 'contains(data-structures)', 'contains(gcc)', 'contains(scripting)', 'contains(c)', 'contains(tdd)', 'contains(database-design)', 'contains(filesystems)', 'contains(tsql)', 'contains(perl)', 'contains(macos)', 'contains(audio)', 'contains(tomcat)', 'contains(mysql)', 'contains(web-services)', 'contains(.net-3.5)', 'contains(regex)', 'contains(opengl)', 'contains(video)', 'contains(exception)', 'contains(vim)', 'contains(user-controls)', 'contains(web-applications)', 'contains(iphone)', 'contains(optimization)', 'contains(command-line)', 'contains(sql-server)', 'contains(python)', 'contains(inheritance)', 'contains(ssl)', 'contains(reporting-services)', 'contains(testing)', 'contains(flex)', 'contains(windows)', 'contains(pdf)', 'contains(security)', 'contains(encryption)', 'contains(visual-studio-2008)', 'contains(tortoisesvn)', 'contains(string)', 'contains(ide)', 'contains(api)', 'contains(datetime)', 'contains(reflection)', 'contains(collections)', 'contains(mfc)', 'contains(parsing)', 'contains(java-ee)', 'contains(ruby)', 'contains(ajax)', 'contains(serialization)', 'contains(installation)', 'contains(visual-studio)', 'contains(backup)', 'contains(html)', 'contains(visual-studio-2005)', 'contains(c++)', 'contains(date)', 'contains(architecture)', 'contains(excel)', 'contains(user-interface)', 'contains(events)', 'contains(orm)', 'contains(asp.net)', 'contains(xslt)', 'contains(sql-server-2005)', 'contains(ruby-on-rails)', 'contains(visual-c++)', 'contains(search)', 'contains(design-patterns)', 'contains(cocoa)', 'contains(validation)', 'contains(powershell)', 'contains(image)', 'contains(windows-mobile)', 'contains(wpf)', 'contains(coding-style)', 'contains(oop)', 'contains(internet-explorer)', 'contains(nhibernate)', 'contains(database)', 'contains(ado.net)', 'contains(.net)', 'contains(unicode)', 'contains(email)', 'contains(hibernate)', 'contains(apache)', 'contains(vb.net)', 'contains(model-view-controller)', 'contains(windows-xp)', 'contains(.net-2.0)', 'contains(generics)', 'contains(frameworks)', 'contains(logging)', 'contains(cross-platform)', 'contains(windows-vista)', 'contains(wcf)', 'contains(cruisecontrol.net)', 'contains(forms)', 'contains(xml)', 'contains(open-source)', 'contains(msbuild)', 'contains(silverlight)', 'contains(automation)', 'contains(soap)', 'contains(internationalization)', 'contains(oracle)', 'contains(winapi)', 'contains(memory)', 'contains(authentication)', 'contains(tfs)', 'contains(graphics)', 'contains(asp.net-ajax)', 'contains(version-control)', 'contains(design)', 'contains(dom)', 'contains(stored-procedures)', 'contains(eclipse)', 'contains(functional-programming)', 'contains(performance)', 'contains(deployment)', 'contains(sql)', 'contains(arrays)', 'contains(delphi)', 'contains(editor)', 'contains(linux)', 'contains(build-automation)', 'contains(sqlite)', 'contains(emacs)', 'contains(refactoring)']\n",
      "correct=optimization, guess=sql, features=['contains(winforms)', 'contains(plugins)', 'contains(browser)', 'contains(outlook)', 'contains(css)', 'contains(asp.net-mvc)', 'contains(syntax)', 'contains(compiler-construction)', 'contains(project-management)', 'contains(indexing)', 'contains(sharepoint)', 'contains(unit-testing)', 'contains(data-binding)', 'contains(asp-classic)', 'contains(installer)', 'contains(iis)', 'contains(build-process)', 'contains(bash)', 'contains(javascript)', 'contains(debugging)', 'contains(postgresql)', 'contains(svn)', 'contains(file)', 'contains(firefox)', 'contains(jquery)', 'contains(shell)', 'contains(git)', 'contains(templates)', 'contains(linq)', 'contains(unix)', 'contains(language-agnostic)', 'contains(django)', 'contains(math)', 'contains(configuration)', 'contains(com)', 'contains(objective-c)', 'contains(networking)', 'contains(caching)', 'contains(ms-access)', 'contains(java)', 'contains(algorithm)', 'contains(vb6)', 'contains(linq-to-sql)', 'contains(actionscript-3)', 'contains(flash)', 'contains(php)', 'contains(http)', 'contains(sockets)', 'contains(c#)', 'contains(multithreading)', 'contains(data-structures)', 'contains(gcc)', 'contains(scripting)', 'contains(c)', 'contains(tdd)', 'contains(database-design)', 'contains(filesystems)', 'contains(tsql)', 'contains(perl)', 'contains(macos)', 'contains(audio)', 'contains(tomcat)', 'contains(mysql)', 'contains(web-services)', 'contains(.net-3.5)', 'contains(regex)', 'contains(opengl)', 'contains(video)', 'contains(exception)', 'contains(vim)', 'contains(user-controls)', 'contains(web-applications)', 'contains(iphone)', 'contains(optimization)', 'contains(command-line)', 'contains(sql-server)', 'contains(python)', 'contains(inheritance)', 'contains(ssl)', 'contains(reporting-services)', 'contains(testing)', 'contains(flex)', 'contains(windows)', 'contains(pdf)', 'contains(security)', 'contains(encryption)', 'contains(visual-studio-2008)', 'contains(tortoisesvn)', 'contains(string)', 'contains(ide)', 'contains(api)', 'contains(datetime)', 'contains(reflection)', 'contains(collections)', 'contains(mfc)', 'contains(parsing)', 'contains(java-ee)', 'contains(ruby)', 'contains(ajax)', 'contains(serialization)', 'contains(installation)', 'contains(visual-studio)', 'contains(backup)', 'contains(html)', 'contains(visual-studio-2005)', 'contains(c++)', 'contains(date)', 'contains(architecture)', 'contains(excel)', 'contains(user-interface)', 'contains(events)', 'contains(orm)', 'contains(asp.net)', 'contains(xslt)', 'contains(sql-server-2005)', 'contains(ruby-on-rails)', 'contains(visual-c++)', 'contains(search)', 'contains(design-patterns)', 'contains(cocoa)', 'contains(validation)', 'contains(powershell)', 'contains(image)', 'contains(windows-mobile)', 'contains(wpf)', 'contains(coding-style)', 'contains(oop)', 'contains(internet-explorer)', 'contains(nhibernate)', 'contains(database)', 'contains(ado.net)', 'contains(.net)', 'contains(unicode)', 'contains(email)', 'contains(hibernate)', 'contains(apache)', 'contains(vb.net)', 'contains(model-view-controller)', 'contains(windows-xp)', 'contains(.net-2.0)', 'contains(generics)', 'contains(frameworks)', 'contains(logging)', 'contains(cross-platform)', 'contains(windows-vista)', 'contains(wcf)', 'contains(cruisecontrol.net)', 'contains(forms)', 'contains(xml)', 'contains(open-source)', 'contains(msbuild)', 'contains(silverlight)', 'contains(automation)', 'contains(soap)', 'contains(internationalization)', 'contains(oracle)', 'contains(winapi)', 'contains(memory)', 'contains(authentication)', 'contains(tfs)', 'contains(graphics)', 'contains(asp.net-ajax)', 'contains(version-control)', 'contains(design)', 'contains(dom)', 'contains(stored-procedures)', 'contains(eclipse)', 'contains(functional-programming)', 'contains(performance)', 'contains(deployment)', 'contains(sql)', 'contains(arrays)', 'contains(delphi)', 'contains(editor)', 'contains(linux)', 'contains(build-automation)', 'contains(sqlite)', 'contains(emacs)', 'contains(refactoring)']\n",
      "correct=user-interface, guess=ruby, features=['contains(winforms)', 'contains(plugins)', 'contains(browser)', 'contains(outlook)', 'contains(css)', 'contains(asp.net-mvc)', 'contains(syntax)', 'contains(compiler-construction)', 'contains(project-management)', 'contains(indexing)', 'contains(sharepoint)', 'contains(unit-testing)', 'contains(data-binding)', 'contains(asp-classic)', 'contains(installer)', 'contains(iis)', 'contains(build-process)', 'contains(bash)', 'contains(javascript)', 'contains(debugging)', 'contains(postgresql)', 'contains(svn)', 'contains(file)', 'contains(firefox)', 'contains(jquery)', 'contains(shell)', 'contains(git)', 'contains(templates)', 'contains(linq)', 'contains(unix)', 'contains(language-agnostic)', 'contains(django)', 'contains(math)', 'contains(configuration)', 'contains(com)', 'contains(objective-c)', 'contains(networking)', 'contains(caching)', 'contains(ms-access)', 'contains(java)', 'contains(algorithm)', 'contains(vb6)', 'contains(linq-to-sql)', 'contains(actionscript-3)', 'contains(flash)', 'contains(php)', 'contains(http)', 'contains(sockets)', 'contains(c#)', 'contains(multithreading)', 'contains(data-structures)', 'contains(gcc)', 'contains(scripting)', 'contains(c)', 'contains(tdd)', 'contains(database-design)', 'contains(filesystems)', 'contains(tsql)', 'contains(perl)', 'contains(macos)', 'contains(audio)', 'contains(tomcat)', 'contains(mysql)', 'contains(web-services)', 'contains(.net-3.5)', 'contains(regex)', 'contains(opengl)', 'contains(video)', 'contains(exception)', 'contains(vim)', 'contains(user-controls)', 'contains(web-applications)', 'contains(iphone)', 'contains(optimization)', 'contains(command-line)', 'contains(sql-server)', 'contains(python)', 'contains(inheritance)', 'contains(ssl)', 'contains(reporting-services)', 'contains(testing)', 'contains(flex)', 'contains(windows)', 'contains(pdf)', 'contains(security)', 'contains(encryption)', 'contains(visual-studio-2008)', 'contains(tortoisesvn)', 'contains(string)', 'contains(ide)', 'contains(api)', 'contains(datetime)', 'contains(reflection)', 'contains(collections)', 'contains(mfc)', 'contains(parsing)', 'contains(java-ee)', 'contains(ruby)', 'contains(ajax)', 'contains(serialization)', 'contains(installation)', 'contains(visual-studio)', 'contains(backup)', 'contains(html)', 'contains(visual-studio-2005)', 'contains(c++)', 'contains(date)', 'contains(architecture)', 'contains(excel)', 'contains(user-interface)', 'contains(events)', 'contains(orm)', 'contains(asp.net)', 'contains(xslt)', 'contains(sql-server-2005)', 'contains(ruby-on-rails)', 'contains(visual-c++)', 'contains(search)', 'contains(design-patterns)', 'contains(cocoa)', 'contains(validation)', 'contains(powershell)', 'contains(image)', 'contains(windows-mobile)', 'contains(wpf)', 'contains(coding-style)', 'contains(oop)', 'contains(internet-explorer)', 'contains(nhibernate)', 'contains(database)', 'contains(ado.net)', 'contains(.net)', 'contains(unicode)', 'contains(email)', 'contains(hibernate)', 'contains(apache)', 'contains(vb.net)', 'contains(model-view-controller)', 'contains(windows-xp)', 'contains(.net-2.0)', 'contains(generics)', 'contains(frameworks)', 'contains(logging)', 'contains(cross-platform)', 'contains(windows-vista)', 'contains(wcf)', 'contains(cruisecontrol.net)', 'contains(forms)', 'contains(xml)', 'contains(open-source)', 'contains(msbuild)', 'contains(silverlight)', 'contains(automation)', 'contains(soap)', 'contains(internationalization)', 'contains(oracle)', 'contains(winapi)', 'contains(memory)', 'contains(authentication)', 'contains(tfs)', 'contains(graphics)', 'contains(asp.net-ajax)', 'contains(version-control)', 'contains(design)', 'contains(dom)', 'contains(stored-procedures)', 'contains(eclipse)', 'contains(functional-programming)', 'contains(performance)', 'contains(deployment)', 'contains(sql)', 'contains(arrays)', 'contains(delphi)', 'contains(editor)', 'contains(linux)', 'contains(build-automation)', 'contains(sqlite)', 'contains(emacs)', 'contains(refactoring)']\n",
      "correct=linq-to-sql, guess=c#, features=['contains(winforms)', 'contains(plugins)', 'contains(browser)', 'contains(outlook)', 'contains(css)', 'contains(asp.net-mvc)', 'contains(syntax)', 'contains(compiler-construction)', 'contains(project-management)', 'contains(indexing)', 'contains(sharepoint)', 'contains(unit-testing)', 'contains(data-binding)', 'contains(asp-classic)', 'contains(installer)', 'contains(iis)', 'contains(build-process)', 'contains(bash)', 'contains(javascript)', 'contains(debugging)', 'contains(postgresql)', 'contains(svn)', 'contains(file)', 'contains(firefox)', 'contains(jquery)', 'contains(shell)', 'contains(git)', 'contains(templates)', 'contains(linq)', 'contains(unix)', 'contains(language-agnostic)', 'contains(django)', 'contains(math)', 'contains(configuration)', 'contains(com)', 'contains(objective-c)', 'contains(networking)', 'contains(caching)', 'contains(ms-access)', 'contains(java)', 'contains(algorithm)', 'contains(vb6)', 'contains(linq-to-sql)', 'contains(actionscript-3)', 'contains(flash)', 'contains(php)', 'contains(http)', 'contains(sockets)', 'contains(c#)', 'contains(multithreading)', 'contains(data-structures)', 'contains(gcc)', 'contains(scripting)', 'contains(c)', 'contains(tdd)', 'contains(database-design)', 'contains(filesystems)', 'contains(tsql)', 'contains(perl)', 'contains(macos)', 'contains(audio)', 'contains(tomcat)', 'contains(mysql)', 'contains(web-services)', 'contains(.net-3.5)', 'contains(regex)', 'contains(opengl)', 'contains(video)', 'contains(exception)', 'contains(vim)', 'contains(user-controls)', 'contains(web-applications)', 'contains(iphone)', 'contains(optimization)', 'contains(command-line)', 'contains(sql-server)', 'contains(python)', 'contains(inheritance)', 'contains(ssl)', 'contains(reporting-services)', 'contains(testing)', 'contains(flex)', 'contains(windows)', 'contains(pdf)', 'contains(security)', 'contains(encryption)', 'contains(visual-studio-2008)', 'contains(tortoisesvn)', 'contains(string)', 'contains(ide)', 'contains(api)', 'contains(datetime)', 'contains(reflection)', 'contains(collections)', 'contains(mfc)', 'contains(parsing)', 'contains(java-ee)', 'contains(ruby)', 'contains(ajax)', 'contains(serialization)', 'contains(installation)', 'contains(visual-studio)', 'contains(backup)', 'contains(html)', 'contains(visual-studio-2005)', 'contains(c++)', 'contains(date)', 'contains(architecture)', 'contains(excel)', 'contains(user-interface)', 'contains(events)', 'contains(orm)', 'contains(asp.net)', 'contains(xslt)', 'contains(sql-server-2005)', 'contains(ruby-on-rails)', 'contains(visual-c++)', 'contains(search)', 'contains(design-patterns)', 'contains(cocoa)', 'contains(validation)', 'contains(powershell)', 'contains(image)', 'contains(windows-mobile)', 'contains(wpf)', 'contains(coding-style)', 'contains(oop)', 'contains(internet-explorer)', 'contains(nhibernate)', 'contains(database)', 'contains(ado.net)', 'contains(.net)', 'contains(unicode)', 'contains(email)', 'contains(hibernate)', 'contains(apache)', 'contains(vb.net)', 'contains(model-view-controller)', 'contains(windows-xp)', 'contains(.net-2.0)', 'contains(generics)', 'contains(frameworks)', 'contains(logging)', 'contains(cross-platform)', 'contains(windows-vista)', 'contains(wcf)', 'contains(cruisecontrol.net)', 'contains(forms)', 'contains(xml)', 'contains(open-source)', 'contains(msbuild)', 'contains(silverlight)', 'contains(automation)', 'contains(soap)', 'contains(internationalization)', 'contains(oracle)', 'contains(winapi)', 'contains(memory)', 'contains(authentication)', 'contains(tfs)', 'contains(graphics)', 'contains(asp.net-ajax)', 'contains(version-control)', 'contains(design)', 'contains(dom)', 'contains(stored-procedures)', 'contains(eclipse)', 'contains(functional-programming)', 'contains(performance)', 'contains(deployment)', 'contains(sql)', 'contains(arrays)', 'contains(delphi)', 'contains(editor)', 'contains(linux)', 'contains(build-automation)', 'contains(sqlite)', 'contains(emacs)', 'contains(refactoring)']\n",
      "correct=deployment, guess=.net, features=['contains(winforms)', 'contains(plugins)', 'contains(browser)', 'contains(outlook)', 'contains(css)', 'contains(asp.net-mvc)', 'contains(syntax)', 'contains(compiler-construction)', 'contains(project-management)', 'contains(indexing)', 'contains(sharepoint)', 'contains(unit-testing)', 'contains(data-binding)', 'contains(asp-classic)', 'contains(installer)', 'contains(iis)', 'contains(build-process)', 'contains(bash)', 'contains(javascript)', 'contains(debugging)', 'contains(postgresql)', 'contains(svn)', 'contains(file)', 'contains(firefox)', 'contains(jquery)', 'contains(shell)', 'contains(git)', 'contains(templates)', 'contains(linq)', 'contains(unix)', 'contains(language-agnostic)', 'contains(django)', 'contains(math)', 'contains(configuration)', 'contains(com)', 'contains(objective-c)', 'contains(networking)', 'contains(caching)', 'contains(ms-access)', 'contains(java)', 'contains(algorithm)', 'contains(vb6)', 'contains(linq-to-sql)', 'contains(actionscript-3)', 'contains(flash)', 'contains(php)', 'contains(http)', 'contains(sockets)', 'contains(c#)', 'contains(multithreading)', 'contains(data-structures)', 'contains(gcc)', 'contains(scripting)', 'contains(c)', 'contains(tdd)', 'contains(database-design)', 'contains(filesystems)', 'contains(tsql)', 'contains(perl)', 'contains(macos)', 'contains(audio)', 'contains(tomcat)', 'contains(mysql)', 'contains(web-services)', 'contains(.net-3.5)', 'contains(regex)', 'contains(opengl)', 'contains(video)', 'contains(exception)', 'contains(vim)', 'contains(user-controls)', 'contains(web-applications)', 'contains(iphone)', 'contains(optimization)', 'contains(command-line)', 'contains(sql-server)', 'contains(python)', 'contains(inheritance)', 'contains(ssl)', 'contains(reporting-services)', 'contains(testing)', 'contains(flex)', 'contains(windows)', 'contains(pdf)', 'contains(security)', 'contains(encryption)', 'contains(visual-studio-2008)', 'contains(tortoisesvn)', 'contains(string)', 'contains(ide)', 'contains(api)', 'contains(datetime)', 'contains(reflection)', 'contains(collections)', 'contains(mfc)', 'contains(parsing)', 'contains(java-ee)', 'contains(ruby)', 'contains(ajax)', 'contains(serialization)', 'contains(installation)', 'contains(visual-studio)', 'contains(backup)', 'contains(html)', 'contains(visual-studio-2005)', 'contains(c++)', 'contains(date)', 'contains(architecture)', 'contains(excel)', 'contains(user-interface)', 'contains(events)', 'contains(orm)', 'contains(asp.net)', 'contains(xslt)', 'contains(sql-server-2005)', 'contains(ruby-on-rails)', 'contains(visual-c++)', 'contains(search)', 'contains(design-patterns)', 'contains(cocoa)', 'contains(validation)', 'contains(powershell)', 'contains(image)', 'contains(windows-mobile)', 'contains(wpf)', 'contains(coding-style)', 'contains(oop)', 'contains(internet-explorer)', 'contains(nhibernate)', 'contains(database)', 'contains(ado.net)', 'contains(.net)', 'contains(unicode)', 'contains(email)', 'contains(hibernate)', 'contains(apache)', 'contains(vb.net)', 'contains(model-view-controller)', 'contains(windows-xp)', 'contains(.net-2.0)', 'contains(generics)', 'contains(frameworks)', 'contains(logging)', 'contains(cross-platform)', 'contains(windows-vista)', 'contains(wcf)', 'contains(cruisecontrol.net)', 'contains(forms)', 'contains(xml)', 'contains(open-source)', 'contains(msbuild)', 'contains(silverlight)', 'contains(automation)', 'contains(soap)', 'contains(internationalization)', 'contains(oracle)', 'contains(winapi)', 'contains(memory)', 'contains(authentication)', 'contains(tfs)', 'contains(graphics)', 'contains(asp.net-ajax)', 'contains(version-control)', 'contains(design)', 'contains(dom)', 'contains(stored-procedures)', 'contains(eclipse)', 'contains(functional-programming)', 'contains(performance)', 'contains(deployment)', 'contains(sql)', 'contains(arrays)', 'contains(delphi)', 'contains(editor)', 'contains(linux)', 'contains(build-automation)', 'contains(sqlite)', 'contains(emacs)', 'contains(refactoring)']\n",
      "correct=django, guess=apache, features=['contains(winforms)', 'contains(plugins)', 'contains(browser)', 'contains(outlook)', 'contains(css)', 'contains(asp.net-mvc)', 'contains(syntax)', 'contains(compiler-construction)', 'contains(project-management)', 'contains(indexing)', 'contains(sharepoint)', 'contains(unit-testing)', 'contains(data-binding)', 'contains(asp-classic)', 'contains(installer)', 'contains(iis)', 'contains(build-process)', 'contains(bash)', 'contains(javascript)', 'contains(debugging)', 'contains(postgresql)', 'contains(svn)', 'contains(file)', 'contains(firefox)', 'contains(jquery)', 'contains(shell)', 'contains(git)', 'contains(templates)', 'contains(linq)', 'contains(unix)', 'contains(language-agnostic)', 'contains(django)', 'contains(math)', 'contains(configuration)', 'contains(com)', 'contains(objective-c)', 'contains(networking)', 'contains(caching)', 'contains(ms-access)', 'contains(java)', 'contains(algorithm)', 'contains(vb6)', 'contains(linq-to-sql)', 'contains(actionscript-3)', 'contains(flash)', 'contains(php)', 'contains(http)', 'contains(sockets)', 'contains(c#)', 'contains(multithreading)', 'contains(data-structures)', 'contains(gcc)', 'contains(scripting)', 'contains(c)', 'contains(tdd)', 'contains(database-design)', 'contains(filesystems)', 'contains(tsql)', 'contains(perl)', 'contains(macos)', 'contains(audio)', 'contains(tomcat)', 'contains(mysql)', 'contains(web-services)', 'contains(.net-3.5)', 'contains(regex)', 'contains(opengl)', 'contains(video)', 'contains(exception)', 'contains(vim)', 'contains(user-controls)', 'contains(web-applications)', 'contains(iphone)', 'contains(optimization)', 'contains(command-line)', 'contains(sql-server)', 'contains(python)', 'contains(inheritance)', 'contains(ssl)', 'contains(reporting-services)', 'contains(testing)', 'contains(flex)', 'contains(windows)', 'contains(pdf)', 'contains(security)', 'contains(encryption)', 'contains(visual-studio-2008)', 'contains(tortoisesvn)', 'contains(string)', 'contains(ide)', 'contains(api)', 'contains(datetime)', 'contains(reflection)', 'contains(collections)', 'contains(mfc)', 'contains(parsing)', 'contains(java-ee)', 'contains(ruby)', 'contains(ajax)', 'contains(serialization)', 'contains(installation)', 'contains(visual-studio)', 'contains(backup)', 'contains(html)', 'contains(visual-studio-2005)', 'contains(c++)', 'contains(date)', 'contains(architecture)', 'contains(excel)', 'contains(user-interface)', 'contains(events)', 'contains(orm)', 'contains(asp.net)', 'contains(xslt)', 'contains(sql-server-2005)', 'contains(ruby-on-rails)', 'contains(visual-c++)', 'contains(search)', 'contains(design-patterns)', 'contains(cocoa)', 'contains(validation)', 'contains(powershell)', 'contains(image)', 'contains(windows-mobile)', 'contains(wpf)', 'contains(coding-style)', 'contains(oop)', 'contains(internet-explorer)', 'contains(nhibernate)', 'contains(database)', 'contains(ado.net)', 'contains(.net)', 'contains(unicode)', 'contains(email)', 'contains(hibernate)', 'contains(apache)', 'contains(vb.net)', 'contains(model-view-controller)', 'contains(windows-xp)', 'contains(.net-2.0)', 'contains(generics)', 'contains(frameworks)', 'contains(logging)', 'contains(cross-platform)', 'contains(windows-vista)', 'contains(wcf)', 'contains(cruisecontrol.net)', 'contains(forms)', 'contains(xml)', 'contains(open-source)', 'contains(msbuild)', 'contains(silverlight)', 'contains(automation)', 'contains(soap)', 'contains(internationalization)', 'contains(oracle)', 'contains(winapi)', 'contains(memory)', 'contains(authentication)', 'contains(tfs)', 'contains(graphics)', 'contains(asp.net-ajax)', 'contains(version-control)', 'contains(design)', 'contains(dom)', 'contains(stored-procedures)', 'contains(eclipse)', 'contains(functional-programming)', 'contains(performance)', 'contains(deployment)', 'contains(sql)', 'contains(arrays)', 'contains(delphi)', 'contains(editor)', 'contains(linux)', 'contains(build-automation)', 'contains(sqlite)', 'contains(emacs)', 'contains(refactoring)']\n",
      "correct=oracle, guess=sql, features=['contains(winforms)', 'contains(plugins)', 'contains(browser)', 'contains(outlook)', 'contains(css)', 'contains(asp.net-mvc)', 'contains(syntax)', 'contains(compiler-construction)', 'contains(project-management)', 'contains(indexing)', 'contains(sharepoint)', 'contains(unit-testing)', 'contains(data-binding)', 'contains(asp-classic)', 'contains(installer)', 'contains(iis)', 'contains(build-process)', 'contains(bash)', 'contains(javascript)', 'contains(debugging)', 'contains(postgresql)', 'contains(svn)', 'contains(file)', 'contains(firefox)', 'contains(jquery)', 'contains(shell)', 'contains(git)', 'contains(templates)', 'contains(linq)', 'contains(unix)', 'contains(language-agnostic)', 'contains(django)', 'contains(math)', 'contains(configuration)', 'contains(com)', 'contains(objective-c)', 'contains(networking)', 'contains(caching)', 'contains(ms-access)', 'contains(java)', 'contains(algorithm)', 'contains(vb6)', 'contains(linq-to-sql)', 'contains(actionscript-3)', 'contains(flash)', 'contains(php)', 'contains(http)', 'contains(sockets)', 'contains(c#)', 'contains(multithreading)', 'contains(data-structures)', 'contains(gcc)', 'contains(scripting)', 'contains(c)', 'contains(tdd)', 'contains(database-design)', 'contains(filesystems)', 'contains(tsql)', 'contains(perl)', 'contains(macos)', 'contains(audio)', 'contains(tomcat)', 'contains(mysql)', 'contains(web-services)', 'contains(.net-3.5)', 'contains(regex)', 'contains(opengl)', 'contains(video)', 'contains(exception)', 'contains(vim)', 'contains(user-controls)', 'contains(web-applications)', 'contains(iphone)', 'contains(optimization)', 'contains(command-line)', 'contains(sql-server)', 'contains(python)', 'contains(inheritance)', 'contains(ssl)', 'contains(reporting-services)', 'contains(testing)', 'contains(flex)', 'contains(windows)', 'contains(pdf)', 'contains(security)', 'contains(encryption)', 'contains(visual-studio-2008)', 'contains(tortoisesvn)', 'contains(string)', 'contains(ide)', 'contains(api)', 'contains(datetime)', 'contains(reflection)', 'contains(collections)', 'contains(mfc)', 'contains(parsing)', 'contains(java-ee)', 'contains(ruby)', 'contains(ajax)', 'contains(serialization)', 'contains(installation)', 'contains(visual-studio)', 'contains(backup)', 'contains(html)', 'contains(visual-studio-2005)', 'contains(c++)', 'contains(date)', 'contains(architecture)', 'contains(excel)', 'contains(user-interface)', 'contains(events)', 'contains(orm)', 'contains(asp.net)', 'contains(xslt)', 'contains(sql-server-2005)', 'contains(ruby-on-rails)', 'contains(visual-c++)', 'contains(search)', 'contains(design-patterns)', 'contains(cocoa)', 'contains(validation)', 'contains(powershell)', 'contains(image)', 'contains(windows-mobile)', 'contains(wpf)', 'contains(coding-style)', 'contains(oop)', 'contains(internet-explorer)', 'contains(nhibernate)', 'contains(database)', 'contains(ado.net)', 'contains(.net)', 'contains(unicode)', 'contains(email)', 'contains(hibernate)', 'contains(apache)', 'contains(vb.net)', 'contains(model-view-controller)', 'contains(windows-xp)', 'contains(.net-2.0)', 'contains(generics)', 'contains(frameworks)', 'contains(logging)', 'contains(cross-platform)', 'contains(windows-vista)', 'contains(wcf)', 'contains(cruisecontrol.net)', 'contains(forms)', 'contains(xml)', 'contains(open-source)', 'contains(msbuild)', 'contains(silverlight)', 'contains(automation)', 'contains(soap)', 'contains(internationalization)', 'contains(oracle)', 'contains(winapi)', 'contains(memory)', 'contains(authentication)', 'contains(tfs)', 'contains(graphics)', 'contains(asp.net-ajax)', 'contains(version-control)', 'contains(design)', 'contains(dom)', 'contains(stored-procedures)', 'contains(eclipse)', 'contains(functional-programming)', 'contains(performance)', 'contains(deployment)', 'contains(sql)', 'contains(arrays)', 'contains(delphi)', 'contains(editor)', 'contains(linux)', 'contains(build-automation)', 'contains(sqlite)', 'contains(emacs)', 'contains(refactoring)']\n"
     ]
    }
   ],
   "source": [
    "# display error guesses\n",
    "for (tag, guess, features) in errors_body_title[:10]:\n",
    "    print('correct={:}, guess={:}, features={:}'.format(tag, guess, list(features)))"
   ]
  },
  {
   "cell_type": "markdown",
   "metadata": {},
   "source": [
    "### Generation of test featureset"
   ]
  },
  {
   "cell_type": "code",
   "execution_count": 374,
   "metadata": {
    "collapsed": true
   },
   "outputs": [],
   "source": [
    "test_body_title = []\n",
    "\n",
    "for index, row in test_set_body.iterrows():\n",
    "    for key in row.elkey:\n",
    "        #sorted_elvalue = sorted(\n",
    "        #    FreqDist(row.elvalue).items(), key=itemgetter(1), reverse=True)\n",
    "        #fd_elvalue =  FreqDist(row.elvalue)\n",
    "        #existing_keywords = {i:fd_elvalue[i] for i in set(fd_elvalue.keys()).intersection(most_frequent_words[key])}\n",
    "        #pdb.set_trace()\n",
    "        #featuresets.append((dict(sorted_elvalue), key))\n",
    "        #featuresets.append(({i:True for i in row.elvalue},key))\n",
    "        test_body_title.append(\n",
    "            (featuregenerator(row.elvalue + df_tags_title.loc[index].elvalue,\n",
    "                              corpus_dict_tags), key))"
   ]
  },
  {
   "cell_type": "markdown",
   "metadata": {},
   "source": [
    "### Scoring"
   ]
  },
  {
   "cell_type": "code",
   "execution_count": 375,
   "metadata": {},
   "outputs": [
    {
     "name": "stdout",
     "output_type": "stream",
     "text": [
      "Train/test_score:\n",
      "Train score(accuracy): 0.29\n",
      "Crossval score(accuracy): 0.25\n",
      "Test score(accuracy): 0.26\n"
     ]
    }
   ],
   "source": [
    "from nltk.classify import accuracy\n",
    "train_score_body_title = accuracy(classifier, train_body_title)\n",
    "crossval_score_body_title = accuracy(classifier, crossval_body_title)\n",
    "test_score_body_title = accuracy(classifier, test_body_title)\n",
    "\n",
    "print(\"Train/test_score:\")\n",
    "print(\"Train score(accuracy): %.2f\" % train_score_body_title)\n",
    "print(\"Crossval score(accuracy): %.2f\" % crossval_score_body_title)\n",
    "print(\"Test score(accuracy): %.2f\" % test_score_body_title)"
   ]
  },
  {
   "cell_type": "code",
   "execution_count": 376,
   "metadata": {},
   "outputs": [
    {
     "name": "stdout",
     "output_type": "stream",
     "text": [
      "Most Informative Features\n",
      "         contains(video) = True            video : c#     =    470.8 : 1.0\n",
      "    contains(sharepoint) = True           sharep : c#     =    447.3 : 1.0\n",
      "    contains(powershell) = True           powers : .net   =    416.0 : 1.0\n",
      "        contains(jquery) = True           jquery : .net   =    405.5 : 1.0\n",
      "        contains(apache) = True           apache : c#     =    403.2 : 1.0\n",
      "     contains(hibernate) = True           hibern : .net   =    394.7 : 1.0\n",
      "           contains(pdf) = True              pdf : .net   =    355.8 : 1.0\n",
      "   contains(tortoisesvn) = True           tortoi : .net   =    354.7 : 1.0\n",
      "          contains(ruby) = True             ruby : c#     =    354.0 : 1.0\n",
      "        contains(delphi) = True           delphi : .net   =    349.2 : 1.0\n"
     ]
    }
   ],
   "source": [
    "classifier_body_title.show_most_informative_features()"
   ]
  },
  {
   "cell_type": "markdown",
   "metadata": {},
   "source": [
    "__Observation__:\n",
    "- The scoring is a little better with text body + title\n",
    "- Naïve Bayes model doesn't return a good test score. Possible explorations to increase the test score:\n",
    "    - Use another model\n",
    "    - Include more data\n",
    "    - Feature enginnering"
   ]
  }
 ],
 "metadata": {
  "kernelspec": {
   "display_name": "Python 3",
   "language": "python",
   "name": "python3"
  },
  "language_info": {
   "codemirror_mode": {
    "name": "ipython",
    "version": 3
   },
   "file_extension": ".py",
   "mimetype": "text/x-python",
   "name": "python",
   "nbconvert_exporter": "python",
   "pygments_lexer": "ipython3",
   "version": "3.6.3"
  }
 },
 "nbformat": 4,
 "nbformat_minor": 2
}
