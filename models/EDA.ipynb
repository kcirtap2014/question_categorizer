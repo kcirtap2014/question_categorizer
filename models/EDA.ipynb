{
 "cells": [
  {
   "cell_type": "code",
   "execution_count": 1,
   "metadata": {},
   "outputs": [
    {
     "name": "stdout",
     "output_type": "stream",
     "text": [
      "Populating the interactive namespace from numpy and matplotlib\n"
     ]
    }
   ],
   "source": [
    "import os\n",
    "import pandas as pd\n",
    "import seaborn as sns\n",
    "import string\n",
    "import re\n",
    "from collections import defaultdict\n",
    "from helper_functions import group_sort, unique_values, freq_stats_corpora\n",
    "\n",
    "\n",
    "sns.set_style(\"white\")\n",
    "%pylab inline"
   ]
  },
  {
   "cell_type": "markdown",
   "metadata": {},
   "source": [
    "# Mission\n",
    "Développer un système de suggestion de tag pour le site stackoverflow"
   ]
  },
  {
   "cell_type": "markdown",
   "metadata": {},
   "source": [
    "# Load Data"
   ]
  },
  {
   "cell_type": "code",
   "execution_count": 2,
   "metadata": {},
   "outputs": [],
   "source": [
    "cur_dir = os.path.dirname(os.getcwd())\n",
    "num_db = 1\n",
    "df = pd.DataFrame([])\n",
    "\n",
    "for i in range(num_db):\n",
    "    df = df.append(\n",
    "        pd.read_csv(\n",
    "            cur_dir + \"/db/QueryResults%d.csv\" % (i + 1), index_col=0))"
   ]
  },
  {
   "cell_type": "code",
   "execution_count": 3,
   "metadata": {},
   "outputs": [
    {
     "data": {
      "text/plain": [
       "(50000, 21)"
      ]
     },
     "execution_count": 3,
     "metadata": {},
     "output_type": "execute_result"
    }
   ],
   "source": [
    "df.shape"
   ]
  },
  {
   "cell_type": "code",
   "execution_count": 4,
   "metadata": {},
   "outputs": [
    {
     "data": {
      "image/png": "[encoded data removed]",
      "text/plain": [
       "<matplotlib.figure.Figure at 0x10ac767b8>"
      ]
     },
     "metadata": {},
     "output_type": "display_data"
    }
   ],
   "source": [
    "df_count = df.count().sort_values(ascending=False)\n",
    "fig, ax = plt.subplots()\n",
    "df_count.plot.bar(color=\"steelblue\", ax=ax)\n",
    "sns.despine()"
   ]
  },
  {
   "cell_type": "markdown",
   "metadata": {},
   "source": [
    "__Observation__:\n",
    "- Each post has an id, PostTypeId, CommentCount, CreationDate, Score and LastActivityDate\n",
    "- User information are given by OwnerUserId and OwnerDisplayName, almost all posts are given by distinct user.\n",
    "- Tags have a significant missing values -> users do not tag much\n",
    "\n",
    "Here, we are interested in analysing the title and body and then suggest tags to users.\n",
    "\n",
    "In the *unsupervised learning*, tags are not necessary, but in *supervised learning*, tags are the target variable."
   ]
  },
  {
   "cell_type": "code",
   "execution_count": 5,
   "metadata": {},
   "outputs": [],
   "source": [
    "# Combine columns\n",
    "# add an empty space for distinction\n",
    "df_text = pd.DataFrame(list(zip(df.Title,\n",
    "                                df.Body)), index = df.index).rename(columns={\n",
    "                                    0: 'TITLE',\n",
    "                                    1: 'BODY'\n",
    "                                })"
   ]
  },
  {
   "cell_type": "code",
   "execution_count": 6,
   "metadata": {},
   "outputs": [],
   "source": [
    "def stringbetweencode(data):\n",
    "    p = re.compile(\"<code>(.+?)<\\/code>\", flags=re.DOTALL)\n",
    "    return p.findall(data) \n",
    "\n",
    "#df_text[\"CODE\"] = np.nan\n",
    "df_text[\"CODE\"] = df_text[\"BODY\"].apply(stringbetweencode) "
   ]
  },
  {
   "cell_type": "markdown",
   "metadata": {},
   "source": [
    "# EDA for Tags"
   ]
  },
  {
   "cell_type": "code",
   "execution_count": 7,
   "metadata": {
    "collapsed": true
   },
   "outputs": [],
   "source": [
    "from nltk import FreqDist\n",
    "from nltk.tokenize import word_tokenize\n",
    "\n",
    "def tagbetweenbrackets(data):\n",
    "    p = re.compile(r'<(.*?)>')\n",
    "    return p.findall(data)\n",
    "\n",
    "# extract only data with tags\n",
    "df_tags = df[df.Tags.notnull()].Tags\n",
    "\n",
    "# extact tags between <>\n",
    "df_stags = df_tags.apply(tagbetweenbrackets)\n",
    "\n",
    "# combine all tokens together for freq dist\n",
    "tagslist = df_stags.sum()\n",
    "\n",
    "# count frequency of each tag\n",
    "# How many documents are tagged with a specific tag?\n",
    "tagsfreq = FreqDist(tagslist)"
   ]
  },
  {
   "cell_type": "code",
   "execution_count": 8,
   "metadata": {},
   "outputs": [],
   "source": [
    "from operator import itemgetter\n",
    "# sort by values in descending order\n",
    "sorted_tagsfreq = sorted(tagsfreq.items(), key=itemgetter(1), reverse=True)\n",
    "\n",
    "# prepare for sns.barplot\n",
    "tags_key, tags_value = zip(*sorted_tagsfreq)"
   ]
  },
  {
   "cell_type": "code",
   "execution_count": 9,
   "metadata": {},
   "outputs": [
    {
     "name": "stderr",
     "output_type": "stream",
     "text": [
      "/Users/pmlee/anaconda3/lib/python3.6/site-packages/seaborn/categorical.py:1460: FutureWarning: remove_na is deprecated and is a private function. Do not use.\n",
      "  stat_data = remove_na(group_data)\n"
     ]
    },
    {
     "data": {
      "image/png": "[encoded data removed]",
      "text/plain": [
       "<matplotlib.figure.Figure at 0x1a1597f358>"
      ]
     },
     "metadata": {},
     "output_type": "display_data"
    }
   ],
   "source": [
    "fig, ax = plt.subplots(figsize=(10, 4))\n",
    "n_element = 50\n",
    "sns.barplot(\n",
    "    np.array(tags_key[:n_element]), np.array(tags_value[:n_element]), ax=ax)\n",
    "ax.set_xticklabels(tags_key[:n_element], rotation=90)\n",
    "ax.set_title('Top 50 tags')\n",
    "sns.despine()"
   ]
  },
  {
   "cell_type": "markdown",
   "metadata": {},
   "source": [
    "# Text preprocessing with scikit learn and NLTK"
   ]
  },
  {
   "cell_type": "code",
   "execution_count": 37,
   "metadata": {
    "scrolled": true
   },
   "outputs": [],
   "source": [
    "from sklearn.decomposition import LatentDirichletAllocation\n",
    "from nltk import regexp_tokenize, pos_tag\n",
    "from nltk.stem import WordNetLemmatizer\n",
    "from nltk.corpus import stopwords\n",
    "import pdb\n",
    "wnl = WordNetLemmatizer()\n",
    "\n",
    "\n",
    "def convert_tag(tag):\n",
    "    \"\"\"\n",
    "    Convert the tag given by nltk.pos_tag \n",
    "    to the tag used by wordnet.synsets\n",
    "    \"\"\"\n",
    "\n",
    "    tag_dict = {'N': 'n', 'J': 'a', 'R': 'r', 'V': 'v'}\n",
    "    try:\n",
    "        return tag_dict[tag[0]]\n",
    "    except KeyError:\n",
    "        # defalut value\n",
    "        return None\n",
    "\n",
    "\n",
    "def lemmatizer(doc):\n",
    "    \"\"\"\n",
    "    returns lemmatized tokens after removing stop words and pos tagging\n",
    "    \n",
    "    Parameters:\n",
    "    -----------\n",
    "    doc: pandas dataframe\n",
    "        text description in df\n",
    "    \n",
    "    Return:\n",
    "    -------\n",
    "    pandas dataframe\n",
    "        lemmatized, pos_tagged, and removed stopwords tokens\n",
    "    \"\"\"\n",
    "    # add words to stoplist, previously punctuations have been removed,\n",
    "    # so we should do the same for the stoplist\n",
    "    stoplist = [striphtmlpunct(x) for x in stopwords.words('english')] + ['im']\n",
    "    #stoplist = stopwords.words('english') + [\n",
    "    #    \"i've\", \"either\", \"i'm\", \"i'd\", \"would\", \"could\", 'it', \"like\",\n",
    "    #    \"something\", \"also\", \"might\", \"want\", 'this', 'make', 'sure'\n",
    "    #]\n",
    "    #return pd.Series(' '.join(\n",
    "    #    [wnl.lemmatize(word) for word in regexp_tokenize(doc, pattern='\\w+|\\$[\\d\\.]+|\\S+') if word not in stoplist]))\n",
    "    lemmatized = []\n",
    "   \n",
    "    regex_tokens = regexp_tokenize(doc, pattern='\\w+\\S+|\\.\\w+')\n",
    "    \n",
    "    for word, p_tags in pos_tag(regex_tokens):\n",
    "        if word not in set(stoplist):\n",
    "            convert_pos_tag = convert_tag(p_tags)\n",
    "            \n",
    "            # retain nouns only\n",
    "            if convert_pos_tag == 'n':\n",
    "                lemmatized.append(wnl.lemmatize(word, pos=convert_pos_tag))\n",
    "    return lemmatized\n",
    "\n",
    "\n",
    "def striphtmlpunct(data):\n",
    "    # remove html tags, code unnecessary punctuations\n",
    "    p = re.compile(r'<.*?>|[^\\w\\s+\\.\\-\\#\\+]')\n",
    "    return p.sub('', data)\n",
    "\n",
    "\n",
    "def striptabs(data):\n",
    "    # remove tabs breaklines\n",
    "    p = re.compile(r'(\\r\\n)+|\\r+|\\n+|\\t+/i')\n",
    "    return p.sub(' ', data)\n",
    "\n",
    "\n",
    "# remove html tags\n",
    "df_text[\"BODY_STRIPPED\"] = df_text.BODY.str.lower().apply(\n",
    "    striphtmlpunct).apply(striptabs)\n",
    "df_text[\"CODE_STRIPPED\"] = df_text.CODE.apply(\n",
    "    lambda x: [striptabs(line.lower()) for line in x if x])\n",
    "df_text[\"TITLE_STRIPPED\"] = df_text.TITLE.apply(\n",
    "    lambda x: striphtmlpunct(x.lower()) if (isinstance(x, str)) else x)\n",
    "\n",
    "# remove stop words, pos_tag, and lemmatize\n",
    "df_text[\"BODY_LEMMATIZED\"] = df_text[\"BODY_STRIPPED\"].apply(lemmatizer)\n",
    "df_text[\"TITLE_LEMMATIZED\"] = df_text[\"TITLE_STRIPPED\"].apply(\n",
    "    lambda x: lemmatizer(x) if (isinstance(x, str)) else x)"
   ]
  },
  {
   "cell_type": "markdown",
   "metadata": {},
   "source": [
    "## Bag-of-words distribution associated to a tag"
   ]
  },
  {
   "cell_type": "markdown",
   "metadata": {},
   "source": [
    "### On text title"
   ]
  },
  {
   "cell_type": "code",
   "execution_count": 38,
   "metadata": {
    "collapsed": true
   },
   "outputs": [],
   "source": [
    "df_tags_title = pd.DataFrame(\n",
    "    list(zip(df_stags,\n",
    "             df_text.loc[df_stags.index,\"TITLE_LEMMATIZED\"]))).rename(columns={\n",
    "                 0: \"elkey\",\n",
    "                 1: \"elvalue\"\n",
    "             })"
   ]
  },
  {
   "cell_type": "code",
   "execution_count": 39,
   "metadata": {
    "collapsed": true
   },
   "outputs": [],
   "source": [
    "corpfreq_title, corpstats_title, corpora_title = freq_stats_corpora(\n",
    "    df_tags_title)"
   ]
  },
  {
   "cell_type": "code",
   "execution_count": 40,
   "metadata": {
    "collapsed": true
   },
   "outputs": [],
   "source": [
    "# sort by values in descending order\n",
    "sorted_corpfreq_title = defaultdict(list)\n",
    "cutoff = 10\n",
    "\n",
    "for tag, tagfreq in corpfreq_title.items():\n",
    "    # only add into sorted_corpfreq if the word occurencces are>50\n",
    "    if sum(list(tagfreq.values())) > cutoff:\n",
    "        sorted_corpfreq_title[tag] = sorted(\n",
    "            tagfreq.items(), key=itemgetter(1), reverse=True)"
   ]
  },
  {
   "cell_type": "code",
   "execution_count": 53,
   "metadata": {},
   "outputs": [
    {
     "name": "stderr",
     "output_type": "stream",
     "text": [
      "/Users/pmlee/anaconda3/lib/python3.6/site-packages/seaborn/categorical.py:1460: FutureWarning: remove_na is deprecated and is a private function. Do not use.\n",
      "  stat_data = remove_na(group_data)\n"
     ]
    },
    {
     "data": {
      "image/png": "[encoded data removed]",
      "text/plain": [
       "<matplotlib.figure.Figure at 0x1a21521c50>"
      ]
     },
     "metadata": {},
     "output_type": "display_data"
    }
   ],
   "source": [
    "token_index = 3\n",
    "key = 'performance'#list(sorted_corpfreq_title.keys())[token_index]\n",
    "corptags_key_title, corptags_value_title = zip(*sorted_corpfreq_title[key])\n",
    "fig, ax = plt.subplots(figsize=(10, 4))\n",
    "n_element = 50\n",
    "sns.barplot(\n",
    "    np.array(corptags_key_title[:n_element]),\n",
    "    np.array(corptags_value_title[:n_element]),\n",
    "    ax=ax)\n",
    "ax.set_xticklabels(corptags_key_title[:n_element], rotation=90)\n",
    "ax.set_title('Top 50 tags for %s from title' %key)\n",
    "sns.despine()"
   ]
  },
  {
   "cell_type": "markdown",
   "metadata": {},
   "source": [
    "### On text body"
   ]
  },
  {
   "cell_type": "code",
   "execution_count": 42,
   "metadata": {},
   "outputs": [],
   "source": [
    "df_tags_body = pd.DataFrame(\n",
    "    list(zip(df_stags,\n",
    "             df_text.loc[df_stags.index,\"BODY_LEMMATIZED\"]))).rename(columns={\n",
    "                 0: \"elkey\",\n",
    "                 1: \"elvalue\"\n",
    "             })"
   ]
  },
  {
   "cell_type": "code",
   "execution_count": 43,
   "metadata": {},
   "outputs": [],
   "source": [
    "corpfreq_body, corpstats_body, corpora_body = freq_stats_corpora(df_tags_body)"
   ]
  },
  {
   "cell_type": "code",
   "execution_count": 44,
   "metadata": {},
   "outputs": [],
   "source": [
    "# sort by values in descending order\n",
    "sorted_corpfreq_body = defaultdict(list)\n",
    "cutoff = 50\n",
    "\n",
    "for tag, tagfreq in corpfreq_body.items():\n",
    "    # only add into sorted_corpfreq if the word occurencces are>50\n",
    "    if sum(list(tagfreq.values())) > cutoff:\n",
    "        sorted_corpfreq_body[tag] = sorted(\n",
    "            tagfreq.items(), key=itemgetter(1), reverse=True)"
   ]
  },
  {
   "cell_type": "code",
   "execution_count": 54,
   "metadata": {},
   "outputs": [
    {
     "name": "stdout",
     "output_type": "stream",
     "text": [
      "python\n"
     ]
    },
    {
     "name": "stderr",
     "output_type": "stream",
     "text": [
      "/Users/pmlee/anaconda3/lib/python3.6/site-packages/seaborn/categorical.py:1460: FutureWarning: remove_na is deprecated and is a private function. Do not use.\n",
      "  stat_data = remove_na(group_data)\n"
     ]
    },
    {
     "data": {
      "image/png": "[encoded data removed]",
      "text/plain": [
       "<matplotlib.figure.Figure at 0x1a25f40ac8>"
      ]
     },
     "metadata": {},
     "output_type": "display_data"
    }
   ],
   "source": [
    "token_index = 3\n",
    "key = 'python'#list(sorted_corpfreq_body.keys())[token_index]\n",
    "print(key)\n",
    "corptags_key_body, corptags_value_body = zip(*sorted_corpfreq_body[key])\n",
    "fig, ax = plt.subplots(figsize=(10, 4))\n",
    "n_element = 50\n",
    "sns.barplot(\n",
    "    np.array(corptags_key_body[:n_element]),\n",
    "    np.array(corptags_value_body[:n_element]),\n",
    "    ax=ax)\n",
    "ax.set_xticklabels(corptags_key_body[:n_element], rotation=90)\n",
    "ax.set_title(\n",
    "    'Top 50 tags for %s from text body' %key)\n",
    "sns.despine()"
   ]
  },
  {
   "cell_type": "code",
   "execution_count": 36,
   "metadata": {},
   "outputs": [
    {
     "name": "stdout",
     "output_type": "stream",
     "text": [
      "[('I', None), ('would', None), ('be', 'v'), ('going', 'v'), ('to', None), ('code', 'v'), ('in', None), ('c++', 'n'), ('promptly', 'r')]\n",
      "[('I', 'PRP'), ('would', 'MD'), ('be', 'VB'), ('going', 'VBG'), ('to', 'TO'), ('code', 'VB'), ('in', 'IN'), ('c++', 'NN'), ('promptly', 'RB')]\n"
     ]
    }
   ],
   "source": [
    "import nltk\n",
    "\n",
    "\n",
    "def convert_tag(tag):\n",
    "    \"\"\"\n",
    "    Convert the tag given by nltk.pos_tag \n",
    "    to the tag used by wordnet.synsets\n",
    "    \"\"\"\n",
    "\n",
    "    tag_dict = {'N': 'n', 'J': 'a', 'R': 'r', 'V': 'v'}\n",
    "    try:\n",
    "        return tag_dict[tag[0]]\n",
    "    except KeyError:\n",
    "        # defalut value\n",
    "        return None\n",
    "\n",
    "sentence = [\"I\",\"would\", \"be\", \"going\", \"to\", \"code\",\"in\", \"c++\", \"promptly\"]\n",
    "pos_tag = nltk.pos_tag(sentence)\n",
    "convert_pos_tag = [(i[0], convert_tag(i[1])) for i in pos_tag]\n",
    "#new_pos_sentence = get_wordnet_pos(pos_sentence)\n",
    "#[wnl.lemmatize(i[0], pos=i[1]) for i in convert_pos_tag]\n",
    "print(convert_pos_tag)\n",
    "print(pos_tag)"
   ]
  },
  {
   "cell_type": "markdown",
   "metadata": {},
   "source": [
    "# Count and TFIDF Vectorization with ScikitLearn\n",
    "## Unigram vs Bigram"
   ]
  },
  {
   "cell_type": "code",
   "execution_count": null,
   "metadata": {},
   "outputs": [],
   "source": [
    "from sklearn.feature_extraction.text import CountVectorizer\n",
    "\n",
    "vectorizer_ngram1 = CountVectorizer(ngram_range=(1,1))\n",
    "tf_ngram1 = vectorizer_ngram1.fit_transform(df_ready[0])"
   ]
  },
  {
   "cell_type": "code",
   "execution_count": null,
   "metadata": {},
   "outputs": [],
   "source": [
    "vectorizer_ngram2 = CountVectorizer(ngram_range=(2,2))\n",
    "tf_ngram2 = vectorizer_ngram2.fit_transform(df_ready[0])"
   ]
  },
  {
   "cell_type": "code",
   "execution_count": null,
   "metadata": {
    "collapsed": true
   },
   "outputs": [],
   "source": [
    "from sklearn.feature_extraction.text import TfidfVectorizer\n",
    "\n",
    "tfidfvectorizer_ngram1 = TfidfVectorizer(ngram_range=(1,1))\n",
    "tfidf_ngram1 = tfidfvectorizer_ngram1.fit_transform(df_ready[0])"
   ]
  },
  {
   "cell_type": "code",
   "execution_count": null,
   "metadata": {
    "collapsed": true
   },
   "outputs": [],
   "source": [
    "tfidfvectorizer_ngram2 = TfidfVectorizer(ngram_range=(2,2))\n",
    "tfidf_ngram2 = tfidfvectorizer_ngram2.fit_transform(df_ready[0])"
   ]
  },
  {
   "cell_type": "code",
   "execution_count": null,
   "metadata": {},
   "outputs": [],
   "source": [
    "features_ngram1 = vectorizer_ngram1.get_feature_names()\n",
    "features_ngram2 = vectorizer_ngram2.get_feature_names()\n",
    "tfidf_features_ngram1 = tfidfvectorizer_ngram1.get_feature_names()\n",
    "tfidf_features_ngram2 = tfidfvectorizer_ngram2.get_feature_names()\n",
    "\n",
    "count_vec_ngram1 = np.asarray(tf_ngram1.sum(axis=0)).ravel()\n",
    "count_vec_ngram2 = np.asarray(tf_ngram2.sum(axis=0)).ravel()\n",
    "tfidf_count_vec_ngram1 = np.asarray(tfidf_ngram1.sum(axis=0)).ravel()\n",
    "tfidf_count_vec_ngram2 = np.asarray(tfidf_ngram2.sum(axis=0)).ravel()\n",
    "\n",
    "zipped_ngram1 = list(zip(features_ngram1, count_vec_ngram1))\n",
    "zipped_ngram2 = list(zip(features_ngram2, count_vec_ngram2))\n",
    "tfidf_zipped_ngram1 = list(zip(tfidf_features_ngram1, tfidf_count_vec_ngram1))\n",
    "tfidf_zipped_ngram2 = list(zip(tfidf_features_ngram2, tfidf_count_vec_ngram2))\n",
    "\n",
    "x = [[] for i in range(4)]\n",
    "y = [[] for i in range(4)]\n",
    "\n",
    "x[0], y[0] = (\n",
    "    list(x)\n",
    "    for x in zip(*sorted(zipped_ngram1, key=lambda x: x[1], reverse=True)))\n",
    "x[1], y[1] = (\n",
    "    list(x)\n",
    "    for x in zip(*sorted(zipped_ngram2, key=lambda x: x[1], reverse=True)))\n",
    "x[2], y[2] = (list(x) for x in zip(\n",
    "    *sorted(tfidf_zipped_ngram1, key=lambda x: x[1], reverse=True)))\n",
    "x[3], y[3] = (list(x) for x in zip(\n",
    "    *sorted(tfidf_zipped_ngram2, key=lambda x: x[1], reverse=True)))\n",
    "\n",
    "# Now I want to extract out on the top 15 and bottom 15 words\n",
    "#Yy = np.concatenate([y[0:15], y[-16:-1]])\n",
    "#Xx = np.concatenate([x[0:15], x[-16:-1]])"
   ]
  },
  {
   "cell_type": "code",
   "execution_count": null,
   "metadata": {},
   "outputs": [],
   "source": [
    "# Plot 15 top words + 15 bottom words\n",
    "fig, axes = plt.subplots(2, 2, figsize=(12,8))\n",
    "num_words = 30\n",
    "\n",
    "title = [\"count unigram\", \"count bigram\", \"tfidf unigram\", \"tfidf bigram\"]\n",
    "\n",
    "for i, ax in enumerate(axes.flatten()):\n",
    "    sns.barplot(np.array(x[i][:num_words]), np.array(y[i][:num_words]), ax=ax)\n",
    "    ax.set_xticklabels(x[i][:num_words], rotation=90)\n",
    "    ax.set_xlabetal(\"Feature words\")\n",
    "    ax.set_ylabel(\"Occurences\")\n",
    "    ax.set_title(title[i])\n",
    "sns.despine()\n",
    "plt.tight_layout()"
   ]
  },
  {
   "cell_type": "markdown",
   "metadata": {},
   "source": [
    "__Observation__:\n",
    "- Bigram or perhaps trigram is better than exploring unigram\n",
    "- no difference in Count and TFIDF vectorizers for now"
   ]
  },
  {
   "cell_type": "code",
   "execution_count": null,
   "metadata": {
    "collapsed": true
   },
   "outputs": [],
   "source": []
  }
 ],
 "metadata": {
  "kernelspec": {
   "display_name": "Python 3",
   "language": "python",
   "name": "python3"
  },
  "language_info": {
   "codemirror_mode": {
    "name": "ipython",
    "version": 3
   },
   "file_extension": ".py",
   "mimetype": "text/x-python",
   "name": "python",
   "nbconvert_exporter": "python",
   "pygments_lexer": "ipython3",
   "version": "3.6.3"
  }
 },
 "nbformat": 4,
 "nbformat_minor": 2
}
