{
 "cells": [
  {
   "cell_type": "markdown",
   "metadata": {},
   "source": [
    "Several branches corresponding to different models are created on the following github page:\n",
    "https://github.com/kcirtap2014/question_categorizer\n",
    "\n",
    "This branch is different in the corpus creation, we create the corpus out of the tags in the train set. \n",
    "Only from train set because otherwise we would have commited some data leakage."
   ]
  },
  {
   "cell_type": "code",
   "execution_count": 1,
   "metadata": {},
   "outputs": [
    {
     "name": "stdout",
     "output_type": "stream",
     "text": [
      "Populating the interactive namespace from numpy and matplotlib\n"
     ]
    }
   ],
   "source": [
    "import os\n",
    "import pandas as pd\n",
    "import seaborn as sns\n",
    "import string\n",
    "import re\n",
    "from collections import defaultdict\n",
    "from helper_functions import (group_sort, unique_values, freq_stats_corpora, \n",
    "                              evaluate, ngram, jaccard_distance, \n",
    "                              cosine_similarity, check_similar_tags, \n",
    "                              get_best_tags, CrossValidation, rpc_score, \n",
    "                              print_top_words, topic_name_attribution, \n",
    "                              no_tag_percentage_score)\n",
    "\n",
    "sns.set_style(\"white\")\n",
    "%pylab inline"
   ]
  },
  {
   "cell_type": "markdown",
   "metadata": {},
   "source": [
    "# Mission\n",
    "Développer un système de suggestion de tag pour le site stackoverflow"
   ]
  },
  {
   "cell_type": "markdown",
   "metadata": {},
   "source": [
    "# Load Data"
   ]
  },
  {
   "cell_type": "code",
   "execution_count": 2,
   "metadata": {
    "collapsed": true
   },
   "outputs": [],
   "source": [
    "cur_dir = os.path.dirname(os.getcwd())\n",
    "num_db = 6\n",
    "df = pd.DataFrame([])\n",
    "\n",
    "for i in range(num_db):\n",
    "    df = df.append(\n",
    "        pd.read_csv(\n",
    "            cur_dir + \"/db/QueryResults%d.csv\" % (i + 1), index_col=0))"
   ]
  },
  {
   "cell_type": "code",
   "execution_count": 3,
   "metadata": {},
   "outputs": [
    {
     "data": {
      "text/plain": [
       "(300000, 21)"
      ]
     },
     "execution_count": 3,
     "metadata": {},
     "output_type": "execute_result"
    }
   ],
   "source": [
    "df.shape"
   ]
  },
  {
   "cell_type": "code",
   "execution_count": 4,
   "metadata": {},
   "outputs": [
    {
     "data": {
      "image/png": "[encoded data removed]",
      "text/plain": [
       "<matplotlib.figure.Figure at 0x1a1c9a78d0>"
      ]
     },
     "metadata": {},
     "output_type": "display_data"
    }
   ],
   "source": [
    "df_count = df.count().sort_values(ascending=False)\n",
    "fig, ax = plt.subplots()\n",
    "df_count.plot.bar(color=\"steelblue\", ax=ax)\n",
    "sns.despine()"
   ]
  },
  {
   "cell_type": "code",
   "execution_count": 5,
   "metadata": {
    "collapsed": true
   },
   "outputs": [],
   "source": [
    "df_reduced = df.sample(50000, random_state=23)"
   ]
  },
  {
   "cell_type": "markdown",
   "metadata": {},
   "source": [
    "__Observation__:\n",
    "- Each post has an id, PostTypeId, CommentCount, CreationDate, Score and LastActivityDate\n",
    "- User information are given by OwnerUserId and OwnerDisplayName, almost all posts are given by distinct user.\n",
    "- Tags have a significant missing values -> users do not tag much\n",
    "\n",
    "Here, we are interested in analysing the title and body and then suggest tags to users.\n",
    "\n",
    "In the *unsupervised learning*, tags are not necessary, but in *supervised learning*, tags are the target variable."
   ]
  },
  {
   "cell_type": "code",
   "execution_count": 6,
   "metadata": {
    "collapsed": true
   },
   "outputs": [],
   "source": [
    "# Combine columns\n",
    "# add an empty space for distinction\n",
    "df_text = pd.DataFrame(list(zip(df_reduced.Title,\n",
    "                                df_reduced.Body)), index = df_reduced.index).rename(columns={\n",
    "                                    0: 'TITLE',\n",
    "                                    1: 'BODY',\n",
    "                                })"
   ]
  },
  {
   "cell_type": "code",
   "execution_count": 7,
   "metadata": {
    "collapsed": true
   },
   "outputs": [],
   "source": [
    "def stringbetweencode(data):\n",
    "    p = re.compile(\"<code>(.+?)<\\/code>\", flags=re.DOTALL)\n",
    "    return p.findall(data) \n",
    "\n",
    "def tag_between_brackets(data):\n",
    "    if pd.notnull(data):\n",
    "        p = re.compile(r'<(.*?)>')\n",
    "        return p.findall(data)\n",
    "    return data\n",
    "\n",
    "#df_text[\"CODE\"] = np.nan\n",
    "df_text[\"CODE\"] = df_text[\"BODY\"].apply(stringbetweencode) \n",
    "df_text[\"TAGS\"] = df_reduced[\"Tags\"].apply(tag_between_brackets) "
   ]
  },
  {
   "cell_type": "markdown",
   "metadata": {},
   "source": [
    "# EDA for Tags"
   ]
  },
  {
   "cell_type": "markdown",
   "metadata": {},
   "source": [
    "## Tags frequencies analysis"
   ]
  },
  {
   "cell_type": "code",
   "execution_count": 8,
   "metadata": {
    "collapsed": true
   },
   "outputs": [],
   "source": [
    "from nltk import FreqDist\n",
    "from nltk.tokenize import word_tokenize\n",
    "\n",
    "df_tags = df_text[df_text.TAGS.notnull()][\"TAGS\"]\n",
    "\n",
    "# combine all tokens together for freq dist\n",
    "tagslist = df_tags.sum()\n",
    "\n",
    "# count frequency of each tag\n",
    "# How many documents are tagged with a specific tag?\n",
    "tagsfreq = FreqDist(tagslist)"
   ]
  },
  {
   "cell_type": "code",
   "execution_count": 9,
   "metadata": {
    "collapsed": true
   },
   "outputs": [],
   "source": [
    "from operator import itemgetter\n",
    "# sort by values in descending order\n",
    "sorted_tagsfreq = sorted(tagsfreq.items(), key=itemgetter(1), reverse=True)\n",
    "tags_key, tags_value = zip(*sorted_tagsfreq)"
   ]
  },
  {
   "cell_type": "code",
   "execution_count": 10,
   "metadata": {},
   "outputs": [
    {
     "name": "stderr",
     "output_type": "stream",
     "text": [
      "/Users/pmlee/anaconda3/lib/python3.6/site-packages/seaborn/categorical.py:1460: FutureWarning: remove_na is deprecated and is a private function. Do not use.\n",
      "  stat_data = remove_na(group_data)\n"
     ]
    },
    {
     "data": {
      "image/png": "[encoded data removed]",
      "text/plain": [
       "<matplotlib.figure.Figure at 0x1a1b602358>"
      ]
     },
     "metadata": {},
     "output_type": "display_data"
    }
   ],
   "source": [
    "# prepare for sns.barplot\n",
    "fig, ax = plt.subplots( figsize=(10, 3))\n",
    "\n",
    "n_element = 20\n",
    "x_tags = np.array(tags_key[:n_element]+ tags_key[-n_element:])\n",
    "y_tags = np.array(tags_value[:n_element]+ tags_value[-n_element:])\n",
    "sns.barplot(x_tags, y_tags, ax=ax)\n",
    "ax.set_xticklabels(x_tags, rotation=90)\n",
    "ax.set_title('Top and Bottom 20 tags')\n",
    "sns.despine()"
   ]
  },
  {
   "cell_type": "code",
   "execution_count": 11,
   "metadata": {},
   "outputs": [
    {
     "data": {
      "text/plain": [
       "count    4476.000000\n",
       "mean        7.005585\n",
       "std        38.234422\n",
       "min         1.000000\n",
       "50%         1.000000\n",
       "75%         4.000000\n",
       "90%        10.000000\n",
       "95%        22.000000\n",
       "max      1409.000000\n",
       "dtype: float64"
      ]
     },
     "execution_count": 11,
     "metadata": {},
     "output_type": "execute_result"
    }
   ],
   "source": [
    "pd.Series(tags_value).describe([0.5, 0.75,0.9,0.95])"
   ]
  },
  {
   "cell_type": "markdown",
   "metadata": {},
   "source": [
    "__Observation__:\n",
    "- 50% of the tags only occur once, we will eliminate tags that have low counts, taking the arg of 75% as threshold"
   ]
  },
  {
   "cell_type": "markdown",
   "metadata": {},
   "source": [
    "# Text preprocessing with scikit learn and NLTK"
   ]
  },
  {
   "cell_type": "code",
   "execution_count": 12,
   "metadata": {
    "scrolled": false
   },
   "outputs": [],
   "source": [
    "from sklearn.decomposition import LatentDirichletAllocation\n",
    "from nltk import regexp_tokenize, pos_tag\n",
    "from nltk.corpus import stopwords\n",
    "from nltk.stem import WordNetLemmatizer\n",
    "import pdb\n",
    "\n",
    "wnl = WordNetLemmatizer()\n",
    "\n",
    "def convert_tag(tag):\n",
    "    \"\"\"\n",
    "    Convert the tag given by nltk.pos_tag \n",
    "    to the tag used by wordnet.synsets\n",
    "    \"\"\"\n",
    "    tag_dict = {'N': 'n', 'J': 'a', 'R': 'r', 'V': 'v'}\n",
    "    try:\n",
    "        return tag_dict[tag[0]]\n",
    "    except KeyError:\n",
    "        # defalut value\n",
    "        return 'n'  #None\n",
    "\n",
    "\n",
    "def lemmatizer(doc):\n",
    "    \"\"\"\n",
    "    returns lemmatized tokens after removing stop words and pos tagging\n",
    "    \n",
    "    Parameters:\n",
    "    -----------\n",
    "    doc: pandas dataframe\n",
    "        text description in df\n",
    "    \n",
    "    Return:\n",
    "    -------\n",
    "    pandas dataframe\n",
    "        lemmatized, pos_tagged, and removed stopwords tokens\n",
    "    \"\"\"\n",
    "    if pd.notnull(doc):\n",
    "        # add words to stoplist, previously punctuations have been removed,\n",
    "        # so we should do the same for the stoplist\n",
    "        # we also add the top 10 words in the stoplist, these top 10 words\n",
    "        # are found after post-processing\n",
    "\n",
    "        stoplist = [striphtmlpunct(x)\n",
    "                    for x in stopwords.words('english')] + ['im', 'ive'] + [\n",
    "                        'use', 'get', 'like', 'file', 'would', 'way', 'code',\n",
    "                        'work', 'want', 'need'\n",
    "                    ]\n",
    "\n",
    "        lemmatized = []\n",
    "\n",
    "        regex_tokens = regexp_tokenize(doc, pattern='\\w+\\S+|\\.\\w+')\n",
    "        \n",
    "        for word in regex_tokens:\n",
    "        #for word, p_tags in pos_tag(regex_tokens):\n",
    "            #convert_pos_tag = convert_tag(p_tags)\n",
    "            lemmatized_word = wnl.lemmatize(word)\n",
    "            if lemmatized_word not in set(stoplist):\n",
    "                lemmatized.append(lemmatized_word)\n",
    "\n",
    "        return pd.Series(' '.join(lemmatized))\n",
    "    return pd.Series(doc)\n",
    "\n",
    "def postagged(data):\n",
    "    convert_pos_tag = []\n",
    "    \n",
    "    if pd.notnull(data):\n",
    "        tokens = regexp_tokenize(data, pattern='\\w+\\S+|\\.\\w+')\n",
    "       \n",
    "        for word, p_tags in pos_tag(tokens):\n",
    "            convert_pos_tag.append(convert_tag(p_tags))\n",
    "    return convert_pos_tag\n",
    "\n",
    "    \n",
    "def striphtmlpunct(data):\n",
    "    # remove html tags, code unnecessary punctuations\n",
    "    # <.*?> to remove everything between <>\n",
    "    # [^\\w\\s+\\.\\-\\#\\+] remove punctuations except .-#+\n",
    "    # (\\.{1,3})(?!\\S) negative lookahead assertion: only match .{1,3} that\n",
    "    # is followed by white space\n",
    "    if pd.notnull(data):\n",
    "        p = re.compile(r'<.*?>|[^\\w\\s+\\.\\-\\#\\+]')\n",
    "        res = p.sub('', data)\n",
    "        pe = re.compile('(\\.{1,3})(?!\\S)')\n",
    "\n",
    "        return pe.sub('', res)\n",
    "\n",
    "    return data\n",
    "\n",
    "\n",
    "def striptabs(data):\n",
    "    # remove tabs breaklines\n",
    "    p = re.compile(r'(\\r\\n)+|\\r+|\\n+|\\t+/i')\n",
    "    return p.sub(' ', data)\n",
    "\n",
    "\n",
    "def lower(data):\n",
    "    if pd.notnull(data):\n",
    "        return data.lower()\n",
    "    return data\n",
    "\n",
    "\n",
    "# remove html tags\n",
    "df_text[\"BODY_STRIPPED\"] = df_text.BODY.apply(lower).apply(\n",
    "    striphtmlpunct).apply(striptabs)\n",
    "df_text[\"CODE_STRIPPED\"] = df_text.CODE.apply(\n",
    "    lambda x: [striptabs(line.lower()) for line in x if x])\n",
    "df_text[\"TITLE_STRIPPED\"] = df_text.TITLE.apply(lower).apply(striphtmlpunct)\n",
    "\n",
    "# remove stop words, pos_tag, and lemmatize\n",
    "df_text[\"BODY_LEMMATIZED\"] = df_text[\"BODY_STRIPPED\"].apply(lemmatizer)\n",
    "df_text[\"TITLE_LEMMATIZED\"] = df_text[\"TITLE_STRIPPED\"].apply(lemmatizer)\n",
    "\n",
    "# postagged column for EDA\n",
    "df_text[\"BODY_POSTAGGED\"] = df_text[\"BODY_STRIPPED\"].apply(postagged)\n",
    "df_text[\"TITLE_POSTAGGED\"] = df_text[\"TITLE_STRIPPED\"].apply(postagged)"
   ]
  },
  {
   "cell_type": "code",
   "execution_count": 13,
   "metadata": {},
   "outputs": [
    {
     "data": {
      "text/html": [
       "<div>\n",
       "<style scoped>\n",
       "    .dataframe tbody tr th:only-of-type {\n",
       "        vertical-align: middle;\n",
       "    }\n",
       "\n",
       "    .dataframe tbody tr th {\n",
       "        vertical-align: top;\n",
       "    }\n",
       "\n",
       "    .dataframe thead th {\n",
       "        text-align: right;\n",
       "    }\n",
       "</style>\n",
       "<table border=\"1\" class=\"dataframe\">\n",
       "  <thead>\n",
       "    <tr style=\"text-align: right;\">\n",
       "      <th></th>\n",
       "      <th>TITLE</th>\n",
       "      <th>BODY</th>\n",
       "      <th>CODE</th>\n",
       "      <th>TAGS</th>\n",
       "      <th>BODY_STRIPPED</th>\n",
       "      <th>CODE_STRIPPED</th>\n",
       "      <th>TITLE_STRIPPED</th>\n",
       "      <th>BODY_LEMMATIZED</th>\n",
       "      <th>TITLE_LEMMATIZED</th>\n",
       "      <th>BODY_POSTAGGED</th>\n",
       "      <th>TITLE_POSTAGGED</th>\n",
       "    </tr>\n",
       "    <tr>\n",
       "      <th>Id</th>\n",
       "      <th></th>\n",
       "      <th></th>\n",
       "      <th></th>\n",
       "      <th></th>\n",
       "      <th></th>\n",
       "      <th></th>\n",
       "      <th></th>\n",
       "      <th></th>\n",
       "      <th></th>\n",
       "      <th></th>\n",
       "      <th></th>\n",
       "    </tr>\n",
       "  </thead>\n",
       "  <tbody>\n",
       "    <tr>\n",
       "      <th>401982</th>\n",
       "      <td>NaN</td>\n",
       "      <td>&lt;h2&gt;Re Is cut-and-past ever acceptable:&lt;/h2&gt;\\n...</td>\n",
       "      <td>[private static final String EMPLOYEE_COLUMNS ...</td>\n",
       "      <td>NaN</td>\n",
       "      <td>re is cut-and-past ever acceptable yes when th...</td>\n",
       "      <td>[private static final string employee_columns ...</td>\n",
       "      <td>NaN</td>\n",
       "      <td>cut-and-past ever acceptable yes segment sligh...</td>\n",
       "      <td>NaN</td>\n",
       "      <td>[n, v, a, r, a, n, n, n, n, v, r, a, n, n, v, ...</td>\n",
       "      <td>[]</td>\n",
       "    </tr>\n",
       "    <tr>\n",
       "      <th>109829</th>\n",
       "      <td>NaN</td>\n",
       "      <td>&lt;p&gt;You need to start further down the line. Yo...</td>\n",
       "      <td>[]</td>\n",
       "      <td>NaN</td>\n",
       "      <td>you need to start further down the line you ne...</td>\n",
       "      <td>[]</td>\n",
       "      <td>NaN</td>\n",
       "      <td>start line know container format specifies cod...</td>\n",
       "      <td>NaN</td>\n",
       "      <td>[n, v, n, v, r, r, n, n, n, v, n, v, n, n, n, ...</td>\n",
       "      <td>[]</td>\n",
       "    </tr>\n",
       "    <tr>\n",
       "      <th>552890</th>\n",
       "      <td>What do you think about the new Debian release...</td>\n",
       "      <td>&lt;p&gt;I was surprised to know that Lenny already ...</td>\n",
       "      <td>[]</td>\n",
       "      <td>[linux, unix, debian, release-cycle]</td>\n",
       "      <td>i was surprised to know that lenny already pro...</td>\n",
       "      <td>[]</td>\n",
       "      <td>what do you think about the new debian release...</td>\n",
       "      <td>wa surprised know lenny already promoted stabl...</td>\n",
       "      <td>think new debian release cycle</td>\n",
       "      <td>[v, v, n, v, n, a, r, v, n, v, n, n, n, n, n, ...</td>\n",
       "      <td>[n, v, n, v, n, n, a, a, n, n]</td>\n",
       "    </tr>\n",
       "    <tr>\n",
       "      <th>236203</th>\n",
       "      <td>Why does a h1 tag display different in a div, ...</td>\n",
       "      <td>&lt;p&gt;I have a div with a &lt;code&gt;&amp;lt;h1&amp;gt;&lt;/code&gt;...</td>\n",
       "      <td>[&amp;lt;h1&amp;gt;, &amp;lt;h1&amp;gt;, &amp;lt;!DOCTYPE HTML PUB...</td>\n",
       "      <td>[html, css]</td>\n",
       "      <td>i have a div with a lth1gt tag in a div with n...</td>\n",
       "      <td>[&amp;lt;h1&amp;gt;, &amp;lt;h1&amp;gt;, &amp;lt;!doctype html pub...</td>\n",
       "      <td>why does a h1 tag display different in a div w...</td>\n",
       "      <td>div lth1gt tag div margin define doctype white...</td>\n",
       "      <td>doe h1 tag display different div doctype set</td>\n",
       "      <td>[v, v, n, a, n, n, n, n, n, n, n, a, n, a, a, ...</td>\n",
       "      <td>[n, v, v, v, n, a, n, n, n, n, v, v]</td>\n",
       "    </tr>\n",
       "    <tr>\n",
       "      <th>138781</th>\n",
       "      <td>NaN</td>\n",
       "      <td>&lt;p&gt;A while back I did a how-to blog post on us...</td>\n",
       "      <td>[]</td>\n",
       "      <td>NaN</td>\n",
       "      <td>a while back i did a how-to blog post on using...</td>\n",
       "      <td>[]</td>\n",
       "      <td>NaN</td>\n",
       "      <td>back how-to blog post using svn one developer ...</td>\n",
       "      <td>NaN</td>\n",
       "      <td>[n, r, v, a, n, n, n, v, n, n, r, n, n, v, n, ...</td>\n",
       "      <td>[]</td>\n",
       "    </tr>\n",
       "  </tbody>\n",
       "</table>\n",
       "</div>"
      ],
      "text/plain": [
       "                                                    TITLE  \\\n",
       "Id                                                          \n",
       "401982                                                NaN   \n",
       "109829                                                NaN   \n",
       "552890  What do you think about the new Debian release...   \n",
       "236203  Why does a h1 tag display different in a div, ...   \n",
       "138781                                                NaN   \n",
       "\n",
       "                                                     BODY  \\\n",
       "Id                                                          \n",
       "401982  <h2>Re Is cut-and-past ever acceptable:</h2>\\n...   \n",
       "109829  <p>You need to start further down the line. Yo...   \n",
       "552890  <p>I was surprised to know that Lenny already ...   \n",
       "236203  <p>I have a div with a <code>&lt;h1&gt;</code>...   \n",
       "138781  <p>A while back I did a how-to blog post on us...   \n",
       "\n",
       "                                                     CODE  \\\n",
       "Id                                                          \n",
       "401982  [private static final String EMPLOYEE_COLUMNS ...   \n",
       "109829                                                 []   \n",
       "552890                                                 []   \n",
       "236203  [&lt;h1&gt;, &lt;h1&gt;, &lt;!DOCTYPE HTML PUB...   \n",
       "138781                                                 []   \n",
       "\n",
       "                                        TAGS  \\\n",
       "Id                                             \n",
       "401982                                   NaN   \n",
       "109829                                   NaN   \n",
       "552890  [linux, unix, debian, release-cycle]   \n",
       "236203                           [html, css]   \n",
       "138781                                   NaN   \n",
       "\n",
       "                                            BODY_STRIPPED  \\\n",
       "Id                                                          \n",
       "401982  re is cut-and-past ever acceptable yes when th...   \n",
       "109829  you need to start further down the line you ne...   \n",
       "552890  i was surprised to know that lenny already pro...   \n",
       "236203  i have a div with a lth1gt tag in a div with n...   \n",
       "138781  a while back i did a how-to blog post on using...   \n",
       "\n",
       "                                            CODE_STRIPPED  \\\n",
       "Id                                                          \n",
       "401982  [private static final string employee_columns ...   \n",
       "109829                                                 []   \n",
       "552890                                                 []   \n",
       "236203  [&lt;h1&gt;, &lt;h1&gt;, &lt;!doctype html pub...   \n",
       "138781                                                 []   \n",
       "\n",
       "                                           TITLE_STRIPPED  \\\n",
       "Id                                                          \n",
       "401982                                                NaN   \n",
       "109829                                                NaN   \n",
       "552890  what do you think about the new debian release...   \n",
       "236203  why does a h1 tag display different in a div w...   \n",
       "138781                                                NaN   \n",
       "\n",
       "                                          BODY_LEMMATIZED  \\\n",
       "Id                                                          \n",
       "401982  cut-and-past ever acceptable yes segment sligh...   \n",
       "109829  start line know container format specifies cod...   \n",
       "552890  wa surprised know lenny already promoted stabl...   \n",
       "236203  div lth1gt tag div margin define doctype white...   \n",
       "138781  back how-to blog post using svn one developer ...   \n",
       "\n",
       "                                    TITLE_LEMMATIZED  \\\n",
       "Id                                                     \n",
       "401982                                           NaN   \n",
       "109829                                           NaN   \n",
       "552890                think new debian release cycle   \n",
       "236203  doe h1 tag display different div doctype set   \n",
       "138781                                           NaN   \n",
       "\n",
       "                                           BODY_POSTAGGED  \\\n",
       "Id                                                          \n",
       "401982  [n, v, a, r, a, n, n, n, n, v, r, a, n, n, v, ...   \n",
       "109829  [n, v, n, v, r, r, n, n, n, v, n, v, n, n, n, ...   \n",
       "552890  [v, v, n, v, n, a, r, v, n, v, n, n, n, n, n, ...   \n",
       "236203  [v, v, n, a, n, n, n, n, n, n, n, a, n, a, a, ...   \n",
       "138781  [n, r, v, a, n, n, n, v, n, n, r, n, n, v, n, ...   \n",
       "\n",
       "                             TITLE_POSTAGGED  \n",
       "Id                                            \n",
       "401982                                    []  \n",
       "109829                                    []  \n",
       "552890        [n, v, n, v, n, n, a, a, n, n]  \n",
       "236203  [n, v, v, v, n, a, n, n, n, n, v, v]  \n",
       "138781                                    []  "
      ]
     },
     "execution_count": 13,
     "metadata": {},
     "output_type": "execute_result"
    }
   ],
   "source": [
    "df_text.head()"
   ]
  },
  {
   "cell_type": "markdown",
   "metadata": {},
   "source": [
    "### Eliminate entries without tags\n",
    "- since we have remove low count tags, some entries will be tagless, we remove these entries for supervised learning "
   ]
  },
  {
   "cell_type": "code",
   "execution_count": 14,
   "metadata": {
    "collapsed": true
   },
   "outputs": [],
   "source": [
    "df_text_reduced = df_text.loc[df_tags.index]"
   ]
  },
  {
   "cell_type": "code",
   "execution_count": 15,
   "metadata": {},
   "outputs": [
    {
     "data": {
      "text/html": [
       "<div>\n",
       "<style scoped>\n",
       "    .dataframe tbody tr th:only-of-type {\n",
       "        vertical-align: middle;\n",
       "    }\n",
       "\n",
       "    .dataframe tbody tr th {\n",
       "        vertical-align: top;\n",
       "    }\n",
       "\n",
       "    .dataframe thead th {\n",
       "        text-align: right;\n",
       "    }\n",
       "</style>\n",
       "<table border=\"1\" class=\"dataframe\">\n",
       "  <thead>\n",
       "    <tr style=\"text-align: right;\">\n",
       "      <th></th>\n",
       "      <th>TITLE</th>\n",
       "      <th>BODY</th>\n",
       "      <th>CODE</th>\n",
       "      <th>TAGS</th>\n",
       "      <th>BODY_STRIPPED</th>\n",
       "      <th>CODE_STRIPPED</th>\n",
       "      <th>TITLE_STRIPPED</th>\n",
       "      <th>BODY_LEMMATIZED</th>\n",
       "      <th>TITLE_LEMMATIZED</th>\n",
       "      <th>BODY_POSTAGGED</th>\n",
       "      <th>TITLE_POSTAGGED</th>\n",
       "    </tr>\n",
       "    <tr>\n",
       "      <th>Id</th>\n",
       "      <th></th>\n",
       "      <th></th>\n",
       "      <th></th>\n",
       "      <th></th>\n",
       "      <th></th>\n",
       "      <th></th>\n",
       "      <th></th>\n",
       "      <th></th>\n",
       "      <th></th>\n",
       "      <th></th>\n",
       "      <th></th>\n",
       "    </tr>\n",
       "  </thead>\n",
       "  <tbody>\n",
       "    <tr>\n",
       "      <th>411457</th>\n",
       "      <td>How to refresh a simple binding of a Windows F...</td>\n",
       "      <td>&lt;p&gt;I'm binding a domain objects property to th...</td>\n",
       "      <td>[DataBindings, Label l = new Label();\\nl.DataB...</td>\n",
       "      <td>[c#, .net, binding]</td>\n",
       "      <td>im binding a domain objects property to the te...</td>\n",
       "      <td>[databindings, label l = new label(); l.databi...</td>\n",
       "      <td>how to refresh a simple binding of a windows f...</td>\n",
       "      <td>binding domain object property text property s...</td>\n",
       "      <td>refresh simple binding window form control</td>\n",
       "      <td>[n, v, a, n, n, n, n, a, n, n, n, v, n, n, v, ...</td>\n",
       "      <td>[n, n, v, a, n, n, n, n, n]</td>\n",
       "    </tr>\n",
       "    <tr>\n",
       "      <th>302637</th>\n",
       "      <td>How to resolve AIX tar command sockets errors?</td>\n",
       "      <td>&lt;p&gt;Working in an AIX environment, I'm issuing ...</td>\n",
       "      <td>[ $ tar  -cvf /post_patches.tar /xyz \\n   tar:...</td>\n",
       "      <td>[linux, unix, aix, tar]</td>\n",
       "      <td>working in an aix environment im issuing the f...</td>\n",
       "      <td>[ $ tar  -cvf /post_patches.tar /xyz     tar: ...</td>\n",
       "      <td>how to resolve aix tar command sockets errors</td>\n",
       "      <td>working aix environment issuing following tar ...</td>\n",
       "      <td>resolve aix tar command socket error</td>\n",
       "      <td>[v, n, n, a, n, n, v, n, a, n, n, n, a, n, n, ...</td>\n",
       "      <td>[n, n, v, a, n, n, n, n]</td>\n",
       "    </tr>\n",
       "    <tr>\n",
       "      <th>301224</th>\n",
       "      <td>Using Web Browser as a Thin Client to Access c...</td>\n",
       "      <td>&lt;p&gt;I have an ASP.NET MVC application, when a u...</td>\n",
       "      <td>[]</td>\n",
       "      <td>[asp.net-mvc, architecture]</td>\n",
       "      <td>i have an asp.net mvc application when a user ...</td>\n",
       "      <td>[]</td>\n",
       "      <td>using web browser as a thin client to access c...</td>\n",
       "      <td>asp.net mvc application user click submit butt...</td>\n",
       "      <td>using web browser thin client access certain a...</td>\n",
       "      <td>[v, n, n, n, n, n, n, n, n, n, n, n, n, n, n, ...</td>\n",
       "      <td>[v, a, n, n, a, n, n, n, a, n, n, n]</td>\n",
       "    </tr>\n",
       "  </tbody>\n",
       "</table>\n",
       "</div>"
      ],
      "text/plain": [
       "                                                    TITLE  \\\n",
       "Id                                                          \n",
       "411457  How to refresh a simple binding of a Windows F...   \n",
       "302637     How to resolve AIX tar command sockets errors?   \n",
       "301224  Using Web Browser as a Thin Client to Access c...   \n",
       "\n",
       "                                                     BODY  \\\n",
       "Id                                                          \n",
       "411457  <p>I'm binding a domain objects property to th...   \n",
       "302637  <p>Working in an AIX environment, I'm issuing ...   \n",
       "301224  <p>I have an ASP.NET MVC application, when a u...   \n",
       "\n",
       "                                                     CODE  \\\n",
       "Id                                                          \n",
       "411457  [DataBindings, Label l = new Label();\\nl.DataB...   \n",
       "302637  [ $ tar  -cvf /post_patches.tar /xyz \\n   tar:...   \n",
       "301224                                                 []   \n",
       "\n",
       "                               TAGS  \\\n",
       "Id                                    \n",
       "411457          [c#, .net, binding]   \n",
       "302637      [linux, unix, aix, tar]   \n",
       "301224  [asp.net-mvc, architecture]   \n",
       "\n",
       "                                            BODY_STRIPPED  \\\n",
       "Id                                                          \n",
       "411457  im binding a domain objects property to the te...   \n",
       "302637  working in an aix environment im issuing the f...   \n",
       "301224  i have an asp.net mvc application when a user ...   \n",
       "\n",
       "                                            CODE_STRIPPED  \\\n",
       "Id                                                          \n",
       "411457  [databindings, label l = new label(); l.databi...   \n",
       "302637  [ $ tar  -cvf /post_patches.tar /xyz     tar: ...   \n",
       "301224                                                 []   \n",
       "\n",
       "                                           TITLE_STRIPPED  \\\n",
       "Id                                                          \n",
       "411457  how to refresh a simple binding of a windows f...   \n",
       "302637      how to resolve aix tar command sockets errors   \n",
       "301224  using web browser as a thin client to access c...   \n",
       "\n",
       "                                          BODY_LEMMATIZED  \\\n",
       "Id                                                          \n",
       "411457  binding domain object property text property s...   \n",
       "302637  working aix environment issuing following tar ...   \n",
       "301224  asp.net mvc application user click submit butt...   \n",
       "\n",
       "                                         TITLE_LEMMATIZED  \\\n",
       "Id                                                          \n",
       "411457         refresh simple binding window form control   \n",
       "302637               resolve aix tar command socket error   \n",
       "301224  using web browser thin client access certain a...   \n",
       "\n",
       "                                           BODY_POSTAGGED  \\\n",
       "Id                                                          \n",
       "411457  [n, v, a, n, n, n, n, a, n, n, n, v, n, n, v, ...   \n",
       "302637  [v, n, n, a, n, n, v, n, a, n, n, n, a, n, n, ...   \n",
       "301224  [v, n, n, n, n, n, n, n, n, n, n, n, n, n, n, ...   \n",
       "\n",
       "                             TITLE_POSTAGGED  \n",
       "Id                                            \n",
       "411457           [n, n, v, a, n, n, n, n, n]  \n",
       "302637              [n, n, v, a, n, n, n, n]  \n",
       "301224  [v, a, n, n, a, n, n, n, a, n, n, n]  "
      ]
     },
     "execution_count": 15,
     "metadata": {},
     "output_type": "execute_result"
    }
   ],
   "source": [
    "df_text_reduced.sample(3, random_state=344)"
   ]
  },
  {
   "cell_type": "code",
   "execution_count": 99,
   "metadata": {
    "collapsed": true
   },
   "outputs": [],
   "source": [
    "n_example = 302637"
   ]
  },
  {
   "cell_type": "code",
   "execution_count": 100,
   "metadata": {},
   "outputs": [
    {
     "data": {
      "text/plain": [
       "'How to resolve AIX tar command sockets errors?'"
      ]
     },
     "execution_count": 100,
     "metadata": {},
     "output_type": "execute_result"
    }
   ],
   "source": [
    "df_text_reduced.loc[n_example].TITLE"
   ]
  },
  {
   "cell_type": "code",
   "execution_count": 101,
   "metadata": {},
   "outputs": [
    {
     "data": {
      "text/plain": [
       "\"<p>Working in an AIX environment, I'm issuing the following tar command and receive errors on sockets.  </p>\\n\\n<p>Question 1. How can I avoid the socket errors?</p>\\n\\n<p>Question 2. Can I rely on the tar file to contain all files excluding the ones in error?</p>\\n\\n<pre><code> $ tar  -cvf /post_patches.tar /xyz \\n   tar: /xyz/runtime/splSock6511 could not be archived\\n   tar: /xyz/runtime/splSock6507 could not be archived\\n   tar: /xyz/runtime/splSock6510 could not be archived\\n   tar: /xyz/runtime/splSock6506 could not be archived\\n\\n $ ls -asl spl*\\n   0 srwxrwxrwx    1 myuser   myuser            0 Nov 19 09:41 splSock6506\\n   0 srwxrwxrwx    1 myuser   myuser            0 Nov 19 09:41 splSock6507\\n   0 srwxrwxrwx    1 myuser   myuser            0 Nov 18 14:19 splSock6510\\n   0 srwxrwxrwx    1 myuser   myuser            0 Nov 18 14:19 splSock6511\\n</code></pre>\\n\""
      ]
     },
     "execution_count": 101,
     "metadata": {},
     "output_type": "execute_result"
    }
   ],
   "source": [
    "df_text_reduced.loc[n_example].BODY"
   ]
  },
  {
   "cell_type": "code",
   "execution_count": 102,
   "metadata": {},
   "outputs": [
    {
     "data": {
      "text/plain": [
       "'working in an aix environment im issuing the following tar command and receive errors on sockets   question 1 how can i avoid the socket errors question 2 can i rely on the tar file to contain all files excluding the ones in error   tar  -cvf post_patches.tar xyz     tar xyzruntimesplsock6511 could not be archived    tar xyzruntimesplsock6507 could not be archived    tar xyzruntimesplsock6510 could not be archived    tar xyzruntimesplsock6506 could not be archived   ls -asl spl    0 srwxrwxrwx    1 myuser   myuser            0 nov 19 0941 splsock6506    0 srwxrwxrwx    1 myuser   myuser            0 nov 19 0941 splsock6507    0 srwxrwxrwx    1 myuser   myuser            0 nov 18 1419 splsock6510    0 srwxrwxrwx    1 myuser   myuser            0 nov 18 1419 splsock6511 '"
      ]
     },
     "execution_count": 102,
     "metadata": {},
     "output_type": "execute_result"
    }
   ],
   "source": [
    "df_text_reduced.loc[n_example].BODY_STRIPPED"
   ]
  },
  {
   "cell_type": "code",
   "execution_count": 103,
   "metadata": {
    "scrolled": true
   },
   "outputs": [
    {
     "data": {
      "text/plain": [
       "'working aix environment issuing following tar command receive error socket question avoid socket error question rely tar contain excluding one error tar cvf post_patches.tar xyz tar xyzruntimesplsock6511 could archived tar xyzruntimesplsock6507 could archived tar xyzruntimesplsock6510 could archived tar xyzruntimesplsock6506 could archived l asl spl srwxrwxrwx myuser myuser nov 19 0941 splsock6506 srwxrwxrwx myuser myuser nov 19 0941 splsock6507 srwxrwxrwx myuser myuser nov 18 1419 splsock6510 srwxrwxrwx myuser myuser nov 18 1419 splsock6511'"
      ]
     },
     "execution_count": 103,
     "metadata": {},
     "output_type": "execute_result"
    }
   ],
   "source": [
    "df_text_reduced.loc[n_example].BODY_LEMMATIZED"
   ]
  },
  {
   "cell_type": "code",
   "execution_count": null,
   "metadata": {
    "collapsed": true
   },
   "outputs": [],
   "source": [
    "df_text_reduced.loc[n_example].CODE_STRIPPED"
   ]
  },
  {
   "cell_type": "markdown",
   "metadata": {},
   "source": [
    "## Eliminate low count tags"
   ]
  },
  {
   "cell_type": "code",
   "execution_count": 19,
   "metadata": {
    "collapsed": true,
    "scrolled": true
   },
   "outputs": [],
   "source": [
    "def remove_low_count_tags(data, tags_key=None):\n",
    "\n",
    "    reduced = []\n",
    "    for el in data:\n",
    "        if el in set(tags_key):\n",
    "            reduced.append(el)\n",
    "\n",
    "    if not reduced:\n",
    "        reduced = np.NaN\n",
    "\n",
    "    return reduced\n",
    "\n",
    "\n",
    "# combine all tokens together for freq dist\n",
    "tagslist_reduced = df_text_reduced.TAGS.sum()\n",
    "\n",
    "# count frequency of each tag\n",
    "# How many documents are tagged with a specific tag?\n",
    "tagsfreq_reduced = FreqDist(tagslist_reduced)\n",
    "sorted_tagsfreq_reduced = sorted(\n",
    "    tagsfreq_reduced.items(), key=itemgetter(1), reverse=True)\n",
    "tags_key_reduced, tags_value_reduced = zip(*sorted_tagsfreq_reduced)\n",
    "\n",
    "# drop keywords that have less than tag_freq\n",
    "quartile = 0.95\n",
    "n_tag = pd.Series(tags_value_reduced).quantile([quartile]).values[0]\n",
    "sorted_tagsfreq_reduced_quartile = [\n",
    "    el for el in sorted_tagsfreq_reduced if el[1] > n_tag\n",
    "]\n",
    "tags_key_reduced_quartile, tags_value_reduced_quartile = zip(\n",
    "    *sorted_tagsfreq_reduced_quartile)\n",
    "df_tags_temp = df_text_reduced.TAGS.apply(\n",
    "    remove_low_count_tags, tags_key=tags_key_reduced_quartile)\n",
    "df_text_reduced[\"TAGS_MODIFIED\"] = df_tags_temp\n",
    "df_tags_reduced = df_text_reduced[df_text_reduced.TAGS_MODIFIED.notnull()]"
   ]
  },
  {
   "cell_type": "code",
   "execution_count": 20,
   "metadata": {},
   "outputs": [
    {
     "name": "stdout",
     "output_type": "stream",
     "text": [
      "91.8% of the data are retained\n"
     ]
    }
   ],
   "source": [
    "print(\"%.1f%% of the data are retained\" %(100*len(df_tags_reduced)/len(df_tags)))"
   ]
  },
  {
   "cell_type": "markdown",
   "metadata": {},
   "source": [
    "## Statistics word types in the corpora"
   ]
  },
  {
   "cell_type": "markdown",
   "metadata": {},
   "source": [
    "### Title"
   ]
  },
  {
   "cell_type": "code",
   "execution_count": 21,
   "metadata": {},
   "outputs": [],
   "source": [
    "# combine all tokens together for freq dist\n",
    "postags_title = df_text_reduced.TITLE_POSTAGGED.sum()\n",
    "\n",
    "postagsfreq_reduced = FreqDist(postags_title)\n",
    "sorted_postagsfreq_reduced = sorted(\n",
    "    postagsfreq_reduced.items(), key=itemgetter(1), reverse=True)\n",
    "postags_key_reduced, postags_value_reduced = zip(*sorted_postagsfreq_reduced)\n",
    "norm_value_title = np.array(postags_value_reduced)/len(postags_title)"
   ]
  },
  {
   "cell_type": "markdown",
   "metadata": {},
   "source": [
    "### Body"
   ]
  },
  {
   "cell_type": "code",
   "execution_count": 22,
   "metadata": {
    "collapsed": true
   },
   "outputs": [],
   "source": [
    "# combine all tokens together for freq dist\n",
    "postags_body = df_text_reduced.BODY_POSTAGGED.sum()\n",
    "\n",
    "postagsfreq_body = FreqDist(postags_body)\n",
    "sorted_postagsfreq_body = sorted(\n",
    "    postagsfreq_body.items(), key=itemgetter(1), reverse=True)\n",
    "postags_key_body, postags_value_body = zip(*sorted_postagsfreq_body)\n",
    "norm_value_body = np.array(postags_value_body)/len(postags_body)"
   ]
  },
  {
   "cell_type": "code",
   "execution_count": 23,
   "metadata": {},
   "outputs": [
    {
     "name": "stderr",
     "output_type": "stream",
     "text": [
      "/Users/pmlee/anaconda3/lib/python3.6/site-packages/seaborn/categorical.py:1460: FutureWarning: remove_na is deprecated and is a private function. Do not use.\n",
      "  stat_data = remove_na(group_data)\n"
     ]
    },
    {
     "data": {
      "image/png": "[encoded data removed]",
      "text/plain": [
       "<matplotlib.figure.Figure at 0x1a1b761cc0>"
      ]
     },
     "metadata": {},
     "output_type": "display_data"
    }
   ],
   "source": [
    "fig, ax = plt.subplots(1,2, figsize=(8, 4), sharey=True)\n",
    "n_element = 50\n",
    "sns.barplot(\n",
    "    np.array(postags_key_reduced),\n",
    "    np.array(norm_value_title),\n",
    "    ax=ax[0])\n",
    "sns.barplot(\n",
    "    np.array(postags_key_body),\n",
    "    np.array(norm_value_body),\n",
    "    ax=ax[1])\n",
    "ax[0].set_xticklabels([\"noun\", \"verb\", \"adj\", \"adv\"])\n",
    "ax[0].set_title('Top 50 words from text title' )\n",
    "ax[1].set_xticklabels([\"noun\", \"verb\", \"adj\", \"adv\"])\n",
    "ax[1].set_title('Top 50 words from text body')\n",
    "ax[0].set_ylabel('Fraction')\n",
    "ax[0].set_xlabel(\"Word type\")\n",
    "ax[1].set_xlabel(\"Word type\")\n",
    "\n",
    "sns.despine()"
   ]
  },
  {
   "cell_type": "markdown",
   "metadata": {},
   "source": [
    "## Tags similarity\n",
    "### Comparison between Cosine similarity and Jaccard distance\n"
   ]
  },
  {
   "cell_type": "code",
   "execution_count": 24,
   "metadata": {
    "collapsed": true
   },
   "outputs": [],
   "source": [
    "from nltk.stem import PorterStemmer\n",
    "\n",
    "stemmer = PorterStemmer()\n",
    "selection_threshold =0.5\n",
    "\n",
    "sim_word_cosine = defaultdict(list)\n",
    "sim_word_jaccard = defaultdict(list)\n",
    "\n",
    "for i in range(len(tags_key_reduced_quartile)):\n",
    "    for j in range(len(tags_key_reduced_quartile)):\n",
    "        word_i = tags_key_reduced_quartile[i]\n",
    "        word_j = tags_key_reduced_quartile[j]\n",
    "        \n",
    "        # Porter stem to avoid matching words that have the same ending\n",
    "        # such as serialization, internationalization\n",
    "        word_i_lem = stemmer.stem(word_i)\n",
    "        word_j_lem = stemmer.stem(word_j)\n",
    "        \n",
    "        # generation of trigrams\n",
    "        trigrams_i = ngram(word_i_lem, 3)\n",
    "        trigrams_j = ngram(word_j_lem, 3)\n",
    "\n",
    "        cosine_sim = cosine_similarity(trigrams_i, trigrams_j)\n",
    "        jaccard_sim = jaccard_distance(trigrams_i, trigrams_j)\n",
    "\n",
    "        if cosine_sim >= selection_threshold and cosine_sim < 0.98:\n",
    "            sim_word_cosine[tags_key_reduced_quartile[i]].append({\n",
    "                tags_key_reduced_quartile[j]:\n",
    "                cosine_sim\n",
    "            })\n",
    "\n",
    "        if jaccard_sim >= selection_threshold and jaccard_sim < 1.:\n",
    "            sim_word_jaccard[tags_key_reduced_quartile[i]].append({\n",
    "                tags_key_reduced_quartile[j]:\n",
    "                jaccard_sim\n",
    "            })"
   ]
  },
  {
   "cell_type": "markdown",
   "metadata": {},
   "source": [
    "#### Use graph from network x to store associations"
   ]
  },
  {
   "cell_type": "code",
   "execution_count": 25,
   "metadata": {
    "collapsed": true
   },
   "outputs": [],
   "source": [
    "# Create a dataframe to illustrate the differences\n",
    "df_tags_sim = pd.DataFrame()\n",
    "\n",
    "for key, values in sim_word_cosine.items():\n",
    "    for i in range(len(sim_word_cosine[key])):\n",
    "        try:\n",
    "            jaccard_entry = list(sim_word_jaccard[key][i].keys())[0]\n",
    "        except IndexError:\n",
    "            jaccard_entry = np.NaN\n",
    "\n",
    "        try:\n",
    "            cosine_entry = list(sim_word_cosine[key][i].keys())[0]\n",
    "        except IndexError:\n",
    "            cosine_entry = np.NaN\n",
    "            \n",
    "        df_tags_sim = df_tags_sim.append(\n",
    "            {\n",
    "                \"TAG\": key,\n",
    "                \"TAG_JACCARD\": jaccard_entry,\n",
    "                \"TAG_COSINE\": cosine_entry\n",
    "            },\n",
    "            ignore_index=True)"
   ]
  },
  {
   "cell_type": "code",
   "execution_count": 26,
   "metadata": {
    "collapsed": true
   },
   "outputs": [],
   "source": [
    "import networkx as nx\n",
    "from networkx.drawing.nx_agraph import graphviz_layout\n",
    "\n",
    "# use a bidirectional graph\n",
    "G_tags = nx.Graph()\n",
    "node2link = zip(df_tags_sim.TAG, df_tags_sim.TAG_COSINE)\n",
    "G_tags.add_nodes_from(list(df_tags_sim.TAG))\n",
    "G_tags.add_edges_from(node2link)\n",
    "info = nx.info(G_tags)"
   ]
  },
  {
   "cell_type": "code",
   "execution_count": 27,
   "metadata": {},
   "outputs": [
    {
     "name": "stdout",
     "output_type": "stream",
     "text": [
      "Name: \n",
      "Type: Graph\n",
      "Number of nodes: 80\n",
      "Number of edges: 73\n",
      "Average degree:   1.8250\n"
     ]
    }
   ],
   "source": [
    "print(info)"
   ]
  },
  {
   "cell_type": "code",
   "execution_count": 28,
   "metadata": {},
   "outputs": [
    {
     "data": {
      "text/html": [
       "<div>\n",
       "<style scoped>\n",
       "    .dataframe tbody tr th:only-of-type {\n",
       "        vertical-align: middle;\n",
       "    }\n",
       "\n",
       "    .dataframe tbody tr th {\n",
       "        vertical-align: top;\n",
       "    }\n",
       "\n",
       "    .dataframe thead th {\n",
       "        text-align: right;\n",
       "    }\n",
       "</style>\n",
       "<table border=\"1\" class=\"dataframe\">\n",
       "  <thead>\n",
       "    <tr style=\"text-align: right;\">\n",
       "      <th></th>\n",
       "      <th>TAG</th>\n",
       "      <th>TAG_COSINE</th>\n",
       "      <th>TAG_JACCARD</th>\n",
       "    </tr>\n",
       "  </thead>\n",
       "  <tbody>\n",
       "    <tr>\n",
       "      <th>0</th>\n",
       "      <td>.net</td>\n",
       "      <td>asp.net</td>\n",
       "      <td>vb.net</td>\n",
       "    </tr>\n",
       "    <tr>\n",
       "      <th>1</th>\n",
       "      <td>.net</td>\n",
       "      <td>vb.net</td>\n",
       "      <td>NaN</td>\n",
       "    </tr>\n",
       "    <tr>\n",
       "      <th>2</th>\n",
       "      <td>.net</td>\n",
       "      <td>.net-3.5</td>\n",
       "      <td>NaN</td>\n",
       "    </tr>\n",
       "    <tr>\n",
       "      <th>3</th>\n",
       "      <td>.net</td>\n",
       "      <td>.net-2.0</td>\n",
       "      <td>NaN</td>\n",
       "    </tr>\n",
       "    <tr>\n",
       "      <th>4</th>\n",
       "      <td>.net</td>\n",
       "      <td>ado.net</td>\n",
       "      <td>NaN</td>\n",
       "    </tr>\n",
       "    <tr>\n",
       "      <th>5</th>\n",
       "      <td>java</td>\n",
       "      <td>java-ee</td>\n",
       "      <td>java-ee</td>\n",
       "    </tr>\n",
       "    <tr>\n",
       "      <th>6</th>\n",
       "      <td>asp.net</td>\n",
       "      <td>.net</td>\n",
       "      <td>asp.net-mvc</td>\n",
       "    </tr>\n",
       "    <tr>\n",
       "      <th>7</th>\n",
       "      <td>asp.net</td>\n",
       "      <td>asp.net-mvc</td>\n",
       "      <td>asp.net-ajax</td>\n",
       "    </tr>\n",
       "    <tr>\n",
       "      <th>8</th>\n",
       "      <td>asp.net</td>\n",
       "      <td>asp.net-ajax</td>\n",
       "      <td>NaN</td>\n",
       "    </tr>\n",
       "    <tr>\n",
       "      <th>9</th>\n",
       "      <td>javascript</td>\n",
       "      <td>scripting</td>\n",
       "      <td>scripting</td>\n",
       "    </tr>\n",
       "  </tbody>\n",
       "</table>\n",
       "</div>"
      ],
      "text/plain": [
       "          TAG    TAG_COSINE   TAG_JACCARD\n",
       "0        .net       asp.net        vb.net\n",
       "1        .net        vb.net           NaN\n",
       "2        .net      .net-3.5           NaN\n",
       "3        .net      .net-2.0           NaN\n",
       "4        .net       ado.net           NaN\n",
       "5        java       java-ee       java-ee\n",
       "6     asp.net          .net   asp.net-mvc\n",
       "7     asp.net   asp.net-mvc  asp.net-ajax\n",
       "8     asp.net  asp.net-ajax           NaN\n",
       "9  javascript     scripting     scripting"
      ]
     },
     "execution_count": 28,
     "metadata": {},
     "output_type": "execute_result"
    }
   ],
   "source": [
    "df_tags_sim.head(10)"
   ]
  },
  {
   "cell_type": "markdown",
   "metadata": {},
   "source": [
    "## Bag-of-words distribution associated to a tag"
   ]
  },
  {
   "cell_type": "markdown",
   "metadata": {},
   "source": [
    "### On text title"
   ]
  },
  {
   "cell_type": "code",
   "execution_count": 29,
   "metadata": {
    "collapsed": true
   },
   "outputs": [],
   "source": [
    "df_text_reduced_tokens = df_text_reduced.loc[\n",
    "    :, \"TITLE_LEMMATIZED\"].apply(lambda x: x.split())\n",
    "df_tags_title = pd.DataFrame(\n",
    "    list(zip(df_tags_reduced.TAGS_MODIFIED,\n",
    "             df_text_reduced_tokens))).rename(columns={\n",
    "                 0: \"elkey\",\n",
    "                 1: \"elvalue\"\n",
    "             })"
   ]
  },
  {
   "cell_type": "code",
   "execution_count": 30,
   "metadata": {
    "collapsed": true
   },
   "outputs": [],
   "source": [
    "corpfreq_title, corpstats_title, corpora_title = freq_stats_corpora(\n",
    "    df_tags_title)"
   ]
  },
  {
   "cell_type": "code",
   "execution_count": 31,
   "metadata": {
    "collapsed": true
   },
   "outputs": [],
   "source": [
    "# sort by values in descending order\n",
    "sorted_corpfreq_title = defaultdict(list)\n",
    "cutoff = 10\n",
    "\n",
    "for tag, tagfreq in corpfreq_title.items():\n",
    "    # only add into sorted_corpfreq if the word occurencces are>50\n",
    "    if sum(list(tagfreq.values())) > cutoff:\n",
    "        sorted_corpfreq_title[tag] = sorted(\n",
    "            tagfreq.items(), key=itemgetter(1), reverse=True)"
   ]
  },
  {
   "cell_type": "code",
   "execution_count": 32,
   "metadata": {},
   "outputs": [
    {
     "name": "stderr",
     "output_type": "stream",
     "text": [
      "/Users/pmlee/anaconda3/lib/python3.6/site-packages/seaborn/categorical.py:1460: FutureWarning: remove_na is deprecated and is a private function. Do not use.\n",
      "  stat_data = remove_na(group_data)\n"
     ]
    },
    {
     "data": {
      "image/png": "[encoded data removed]",
      "text/plain": [
       "<matplotlib.figure.Figure at 0x1a2eff4f28>"
      ]
     },
     "metadata": {},
     "output_type": "display_data"
    }
   ],
   "source": [
    "token_index = 10\n",
    "key = list(sorted_corpfreq_title.keys())[token_index]\n",
    "corptags_key_title, corptags_value_title = zip(*sorted_corpfreq_title[key])\n",
    "fig, ax = plt.subplots(figsize=(10, 4))\n",
    "n_element = 50\n",
    "sns.barplot(\n",
    "    np.array(corptags_key_title[:n_element]),\n",
    "    np.array(corptags_value_title[:n_element]),\n",
    "    ax=ax)\n",
    "ax.set_xticklabels(corptags_key_title[:n_element], rotation=90)\n",
    "ax.set_title('Top 50 words for %s from title' %key)\n",
    "sns.despine()"
   ]
  },
  {
   "cell_type": "markdown",
   "metadata": {},
   "source": [
    "### On text body"
   ]
  },
  {
   "cell_type": "code",
   "execution_count": 33,
   "metadata": {
    "collapsed": true
   },
   "outputs": [],
   "source": [
    "df_body_reduced_tokens = df_text_reduced.loc[\n",
    "    :, \"BODY_LEMMATIZED\"].apply(lambda x: x.split())\n",
    "\n",
    "df_tags_body = pd.DataFrame(\n",
    "    list(\n",
    "        zip(df_tags_reduced.TAGS_MODIFIED,\n",
    "            df_body_reduced_tokens))).rename(\n",
    "                columns={\n",
    "                    0: \"elkey\",\n",
    "                    1: \"elvalue\"\n",
    "                })"
   ]
  },
  {
   "cell_type": "code",
   "execution_count": 34,
   "metadata": {
    "collapsed": true
   },
   "outputs": [],
   "source": [
    "corpfreq_body, corpstats_body, corpora_body = freq_stats_corpora(df_tags_body)"
   ]
  },
  {
   "cell_type": "code",
   "execution_count": 35,
   "metadata": {
    "collapsed": true
   },
   "outputs": [],
   "source": [
    "# sort by values in descending order\n",
    "sorted_corpfreq_body = defaultdict(list)\n",
    "cutoff = 1\n",
    "cutoff_doc = 50\n",
    "n_most_common = 20\n",
    "# most frequent words will be the corpora that we use as a dictionary\n",
    "most_frequent_words = defaultdict(list)\n",
    "\n",
    "for tag, tagfreq in corpfreq_body.items():\n",
    "    # only add into sorted_corpfreq if the word occurencces > cutoff_doc\n",
    "    if sum(list(tagfreq.values())) > cutoff_doc:\n",
    "    \n",
    "        most_frequent_words[tag] = set(\n",
    "            i[0] for i in tagfreq.most_common(n_most_common) if i[1] > cutoff)\n",
    "        sorted_corpfreq_body[tag] = sorted(\n",
    "            tagfreq.items(), key=itemgetter(1), reverse=True)\n"
   ]
  },
  {
   "cell_type": "code",
   "execution_count": 36,
   "metadata": {},
   "outputs": [
    {
     "name": "stderr",
     "output_type": "stream",
     "text": [
      "/Users/pmlee/anaconda3/lib/python3.6/site-packages/seaborn/categorical.py:1460: FutureWarning: remove_na is deprecated and is a private function. Do not use.\n",
      "  stat_data = remove_na(group_data)\n"
     ]
    },
    {
     "data": {
      "image/png": "[encoded data removed]",
      "text/plain": [
       "<matplotlib.figure.Figure at 0x1a372479b0>"
      ]
     },
     "metadata": {},
     "output_type": "display_data"
    }
   ],
   "source": [
    "token_index = 10\n",
    "key = list(sorted_corpfreq_body.keys())[token_index]\n",
    "corptags_key_body, corptags_value_body = zip(*sorted_corpfreq_body[key])\n",
    "fig, ax = plt.subplots(figsize=(10, 4))\n",
    "n_element = 50\n",
    "sns.barplot(\n",
    "    np.array(corptags_key_body[:n_element]),\n",
    "    np.array(corptags_value_body[:n_element]),\n",
    "    ax=ax)\n",
    "ax.set_xticklabels(corptags_key_body[:n_element], rotation=90)\n",
    "ax.set_title(\n",
    "    'Top 50 words for %s from text body' %key)\n",
    "sns.despine()"
   ]
  },
  {
   "cell_type": "markdown",
   "metadata": {},
   "source": [
    "__Observation__:\n",
    "- From text.body and text.title, the tag words appear the most often in the word distrbution. For example, \n",
    "    - {tagword: *python*, word_distrb: {python: 280, way: 120...}\n",
    "    - {tagword: *performance*, word_distrb: {performance: 120, time: 50...}\n",
    "    - {tagword: *html*, word_distrb: {html: 150, page: 80...}\n",
    "- This implies that we can rely on the presence of certain words to correctly predict tags"
   ]
  },
  {
   "cell_type": "markdown",
   "metadata": {},
   "source": [
    "# Supervised learning: ScikitLearn OneVsRest Classifier"
   ]
  },
  {
   "cell_type": "code",
   "execution_count": 37,
   "metadata": {
    "collapsed": true
   },
   "outputs": [],
   "source": [
    "# Some flags\n",
    "l_crossval = True"
   ]
  },
  {
   "cell_type": "markdown",
   "metadata": {},
   "source": [
    "## Use text title +body"
   ]
  },
  {
   "cell_type": "markdown",
   "metadata": {},
   "source": [
    "### Random sampling"
   ]
  },
  {
   "cell_type": "code",
   "execution_count": 38,
   "metadata": {
    "collapsed": true
   },
   "outputs": [],
   "source": [
    "df_tags_reduced_sampled = df_tags_reduced.sample(5000, random_state=2)"
   ]
  },
  {
   "cell_type": "markdown",
   "metadata": {},
   "source": [
    "### Label binarization"
   ]
  },
  {
   "cell_type": "code",
   "execution_count": 39,
   "metadata": {
    "collapsed": true
   },
   "outputs": [],
   "source": [
    "from sklearn.preprocessing import MultiLabelBinarizer\n",
    "\n",
    "lb = MultiLabelBinarizer()\n",
    "targets = lb.fit_transform(df_tags_reduced_sampled.TAGS_MODIFIED)"
   ]
  },
  {
   "cell_type": "markdown",
   "metadata": {},
   "source": [
    "\n",
    "### Train/crossval/test split\n",
    "We create a corpus from the train set. This corpus contains the n most frequent words in each tag. We have seen previously that the tag is often found in the text body."
   ]
  },
  {
   "cell_type": "code",
   "execution_count": 40,
   "metadata": {
    "collapsed": true
   },
   "outputs": [],
   "source": [
    "X_counts = df_tags_reduced_sampled.TITLE_LEMMATIZED \\\n",
    "            +' '+ df_tags_reduced_sampled.BODY_LEMMATIZED\n",
    "\n",
    "# shuffle indices\n",
    "idx = np.arange(X_counts.shape[0])\n",
    "np.random.seed(23)\n",
    "np.random.shuffle(idx)\n",
    "\n",
    "# Generate train/crossval/test sets\n",
    "train_size = int(.8 * X_counts.shape[0])\n",
    "\n",
    "X_train = X_counts.iloc[idx[:train_size]]\n",
    "y_train = targets[idx[:train_size],:]\n",
    "X_test = X_counts.iloc[idx[train_size:]]\n",
    "y_test = targets[idx[train_size:],:]"
   ]
  },
  {
   "cell_type": "markdown",
   "metadata": {},
   "source": [
    "## Most frequent words\n"
   ]
  },
  {
   "cell_type": "code",
   "execution_count": 41,
   "metadata": {},
   "outputs": [],
   "source": [
    "df_X_counts = X_counts.apply(lambda x: x.split())\n",
    "# combine all tokens together for freq dist\n",
    "X_counts_corpora = df_X_counts.sum()"
   ]
  },
  {
   "cell_type": "markdown",
   "metadata": {},
   "source": [
    "### Monograms"
   ]
  },
  {
   "cell_type": "code",
   "execution_count": 42,
   "metadata": {
    "collapsed": true
   },
   "outputs": [],
   "source": [
    "X_count_freq = FreqDist(X_counts_corpora)\n",
    "sorted_X_count_freq = sorted(X_count_freq.items(), key = itemgetter(1), reverse=True)\n",
    "X_counts_key, X_counts_value = zip(*sorted_X_count_freq)"
   ]
  },
  {
   "cell_type": "code",
   "execution_count": 43,
   "metadata": {},
   "outputs": [
    {
     "data": {
      "text/plain": [
       "count    38110.000000\n",
       "mean         8.106219\n",
       "std         48.675443\n",
       "min          1.000000\n",
       "50%          1.000000\n",
       "80%          3.000000\n",
       "90%          8.000000\n",
       "95%         21.000000\n",
       "max       2490.000000\n",
       "Name: FREQ, dtype: float64"
      ]
     },
     "execution_count": 43,
     "metadata": {},
     "output_type": "execute_result"
    }
   ],
   "source": [
    "df_X_counts = pd.DataFrame(\n",
    "    list(zip(X_counts_key, X_counts_value)), columns=[\"WORD\", \"FREQ\"])\n",
    "df_X_counts.FREQ.describe([0.8, 0.9, 0.95])"
   ]
  },
  {
   "cell_type": "code",
   "execution_count": 44,
   "metadata": {},
   "outputs": [
    {
     "name": "stdout",
     "output_type": "stream",
     "text": [
      "Total number of words: 38110, we'll take only the top 10%: 3604 words\n"
     ]
    }
   ],
   "source": [
    "df_X_counts_90 = df_X_counts[df_X_counts.FREQ>df_X_counts.FREQ.quantile(0.9)]\n",
    "print(\"Total number of words: {}, we'll take only the top 10%: {} words\".format(\n",
    "    len(X_counts_key), len(df_X_counts_90)))"
   ]
  },
  {
   "cell_type": "code",
   "execution_count": 45,
   "metadata": {},
   "outputs": [
    {
     "name": "stderr",
     "output_type": "stream",
     "text": [
      "/Users/pmlee/anaconda3/lib/python3.6/site-packages/seaborn/categorical.py:1460: FutureWarning: remove_na is deprecated and is a private function. Do not use.\n",
      "  stat_data = remove_na(group_data)\n"
     ]
    },
    {
     "data": {
      "image/png": "[encoded data removed]",
      "text/plain": [
       "<matplotlib.figure.Figure at 0x1a3b4fb4a8>"
      ]
     },
     "metadata": {},
     "output_type": "display_data"
    }
   ],
   "source": [
    "fig, ax = plt.subplots(figsize=(10, 4))\n",
    "n_element = 50\n",
    "sns.barplot(\n",
    "    np.array(X_counts_key[:n_element]),\n",
    "    np.array(X_counts_value[:n_element]),\n",
    "    ax=ax)\n",
    "ax.set_xticklabels(X_counts_key[:n_element], rotation=90)\n",
    "ax.set_title(\n",
    "    'Top 50 words from text')\n",
    "sns.despine()"
   ]
  },
  {
   "cell_type": "markdown",
   "metadata": {},
   "source": [
    "__Observation__:\n",
    "- more than 50% of the words only have 1 occurence, we can a limit at the selection of max features. Here top 5% of the words have >= 19 occurences, we can reduce our number choice of words to the top 5%."
   ]
  },
  {
   "cell_type": "markdown",
   "metadata": {},
   "source": [
    "### Bigrams"
   ]
  },
  {
   "cell_type": "code",
   "execution_count": 46,
   "metadata": {},
   "outputs": [],
   "source": [
    "from nltk import bigrams\n",
    "X_count_corpora_bi = bigrams(X_counts_corpora)\n",
    "X_count_freq_bi = FreqDist(X_count_corpora_bi)\n",
    "sorted_X_count_freq_bi = sorted(X_count_freq_bi.items(), key = itemgetter(1), reverse=True)\n",
    "X_counts_key_bi, X_counts_value_bi = zip(*sorted_X_count_freq_bi)\n",
    "X_counts_join_key_bi = [\" \".join(w) for w in X_counts_key_bi]"
   ]
  },
  {
   "cell_type": "code",
   "execution_count": 47,
   "metadata": {},
   "outputs": [
    {
     "data": {
      "text/plain": [
       "count    231485.000000\n",
       "mean          1.334544\n",
       "std           2.068314\n",
       "min           1.000000\n",
       "50%           1.000000\n",
       "80%           1.000000\n",
       "90%           2.000000\n",
       "95%           3.000000\n",
       "98%           4.000000\n",
       "max         299.000000\n",
       "Name: FREQ, dtype: float64"
      ]
     },
     "execution_count": 47,
     "metadata": {},
     "output_type": "execute_result"
    }
   ],
   "source": [
    "df_X_counts_bi = pd.DataFrame(\n",
    "    list(zip(X_counts_join_key_bi, X_counts_value_bi)),\n",
    "    columns=[\"WORD\", \"FREQ\"])\n",
    "df_X_counts_bi.FREQ.describe([0.8, 0.9, 0.95, 0.98])"
   ]
  },
  {
   "cell_type": "code",
   "execution_count": 48,
   "metadata": {},
   "outputs": [
    {
     "name": "stdout",
     "output_type": "stream",
     "text": [
      "Total number of words: 231485, we'll take only the top 10%: 12775 words\n"
     ]
    }
   ],
   "source": [
    "df_X_counts_bi_90 = df_X_counts_bi[\n",
    "    df_X_counts_bi.FREQ > df_X_counts_bi.FREQ.quantile(0.9)]\n",
    "print(\"Total number of words: {}, we'll take only the top 10%: {} words\".format(\n",
    "    len(X_counts_join_key_bi), len(df_X_counts_bi_90)))"
   ]
  },
  {
   "cell_type": "code",
   "execution_count": 49,
   "metadata": {},
   "outputs": [
    {
     "name": "stderr",
     "output_type": "stream",
     "text": [
      "/Users/pmlee/anaconda3/lib/python3.6/site-packages/seaborn/categorical.py:1460: FutureWarning: remove_na is deprecated and is a private function. Do not use.\n",
      "  stat_data = remove_na(group_data)\n"
     ]
    },
    {
     "data": {
      "image/png": "[encoded data removed]",
      "text/plain": [
       "<matplotlib.figure.Figure at 0x1a320fae48>"
      ]
     },
     "metadata": {},
     "output_type": "display_data"
    }
   ],
   "source": [
    "fig, ax = plt.subplots(figsize=(10, 4))\n",
    "n_element = 50\n",
    "sns.barplot(\n",
    "    np.array(X_counts_join_key_bi[:n_element]),\n",
    "    np.array(X_counts_value_bi[:n_element]),\n",
    "    ax=ax)\n",
    "ax.set_xticklabels(X_counts_join_key_bi[:n_element], rotation=90)\n",
    "ax.set_title(\n",
    "    'Top 50 bigrams from text')\n",
    "sns.despine()"
   ]
  },
  {
   "cell_type": "markdown",
   "metadata": {},
   "source": [
    "### Trigrams"
   ]
  },
  {
   "cell_type": "code",
   "execution_count": 50,
   "metadata": {
    "collapsed": true
   },
   "outputs": [],
   "source": [
    "from nltk import trigrams\n",
    "X_count_corpora_tri = trigrams(X_counts_corpora)\n",
    "X_count_freq_tri = FreqDist(X_count_corpora_tri)\n",
    "sorted_X_count_freq_tri = sorted(X_count_freq_tri.items(), key = itemgetter(1), reverse=True)\n",
    "X_counts_key_tri, X_counts_value_tri = zip(*sorted_X_count_freq_tri)\n",
    "X_counts_join_key_tri = [\" \".join(w) for w in X_counts_key_tri]"
   ]
  },
  {
   "cell_type": "code",
   "execution_count": 51,
   "metadata": {},
   "outputs": [
    {
     "data": {
      "text/plain": [
       "count    293590.000000\n",
       "mean          1.052236\n",
       "std           0.600468\n",
       "min           1.000000\n",
       "50%           1.000000\n",
       "80%           1.000000\n",
       "90%           1.000000\n",
       "95%           1.000000\n",
       "98%           2.000000\n",
       "max         138.000000\n",
       "Name: FREQ, dtype: float64"
      ]
     },
     "execution_count": 51,
     "metadata": {},
     "output_type": "execute_result"
    }
   ],
   "source": [
    "df_X_counts_tri = pd.DataFrame(\n",
    "    list(zip(X_counts_join_key_tri, X_counts_value_tri)),\n",
    "    columns=[\"WORD\", \"FREQ\"])\n",
    "df_X_counts_tri.FREQ.describe([0.8, 0.9, 0.95, 0.98])"
   ]
  },
  {
   "cell_type": "code",
   "execution_count": 52,
   "metadata": {},
   "outputs": [
    {
     "name": "stdout",
     "output_type": "stream",
     "text": [
      "Total number of words: 293590, we'll take only the top 2%: 9091 words\n"
     ]
    }
   ],
   "source": [
    "df_X_counts_tri_90 = df_X_counts_tri[\n",
    "    df_X_counts_tri.FREQ > df_X_counts_tri.FREQ.quantile(0.9)]\n",
    "print(\"Total number of words: {}, we'll take only the top 2%: {} words\".format(\n",
    "    len(X_counts_join_key_tri), len(df_X_counts_tri_90)))"
   ]
  },
  {
   "cell_type": "code",
   "execution_count": 53,
   "metadata": {},
   "outputs": [
    {
     "name": "stderr",
     "output_type": "stream",
     "text": [
      "/Users/pmlee/anaconda3/lib/python3.6/site-packages/seaborn/categorical.py:1460: FutureWarning: remove_na is deprecated and is a private function. Do not use.\n",
      "  stat_data = remove_na(group_data)\n"
     ]
    },
    {
     "data": {
      "image/png": "[encoded data removed]",
      "text/plain": [
       "<matplotlib.figure.Figure at 0x1a2362ecf8>"
      ]
     },
     "metadata": {},
     "output_type": "display_data"
    }
   ],
   "source": [
    "fig, ax = plt.subplots(figsize=(8, 4))\n",
    "n_element = 30\n",
    "sns.barplot(\n",
    "    np.array(X_counts_join_key_tri[:n_element]),\n",
    "    np.array(X_counts_value_tri[:n_element]),\n",
    "    ax=ax)\n",
    "ax.set_xticklabels(X_counts_join_key_tri[:n_element], rotation=90)\n",
    "ax.set_title(\n",
    "    'Top 50 trigrams from text')\n",
    "sns.despine()"
   ]
  },
  {
   "cell_type": "code",
   "execution_count": 54,
   "metadata": {},
   "outputs": [
    {
     "data": {
      "text/plain": [
       "count    269595.000000\n",
       "mean          2.291790\n",
       "std          18.551442\n",
       "min           1.000000\n",
       "50%           1.000000\n",
       "80%           1.000000\n",
       "90%           2.000000\n",
       "95%           4.000000\n",
       "98%           8.000000\n",
       "max        2490.000000\n",
       "Name: FREQ, dtype: float64"
      ]
     },
     "execution_count": 54,
     "metadata": {},
     "output_type": "execute_result"
    }
   ],
   "source": [
    "df_X_counts_mono_bi = pd.DataFrame(\n",
    "    list(zip(X_counts_key, X_counts_value)) +\n",
    "    list(zip(X_counts_join_key_bi, X_counts_value_bi)),\n",
    "    columns=[\"WORD\", \"FREQ\"])\n",
    "df_X_counts_mono_bi.FREQ.describe([0.8, 0.9, 0.95, 0.98])"
   ]
  },
  {
   "cell_type": "code",
   "execution_count": 55,
   "metadata": {},
   "outputs": [
    {
     "name": "stdout",
     "output_type": "stream",
     "text": [
      "Total number of words: 269595, we'll take only the top 10%: 21844 words\n"
     ]
    }
   ],
   "source": [
    "df_X_counts_mono_bi_90 = df_X_counts_mono_bi[\n",
    "    df_X_counts_mono_bi.FREQ > df_X_counts_mono_bi.FREQ.quantile(0.9)]\n",
    "print(\n",
    "    \"Total number of words: {}, we'll take only the top 10%: {} words\".format(\n",
    "        len(df_X_counts_mono_bi), len(df_X_counts_mono_bi_90)))"
   ]
  },
  {
   "cell_type": "code",
   "execution_count": 56,
   "metadata": {},
   "outputs": [
    {
     "data": {
      "text/plain": [
       "count    525075.000000\n",
       "mean          1.176695\n",
       "std           1.451624\n",
       "min           1.000000\n",
       "50%           1.000000\n",
       "80%           1.000000\n",
       "90%           1.000000\n",
       "95%           2.000000\n",
       "98%           3.000000\n",
       "max         299.000000\n",
       "Name: FREQ, dtype: float64"
      ]
     },
     "execution_count": 56,
     "metadata": {},
     "output_type": "execute_result"
    }
   ],
   "source": [
    "df_X_counts_bi_tri = pd.DataFrame(\n",
    "    list(zip(X_counts_join_key_bi, X_counts_value_bi)) +\n",
    "    list(zip(X_counts_join_key_tri, X_counts_value_tri)),\n",
    "    columns=[\"WORD\", \"FREQ\"])\n",
    "df_X_counts_bi_tri.FREQ.describe([0.8, 0.9, 0.95, 0.98])"
   ]
  },
  {
   "cell_type": "code",
   "execution_count": 57,
   "metadata": {},
   "outputs": [
    {
     "name": "stdout",
     "output_type": "stream",
     "text": [
      "Total number of words: 525075, we'll take only the top 10%: 42848 words\n"
     ]
    }
   ],
   "source": [
    "df_X_counts_bi_tri_90 = df_X_counts_bi_tri[\n",
    "    df_X_counts_bi_tri.FREQ > df_X_counts_bi_tri.FREQ.quantile(0.90)]\n",
    "print(\"Total number of words: {}, we'll take only the top 10%: {} words\".format(\n",
    "    len(df_X_counts_bi_tri), len(df_X_counts_bi_tri_90)))"
   ]
  },
  {
   "cell_type": "code",
   "execution_count": 58,
   "metadata": {},
   "outputs": [
    {
     "data": {
      "text/plain": [
       "count    563185.000000\n",
       "mean          1.645607\n",
       "std          12.857587\n",
       "min           1.000000\n",
       "50%           1.000000\n",
       "80%           1.000000\n",
       "90%           2.000000\n",
       "95%           2.000000\n",
       "98%           4.000000\n",
       "max        2490.000000\n",
       "Name: FREQ, dtype: float64"
      ]
     },
     "execution_count": 58,
     "metadata": {},
     "output_type": "execute_result"
    }
   ],
   "source": [
    "df_X_counts_mono_tri = pd.DataFrame(\n",
    "    list(zip(X_counts_key, X_counts_value)) +\n",
    "    list(zip(X_counts_join_key_bi, X_counts_value_bi)) +\n",
    "    list(zip(X_counts_join_key_tri, X_counts_value_tri)),\n",
    "    columns=[\"WORD\", \"FREQ\"])\n",
    "df_X_counts_mono_tri.FREQ.describe([0.8, 0.9, 0.95, 0.98])"
   ]
  },
  {
   "cell_type": "code",
   "execution_count": 59,
   "metadata": {},
   "outputs": [
    {
     "name": "stdout",
     "output_type": "stream",
     "text": [
      "Total number of words: 563185, we'll take only the top 10%: 24019 words\n"
     ]
    }
   ],
   "source": [
    "df_X_counts_mono_tri_90 = df_X_counts_mono_tri[\n",
    "    df_X_counts_mono_tri.FREQ > df_X_counts_mono_tri.FREQ.quantile(0.90)]\n",
    "print(\"Total number of words: {}, we'll take only the top 10%: {} words\".format(\n",
    "    len(df_X_counts_mono_tri), len(df_X_counts_mono_tri_90)))"
   ]
  },
  {
   "cell_type": "markdown",
   "metadata": {},
   "source": [
    "### Training with Dummy Classifier (strategy=prior)\n",
    "__Count vectorizer__ "
   ]
  },
  {
   "cell_type": "code",
   "execution_count": 60,
   "metadata": {
    "collapsed": true
   },
   "outputs": [],
   "source": [
    "def tokenize(text):\n",
    "    return text.split(' ')\n",
    "\n",
    "params_vectorizer = {'max_features': len(df_X_counts_90), \n",
    "                     'tokenizer' :tokenize, 'lowercase':False}"
   ]
  },
  {
   "cell_type": "code",
   "execution_count": 61,
   "metadata": {
    "scrolled": true
   },
   "outputs": [
    {
     "name": "stdout",
     "output_type": "stream",
     "text": [
      "Test score: 0.12\n"
     ]
    }
   ],
   "source": [
    "from sklearn.multiclass import OneVsRestClassifier\n",
    "from sklearn.pipeline import Pipeline\n",
    "from sklearn.dummy import DummyClassifier\n",
    "from sklearn.metrics import jaccard_similarity_score\n",
    "from sklearn.feature_extraction.text import CountVectorizer\n",
    "\n",
    "Dummy_pipeline_count = Pipeline([\n",
    "    ('count', CountVectorizer(**params_vectorizer)),\n",
    "    ('clf', OneVsRestClassifier(DummyClassifier(strategy='prior'))),\n",
    "])\n",
    "\n",
    "Dummy_pipeline_count.fit(X_train, y_train)\n",
    "# compute the testing accuracy\n",
    "y_pred_count_dummy = Dummy_pipeline_count.predict(X_test)\n",
    "y_pred_proba_count_dummy = Dummy_pipeline_count.predict_proba(X_test)\n",
    "y_pred_new_count_dummy = get_best_tags(y_pred_count_dummy,\n",
    "                                       y_pred_proba_count_dummy, n_tags=3)\n",
    "score_dummy_count = evaluate(\n",
    "    y_test,\n",
    "    y_pred_new_count_dummy,\n",
    "    binarizer=lb,\n",
    "    G_tags=G_tags,\n",
    "    l_print_errors=False,\n",
    "    l_deduplication=True)\n",
    "\n",
    "print('Test score: {0:.2f}'.format(score_dummy_count))"
   ]
  },
  {
   "cell_type": "markdown",
   "metadata": {},
   "source": [
    "__Tfidf vectorizer__ "
   ]
  },
  {
   "cell_type": "code",
   "execution_count": 62,
   "metadata": {},
   "outputs": [
    {
     "name": "stdout",
     "output_type": "stream",
     "text": [
      "Test score: 0.12\n"
     ]
    }
   ],
   "source": [
    "from sklearn.feature_extraction.text import TfidfVectorizer\n",
    "\n",
    "Dummy_pipeline_tfidf = Pipeline([\n",
    "    ('tfidf', TfidfVectorizer(**params_vectorizer)),\n",
    "    ('clf', OneVsRestClassifier(DummyClassifier(strategy='prior'))),\n",
    "])\n",
    "\n",
    "Dummy_pipeline_tfidf.fit(X_train, y_train)\n",
    "# compute the testing accuracy\n",
    "y_pred_tfidf_dummy = Dummy_pipeline_tfidf.predict(X_test)\n",
    "y_pred_proba_tfidf_dummy = Dummy_pipeline_tfidf.predict_proba(X_test)\n",
    "y_pred_new_tfidf_dummy = get_best_tags(y_pred_tfidf_dummy,\n",
    "                                       y_pred_proba_tfidf_dummy, n_tags=3)\n",
    "score_dummy_tfidf = evaluate(\n",
    "    y_test,\n",
    "    y_pred_new_tfidf_dummy,\n",
    "    binarizer=lb,\n",
    "    G_tags=G_tags,\n",
    "    l_print_errors=False,\n",
    "    l_deduplication=True)\n",
    "\n",
    "print('Test score: {0:.2f}'.format(score_dummy_tfidf))"
   ]
  },
  {
   "cell_type": "markdown",
   "metadata": {},
   "source": [
    "### Training with Naive Bayes Classifier\n",
    "__Count vectorizer__ "
   ]
  },
  {
   "cell_type": "code",
   "execution_count": 63,
   "metadata": {
    "scrolled": true
   },
   "outputs": [
    {
     "name": "stdout",
     "output_type": "stream",
     "text": [
      "Test score: 0.37\n"
     ]
    }
   ],
   "source": [
    "from sklearn.naive_bayes import MultinomialNB\n",
    "\n",
    "NB_pipeline_count = Pipeline([\n",
    "    ('count', CountVectorizer(**params_vectorizer)),\n",
    "    ('clf', OneVsRestClassifier(\n",
    "        MultinomialNB(fit_prior=True, class_prior=None))),\n",
    "])\n",
    "\n",
    "NB_pipeline_count.fit(X_train, y_train)\n",
    "# compute the testing accuracy\n",
    "y_pred_count = NB_pipeline_count.predict(X_test)\n",
    "y_pred_proba_count = NB_pipeline_count.predict_proba(X_test)\n",
    "y_pred_new_count = get_best_tags(y_pred_count, y_pred_proba_count, n_tags=3)\n",
    "\n",
    "score_nb_count, errors_count = evaluate(\n",
    "    y_test,\n",
    "    y_pred_new_count,\n",
    "    binarizer=lb,\n",
    "    G_tags=G_tags,\n",
    "    l_print_errors=True,\n",
    "    l_deduplication=True)\n",
    "\n",
    "print('Test score: {0:.2f}'.format(score_nb_count))"
   ]
  },
  {
   "cell_type": "markdown",
   "metadata": {},
   "source": [
    "__Tfidf vectorizer__"
   ]
  },
  {
   "cell_type": "code",
   "execution_count": 64,
   "metadata": {},
   "outputs": [
    {
     "name": "stdout",
     "output_type": "stream",
     "text": [
      "Test score: 0.22\n"
     ]
    }
   ],
   "source": [
    "NB_pipeline_tfidf = Pipeline([\n",
    "    ('tfidf', TfidfVectorizer(**params_vectorizer)),\n",
    "    ('clf', OneVsRestClassifier(\n",
    "        MultinomialNB(fit_prior=True, class_prior=None))),\n",
    "])\n",
    "\n",
    "NB_pipeline_tfidf.fit(X_train, y_train)\n",
    "# compute the testing accuracy\n",
    "y_pred_tfidf = NB_pipeline_tfidf.predict(X_test)\n",
    "y_pred_proba_tfidf = NB_pipeline_tfidf.predict_proba(X_test)\n",
    "y_pred_new_tfidf = get_best_tags(y_pred_tfidf, y_pred_proba_tfidf, n_tags=3)\n",
    "\n",
    "score_nb_tfidf, errors_tfidf = evaluate(\n",
    "    y_test,\n",
    "    y_pred_new_tfidf,\n",
    "    binarizer=lb,\n",
    "    G_tags=G_tags,\n",
    "    l_print_errors=True,\n",
    "    l_deduplication=True)\n",
    "\n",
    "print('Test score: {0:.2f}'.format(score_nb_tfidf))"
   ]
  },
  {
   "cell_type": "code",
   "execution_count": 79,
   "metadata": {
    "collapsed": true
   },
   "outputs": [],
   "source": [
    "from sklearn.model_selection import learning_curve, KFold, GridSearchCV\n",
    "class CrossValidation(object):\n",
    "    def __init__(self,\n",
    "                 classifier,\n",
    "                 vectorizer,\n",
    "                 params,\n",
    "                 binarizer,\n",
    "                 G_tags,\n",
    "                 n_splits=3,\n",
    "                 n_tags=1,\n",
    "                 score_threshold=0.5,\n",
    "                 l_deduplication=False,\n",
    "                 l_print_errors=False):\n",
    "        self.classifier = classifier\n",
    "        self.vectorizer = vectorizer\n",
    "        self.params = params\n",
    "        self.n_splits = n_splits\n",
    "        self.binarizer = binarizer\n",
    "        self.G_tags = G_tags\n",
    "        self.n_tags = n_tags\n",
    "        self.score_threshold = score_threshold\n",
    "        self.l_print_errors = l_print_errors\n",
    "        self.l_deduplication = l_deduplication\n",
    "\n",
    "    def _construct_pipeline(self):\n",
    "\n",
    "        pipeline = Pipeline([\n",
    "            ('vectorizer', self.vectorizer),\n",
    "            ('clf', self.classifier),])\n",
    "        self.pipeline = pipeline\n",
    "\n",
    "    def cv(self, X_train, y_train):\n",
    "        kf = KFold(n_splits=self.n_splits)\n",
    "\n",
    "        key = list(self.params.keys())[0]\n",
    "        cv_scores = [[] for i in range(len(self.params[key]))]\n",
    "        mean_cv_dict = dict()\n",
    "        self._construct_pipeline()\n",
    "\n",
    "        for idx, value in enumerate(self.params[key]):\n",
    "\n",
    "            params = {key: value}\n",
    "\n",
    "            for train_index, test_index in kf.split(X_train, y_train):\n",
    "\n",
    "                X_train_train = X_train.iloc[train_index]\n",
    "                y_train_train = y_train[train_index,:]\n",
    "\n",
    "                X_train_test = X_train.iloc[test_index]\n",
    "                y_train_test = y_train[test_index,:]\n",
    "               \n",
    "                self.pipeline.named_steps['clf'].estimator.set_params(**params)\n",
    "                self.pipeline.fit(X_train_train, y_train_train)\n",
    "\n",
    "                y_pred = self.pipeline.predict(X_train_test)\n",
    "                y_pred_proba = self.pipeline.predict_proba(X_train_test)\n",
    "                y_pred_new = get_best_tags(y_pred, y_pred_proba, n_tags = self.n_tags)\n",
    "                cv_scores[idx].append(evaluate(y_train_test, y_pred_new,\n",
    "                                               binarizer=self.binarizer,\n",
    "                                               G_tags=self.G_tags,\n",
    "                                               score_threshold=self.score_threshold,\n",
    "                                               l_print_errors=self.l_print_errors,\n",
    "                                               l_deduplication=self.l_deduplication))\n",
    "\n",
    "            mean_cv_dict[value] = np.mean(cv_scores[idx])\n",
    "\n",
    "        sorted_mean_cv_dict = sorted(\n",
    "            mean_cv_dict.items(), key=itemgetter(1), reverse=True)\n",
    "        self.best_parameter_ = {key: {\"value\": sorted_mean_cv_dict[0][0],\n",
    "                                      \"mean\": sorted_mean_cv_dict[0][1]}}"
   ]
  },
  {
   "cell_type": "markdown",
   "metadata": {},
   "source": [
    "### Training with SVM\n",
    "__Count vectorizer__"
   ]
  },
  {
   "cell_type": "code",
   "execution_count": 81,
   "metadata": {},
   "outputs": [
    {
     "name": "stdout",
     "output_type": "stream",
     "text": [
      "Best parameter {'base_estimator__C': {'value': 0.01, 'mean': 0.4463501470049685}}\n",
      "Test score: 0.46\n"
     ]
    }
   ],
   "source": [
    "from sklearn.svm import SVC\n",
    "from sklearn.calibration import CalibratedClassifierCV\n",
    "\n",
    "best_params = {\"kernel\": \"linear\"}\n",
    "# cross validation\n",
    "if l_crossval:\n",
    "    params_classifier = {\"base_estimator__C\": np.logspace(-2, 1, 4)}\n",
    "    crossval = CrossValidation(\n",
    "        OneVsRestClassifier(CalibratedClassifierCV(SVC(**best_params))),\n",
    "        CountVectorizer(**params_vectorizer), params_classifier, lb, G_tags)\n",
    "    crossval.cv(X_train, y_train)\n",
    "\n",
    "    best_params[\"C\"] = crossval.best_parameter_[\"base_estimator__C\"][\"value\"]\n",
    "    print(\"Best parameter\", crossval.best_parameter_)\n",
    "\n",
    "else:\n",
    "    # result is given by previously cross validation process\n",
    "    best_params[\"C\"] = .01\n",
    "\n",
    "SVM_pipeline_count = Pipeline([\n",
    "    ('count', CountVectorizer(**params_vectorizer)),\n",
    "    ('clf', OneVsRestClassifier(CalibratedClassifierCV(SVC(**best_params)))),\n",
    "])\n",
    "\n",
    "SVM_pipeline_count.fit(X_train, y_train)\n",
    "y_pred_svm_count = SVM_pipeline_count.predict(X_test)\n",
    "y_pred_proba_svm_count = SVM_pipeline_count.predict_proba(X_test)\n",
    "y_pred_new_svm_count = get_best_tags(y_pred_svm_count, y_pred_proba_svm_count)\n",
    "\n",
    "score_svm_count = evaluate(\n",
    "    y_test,\n",
    "    y_pred_new_svm_count,\n",
    "    binarizer=lb,\n",
    "    G_tags=G_tags,\n",
    "    l_print_errors=False,\n",
    "    l_deduplication=True)\n",
    "\n",
    "print('Test score: {0:.2f}'.format(score_svm_count))"
   ]
  },
  {
   "cell_type": "markdown",
   "metadata": {},
   "source": [
    "__Tfidf vectorizer__"
   ]
  },
  {
   "cell_type": "code",
   "execution_count": 82,
   "metadata": {},
   "outputs": [
    {
     "name": "stdout",
     "output_type": "stream",
     "text": [
      "Best parameter {'base_estimator__C': {'value': 0.1, 'mean': 0.4984930621115797}}\n",
      "Test score: 0.53\n"
     ]
    }
   ],
   "source": [
    "# cross validation\n",
    "best_params = {\"kernel\": \"linear\"}\n",
    "if l_crossval:\n",
    "    params_classifier = {\"base_estimator__C\": np.logspace(-2, 1, 4)}\n",
    "    crossval_tfidf = CrossValidation(\n",
    "        OneVsRestClassifier(CalibratedClassifierCV(SVC(**best_params))),\n",
    "        TfidfVectorizer(**params_vectorizer), params_classifier, lb, G_tags)\n",
    "    crossval_tfidf.cv(X_train, y_train)\n",
    "    best_params[\"C\"] = crossval.best_parameter_[\"base_estimator__C\"][\"value\"]\n",
    "    print(\"Best parameter\", crossval_tfidf.best_parameter_)\n",
    "\n",
    "else:\n",
    "    # result is given by previously cross validation process\n",
    "    best_params[\"C\"] = 0.1\n",
    "\n",
    "SVM_pipeline_tfidf = Pipeline([\n",
    "    ('tfidf', TfidfVectorizer(**params_vectorizer)),\n",
    "    ('clf', OneVsRestClassifier(CalibratedClassifierCV(SVC(**best_params)))),\n",
    "])\n",
    "\n",
    "SVM_pipeline_tfidf.fit(X_train, y_train)\n",
    "y_pred_svm_tfidf = SVM_pipeline_tfidf.predict(X_test)\n",
    "y_pred_proba_svm_tfidf = SVM_pipeline_tfidf.predict_proba(X_test)\n",
    "y_pred_new_svm_tfidf = get_best_tags(\n",
    "    y_pred_svm_tfidf, y_pred_proba_svm_tfidf, n_tags=2)\n",
    "\n",
    "score_svm_tfidf = evaluate(\n",
    "    y_test,\n",
    "    y_pred_new_svm_tfidf,\n",
    "    binarizer=lb,\n",
    "    G_tags=G_tags,\n",
    "    l_print_errors=False,\n",
    "    l_deduplication=True)\n",
    "\n",
    "print('Test score: {0:.2f}'.format(score_svm_tfidf))"
   ]
  },
  {
   "cell_type": "code",
   "execution_count": 83,
   "metadata": {},
   "outputs": [
    {
     "name": "stdout",
     "output_type": "stream",
     "text": [
      "y_true:  [('sql', 'sql-server')] , y_pred: [('sql',)]\n",
      "y_true:  [('browser', 'silverlight')] , y_pred: [('silverlight',)]\n",
      "y_true:  [('c#', 'design-patterns', 'winforms')] , y_pred: [('c#',)]\n",
      "y_true:  [('css', 'javascript')] , y_pred: [('javascript',)]\n",
      "y_true:  [('sql', 'sql-server')] , y_pred: [('sql-server',)]\n",
      "y_true:  [('xml', 'xsd')] , y_pred: [('xsd',)]\n",
      "y_true:  [('datetime', 'sql')] , y_pred: [('sql',)]\n",
      "y_true:  [('actionscript-3', 'html', 'regex', 'string')] , y_pred: [('regex',)]\n",
      "y_true:  [('asp.net-mvc', 'jquery')] , y_pred: [('javascript', 'jquery')]\n",
      "y_true:  [('model-view-controller', 'php')] , y_pred: [('php',)]\n"
     ]
    }
   ],
   "source": [
    "## Examples\n",
    "n_sample = 10\n",
    "test_index = np.arange(y_test.shape[0])\n",
    "np.random.seed(42)\n",
    "np.random.shuffle(test_index)\n",
    "\n",
    "for i in test_index[:n_sample]:\n",
    "    y_lb_pred = lb.inverse_transform(y_pred_new_svm_tfidf[i].reshape(1,-1))\n",
    "    y_lb_test = lb.inverse_transform(y_test[i].reshape(1,-1))\n",
    "    print(\"y_true: \",y_lb_test,\", y_pred:\",y_lb_pred)"
   ]
  },
  {
   "cell_type": "markdown",
   "metadata": {},
   "source": [
    "## Training with Logistic Regression"
   ]
  },
  {
   "cell_type": "markdown",
   "metadata": {},
   "source": [
    "__Count vectorizer__"
   ]
  },
  {
   "cell_type": "code",
   "execution_count": 84,
   "metadata": {
    "scrolled": true
   },
   "outputs": [
    {
     "name": "stdout",
     "output_type": "stream",
     "text": [
      "Test score: 0.46\n"
     ]
    }
   ],
   "source": [
    "from sklearn.linear_model import LogisticRegressionCV\n",
    "\n",
    "lr_pipeline_count = Pipeline([\n",
    "    ('count', CountVectorizer(**params_vectorizer)),\n",
    "    ('clf',\n",
    "     OneVsRestClassifier(\n",
    "         LogisticRegressionCV(\n",
    "             Cs=np.logspace(-2, 2, 5), dual=True, cv=5, solver='liblinear'))),\n",
    "])\n",
    "\n",
    "lr_pipeline_count.fit(X_train, y_train)\n",
    "y_pred_lr_count = lr_pipeline_count.predict(X_test)\n",
    "y_pred_proba_lr_count = lr_pipeline_count.decision_function(X_test)\n",
    "y_pred_new_lr_count = get_best_tags(\n",
    "    y_pred_lr_count, y_pred_proba_lr_count, n_tags=1)\n",
    "\n",
    "score_lr_count = evaluate(\n",
    "    y_test,\n",
    "    y_pred_new_lr_count,\n",
    "    binarizer=lb,\n",
    "    G_tags=G_tags,\n",
    "    l_print_errors=False,\n",
    "    l_deduplication=True)\n",
    "\n",
    "print('Test score: {0:.2f}'.format(score_lr_count))"
   ]
  },
  {
   "cell_type": "markdown",
   "metadata": {},
   "source": [
    "__Tfidf vectorizer__"
   ]
  },
  {
   "cell_type": "code",
   "execution_count": 86,
   "metadata": {},
   "outputs": [
    {
     "name": "stdout",
     "output_type": "stream",
     "text": [
      "Test score: 0.42\n"
     ]
    }
   ],
   "source": [
    "lr_pipeline_tfidf = Pipeline([\n",
    "    ('tfidf', TfidfVectorizer(**params_vectorizer)),\n",
    "    ('clf',\n",
    "     OneVsRestClassifier(LogisticRegressionCV(\n",
    "             Cs=np.logspace(-2, 2, 5), dual=True, cv=5, solver='liblinear'))),\n",
    "])\n",
    "\n",
    "lr_pipeline_tfidf.fit(X_train, y_train)\n",
    "y_pred_lr_tfidf = lr_pipeline_tfidf.predict(X_test)\n",
    "y_pred_proba_lr_tfidf = lr_pipeline_tfidf.decision_function(X_test)\n",
    "y_pred_new_lr_tfidf = get_best_tags(\n",
    "    y_pred_lr_tfidf, y_pred_proba_lr_tfidf, n_tags=3)\n",
    "\n",
    "score_lr_tfidf = evaluate(\n",
    "    y_test,\n",
    "    y_pred_new_lr_tfidf,\n",
    "    binarizer=lb,\n",
    "    G_tags=G_tags,\n",
    "    l_print_errors=False,\n",
    "    l_deduplication=True)\n",
    "\n",
    "print('Test score: {0:.2f}'.format(score_lr_tfidf))"
   ]
  },
  {
   "cell_type": "markdown",
   "metadata": {},
   "source": [
    "## Summary table"
   ]
  },
  {
   "cell_type": "code",
   "execution_count": 87,
   "metadata": {},
   "outputs": [
    {
     "data": {
      "text/html": [
       "<div>\n",
       "<style scoped>\n",
       "    .dataframe tbody tr th:only-of-type {\n",
       "        vertical-align: middle;\n",
       "    }\n",
       "\n",
       "    .dataframe tbody tr th {\n",
       "        vertical-align: top;\n",
       "    }\n",
       "\n",
       "    .dataframe thead th {\n",
       "        text-align: right;\n",
       "    }\n",
       "</style>\n",
       "<table border=\"1\" class=\"dataframe\">\n",
       "  <thead>\n",
       "    <tr style=\"text-align: right;\">\n",
       "      <th></th>\n",
       "      <th></th>\n",
       "      <th>AVG F1 SCORE</th>\n",
       "    </tr>\n",
       "    <tr>\n",
       "      <th>MODEL</th>\n",
       "      <th>VECTORIZER</th>\n",
       "      <th></th>\n",
       "    </tr>\n",
       "  </thead>\n",
       "  <tbody>\n",
       "    <tr>\n",
       "      <th rowspan=\"2\" valign=\"top\">NAIVE BAYES</th>\n",
       "      <th>COUNT</th>\n",
       "      <td>0.373006</td>\n",
       "    </tr>\n",
       "    <tr>\n",
       "      <th>TFIDF</th>\n",
       "      <td>0.219376</td>\n",
       "    </tr>\n",
       "    <tr>\n",
       "      <th rowspan=\"2\" valign=\"top\">LOG REG</th>\n",
       "      <th>COUNT</th>\n",
       "      <td>0.456376</td>\n",
       "    </tr>\n",
       "    <tr>\n",
       "      <th>TFIDF</th>\n",
       "      <td>0.420714</td>\n",
       "    </tr>\n",
       "    <tr>\n",
       "      <th rowspan=\"2\" valign=\"top\">SVM</th>\n",
       "      <th>COUNT</th>\n",
       "      <td>0.464644</td>\n",
       "    </tr>\n",
       "    <tr>\n",
       "      <th>TFIDF</th>\n",
       "      <td>0.528521</td>\n",
       "    </tr>\n",
       "    <tr>\n",
       "      <th rowspan=\"2\" valign=\"top\">DUMMY</th>\n",
       "      <th>COUNT</th>\n",
       "      <td>0.122605</td>\n",
       "    </tr>\n",
       "    <tr>\n",
       "      <th>TFIDF</th>\n",
       "      <td>0.122605</td>\n",
       "    </tr>\n",
       "  </tbody>\n",
       "</table>\n",
       "</div>"
      ],
      "text/plain": [
       "                        AVG F1 SCORE\n",
       "MODEL       VECTORIZER              \n",
       "NAIVE BAYES COUNT           0.373006\n",
       "            TFIDF           0.219376\n",
       "LOG REG     COUNT           0.456376\n",
       "            TFIDF           0.420714\n",
       "SVM         COUNT           0.464644\n",
       "            TFIDF           0.528521\n",
       "DUMMY       COUNT           0.122605\n",
       "            TFIDF           0.122605"
      ]
     },
     "execution_count": 87,
     "metadata": {},
     "output_type": "execute_result"
    }
   ],
   "source": [
    "vectorizer = 4 * [\"COUNT\", \"TFIDF\"]\n",
    "model = 2 * [\"NAIVE BAYES\"] + 2*[\"LOG REG\"] +2*[\"SVM\"]+2* [\"DUMMY\"]\n",
    "\n",
    "test_score = [\n",
    "    score_nb_count,\n",
    "    score_nb_tfidf,\n",
    "    score_lr_count,\n",
    "    score_lr_tfidf,\n",
    "    score_svm_count,\n",
    "    score_svm_tfidf,\n",
    "    score_dummy_count,\n",
    "    score_dummy_tfidf,\n",
    "]\n",
    "\n",
    "df_summary = pd.DataFrame(\n",
    "    list(zip(model, vectorizer, test_score)),\n",
    "    columns=[\"MODEL\", \"VECTORIZER\",\n",
    "             \"AVG F1 SCORE\"]).set_index([\"MODEL\", \"VECTORIZER\"])\n",
    "df_summary"
   ]
  },
  {
   "cell_type": "markdown",
   "metadata": {},
   "source": [
    "__Observation__:\n",
    "- SVM with TFIDF vectorizer returns the best test score so far (0.5). \n",
    "- Logistic regressions are not bad either."
   ]
  },
  {
   "cell_type": "markdown",
   "metadata": {},
   "source": [
    "## Study of performance vs ngrams"
   ]
  },
  {
   "cell_type": "code",
   "execution_count": 88,
   "metadata": {},
   "outputs": [
    {
     "name": "stdout",
     "output_type": "stream",
     "text": [
      "Test score: 0.53\n",
      "Test score: 0.27\n"
     ]
    },
    {
     "name": "stderr",
     "output_type": "stream",
     "text": [
      "/Users/pmlee/anaconda3/lib/python3.6/site-packages/sklearn/calibration.py:510: RuntimeWarning: overflow encountered in exp\n",
      "  return 1. / (1. + np.exp(self.a_ * T + self.b_))\n"
     ]
    },
    {
     "name": "stdout",
     "output_type": "stream",
     "text": [
      "Test score: 0.12\n",
      "Test score: 0.54\n",
      "Test score: 0.29\n",
      "Test score: 0.54\n"
     ]
    }
   ],
   "source": [
    "n_gram_list = [(1, 1), (2, 2), (3, 3), (1, 2), (2, 3), (1, 3)]\n",
    "max_features = [\n",
    "    len(df_X_counts_90),\n",
    "    len(df_X_counts_bi_90),\n",
    "    len(df_X_counts_tri_90),\n",
    "    len(df_X_counts_mono_bi_90),\n",
    "    len(df_X_counts_bi_tri_90),\n",
    "    len(df_X_counts_mono_tri_90)\n",
    "]\n",
    "best_params = {'C': 1, 'kernel': 'linear'}\n",
    "n_grams_score = []\n",
    "\n",
    "for idx, n_gram in enumerate(n_gram_list):\n",
    "    # cross validation\n",
    "    params_vectorizer = {\n",
    "        \"max_features\": max_features[idx],\n",
    "        \"ngram_range\": n_gram,\n",
    "        'tokenizer': tokenize,\n",
    "        'lowercase': False\n",
    "    }\n",
    "\n",
    "    SVM_pipeline = Pipeline([\n",
    "        ('tfidf', TfidfVectorizer(**params_vectorizer)),\n",
    "        ('clf', OneVsRestClassifier(\n",
    "            CalibratedClassifierCV(SVC(**best_params)))),\n",
    "    ])\n",
    "\n",
    "    SVM_pipeline.fit(X_train, y_train)\n",
    "    y_pred_svm = SVM_pipeline.predict(X_test)\n",
    "    y_pred_proba_svm = SVM_pipeline.predict_proba(X_test)\n",
    "    y_pred_new_svm = get_best_tags(y_pred_svm, y_pred_proba_svm)\n",
    "\n",
    "    score_svm = evaluate(\n",
    "        y_test,\n",
    "        y_pred_new_svm,\n",
    "        binarizer=lb,\n",
    "        G_tags=G_tags,\n",
    "        l_print_errors=False,\n",
    "        l_deduplication=True)\n",
    "\n",
    "    print('Test score: {0:.2f}'.format(score_svm))\n",
    "    n_grams_score.append(score_svm)"
   ]
  },
  {
   "cell_type": "code",
   "execution_count": 89,
   "metadata": {},
   "outputs": [
    {
     "name": "stderr",
     "output_type": "stream",
     "text": [
      "/Users/pmlee/anaconda3/lib/python3.6/site-packages/seaborn/categorical.py:1460: FutureWarning: remove_na is deprecated and is a private function. Do not use.\n",
      "  stat_data = remove_na(group_data)\n"
     ]
    },
    {
     "data": {
      "image/png": "[encoded data removed]",
      "text/plain": [
       "<matplotlib.figure.Figure at 0x1a49647080>"
      ]
     },
     "metadata": {},
     "output_type": "display_data"
    }
   ],
   "source": [
    "fig, ax = plt.subplots(figsize=(4,3))\n",
    "sns.barplot(\n",
    "    np.arange(len(n_gram_list)),\n",
    "    np.array(n_grams_score),\n",
    "    ax=ax)\n",
    "for p in ax.patches:\n",
    "    ax.annotate(\n",
    "        np.round(p.get_height(), decimals=2),\n",
    "        (p.get_x() + p.get_width() / 2., p.get_height()),\n",
    "        ha='center',\n",
    "        va='bottom',\n",
    "        xytext=(0, 1),\n",
    "        textcoords='offset points')\n",
    "ax.set_xticklabels(n_gram_list)\n",
    "ax.set_ylabel(r\"$\\left<\\mathrm{F1\\, score}\\right>$\")\n",
    "ax.set_xlabel(\"n-grams\")\n",
    "sns.despine()"
   ]
  },
  {
   "cell_type": "markdown",
   "metadata": {},
   "source": [
    "__Observation__:\n",
    "- with monograms, we attain the highest average F1 score, it is unnecessary to build bigrams or trigrams"
   ]
  },
  {
   "cell_type": "markdown",
   "metadata": {},
   "source": [
    "## Study of performance vs max features"
   ]
  },
  {
   "cell_type": "code",
   "execution_count": 90,
   "metadata": {},
   "outputs": [
    {
     "name": "stdout",
     "output_type": "stream",
     "text": [
      "Test score: 0.22\n",
      "Test score: 0.33\n",
      "Test score: 0.38\n",
      "Test score: 0.45\n",
      "Test score: 0.49\n",
      "Test score: 0.53\n",
      "Test score: 0.54\n",
      "Test score: 0.54\n"
     ]
    }
   ],
   "source": [
    "max_features_list = np.logspace(2, 4, 8 , dtype=int)\n",
    "best_params = {'C': 1., 'kernel': 'linear'}\n",
    "max_features_score = []\n",
    "\n",
    "for max_feature in max_features_list:\n",
    "    # cross validation\n",
    "    params_vectorizer = {\"max_features\": max_feature, \n",
    "                         \"ngram_range\": (1, 2),\n",
    "                         'tokenizer' :tokenize, \n",
    "                         'lowercase':False}\n",
    "\n",
    "    SVM_pipeline = Pipeline([\n",
    "        ('tfidf', TfidfVectorizer(**params_vectorizer)),\n",
    "        ('clf', OneVsRestClassifier(CalibratedClassifierCV(SVC(**best_params)))),\n",
    "    ])\n",
    "\n",
    "    SVM_pipeline.fit(X_train, y_train)\n",
    "    y_pred_svm = SVM_pipeline.predict(X_test)\n",
    "    y_pred_proba_svm = SVM_pipeline.predict_proba(X_test)\n",
    "    y_pred_new_svm = get_best_tags(y_pred_svm, y_pred_proba_svm)\n",
    "\n",
    "    score_svm = evaluate(\n",
    "        y_test,\n",
    "        y_pred_new_svm,\n",
    "        binarizer=lb,\n",
    "        G_tags=G_tags,\n",
    "        l_print_errors=False,\n",
    "        l_deduplication=True)\n",
    "\n",
    "    print('Test score: {0:.2f}'.format(score_svm))\n",
    "    max_features_score.append(score_svm)"
   ]
  },
  {
   "cell_type": "code",
   "execution_count": 91,
   "metadata": {},
   "outputs": [
    {
     "data": {
      "image/png": "[encoded data removed]",
      "text/plain": [
       "<matplotlib.figure.Figure at 0x1a785ed470>"
      ]
     },
     "metadata": {},
     "output_type": "display_data"
    }
   ],
   "source": [
    "fig, ax = plt.subplots(figsize=(4,3))\n",
    "ax.semilogx(max_features_list,  max_features_score, marker=\"X\")\n",
    "ax.set_ylabel(r\"$\\left<\\mathrm{F1\\, score}\\right>$\")\n",
    "ax.set_xlabel(\"# features\")\n",
    "sns.despine()"
   ]
  },
  {
   "cell_type": "markdown",
   "metadata": {},
   "source": [
    "## Saving necessary modules for best model"
   ]
  },
  {
   "cell_type": "code",
   "execution_count": 92,
   "metadata": {},
   "outputs": [
    {
     "ename": "NameError",
     "evalue": "name 'pickle' is not defined",
     "output_type": "error",
     "traceback": [
      "\u001b[0;31m---------------------------------------------------------------------------\u001b[0m",
      "\u001b[0;31mNameError\u001b[0m                                 Traceback (most recent call last)",
      "\u001b[0;32m<ipython-input-92-900ad8eb5a9e>\u001b[0m in \u001b[0;36m<module>\u001b[0;34m()\u001b[0m\n\u001b[1;32m      1\u001b[0m \u001b[0;32mwith\u001b[0m \u001b[0mopen\u001b[0m\u001b[0;34m(\u001b[0m\u001b[0;34m'binarizer.pk'\u001b[0m\u001b[0;34m,\u001b[0m \u001b[0;34m'wb'\u001b[0m\u001b[0;34m)\u001b[0m \u001b[0;32mas\u001b[0m \u001b[0mfin\u001b[0m\u001b[0;34m:\u001b[0m\u001b[0;34m\u001b[0m\u001b[0m\n\u001b[0;32m----> 2\u001b[0;31m     \u001b[0mpickle\u001b[0m\u001b[0;34m.\u001b[0m\u001b[0mdump\u001b[0m\u001b[0;34m(\u001b[0m\u001b[0mlb\u001b[0m\u001b[0;34m,\u001b[0m \u001b[0mfin\u001b[0m\u001b[0;34m)\u001b[0m\u001b[0;34m\u001b[0m\u001b[0m\n\u001b[0m",
      "\u001b[0;31mNameError\u001b[0m: name 'pickle' is not defined"
     ]
    }
   ],
   "source": [
    "import pickle\n",
    "with open('binarizer.pk', 'wb') as fin:\n",
    "    pickle.dump(lb, fin)"
   ]
  },
  {
   "cell_type": "code",
   "execution_count": null,
   "metadata": {},
   "outputs": [],
   "source": [
    "X_train.to_csv(\"X_train.csv\", index=False, header=True)\n",
    "X_test.to_csv(\"X_test.csv\", index=False, header=True)\n",
    "np.save(\"y_train.npy\", y_train )\n",
    "np.save(\"y_test.npy\", y_test )"
   ]
  },
  {
   "cell_type": "code",
   "execution_count": null,
   "metadata": {
    "collapsed": true
   },
   "outputs": [],
   "source": [
    "nx.write_gpickle(G_tags, \"G_tags.gpickle\")"
   ]
  },
  {
   "cell_type": "markdown",
   "metadata": {},
   "source": [
    "__Observation__:\n",
    "- the performance saturates when we approach high number of features. From 1390 features onwards, the test score attains 0.49."
   ]
  },
  {
   "cell_type": "markdown",
   "metadata": {},
   "source": [
    "# Unsupervised learning: Rate of Perplexity Change (RPC) and LDA\n",
    "Using the novel metric RPC defined by RPC(i) = |(P_i-P_i-1)/(t_i-t_i-1)|, where P represents the perplexity and t the number of topics, this overcomes weaknesses on the selection of an appropriate number of topics in LDA modelling based on only the perplexity measure (it is less stable because it depends on seeds)\n",
    "\n",
    "Rather than choosing among several numbers of topics over a potentially large range where perplexity fluctuates, the quantity defined as the changepoint of rate of perplexity change can be chosen as to be the most appropriate number of topics from a heuristic analysis.\n",
    "\n",
    "Ref: Zhao et al. BMC Bioinformatics 2015, 16(Suppl 13):S8 http://www.biomedcentral.com/1471-2105/16/S13/S8"
   ]
  },
  {
   "cell_type": "markdown",
   "metadata": {},
   "source": [
    "## Dimensionality reduction using truncated SVD\n",
    "Using SVD (Singular Value Decomposition) to determine the maximum features to be included in Count Vectorizer"
   ]
  },
  {
   "cell_type": "code",
   "execution_count": null,
   "metadata": {},
   "outputs": [],
   "source": [
    "from sklearn.decomposition import TruncatedSVD\n",
    "\n",
    "# Prep text body\n",
    "X_body = df_text[[\"TITLE_LEMMATIZED\", \"BODY_LEMMATIZED\"]].apply(\n",
    "    lambda x: ' '.join(x) if pd.notnull(x[\"TITLE_LEMMATIZED\"]) else x[\"BODY_LEMMATIZED\"],\n",
    "    axis=1)\n",
    "\n",
    "n_components = 5200\n",
    "params_vectorizer = {\n",
    "    \"max_features\": n_components,\n",
    "    \"ngram_range\": (1, 1),\n",
    "    'tokenizer': tokenize,\n",
    "    'lowercase': False\n",
    "}\n",
    "count_vect = CountVectorizer(**params_vectorizer)\n",
    "svd = TruncatedSVD(n_components=n_components)\n",
    "\n",
    "X_body_vect = count_vect.fit_transform(X_body)\n",
    "\n",
    "#Fit the SVD model\n",
    "print(\"Fitting the SVD model with \"\n",
    "      \"count features...\")\n",
    "\n",
    "X_body_svd = svd.fit_transform(X_body_vect)\n",
    "X_body_cumsum = np.cumsum(svd.explained_variance_ratio_)\n",
    "count_feature_names = count_vect.get_feature_names()"
   ]
  },
  {
   "cell_type": "code",
   "execution_count": null,
   "metadata": {},
   "outputs": [],
   "source": [
    "n_top_words = 50\n",
    "message = \"\"\n",
    "sorted_SVD = sorted(\n",
    "            list(zip(svd.components_[0], count_feature_names)),\n",
    "            key=itemgetter(0),\n",
    "            reverse=True)\n",
    "message += \", \".join([i[1] for i in sorted_SVD[:n_top_words]])\n",
    "print(\"\\nTopics in SVD model :\")\n",
    "print(message)"
   ]
  },
  {
   "cell_type": "code",
   "execution_count": null,
   "metadata": {
    "scrolled": true
   },
   "outputs": [],
   "source": [
    "from scipy.interpolate import InterpolatedUnivariateSpline\n",
    "\n",
    "fig, ax = plt.subplots(figsize=(5, 4))\n",
    "\n",
    "x = np.arange(n_components)\n",
    "y = X_body_cumsum\n",
    "ax.plot(x, y)\n",
    "ax.tick_params('y')\n",
    "ax.set_xlabel(\"# components\")\n",
    "ax.set_ylabel(\"Cumsum of represented info\")\n",
    "\n",
    "# determination of inflexion points\n",
    "## line 1\n",
    "x1 = x[0:300]\n",
    "y1 = (y[0] - y[300]) / (x[0] - x[300]) * x1 + y[30]\n",
    "new_x1 = np.arange(500)\n",
    "f = InterpolatedUnivariateSpline(x1, y1)\n",
    "new_y1 = f(new_x1)\n",
    "\n",
    "## line 2\n",
    "x2 = x[1400:]\n",
    "y2 = (y[1400] - y[-1]) / (x[1400] - x[-1]) * x2 + y[900]\n",
    "new_x2 = np.arange(2750)\n",
    "f2 = InterpolatedUnivariateSpline(x2, y2)\n",
    "new_y2 = f2(new_x2)\n",
    "\n",
    "## plot inflexion lines\n",
    "ax.plot(new_x1, new_y1, color='black', linestyle='dashed')\n",
    "ax.plot(new_x2, new_y2, color='black', linestyle='dashed')\n",
    "ylim = ax.get_ylim()\n",
    "ax.vlines(300, ylim[0], 0.84, color=\"green\", linestyle='dotted')\n",
    "ax.text(180, -0.05, r\"$\\mathbf{300}$\")\n",
    "ax.set_ylim(0, 1)\n",
    "sns.despine()\n",
    "plt.tight_layout()\n",
    "\n",
    "print(\"With %d components, %.1f%% of the data is retained.\" %\n",
    "      (n_components, 100 * X_body_cumsum[-1]))"
   ]
  },
  {
   "cell_type": "markdown",
   "metadata": {},
   "source": [
    "__Observation__:\n",
    "- with SVD, we observe that with 2750 components, we retain 96% of the data\n",
    "- with the elbow method, we observe that the number of topics that can be generated are around 300"
   ]
  },
  {
   "cell_type": "markdown",
   "metadata": {},
   "source": [
    "## Topic modeling using NMF"
   ]
  },
  {
   "cell_type": "code",
   "execution_count": null,
   "metadata": {
    "scrolled": true
   },
   "outputs": [],
   "source": [
    "from sklearn.decomposition import NMF\n",
    "    \n",
    "n_chosen_components = 5200\n",
    "n_top_words = 20\n",
    "n_topics = 300\n",
    "\n",
    "params_vectorizer = {\"max_features\": n_chosen_components, \"ngram_range\": (1, 1),\n",
    "                     'tokenizer' :tokenize, 'lowercase':False}\n",
    "\n",
    "tfidf_vect = TfidfVectorizer(**params_vectorizer)\n",
    "X_NMF = tfidf_vect.fit_transform(X_body)"
   ]
  },
  {
   "cell_type": "code",
   "execution_count": null,
   "metadata": {},
   "outputs": [],
   "source": [
    "#Fit the NMF model\n",
    "print(\"Fitting the NMF model (Frobenius norm) with \"\n",
    "      \"tf-idf features, num_topics =%d...\" %n_topics)  \n",
    "num_topics = np.linspace(120,240,6, dtype=int)\n",
    "\n",
    "print(\"Processing num topic %d \" % (n_topics))\n",
    "nmf_fr = NMF(n_components=n_topics, random_state=1,\n",
    "          alpha=.1, l1_ratio=.5).fit(X_NMF)\n",
    "tfidf_feature_names = tfidf_vect.get_feature_names()"
   ]
  },
  {
   "cell_type": "code",
   "execution_count": null,
   "metadata": {
    "collapsed": true
   },
   "outputs": [],
   "source": [
    "n_top_words = 10\n",
    "tfidf_feature_names = tfidf_vect.get_feature_names()\n",
    "#print(\"\\nTopics in NMF model (Frobenius norm):\")\n",
    "#print_top_words(nmf_fr, tfidf_feature_names, n_top_words)"
   ]
  },
  {
   "cell_type": "markdown",
   "metadata": {},
   "source": [
    "__Attribution of topic label__ \n",
    "- attributed by looking at the top 10 word distribution of each topic, then retain the highest occurence word that matches with provided tags (tags_key_reduced_quartile) in the corpora, if no match is found, choose he highest occurence noun."
   ]
  },
  {
   "cell_type": "code",
   "execution_count": null,
   "metadata": {},
   "outputs": [],
   "source": [
    "df_top_words_nmf_fr = pd.DataFrame(\n",
    "    nmf_fr.components_, columns=tfidf_feature_names)\n",
    "dict_topicnames_nmf_fr, topicnames_nmf_fr = topic_name_attribution(df_top_words_nmf_fr,\n",
    "                                                     tags_key_reduced_quartile)"
   ]
  },
  {
   "cell_type": "code",
   "execution_count": null,
   "metadata": {},
   "outputs": [],
   "source": [
    "# Create Document - Topic Matrix\n",
    "index_topicnames_fr = list(dict_topicnames_nmf_fr.keys())\n",
    "nmf_fr_output = nmf_fr.transform(X_NMF)[:, index_topicnames_fr]\n",
    "\n",
    "\n",
    "def potential_tags(data, threshold=0.1):\n",
    "    \"\"\"\n",
    "    attribute potential tags to each document\n",
    "    \"\"\"\n",
    "    #pdb.set_trace()\n",
    "    sorted_data = sorted(data.items(), key=itemgetter(1), reverse=True)\n",
    "    tags_temp = [k.split(',') for k, v in sorted_data if v > threshold]\n",
    "\n",
    "    tags_temp = [item for sublist in tags_temp for item in sublist]\n",
    "    # we set 5 tags maximum\n",
    "    if len(tags_temp) > 5:\n",
    "        tags_temp = tags_temp[:5]\n",
    "\n",
    "    # if no tags have a value above the threshold, attribute no tags,\n",
    "    # this is going to be useful for the evaluation\n",
    "    if not tags_temp:\n",
    "        tags_temp = [\"No tags\"]  #[k.split(',') for k, v in sorted_data][0]\n",
    "\n",
    "    # set is used to avoid redundancy\n",
    "    tags = list(set(tags_temp))\n",
    "\n",
    "    return tags\n",
    "\n",
    "\n",
    "# Make the pandas dataframe\n",
    "df_document_topic_nmf_fr = pd.DataFrame(\n",
    "    np.round(nmf_fr_output, 2), columns=topicnames_nmf_fr, index=X_body.index)\n",
    "\n",
    "threshold_list = np.arange(0, 0.2, 0.04)\n",
    "for i in range(len(threshold_list)):\n",
    "    kwds = {'threshold': threshold_list[i]}\n",
    "    dominant_topic_nmf_fr = df_document_topic_nmf_fr.apply(\n",
    "        potential_tags, **kwds, axis=1)\n",
    "    df_text.loc[df_document_topic_nmf_fr.index, 'POTENTIAL_TAGS_NMFFR_THRE_' +\n",
    "                str(np.round(threshold_list[i], 2))] = dominant_topic_nmf_fr"
   ]
  },
  {
   "cell_type": "code",
   "execution_count": null,
   "metadata": {},
   "outputs": [],
   "source": [
    "from wordcloud import WordCloud\n",
    "sns.set_style('white')\n",
    "\n",
    "n_top = 30\n",
    "fig, axes = plt.subplots(4, 3, figsize=(14, 9))\n",
    "ax = axes.flatten()\n",
    "i = 0\n",
    "index_topicnames = list(dict_topicnames_nmf_fr.keys())\n",
    "\n",
    "for k in df_top_words_nmf_fr.loc[index_topicnames].sample(\n",
    "        12, random_state=42).index:\n",
    "    # take relative word frequencies into account, lower max_font_size\n",
    "    df_top_words_sorted = df_top_words_nmf_fr.loc[k].sort_values(\n",
    "        ascending=False)\n",
    "    wordcloud = WordCloud(\n",
    "        background_color=\"white\",\n",
    "        max_words=n_top,\n",
    "        max_font_size=50,\n",
    "        colormap=\"inferno\",\n",
    "        relative_scaling=.2).generate(' '.join(\n",
    "            df_top_words_sorted[:n_top].index))\n",
    "\n",
    "    ax[i].imshow(wordcloud, interpolation=\"bilinear\")\n",
    "    ax[i].xaxis.set_visible(False)\n",
    "    ax[i].yaxis.set_visible(False)\n",
    "    ax[i].set_title(\n",
    "        \"%s\" % dict_topicnames_nmf_fr[k], fontsize=14, fontweight=\"bold\")\n",
    "\n",
    "    i += 1\n",
    "\n",
    "plt.tight_layout(w_pad=-4., h_pad=1)\n",
    "#fig.savefig(\"topics_word_cloud.pdf\")"
   ]
  },
  {
   "cell_type": "code",
   "execution_count": null,
   "metadata": {},
   "outputs": [],
   "source": [
    "#Fit the NMF model\n",
    "print(\"Fitting the NMF model (KL divergence) with \"\n",
    "      \"tf-idf features, num_topics =%d...\" %n_topics)\n",
    "nmf_KL = NMF(n_components=n_topics, random_state=1,\n",
    "          beta_loss='kullback-leibler', solver='mu', max_iter=1000, alpha=.1,\n",
    "          l1_ratio=.5).fit(X_NMF)"
   ]
  },
  {
   "cell_type": "code",
   "execution_count": null,
   "metadata": {
    "scrolled": true
   },
   "outputs": [],
   "source": [
    "df_top_words_nmf_KL = pd.DataFrame(\n",
    "    nmf_KL.components_, columns=tfidf_feature_names)\n",
    "dict_topicnames_nmf_kl, topicnames_nmf_kl = topic_name_attribution(df_top_words_nmf_KL,\n",
    "                                                     tags_key_reduced_quartile)"
   ]
  },
  {
   "cell_type": "code",
   "execution_count": null,
   "metadata": {},
   "outputs": [],
   "source": [
    "# Create Document - Topic Matrix\n",
    "index_topicnames_KL = list(dict_topicnames_nmf_kl.keys())\n",
    "nmf_KL_output = nmf_KL.transform(X_NMF)[:,index_topicnames_KL]\n",
    "\n",
    "# Make the pandas dataframe\n",
    "df_document_topic_nmf_KL = pd.DataFrame(\n",
    "    np.round(nmf_KL_output, 2), columns=topicnames_nmf_kl, index=X_body.index)\n",
    "\n",
    "dominant_topic_nmf_KL = df_document_topic_nmf_KL.apply(potential_tags, axis=1)\n",
    "for i in range(len(threshold_list)):\n",
    "    kwds = {'threshold': threshold_list[i]}\n",
    "    dominant_topic_nmf_KL = df_document_topic_nmf_KL.apply(\n",
    "        potential_tags, **kwds, axis=1)\n",
    "    df_text.loc[df_document_topic_nmf_KL.index, 'POTENTIAL_TAGS_NMFKL_THRE_' +\n",
    "                str(np.round(threshold_list[i],2))] = dominant_topic_nmf_KL"
   ]
  },
  {
   "cell_type": "markdown",
   "metadata": {},
   "source": [
    "n_top_words = 10\n",
    "tfidf_feature_names = tfidf_vect.get_feature_names()\n",
    "print(\"\\nTopics in NMF model (KL divergence):\")\n",
    "print_top_words(nmf_KL, tfidf_feature_names, n_top_words)"
   ]
  },
  {
   "cell_type": "code",
   "execution_count": null,
   "metadata": {},
   "outputs": [],
   "source": [
    "n_top = 30\n",
    "fig, axes = plt.subplots(4, 3, figsize=(14, 9))\n",
    "ax = axes.flatten()\n",
    "i = 0\n",
    "index_topicnames = list(dict_topicnames_nmf_kl.keys())\n",
    "\n",
    "for k in df_top_words_nmf_KL.loc[index_topicnames].sample(\n",
    "        12, random_state=42).index:\n",
    "    # take relative word frequencies into account, lower max_font_size\n",
    "    df_top_words_sorted = df_top_words_nmf_KL.loc[k].sort_values(\n",
    "        ascending=False)\n",
    "    wordcloud = WordCloud(\n",
    "        background_color=\"white\",\n",
    "        max_words=n_top,\n",
    "        max_font_size=50,\n",
    "        colormap=\"inferno\",\n",
    "        relative_scaling=.2).generate(' '.join(\n",
    "            df_top_words_sorted[:n_top].index))\n",
    "\n",
    "    ax[i].imshow(wordcloud, interpolation=\"bilinear\")\n",
    "    ax[i].xaxis.set_visible(False)\n",
    "    ax[i].yaxis.set_visible(False)\n",
    "    ax[i].set_title(\n",
    "        \"%s\" % dict_topicnames_nmf_kl[k], fontsize=14, fontweight=\"bold\")\n",
    "\n",
    "    i += 1\n",
    "\n",
    "plt.tight_layout(w_pad=-4., h_pad=1)\n",
    "#fig.savefig(\"topics_word_cloud.pdf\")"
   ]
  },
  {
   "cell_type": "markdown",
   "metadata": {},
   "source": [
    "## Topic Modeling using LDA"
   ]
  },
  {
   "cell_type": "markdown",
   "metadata": {},
   "source": [
    "__Count Vectorizer__"
   ]
  },
  {
   "cell_type": "code",
   "execution_count": null,
   "metadata": {
    "collapsed": true
   },
   "outputs": [],
   "source": [
    "params_vectorizer = {\"max_features\": n_chosen_components, \"ngram_range\": (1, 1),\n",
    "                     'tokenizer' :tokenize, 'lowercase':False}\n",
    "count_vect = CountVectorizer(**params_vectorizer)\n",
    "X_LDA = count_vect.fit_transform(X_body)"
   ]
  },
  {
   "cell_type": "markdown",
   "metadata": {},
   "source": [
    "from gensim.scripts.glove2word2vec import glove2word2vec\n",
    "glove_input_file =X_body.str.split(\" \").as_matrix()\n",
    "word2vec_output_file = 'word2vec.txt'\n",
    "glove2word2vec(glove_input_file, word2vec_output_file)"
   ]
  },
  {
   "cell_type": "markdown",
   "metadata": {},
   "source": [
    "import numpy as np\n",
    "np.random.seed(13)\n",
    "\n",
    "import keras.backend as K\n",
    "from keras.models import Sequential\n",
    "from keras.layers import Dense, Embedding, Lambda\n",
    "from keras.utils.data_utils import get_file\n",
    "from keras.utils import np_utils\n",
    "from keras.preprocessing import sequence\n",
    "from keras.preprocessing.text import Tokenizer\n",
    "\n",
    "import gensim"
   ]
  },
  {
   "cell_type": "code",
   "execution_count": null,
   "metadata": {
    "scrolled": true
   },
   "outputs": [],
   "source": [
    "from sklearn.decomposition import LatentDirichletAllocation\n",
    "\n",
    "num_cv = 3\n",
    "num_topics = np.linspace(120, 360, 7, dtype=int)\n",
    "perplexities = [[] for x in range(len(num_topics))]\n",
    "ldas2 = [[] for x in range(len(num_topics))]\n",
    "\n",
    "for i in range(len(num_topics)):\n",
    "    for cv in range(num_cv):\n",
    "        print(\"%d: processing num topic %d \" % (cv, num_topics[i]))\n",
    "        lda = LatentDirichletAllocation(\n",
    "            n_components=num_topics[i],\n",
    "            max_iter=10,\n",
    "            learning_method='online',\n",
    "            learning_offset=50.,\n",
    "            total_samples=2000)\n",
    "\n",
    "        ldas2[i].append(lda.fit(X_LDA))\n",
    "        perplexities[i].append(lda.perplexity(X_LDA))\n",
    "\n",
    "mean_perplexity = np.mean(perplexities, axis=-1)"
   ]
  },
  {
   "cell_type": "code",
   "execution_count": null,
   "metadata": {},
   "outputs": [],
   "source": [
    "fig, ax = plt.subplots(1, figsize=(4, 3))\n",
    "\n",
    "# interpolation\n",
    "new_x = np.arange(100,360,10)\n",
    "f = InterpolatedUnivariateSpline(num_topics, mean_perplexity)\n",
    "\n",
    "ax.plot(new_x, f(new_x) , marker=\"X\")\n",
    "ax.set_xlabel(\"# topics\")\n",
    "ax.set_ylabel(\"Perplexity\")\n",
    "sns.despine()\n",
    "plt.tight_layout()"
   ]
  },
  {
   "cell_type": "code",
   "execution_count": null,
   "metadata": {},
   "outputs": [],
   "source": [
    "# calculate rpc based on interpolated functions\n",
    "rpc2 = rpc_score( f(new_x), new_x)\n",
    "mid_new_x = .5*(new_x[:-1] +new_x[1:])\n",
    "\n",
    "# plot\n",
    "fig, ax = plt.subplots(1, figsize=(4, 3))\n",
    "ax.plot(mid_new_x, rpc2, marker=\"X\")\n",
    "ax.set_xlabel(\"# topics\")\n",
    "ax.set_ylabel(\"RPC\")\n",
    "sns.despine()\n",
    "plt.tight_layout()\n",
    "#fig.savefig(\"RPC.pdf\")"
   ]
  },
  {
   "cell_type": "code",
   "execution_count": null,
   "metadata": {},
   "outputs": [],
   "source": [
    "perplexities"
   ]
  },
  {
   "cell_type": "code",
   "execution_count": null,
   "metadata": {},
   "outputs": [],
   "source": [
    "tf_feature_names = count_vect.get_feature_names()\n",
    "opt_lda_model = ldas2[4][0]\n",
    "df_top_words_lda = pd.DataFrame(opt_lda_model.components_, columns=tf_feature_names)\n",
    "dict_topicnames_lda, topicnames_lda = topic_name_attribution(df_top_words_lda,\n",
    "                                                     tags_key_reduced_quartile)"
   ]
  },
  {
   "cell_type": "code",
   "execution_count": null,
   "metadata": {},
   "outputs": [],
   "source": [
    "from wordcloud import WordCloud\n",
    "sns.set_style('white')\n",
    "\n",
    "n_top = 30\n",
    "fig, axes = plt.subplots(4, 3, figsize=(14, 9))\n",
    "ax = axes.flatten()\n",
    "i = 0\n",
    "index_topicnames = list(dict_topicnames_lda.keys())\n",
    "\n",
    "for k in df_top_words_lda.loc[index_topicnames].sample(12,random_state=42).index:\n",
    "    # take relative word frequencies into account, lower max_font_size\n",
    "    df_top_words_sorted = df_top_words_lda.loc[k].sort_values(ascending=False)\n",
    "    wordcloud = WordCloud(\n",
    "        background_color=\"white\",\n",
    "        max_words=n_top,\n",
    "        max_font_size=50,\n",
    "        colormap=\"inferno\",\n",
    "        relative_scaling=.2).generate(' '.join(\n",
    "            df_top_words_sorted[:n_top].index))\n",
    "\n",
    "    ax[i].imshow(wordcloud, interpolation=\"bilinear\")\n",
    "    ax[i].xaxis.set_visible(False)\n",
    "    ax[i].yaxis.set_visible(False)\n",
    "    ax[i].set_title(\"%s\" % dict_topicnames_lda[k], fontsize=14, fontweight=\"bold\")\n",
    "\n",
    "    i += 1\n",
    "\n",
    "plt.tight_layout(w_pad=-4., h_pad=1)\n",
    "#fig.savefig(\"topics_word_cloud.pdf\")"
   ]
  },
  {
   "cell_type": "markdown",
   "metadata": {},
   "source": [
    "__Observation__:\n",
    "- some of the topics are well attributed, some not really.\n",
    "    - architecture, shell, design, java, syntax, algorithm, django and database are coherent with the topic word distribution\n",
    "    - string, sorting are incoherent with the word distribution\n",
    "    - topics class appear twice "
   ]
  },
  {
   "cell_type": "code",
   "execution_count": null,
   "metadata": {
    "scrolled": true
   },
   "outputs": [],
   "source": [
    "# Create Document - Topic Matrix\n",
    "index_topicnames_lda = list(dict_topicnames_lda.keys())\n",
    "lda_output = opt_lda_model.transform(X_LDA)[:, index_topicnames_lda]\n",
    "\n",
    "# Make the pandas dataframe\n",
    "df_document_topic_lda = pd.DataFrame(\n",
    "    np.round(lda_output, 2), columns=topicnames_lda, index=X_body.index)\n",
    "\n",
    "#dominant_topic_lda = df_document_topic_lda.apply(potential_tags, axis=1)\n",
    "\n",
    "for i in range(len(threshold_list)):\n",
    "    kwds = {'threshold': threshold_list[i]}\n",
    "    dominant_topic_lda = df_document_topic_lda.apply(\n",
    "        potential_tags, **kwds, axis=1)\n",
    "    df_text.loc[df_document_topic_lda.index, 'POTENTIAL_TAGS_LDA_THRE_' +\n",
    "                str(np.round(threshold_list[i],2))] = dominant_topic_lda"
   ]
  },
  {
   "cell_type": "markdown",
   "metadata": {},
   "source": [
    "## Scoring"
   ]
  },
  {
   "cell_type": "code",
   "execution_count": null,
   "metadata": {},
   "outputs": [],
   "source": [
    "columns_to_keep = []\n",
    "\n",
    "for i in range(len(threshold_list)):\n",
    "    columns_to_keep += [\n",
    "        'POTENTIAL_TAGS_LDA_THRE_' + str(np.round(threshold_list[i], 2))\n",
    "    ]\n",
    "    columns_to_keep += [\n",
    "        'POTENTIAL_TAGS_NMFFR_THRE_' + str(np.round(threshold_list[i], 2))\n",
    "    ]\n",
    "    columns_to_keep += [\n",
    "        'POTENTIAL_TAGS_NMFKL_THRE_' + str(np.round(threshold_list[i], 2))\n",
    "    ]\n",
    "\n",
    "df_text_reduced_clusterized = pd.merge(\n",
    "    df_tags_reduced_sampled,\n",
    "    pd.DataFrame(df_text[columns_to_keep]),\n",
    "    left_index=True,\n",
    "    right_index=True)"
   ]
  },
  {
   "cell_type": "code",
   "execution_count": null,
   "metadata": {
    "scrolled": true
   },
   "outputs": [],
   "source": [
    "columns_to_show = [\"BODY\",\"TAGS_MODIFIED\"] + columns_to_keep\n",
    "df_text_reduced_clusterized[columns_to_show].sample(\n",
    "    10, random_state=42)"
   ]
  },
  {
   "cell_type": "code",
   "execution_count": null,
   "metadata": {
    "scrolled": true
   },
   "outputs": [],
   "source": [
    "mlb_tagslist = tuple(\n",
    "    set([\"No tags\", \"unknown\"] +\n",
    "        df_text_reduced_clusterized.TAGS_MODIFIED.sum()))\n",
    "mlb = MultiLabelBinarizer(classes=mlb_tagslist)\n",
    "y_true = mlb.fit_transform(df_text_reduced_clusterized.TAGS_MODIFIED)\n",
    "score_ldas = []\n",
    "no_tag_ldas = []\n",
    "\n",
    "for i in range(len(threshold_list)):\n",
    "    y_pred_lda = mlb.fit_transform(\n",
    "        df_text_reduced_clusterized[\"POTENTIAL_TAGS_LDA_THRE_\"\n",
    "                                    + str(round(threshold_list[i], 2))])\n",
    "\n",
    "    score_lda = evaluate(\n",
    "        y_true,\n",
    "        y_pred_lda,\n",
    "        binarizer=mlb,\n",
    "        G_tags=G_tags,\n",
    "        l_print_errors=False,\n",
    "        l_deduplication=True)\n",
    "    #print('Test score: {0:.2f}'.format(score_lda))\n",
    "    score_ldas.append(score_lda)\n",
    "\n",
    "    y_pred_text_lda = mlb.fit_transform(\n",
    "        df_text[\"POTENTIAL_TAGS_LDA_THRE_\" + str(round(threshold_list[i], 2))])\n",
    "    no_tag_score_lda = no_tag_percentage_score(y_pred_text_lda, mlb)\n",
    "    no_tag_ldas.append(no_tag_score_lda)"
   ]
  },
  {
   "cell_type": "code",
   "execution_count": null,
   "metadata": {
    "collapsed": true
   },
   "outputs": [],
   "source": [
    "with open('new_binarizer.pk', 'wb') as fin:\n",
    "    pickle.dump(mlb, fin)\n",
    "    "
   ]
  },
  {
   "cell_type": "code",
   "execution_count": null,
   "metadata": {},
   "outputs": [],
   "source": [
    "score_nmf_frs = []\n",
    "no_tag_nmf_frs = []\n",
    "\n",
    "for i in range(len(threshold_list)):\n",
    "    y_pred_nmf_fr = mlb.fit_transform(\n",
    "        df_text_reduced_clusterized[\"POTENTIAL_TAGS_NMFFR_THRE_\"\n",
    "                                    + str(round(threshold_list[i], 2))])\n",
    "\n",
    "    score_nmf_fr = evaluate(\n",
    "        y_true,\n",
    "        y_pred_nmf_fr,\n",
    "        binarizer=mlb,\n",
    "        G_tags=G_tags,\n",
    "        l_print_errors=False,\n",
    "        l_deduplication=True)\n",
    "    #print('Test score: {0:.2f}'.format(score_nmf_fr))\n",
    "    score_nmf_frs.append(score_nmf_fr)\n",
    "\n",
    "    y_pred_text_nmf_fr = mlb.fit_transform(\n",
    "        df_text[\"POTENTIAL_TAGS_NMFFR_THRE_\"\n",
    "                + str(round(threshold_list[i], 2))])\n",
    "\n",
    "    no_tag_score_nmf_fr = no_tag_percentage_score(y_pred_text_nmf_fr, mlb)\n",
    "    no_tag_nmf_frs.append(no_tag_score_nmf_fr)"
   ]
  },
  {
   "cell_type": "code",
   "execution_count": null,
   "metadata": {
    "scrolled": true
   },
   "outputs": [],
   "source": [
    "score_nmf_kls = []\n",
    "no_tag_nmf_kls = []\n",
    "for i in range(len(threshold_list)):\n",
    "    y_pred_nmf_kl = mlb.fit_transform(\n",
    "        df_text_reduced_clusterized[\"POTENTIAL_TAGS_NMFKL_THRE_\"\n",
    "                                    + str(round(threshold_list[i], 2))])\n",
    "\n",
    "    score_nmf_kl = evaluate(\n",
    "        y_true,\n",
    "        y_pred_nmf_kl,\n",
    "        binarizer=mlb,\n",
    "        G_tags=G_tags,\n",
    "        l_print_errors=False,\n",
    "        l_deduplication=True)\n",
    "    #print('Test score: {0:.2f}'.format(score_nmf_kl))\n",
    "    score_nmf_kls.append(score_nmf_kl)\n",
    "\n",
    "    y_pred_text_nmf_kl = mlb.fit_transform(\n",
    "        df_text[\"POTENTIAL_TAGS_NMFKL_THRE_\"\n",
    "                + str(round(threshold_list[i], 2))])\n",
    "    no_tag_score_nmf_kl = no_tag_percentage_score(y_pred_text_nmf_kl, mlb)\n",
    "    no_tag_nmf_kls.append(no_tag_score_nmf_kl)"
   ]
  },
  {
   "cell_type": "code",
   "execution_count": null,
   "metadata": {},
   "outputs": [],
   "source": [
    "fig,ax = plt.subplots(figsize=(4,4))\n",
    "ax.scatter(threshold_list, score_nmf_kls, marker = \"^\", linestyle=\"dashed\", \n",
    "        s=80, color=\"b\")\n",
    "ax.scatter(threshold_list, score_nmf_frs, marker = \"^\", linestyle=\"dashdot\", \n",
    "        s=80, color=\"b\")\n",
    "ax.scatter(threshold_list, score_ldas, marker = \"^\", linestyle=\"solid\", \n",
    "        s=80, color=\"b\")\n",
    "ax.plot(threshold_list, score_nmf_kls, linestyle=\"dashed\", label=\"NMF (KL)\", \n",
    "           color=\"b\")\n",
    "ax.plot(threshold_list, score_nmf_frs, linestyle=\"dashdot\", \n",
    "           label=\"NMF (Frobenius)\", color=\"b\")\n",
    "ax.plot(threshold_list, score_ldas, linestyle=\"solid\", \n",
    "           label=\"LDA\", color=\"b\")\n",
    "ax2 = ax.twinx()\n",
    "ax2.plot(threshold_list, no_tag_nmf_kls, marker = \"o\", linestyle=\"dashed\", \n",
    "         markersize=10, color=\"r\")\n",
    "ax2.plot(threshold_list, no_tag_nmf_frs, marker = \"o\", linestyle=\"dashdot\", \n",
    "         markersize=10, color=\"r\")\n",
    "ax2.plot(threshold_list, no_tag_ldas, marker = \"o\", linestyle=\"solid\", \n",
    "         markersize=10, color=\"r\")\n",
    "ax.tick_params('y', colors='b')\n",
    "ax.set_ylim(-0.01,0.15)\n",
    "ax.set_xlim(-0.02,0.18)\n",
    "ax2.tick_params('y', colors='r')\n",
    "ax2.set_ylabel(r\"$\\mathrm{No\\,tag\\,documents\\,fraction}$\", color='r')\n",
    "ax.set_ylabel(r\"$\\mathrm{Average\\,F1\\,score}$\", color='b')\n",
    "\n",
    "ax.set_xlabel(\"threshold probability\")\n",
    "ax.legend(loc='right')\n",
    "plt.show()\n"
   ]
  },
  {
   "cell_type": "markdown",
   "metadata": {},
   "source": [
    "__Observation__:\n",
    "- Average F1 score is only evaluated on examples that have true labels. A good clustering should have a high average F1 score. In this case, the threshold probability should be 0 for NMF models and <.8 for LDA\n",
    "- No tag document fraction is evaluated on the whole document set. It should be kept at a low value. The threshold probabilty should be set to 0 for NMF models and 0.8 for LDA models."
   ]
  },
  {
   "cell_type": "code",
   "execution_count": null,
   "metadata": {},
   "outputs": [],
   "source": [
    "pd.DataFrame(\n",
    "    [[score_ldas[0], no_tag_ldas[0]], [score_nmf_frs[0], no_tag_nmf_frs[0]],\n",
    "     [score_nmf_kls[0], no_tag_nmf_kls[0]]],\n",
    "    index=[\"LDA\", \"NMF (Frobenius)\", \"NMF (KL)\"],\n",
    "    columns=[\"AVG F1 SCORE\", \"NO TAG SCORE\"])"
   ]
  },
  {
   "cell_type": "markdown",
   "metadata": {},
   "source": [
    "__Observation__:\n",
    "- As compared to supervised learning, the AVG F1 scores best s are very close to the baseline supervised learning models.\n",
    "- The no tag score indicates the fraction of documents which are not attributed a tag. It would be great to minimize this score.\n",
    "- A way to compare the performance among all these unsupervised models, AVG F1 score needs to be high and the no tag score has to below, therefore the best performance is obtained with NMF (KL) model."
   ]
  }
 ],
 "metadata": {
  "kernelspec": {
   "display_name": "Python 3",
   "language": "python",
   "name": "python3"
  },
  "language_info": {
   "codemirror_mode": {
    "name": "ipython",
    "version": 3
   },
   "file_extension": ".py",
   "mimetype": "text/x-python",
   "name": "python",
   "nbconvert_exporter": "python",
   "pygments_lexer": "ipython3",
   "version": "3.6.3"
  }
 },
 "nbformat": 4,
 "nbformat_minor": 2
}
