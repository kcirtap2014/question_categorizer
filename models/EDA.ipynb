{
 "cells": [
  {
   "cell_type": "code",
   "execution_count": 1,
   "metadata": {},
   "outputs": [
    {
     "name": "stdout",
     "output_type": "stream",
     "text": [
      "Populating the interactive namespace from numpy and matplotlib\n"
     ]
    }
   ],
   "source": [
    "import os\n",
    "import pandas as pd\n",
    "import seaborn as sns\n",
    "import string\n",
    "import re\n",
    "from collections import defaultdict\n",
    "from helper_functions import group_sort, unique_values, freq_stats_corpora\n",
    "\n",
    "\n",
    "sns.set_style(\"white\")\n",
    "%pylab inline"
   ]
  },
  {
   "cell_type": "markdown",
   "metadata": {},
   "source": [
    "# Mission\n",
    "Développer un système de suggestion de tag pour le site stackoverflow"
   ]
  },
  {
   "cell_type": "markdown",
   "metadata": {},
   "source": [
    "# Load Data"
   ]
  },
  {
   "cell_type": "code",
   "execution_count": 2,
   "metadata": {},
   "outputs": [],
   "source": [
    "cur_dir = os.path.dirname(os.getcwd())\n",
    "num_db = 1\n",
    "df = pd.DataFrame([])\n",
    "\n",
    "for i in range(num_db):\n",
    "    df = df.append(\n",
    "        pd.read_csv(\n",
    "            cur_dir + \"/db/QueryResults%d.csv\" % (i + 1), index_col=0))"
   ]
  },
  {
   "cell_type": "code",
   "execution_count": 3,
   "metadata": {},
   "outputs": [
    {
     "data": {
      "text/plain": [
       "(50000, 21)"
      ]
     },
     "execution_count": 3,
     "metadata": {},
     "output_type": "execute_result"
    }
   ],
   "source": [
    "df.shape"
   ]
  },
  {
   "cell_type": "code",
   "execution_count": 4,
   "metadata": {},
   "outputs": [
    {
     "data": {
      "image/png": "[encoded data removed]",
      "text/plain": [
       "<matplotlib.figure.Figure at 0x111485860>"
      ]
     },
     "metadata": {},
     "output_type": "display_data"
    }
   ],
   "source": [
    "df_count = df.count().sort_values(ascending=False)\n",
    "fig, ax = plt.subplots()\n",
    "df_count.plot.bar(color=\"steelblue\", ax=ax)\n",
    "sns.despine()"
   ]
  },
  {
   "cell_type": "markdown",
   "metadata": {},
   "source": [
    "__Observation__:\n",
    "- Each post has an id, PostTypeId, CommentCount, CreationDate, Score and LastActivityDate\n",
    "- User information are given by OwnerUserId and OwnerDisplayName, almost all posts are given by distinct user.\n",
    "- Tags have a significant missing values -> users do not tag much\n",
    "\n",
    "Here, we are interested in analysing the title and body and then suggest tags to users.\n",
    "\n",
    "In the *unsupervised learning*, tags are not necessary, but in *supervised learning*, tags are the target variable."
   ]
  },
  {
   "cell_type": "code",
   "execution_count": 5,
   "metadata": {},
   "outputs": [],
   "source": [
    "# Combine columns\n",
    "# add an empty space for distinction\n",
    "df_text = pd.DataFrame(list(zip(df.Title,\n",
    "                                df.Body)), index = df.index).rename(columns={\n",
    "                                    0: 'TITLE',\n",
    "                                    1: 'BODY'\n",
    "                                })"
   ]
  },
  {
   "cell_type": "code",
   "execution_count": 6,
   "metadata": {},
   "outputs": [],
   "source": [
    "def stringbetweencode(data):\n",
    "    p = re.compile(\"<code>(.+?)<\\/code>\", flags=re.DOTALL)\n",
    "    return p.findall(data) \n",
    "\n",
    "#df_text[\"CODE\"] = np.nan\n",
    "df_text[\"CODE\"] = df_text[\"BODY\"].apply(stringbetweencode) "
   ]
  },
  {
   "cell_type": "markdown",
   "metadata": {},
   "source": [
    "# EDA for Tags"
   ]
  },
  {
   "cell_type": "code",
   "execution_count": 7,
   "metadata": {
    "collapsed": true
   },
   "outputs": [],
   "source": [
    "from nltk import FreqDist\n",
    "from nltk.tokenize import word_tokenize\n",
    "\n",
    "def tag_between_brackets(data):\n",
    "    p = re.compile(r'<(.*?)>')\n",
    "    return p.findall(data)\n",
    "\n",
    "# extract only data with tags\n",
    "df_tags = df[df.Tags.notnull()].Tags\n",
    "\n",
    "# extact tags between <>\n",
    "df_stags = df_tags.apply(tag_between_brackets)\n",
    "\n",
    "# combine all tokens together for freq dist\n",
    "tagslist = df_stags.sum()\n",
    "\n",
    "# count frequency of each tag\n",
    "# How many documents are tagged with a specific tag?\n",
    "tagsfreq = FreqDist(tagslist)"
   ]
  },
  {
   "cell_type": "code",
   "execution_count": 8,
   "metadata": {},
   "outputs": [],
   "source": [
    "from operator import itemgetter\n",
    "# sort by values in descending order\n",
    "sorted_tagsfreq = sorted(tagsfreq.items(), key=itemgetter(1), reverse=True)\n",
    "tags_key, tags_value = zip(*sorted_tagsfreq)"
   ]
  },
  {
   "cell_type": "code",
   "execution_count": 9,
   "metadata": {},
   "outputs": [
    {
     "name": "stderr",
     "output_type": "stream",
     "text": [
      "/Users/pmlee/anaconda3/lib/python3.6/site-packages/seaborn/categorical.py:1460: FutureWarning: remove_na is deprecated and is a private function. Do not use.\n",
      "  stat_data = remove_na(group_data)\n"
     ]
    },
    {
     "data": {
      "image/png": "[encoded data removed]",
      "text/plain": [
       "<matplotlib.figure.Figure at 0x10c0896a0>"
      ]
     },
     "metadata": {},
     "output_type": "display_data"
    }
   ],
   "source": [
    "# prepare for sns.barplot\n",
    "fig, ax = plt.subplots( figsize=(10, 3))\n",
    "\n",
    "n_element = 20\n",
    "x_tags = np.array(tags_key[:n_element]+ tags_key[-n_element:])\n",
    "y_tags = np.array(tags_value[:n_element]+ tags_value[-n_element:])\n",
    "sns.barplot(x_tags, y_tags, ax=ax)\n",
    "ax.set_xticklabels(x_tags, rotation=90)\n",
    "ax.set_title('Top and Bottom 20 tags')\n",
    "sns.despine()"
   ]
  },
  {
   "cell_type": "code",
   "execution_count": 199,
   "metadata": {},
   "outputs": [
    {
     "data": {
      "text/plain": [
       "count    3745.000000\n",
       "mean        7.397597\n",
       "std        37.596823\n",
       "min         1.000000\n",
       "50%         1.000000\n",
       "75%         4.000000\n",
       "90%        11.000000\n",
       "95%        24.000000\n",
       "max      1152.000000\n",
       "dtype: float64"
      ]
     },
     "execution_count": 199,
     "metadata": {},
     "output_type": "execute_result"
    }
   ],
   "source": [
    "pd.Series(tags_value).describe([0.5, 0.75,0.9,0.95])"
   ]
  },
  {
   "cell_type": "markdown",
   "metadata": {},
   "source": [
    "__Observation__:\n",
    "- 50% of the tags only occur once, we will eliminate tags that have low counts, taking the arg of 75% as threshold"
   ]
  },
  {
   "cell_type": "markdown",
   "metadata": {},
   "source": [
    "### Remove low count tags "
   ]
  },
  {
   "cell_type": "code",
   "execution_count": 224,
   "metadata": {
    "collapsed": true
   },
   "outputs": [],
   "source": [
    "def remove_low_count_tags(data):\n",
    "    reduced = [el for el in data if el in set(tags_key_reduced)]\n",
    "\n",
    "    if not reduced:\n",
    "        reduced = np.NaN\n",
    "    return reduced\n",
    "\n",
    "# drop keywords that have less than tag_freq\n",
    "quartile = 0.95\n",
    "n_tag = pd.Series(tags_value).quantile([quartile]).values[0]\n",
    "sorted_tagsfreq_reduced = [el for el in sorted_tagsfreq if el[1] > n_tag]\n",
    "tags_key_reduced, tags_value_reduced = zip(*sorted_tagsfreq_reduced)\n",
    "df_stags_temp = df_stags.apply(remove_low_count_tags)\n",
    "df_stags_reduced = df_stags_temp[df_stags_temp.notnull()]"
   ]
  },
  {
   "cell_type": "markdown",
   "metadata": {},
   "source": [
    "# Text preprocessing with scikit learn and NLTK"
   ]
  },
  {
   "cell_type": "code",
   "execution_count": 275,
   "metadata": {
    "scrolled": true
   },
   "outputs": [],
   "source": [
    "from sklearn.decomposition import LatentDirichletAllocation\n",
    "from nltk import regexp_tokenize, pos_tag\n",
    "from nltk.stem import WordNetLemmatizer\n",
    "from nltk.corpus import stopwords\n",
    "import pdb\n",
    "wnl = WordNetLemmatizer()\n",
    "\n",
    "\n",
    "def convert_tag(tag):\n",
    "    \"\"\"\n",
    "    Convert the tag given by nltk.pos_tag \n",
    "    to the tag used by wordnet.synsets\n",
    "    \"\"\"\n",
    "    tag_dict = {'N': 'n', 'J': 'a', 'R': 'r', 'V': 'v'}\n",
    "    try:\n",
    "        return tag_dict[tag[0]]\n",
    "    except KeyError:\n",
    "        # defalut value\n",
    "        return None\n",
    "\n",
    "\n",
    "def lemmatizer(doc):\n",
    "    \"\"\"\n",
    "    returns lemmatized tokens after removing stop words and pos tagging\n",
    "    \n",
    "    Parameters:\n",
    "    -----------\n",
    "    doc: pandas dataframe\n",
    "        text description in df\n",
    "    \n",
    "    Return:\n",
    "    -------\n",
    "    pandas dataframe\n",
    "        lemmatized, pos_tagged, and removed stopwords tokens\n",
    "    \"\"\"\n",
    "    # add words to stoplist, previously punctuations have been removed,\n",
    "    # so we should do the same for the stoplist\n",
    "    stoplist = [striphtmlpunct(x) for x in stopwords.words('english')] + ['im']\n",
    "    #stoplist = stopwords.words('english') + [\n",
    "    #    \"i've\", \"either\", \"i'm\", \"i'd\", \"would\", \"could\", 'it', \"like\",\n",
    "    #    \"something\", \"also\", \"might\", \"want\", 'this', 'make', 'sure'\n",
    "    #]\n",
    "   \n",
    "    lemmatized = []\n",
    "\n",
    "    regex_tokens = regexp_tokenize(doc, pattern='\\w+\\S+|\\.\\w+')\n",
    "\n",
    "    for word, p_tags in pos_tag(regex_tokens):\n",
    "        if word not in set(stoplist):\n",
    "            convert_pos_tag = convert_tag(p_tags)\n",
    "\n",
    "            # retain nouns only\n",
    "            if convert_pos_tag == 'n':\n",
    "                lemmatized.append(wnl.lemmatize(word, pos=convert_pos_tag))\n",
    "    return lemmatized\n",
    "\n",
    "\n",
    "def striphtmlpunct(data):\n",
    "    # remove html tags, code unnecessary punctuations\n",
    "    # <.*?> to remove everything between <>\n",
    "    # [^\\w\\s+\\.\\-\\#\\+] remove punctuations except .-#+\n",
    "    # (\\.{1,3})(?!\\S) negative lookahead assertion: only match .{1,3} that \n",
    "    # is followed by white space\n",
    "    p = re.compile(r'<.*?>|[^\\w\\s+\\.\\-\\#\\+]')\n",
    "    res = p.sub('', data)\n",
    "    pe = re.compile('(\\.{1,3})(?!\\S)')\n",
    "    return pe.sub('', res)\n",
    "\n",
    "\n",
    "def striptabs(data):\n",
    "    # remove tabs breaklines\n",
    "    p = re.compile(r'(\\r\\n)+|\\r+|\\n+|\\t+/i')\n",
    "    return p.sub(' ', data)\n",
    "\n",
    "\n",
    "# remove html tags\n",
    "df_text[\"BODY_STRIPPED\"] = df_text.BODY.str.lower().apply(\n",
    "    striphtmlpunct).apply(striptabs)\n",
    "df_text[\"CODE_STRIPPED\"] = df_text.CODE.apply(\n",
    "    lambda x: [striptabs(line.lower()) for line in x if x])\n",
    "df_text[\"TITLE_STRIPPED\"] = df_text.TITLE.apply(\n",
    "    lambda x: striphtmlpunct(x.lower()) if (isinstance(x, str)) else x)\n",
    "\n",
    "# remove stop words, pos_tag, and lemmatize\n",
    "df_text[\"BODY_LEMMATIZED\"] = df_text[\"BODY_STRIPPED\"].apply(lemmatizer)\n",
    "df_text[\"TITLE_LEMMATIZED\"] = df_text[\"TITLE_STRIPPED\"].apply(\n",
    "    lambda x: lemmatizer(x) if (isinstance(x, str)) else x)"
   ]
  },
  {
   "cell_type": "code",
   "execution_count": 276,
   "metadata": {},
   "outputs": [
    {
     "data": {
      "text/html": [
       "<div>\n",
       "<style scoped>\n",
       "    .dataframe tbody tr th:only-of-type {\n",
       "        vertical-align: middle;\n",
       "    }\n",
       "\n",
       "    .dataframe tbody tr th {\n",
       "        vertical-align: top;\n",
       "    }\n",
       "\n",
       "    .dataframe thead th {\n",
       "        text-align: right;\n",
       "    }\n",
       "</style>\n",
       "<table border=\"1\" class=\"dataframe\">\n",
       "  <thead>\n",
       "    <tr style=\"text-align: right;\">\n",
       "      <th></th>\n",
       "      <th>TITLE</th>\n",
       "      <th>BODY</th>\n",
       "      <th>CODE</th>\n",
       "      <th>BODY_STRIPPED</th>\n",
       "      <th>CODE_STRIPPED</th>\n",
       "      <th>TITLE_STRIPPED</th>\n",
       "      <th>BODY_LEMMATIZED</th>\n",
       "      <th>TITLE_LEMMATIZED</th>\n",
       "    </tr>\n",
       "    <tr>\n",
       "      <th>Id</th>\n",
       "      <th></th>\n",
       "      <th></th>\n",
       "      <th></th>\n",
       "      <th></th>\n",
       "      <th></th>\n",
       "      <th></th>\n",
       "      <th></th>\n",
       "      <th></th>\n",
       "    </tr>\n",
       "  </thead>\n",
       "  <tbody>\n",
       "    <tr>\n",
       "      <th>4</th>\n",
       "      <td>While applying opacity to a form, should we us...</td>\n",
       "      <td>&lt;p&gt;I want to use a track-bar to change a form'...</td>\n",
       "      <td>[decimal trans = trackBar1.Value / 5000;\\nthis...</td>\n",
       "      <td>i want to use a track-bar to change a forms op...</td>\n",
       "      <td>[decimal trans = trackbar1.value / 5000; this....</td>\n",
       "      <td>while applying opacity to a form should we use...</td>\n",
       "      <td>[want, form, opacity, code, trans, this.opacit...</td>\n",
       "      <td>[opacity, value]</td>\n",
       "    </tr>\n",
       "    <tr>\n",
       "      <th>6</th>\n",
       "      <td>Percentage width child element in absolutely p...</td>\n",
       "      <td>&lt;p&gt;I have an absolutely positioned &lt;code&gt;div&lt;/...</td>\n",
       "      <td>[div, div, div]</td>\n",
       "      <td>i have an absolutely positioned div containing...</td>\n",
       "      <td>[div, div, div]</td>\n",
       "      <td>percentage width child element in absolutely p...</td>\n",
       "      <td>[child, div, use, width, child, internetnbspex...</td>\n",
       "      <td>[percentage, width, child, element, parent, in...</td>\n",
       "    </tr>\n",
       "    <tr>\n",
       "      <th>7</th>\n",
       "      <td>NaN</td>\n",
       "      <td>&lt;p&gt;An explicit cast to double like this isn't ...</td>\n",
       "      <td>[double trans = (double) trackBar1.Value / 500...</td>\n",
       "      <td>an explicit cast to double like this isnt nece...</td>\n",
       "      <td>[double trans = (double) trackbar1.value / 500...</td>\n",
       "      <td>NaN</td>\n",
       "      <td>[cast, trans, trans, trans]</td>\n",
       "      <td>NaN</td>\n",
       "    </tr>\n",
       "    <tr>\n",
       "      <th>9</th>\n",
       "      <td>How do I calculate someone's age in C#?</td>\n",
       "      <td>&lt;p&gt;Given a &lt;code&gt;DateTime&lt;/code&gt; representing ...</td>\n",
       "      <td>[DateTime]</td>\n",
       "      <td>given a datetime representing a persons birthd...</td>\n",
       "      <td>[datetime]</td>\n",
       "      <td>how do i calculate someones age in c#</td>\n",
       "      <td>[person, age, year]</td>\n",
       "      <td>[someone, age, c#]</td>\n",
       "    </tr>\n",
       "    <tr>\n",
       "      <th>11</th>\n",
       "      <td>Calculate relative time in C#</td>\n",
       "      <td>&lt;p&gt;Given a specific &lt;code&gt;DateTime&lt;/code&gt; valu...</td>\n",
       "      <td>[DateTime]</td>\n",
       "      <td>given a specific datetime value how do i displ...</td>\n",
       "      <td>[datetime]</td>\n",
       "      <td>calculate relative time in c#</td>\n",
       "      <td>[datetime, value, time, hour, day, month]</td>\n",
       "      <td>[time, c#]</td>\n",
       "    </tr>\n",
       "  </tbody>\n",
       "</table>\n",
       "</div>"
      ],
      "text/plain": [
       "                                                TITLE  \\\n",
       "Id                                                      \n",
       "4   While applying opacity to a form, should we us...   \n",
       "6   Percentage width child element in absolutely p...   \n",
       "7                                                 NaN   \n",
       "9             How do I calculate someone's age in C#?   \n",
       "11                      Calculate relative time in C#   \n",
       "\n",
       "                                                 BODY  \\\n",
       "Id                                                      \n",
       "4   <p>I want to use a track-bar to change a form'...   \n",
       "6   <p>I have an absolutely positioned <code>div</...   \n",
       "7   <p>An explicit cast to double like this isn't ...   \n",
       "9   <p>Given a <code>DateTime</code> representing ...   \n",
       "11  <p>Given a specific <code>DateTime</code> valu...   \n",
       "\n",
       "                                                 CODE  \\\n",
       "Id                                                      \n",
       "4   [decimal trans = trackBar1.Value / 5000;\\nthis...   \n",
       "6                                     [div, div, div]   \n",
       "7   [double trans = (double) trackBar1.Value / 500...   \n",
       "9                                          [DateTime]   \n",
       "11                                         [DateTime]   \n",
       "\n",
       "                                        BODY_STRIPPED  \\\n",
       "Id                                                      \n",
       "4   i want to use a track-bar to change a forms op...   \n",
       "6   i have an absolutely positioned div containing...   \n",
       "7   an explicit cast to double like this isnt nece...   \n",
       "9   given a datetime representing a persons birthd...   \n",
       "11  given a specific datetime value how do i displ...   \n",
       "\n",
       "                                        CODE_STRIPPED  \\\n",
       "Id                                                      \n",
       "4   [decimal trans = trackbar1.value / 5000; this....   \n",
       "6                                     [div, div, div]   \n",
       "7   [double trans = (double) trackbar1.value / 500...   \n",
       "9                                          [datetime]   \n",
       "11                                         [datetime]   \n",
       "\n",
       "                                       TITLE_STRIPPED  \\\n",
       "Id                                                      \n",
       "4   while applying opacity to a form should we use...   \n",
       "6   percentage width child element in absolutely p...   \n",
       "7                                                 NaN   \n",
       "9               how do i calculate someones age in c#   \n",
       "11                      calculate relative time in c#   \n",
       "\n",
       "                                      BODY_LEMMATIZED  \\\n",
       "Id                                                      \n",
       "4   [want, form, opacity, code, trans, this.opacit...   \n",
       "6   [child, div, use, width, child, internetnbspex...   \n",
       "7                         [cast, trans, trans, trans]   \n",
       "9                                 [person, age, year]   \n",
       "11          [datetime, value, time, hour, day, month]   \n",
       "\n",
       "                                     TITLE_LEMMATIZED  \n",
       "Id                                                     \n",
       "4                                    [opacity, value]  \n",
       "6   [percentage, width, child, element, parent, in...  \n",
       "7                                                 NaN  \n",
       "9                                  [someone, age, c#]  \n",
       "11                                         [time, c#]  "
      ]
     },
     "execution_count": 276,
     "metadata": {},
     "output_type": "execute_result"
    }
   ],
   "source": [
    "df_text.head(5)"
   ]
  },
  {
   "cell_type": "code",
   "execution_count": 277,
   "metadata": {},
   "outputs": [
    {
     "data": {
      "text/plain": [
       "\"<p>This is something I've pseudo-solved many times and have never quite found a solution for.</p>\\n\\n<p>The problem is to come up with a way to generate <code>N</code> colors, that are as distinguishable as possible where <code>N</code> is a parameter.</p>\\n\""
      ]
     },
     "execution_count": 277,
     "metadata": {},
     "output_type": "execute_result"
    }
   ],
   "source": [
    "df_text_reduced.iloc[39].BODY"
   ]
  },
  {
   "cell_type": "code",
   "execution_count": 278,
   "metadata": {},
   "outputs": [
    {
     "data": {
      "text/plain": [
       "'this is something ive pseudo-solved many times and have never quite found a solution for. the problem is to come up with a way to generate n colors that are as distinguishable as possible where n is a parameter. '"
      ]
     },
     "execution_count": 278,
     "metadata": {},
     "output_type": "execute_result"
    }
   ],
   "source": [
    "df_text_reduced.iloc[39].BODY_STRIPPED"
   ]
  },
  {
   "cell_type": "markdown",
   "metadata": {},
   "source": [
    "### Eliminate entries without tags\n",
    "- since we have remove low count tags, some entries will be tagless, we remove these entries for supervised learning "
   ]
  },
  {
   "cell_type": "code",
   "execution_count": 225,
   "metadata": {
    "collapsed": true
   },
   "outputs": [],
   "source": [
    "df_text_reduced = df_text.loc[df_stags_reduced.index]"
   ]
  },
  {
   "cell_type": "code",
   "execution_count": 226,
   "metadata": {},
   "outputs": [
    {
     "name": "stdout",
     "output_type": "stream",
     "text": [
      "91.4% of the data are retained\n"
     ]
    }
   ],
   "source": [
    "print(\"%.1f%% of the data are retained\" %(100*len(df_text_reduced)/len(df_tags)))"
   ]
  },
  {
   "cell_type": "code",
   "execution_count": 230,
   "metadata": {},
   "outputs": [
    {
     "data": {
      "text/html": [
       "<div>\n",
       "<style scoped>\n",
       "    .dataframe tbody tr th:only-of-type {\n",
       "        vertical-align: middle;\n",
       "    }\n",
       "\n",
       "    .dataframe tbody tr th {\n",
       "        vertical-align: top;\n",
       "    }\n",
       "\n",
       "    .dataframe thead th {\n",
       "        text-align: right;\n",
       "    }\n",
       "</style>\n",
       "<table border=\"1\" class=\"dataframe\">\n",
       "  <thead>\n",
       "    <tr style=\"text-align: right;\">\n",
       "      <th></th>\n",
       "      <th>TITLE</th>\n",
       "      <th>BODY</th>\n",
       "      <th>CODE</th>\n",
       "      <th>BODY_STRIPPED</th>\n",
       "      <th>CODE_STRIPPED</th>\n",
       "      <th>TITLE_STRIPPED</th>\n",
       "      <th>BODY_LEMMATIZED</th>\n",
       "      <th>TITLE_LEMMATIZED</th>\n",
       "    </tr>\n",
       "    <tr>\n",
       "      <th>Id</th>\n",
       "      <th></th>\n",
       "      <th></th>\n",
       "      <th></th>\n",
       "      <th></th>\n",
       "      <th></th>\n",
       "      <th></th>\n",
       "      <th></th>\n",
       "      <th></th>\n",
       "    </tr>\n",
       "  </thead>\n",
       "  <tbody>\n",
       "    <tr>\n",
       "      <th>61535</th>\n",
       "      <td>How To Discover RSS Feeds for a given URL</td>\n",
       "      <td>&lt;p&gt;I get a URL from a user. I need to know:&lt;br...</td>\n",
       "      <td>[]</td>\n",
       "      <td>i get a url from a user i need to know a is th...</td>\n",
       "      <td>[]</td>\n",
       "      <td>how to discover rss feeds for a given url</td>\n",
       "      <td>[need, r, feed, feed, phpjavascript, something...</td>\n",
       "      <td>[r, feed, url]</td>\n",
       "    </tr>\n",
       "    <tr>\n",
       "      <th>45407</th>\n",
       "      <td>Is there any difference between the box models...</td>\n",
       "      <td>&lt;p&gt;What are the main differences (if any) betw...</td>\n",
       "      <td>[]</td>\n",
       "      <td>what are the main differences if any between t...</td>\n",
       "      <td>[]</td>\n",
       "      <td>is there any difference between the box models...</td>\n",
       "      <td>[difference, box, model, ie8, firefox3, differ...</td>\n",
       "      <td>[difference, box, model, ie8, firefox3]</td>\n",
       "    </tr>\n",
       "    <tr>\n",
       "      <th>45898</th>\n",
       "      <td>Opening a non-standard URL in a Cocoa app</td>\n",
       "      <td>&lt;p&gt;In an application that I'm writing I have s...</td>\n",
       "      <td>[NSWorkspace* ws = [NSWorkspace sharedWorkspac...</td>\n",
       "      <td>in an application that im writing i have some ...</td>\n",
       "      <td>[nsworkspace* ws = [nsworkspace sharedworkspac...</td>\n",
       "      <td>opening a non-standard url in a cocoa app</td>\n",
       "      <td>[application, code, nsworkspace, sharedworkspa...</td>\n",
       "      <td>[url, cocoa, app]</td>\n",
       "    </tr>\n",
       "  </tbody>\n",
       "</table>\n",
       "</div>"
      ],
      "text/plain": [
       "                                                   TITLE  \\\n",
       "Id                                                         \n",
       "61535          How To Discover RSS Feeds for a given URL   \n",
       "45407  Is there any difference between the box models...   \n",
       "45898          Opening a non-standard URL in a Cocoa app   \n",
       "\n",
       "                                                    BODY  \\\n",
       "Id                                                         \n",
       "61535  <p>I get a URL from a user. I need to know:<br...   \n",
       "45407  <p>What are the main differences (if any) betw...   \n",
       "45898  <p>In an application that I'm writing I have s...   \n",
       "\n",
       "                                                    CODE  \\\n",
       "Id                                                         \n",
       "61535                                                 []   \n",
       "45407                                                 []   \n",
       "45898  [NSWorkspace* ws = [NSWorkspace sharedWorkspac...   \n",
       "\n",
       "                                           BODY_STRIPPED  \\\n",
       "Id                                                         \n",
       "61535  i get a url from a user i need to know a is th...   \n",
       "45407  what are the main differences if any between t...   \n",
       "45898  in an application that im writing i have some ...   \n",
       "\n",
       "                                           CODE_STRIPPED  \\\n",
       "Id                                                         \n",
       "61535                                                 []   \n",
       "45407                                                 []   \n",
       "45898  [nsworkspace* ws = [nsworkspace sharedworkspac...   \n",
       "\n",
       "                                          TITLE_STRIPPED  \\\n",
       "Id                                                         \n",
       "61535          how to discover rss feeds for a given url   \n",
       "45407  is there any difference between the box models...   \n",
       "45898          opening a non-standard url in a cocoa app   \n",
       "\n",
       "                                         BODY_LEMMATIZED  \\\n",
       "Id                                                         \n",
       "61535  [need, r, feed, feed, phpjavascript, something...   \n",
       "45407  [difference, box, model, ie8, firefox3, differ...   \n",
       "45898  [application, code, nsworkspace, sharedworkspa...   \n",
       "\n",
       "                              TITLE_LEMMATIZED  \n",
       "Id                                              \n",
       "61535                           [r, feed, url]  \n",
       "45407  [difference, box, model, ie8, firefox3]  \n",
       "45898                        [url, cocoa, app]  "
      ]
     },
     "execution_count": 230,
     "metadata": {},
     "output_type": "execute_result"
    }
   ],
   "source": [
    "df_text_reduced.sample(3, random_state=344)"
   ]
  },
  {
   "cell_type": "markdown",
   "metadata": {},
   "source": [
    "## Bag-of-words distribution associated to a tag"
   ]
  },
  {
   "cell_type": "markdown",
   "metadata": {},
   "source": [
    "### On text title"
   ]
  },
  {
   "cell_type": "code",
   "execution_count": 231,
   "metadata": {
    "collapsed": true
   },
   "outputs": [],
   "source": [
    "df_tags_title = pd.DataFrame(\n",
    "    list(\n",
    "        zip(df_stags_reduced,\n",
    "            df_text_reduced.loc[df_stags_reduced.index, \"TITLE_LEMMATIZED\"]))).rename(\n",
    "                columns={\n",
    "                    0: \"elkey\",\n",
    "                    1: \"elvalue\"\n",
    "                })"
   ]
  },
  {
   "cell_type": "code",
   "execution_count": 232,
   "metadata": {
    "collapsed": true
   },
   "outputs": [],
   "source": [
    "corpfreq_title, corpstats_title, corpora_title = freq_stats_corpora(\n",
    "    df_tags_title)"
   ]
  },
  {
   "cell_type": "code",
   "execution_count": 233,
   "metadata": {
    "collapsed": true
   },
   "outputs": [],
   "source": [
    "# sort by values in descending order\n",
    "sorted_corpfreq_title = defaultdict(list)\n",
    "cutoff = 10\n",
    "\n",
    "for tag, tagfreq in corpfreq_title.items():\n",
    "    # only add into sorted_corpfreq if the word occurencces are>50\n",
    "    if sum(list(tagfreq.values())) > cutoff:\n",
    "        sorted_corpfreq_title[tag] = sorted(\n",
    "            tagfreq.items(), key=itemgetter(1), reverse=True)"
   ]
  },
  {
   "cell_type": "code",
   "execution_count": 234,
   "metadata": {},
   "outputs": [
    {
     "name": "stderr",
     "output_type": "stream",
     "text": [
      "/Users/pmlee/anaconda3/lib/python3.6/site-packages/seaborn/categorical.py:1460: FutureWarning: remove_na is deprecated and is a private function. Do not use.\n",
      "  stat_data = remove_na(group_data)\n"
     ]
    },
    {
     "data": {
      "image/png": "[encoded data removed]",
      "text/plain": [
       "<matplotlib.figure.Figure at 0x1d92552940>"
      ]
     },
     "metadata": {},
     "output_type": "display_data"
    }
   ],
   "source": [
    "token_index = 2\n",
    "key = list(sorted_corpfreq_title.keys())[token_index]\n",
    "corptags_key_title, corptags_value_title = zip(*sorted_corpfreq_title[key])\n",
    "fig, ax = plt.subplots(figsize=(10, 4))\n",
    "n_element = 50\n",
    "sns.barplot(\n",
    "    np.array(corptags_key_title[:n_element]),\n",
    "    np.array(corptags_value_title[:n_element]),\n",
    "    ax=ax)\n",
    "ax.set_xticklabels(corptags_key_title[:n_element], rotation=90)\n",
    "ax.set_title('Top 50 words for %s from title' %key)\n",
    "sns.despine()"
   ]
  },
  {
   "cell_type": "markdown",
   "metadata": {},
   "source": [
    "### On text body"
   ]
  },
  {
   "cell_type": "code",
   "execution_count": 235,
   "metadata": {},
   "outputs": [],
   "source": [
    "df_tags_body = pd.DataFrame(\n",
    "    list(\n",
    "        zip(df_stags_reduced,\n",
    "            df_text_reduced.loc[df_stags_reduced.index, \"BODY_LEMMATIZED\"]))).rename(\n",
    "                columns={\n",
    "                    0: \"elkey\",\n",
    "                    1: \"elvalue\"\n",
    "                })"
   ]
  },
  {
   "cell_type": "code",
   "execution_count": 236,
   "metadata": {},
   "outputs": [],
   "source": [
    "corpfreq_body, corpstats_body, corpora_body = freq_stats_corpora(df_tags_body)"
   ]
  },
  {
   "cell_type": "code",
   "execution_count": 237,
   "metadata": {},
   "outputs": [],
   "source": [
    "# sort by values in descending order\n",
    "sorted_corpfreq_body = defaultdict(list)\n",
    "cutoff = 1\n",
    "cutoff_doc = 50\n",
    "n_most_common = 20\n",
    "# most frequent words will be the corpora that we use as a dictionary\n",
    "most_frequent_words = defaultdict(list)\n",
    "\n",
    "for tag, tagfreq in corpfreq_body.items():\n",
    "    # only add into sorted_corpfreq if the word occurencces > cutoff_doc\n",
    "    if sum(list(tagfreq.values())) > cutoff_doc:\n",
    "    \n",
    "        most_frequent_words[tag] = set(\n",
    "            i[0] for i in tagfreq.most_common(n_most_common) if i[1] > cutoff)\n",
    "        sorted_corpfreq_body[tag] = sorted(\n",
    "            tagfreq.items(), key=itemgetter(1), reverse=True)\n"
   ]
  },
  {
   "cell_type": "code",
   "execution_count": 238,
   "metadata": {},
   "outputs": [
    {
     "name": "stderr",
     "output_type": "stream",
     "text": [
      "/Users/pmlee/anaconda3/lib/python3.6/site-packages/seaborn/categorical.py:1460: FutureWarning: remove_na is deprecated and is a private function. Do not use.\n",
      "  stat_data = remove_na(group_data)\n"
     ]
    },
    {
     "data": {
      "image/png": "[encoded data removed]",
      "text/plain": [
       "<matplotlib.figure.Figure at 0x1d907d9c18>"
      ]
     },
     "metadata": {},
     "output_type": "display_data"
    }
   ],
   "source": [
    "token_index = 2\n",
    "key = list(sorted_corpfreq_body.keys())[token_index]\n",
    "corptags_key_body, corptags_value_body = zip(*sorted_corpfreq_body[key])\n",
    "fig, ax = plt.subplots(figsize=(10, 4))\n",
    "n_element = 50\n",
    "sns.barplot(\n",
    "    np.array(corptags_key_body[:n_element]),\n",
    "    np.array(corptags_value_body[:n_element]),\n",
    "    ax=ax)\n",
    "ax.set_xticklabels(corptags_key_body[:n_element], rotation=90)\n",
    "ax.set_title(\n",
    "    'Top 50 words for %s from text body' %key)\n",
    "sns.despine()"
   ]
  },
  {
   "cell_type": "markdown",
   "metadata": {},
   "source": [
    "__Observation__:\n",
    "- From text.body and text.title, the tag words appear the most often in the word distrbution. For example, \n",
    "    - {tagword: *python*, word_distrb: {python: 280, way: 120...}\n",
    "    - {tagword: *performance*, word_distrb: {performance: 120, time: 50...}\n",
    "    - {tagword: *html*, word_distrb: {html: 150, page: 80...}\n",
    "- This implies that we can rely on the presence of certain words to correctly predict tags"
   ]
  },
  {
   "cell_type": "markdown",
   "metadata": {},
   "source": [
    "# Supervised learning: NLTK Naïve Bayes classifer"
   ]
  },
  {
   "cell_type": "markdown",
   "metadata": {},
   "source": [
    "## Use text body only\n",
    "### Train/test split\n",
    "We create a corpus from the train set. This corpus contains the n most frequent words in each tag. We have seen previously that the tag is often found in the text body."
   ]
  },
  {
   "cell_type": "code",
   "execution_count": 306,
   "metadata": {},
   "outputs": [],
   "source": [
    "shuffled_df_tags_body = df_tags_body.sample(frac=1, random_state=32)\n",
    "train_size = int(0.8 * len(shuffled_df_tags_body))\n",
    "\n",
    "train_crossval_set_body = shuffled_df_tags_body[:train_size]\n",
    "test_set_body = shuffled_df_tags_body[train_size:]"
   ]
  },
  {
   "cell_type": "code",
   "execution_count": 307,
   "metadata": {
    "collapsed": true
   },
   "outputs": [],
   "source": [
    "train_freq_body, train_stats_body, train_corpora_body = freq_stats_corpora(train_crossval_set_body)"
   ]
  },
  {
   "cell_type": "markdown",
   "metadata": {},
   "source": [
    "### Corpus creation"
   ]
  },
  {
   "cell_type": "markdown",
   "metadata": {},
   "source": [
    "__Combination of top n words for each tag as corpus__"
   ]
  },
  {
   "cell_type": "code",
   "execution_count": 308,
   "metadata": {},
   "outputs": [],
   "source": [
    "sorted_train_freq_body = defaultdict(list)\n",
    "corpus_dict_body = []\n",
    "n_elements = 5\n",
    "\n",
    "for tag, tagfreq in train_freq_body.items():\n",
    "    # only add into sorted_corpfreq if the word occurencces > cutoff_doc\n",
    "    sorted_train_freq_body[tag] = sorted(\n",
    "        tagfreq.items(), key=itemgetter(1), reverse=True)\n",
    "    corpus_dict_body.extend(\n",
    "        [i[0] for i in sorted_train_freq_body[tag][:n_elements]])\n",
    "\n",
    "# this corpus will be used to generate features for training\n",
    "corpus_dict_body = set(corpus_dict_body)"
   ]
  },
  {
   "cell_type": "markdown",
   "metadata": {},
   "source": [
    "__Use of tags in train set as corpus__\n"
   ]
  },
  {
   "cell_type": "code",
   "execution_count": null,
   "metadata": {
    "collapsed": true
   },
   "outputs": [],
   "source": [
    "corpus_dict_tags = set(train_freq_body.keys())"
   ]
  },
  {
   "cell_type": "markdown",
   "metadata": {},
   "source": [
    "### Feature engineering\n",
    "From the corpus, we look at tokens of each document. If the token is found in the corpus, then we attribute True to feature 'contain(word)', else False."
   ]
  },
  {
   "cell_type": "code",
   "execution_count": 309,
   "metadata": {},
   "outputs": [],
   "source": [
    "def featuregenerator(data, corpus_dict):\n",
    "    features = {}\n",
    "\n",
    "    for word in corpus_dict:\n",
    "        features['contains({})'.format(word)] = (word in set(data))\n",
    "    return features"
   ]
  },
  {
   "cell_type": "code",
   "execution_count": 334,
   "metadata": {},
   "outputs": [],
   "source": [
    "train_featuresets_body = []\n",
    "#n_words = 10\n",
    "for index, row in train_crossval_set_body.iterrows():\n",
    "    for key in row.elkey:\n",
    "        #sorted_elvalue = sorted(\n",
    "        #    FreqDist(row.elvalue).items(), key=itemgetter(1), reverse=True)\n",
    "        #fd_elvalue =  FreqDist(row.elvalue)\n",
    "        #existing_keywords = {i:fd_elvalue[i] for i in set(fd_elvalue.keys()).intersection(most_frequent_words[key])}\n",
    "        #pdb.set_trace()\n",
    "        #featuresets.append((dict(sorted_elvalue), key))    \n",
    "        #featuresets.append(({i:True for i in row.elvalue},key))\n",
    "        train_featuresets_body.append((featuregenerator(row.elvalue, corpus_dict_body), key))"
   ]
  },
  {
   "cell_type": "markdown",
   "metadata": {},
   "source": [
    "### Train/crossval split\n",
    "Proportion of train/crossval:80/20\n"
   ]
  },
  {
   "cell_type": "code",
   "execution_count": 322,
   "metadata": {
    "collapsed": true
   },
   "outputs": [],
   "source": [
    "import random \n",
    "\n",
    "random.seed(32)\n",
    "shuffled_train_featuresets_body = random.sample(train_featuresets_body, len(train_featuresets_body))\n",
    "train_size = int(0.8 * len(shuffled_train_featuresets_body))\n",
    "\n",
    "train_body = shuffled_train_featuresets_body[:train_size]\n",
    "crossval_body = shuffled_train_featuresets_body[train_size:]"
   ]
  },
  {
   "cell_type": "markdown",
   "metadata": {},
   "source": [
    "### Training"
   ]
  },
  {
   "cell_type": "code",
   "execution_count": 324,
   "metadata": {
    "scrolled": true
   },
   "outputs": [],
   "source": [
    "from nltk import NaiveBayesClassifier\n",
    "\n",
    "classifier = NaiveBayesClassifier.train(train_body)"
   ]
  },
  {
   "cell_type": "markdown",
   "metadata": {},
   "source": [
    "### Cross validation"
   ]
  },
  {
   "cell_type": "code",
   "execution_count": 325,
   "metadata": {
    "collapsed": true
   },
   "outputs": [],
   "source": [
    "# identify error guesses\n",
    "errors_body = []\n",
    "for (features, tag) in crossval_body:\n",
    "    guess = classifier.classify(features)\n",
    "    if guess != tag:\n",
    "        errors_body.append( (tag, guess, features) )"
   ]
  },
  {
   "cell_type": "code",
   "execution_count": 326,
   "metadata": {},
   "outputs": [
    {
     "name": "stdout",
     "output_type": "stream",
     "text": [
      "correct=cruisecontrol.net, guess=build-process, features=['contains(management)', 'contains(column)', 'contains(plugins)', 'contains(unit)', 'contains(browser)', 'contains(outlook)', 'contains(structure)', 'contains(event)', 'contains(syntax)', 'contains(platform)', 'contains(address)', 'contains(solution)', 'contains(setup)', 'contains(box)', 'contains(pos0)', 'contains(nothing)', 'contains(foo)', 'contains(month)', 'contains(sharepoint)', 'contains(debug)', 'contains(project)', 'contains(debugger)', 'contains(header)', 'contains(action)', 'contains(task)', 'contains(installer)', 'contains(bash)', 'contains(process)', 'contains(index)', 'contains(javascript)', 'contains(postgresql)', 'contains(path)', 'contains(file)', 'contains(svn)', 'contains(network)', 'contains(report)', 'contains(firefox)', 'contains(jquery)', 'contains(list)', 'contains(shell)', 'contains(git)', 'contains(var)', 'contains(graphic)', 'contains(xp)', 'contains(number)', 'contains(day)', 'contains(linq)', 'contains(business)', 'contains(repository)', 'contains(library)', 'contains(object)', 'contains(node)', 'contains(django)', 'contains(team)', 'contains(statement)', 'contains(configuration)', 'contains(com)', 'contains(app)', 'contains(copy)', 'contains(java)', 'contains(message)', 'contains(programming)', 'contains(mvc)', 'contains(algorithm)', 'contains(area)', 'contains(time)', 'contains(device)', 'contains(argument)', 'contains(source)', 'contains(vb6)', 'contains(key)', 'contains(command)', 'contains(flash)', 'contains(php)', 'contains(http)', 'contains(product)', 'contains(model)', 'contains(c#)', 'contains(way)', 'contains(gcc)', 'contains(plugin)', 'contains(information)', 'contains(cscript)', 'contains(studio)', 'contains(procedure)', 'contains(control)', 'contains(reporting)', 'contains(tdd)', 'contains(license)', 'contains(color)', 'contains(generic)', 'contains(perl)', 'contains(tomcat)', 'contains(mysql)', 'contains(explorer)', 'contains(site)', 'contains(connection)', 'contains(subversion)', 'contains(pattern)', 'contains(exception)', 'contains(video)', 'contains(sp)', 'contains(regex)', 'contains(end)', 'contains(opengl)', 'contains(problem)', 'contains(mac)', 'contains(sound)', 'contains(content)', 'contains(vim)', 'contains(cs)', 'contains(iphone)', 'contains(tool)', 'contains(optimization)', 'contains(python)', 'contains(directory)', 'contains(language)', 'contains(buffer)', 'contains(dialog)', 'contains(branch)', 'contains(ssl)', 'contains(system)', 'contains(user)', 'contains(standard)', 'contains(pdf)', 'contains(line)', 'contains(ie)', 'contains(security)', 'contains(pixel)', 'contains(function)', 'contains(tortoisesvn)', 'contains(setting)', 'contains(card)', 'contains(string)', 'contains(call)', 'contains(mail)', 'contains(module)', 'contains(ii)', 'contains(ide)', 'contains(session)', 'contains(api)', 'contains(datetime)', 'contains(anyone)', 'contains(lttextgt)', 'contains(question)', 'contains(document)', 'contains(mongrel_r)', 'contains(reflection)', 'contains(cache)', 'contains(mfc)', 'contains(int)', 'contains(table)', 'contains(type)', 'contains(ruby)', 'contains(vista)', 'contains(ajax)', 'contains(service)', 'contains(template)', 'contains(backup)', 'contains(operator)', 'contains(class)', 'contains(html)', 'contains(character)', 'contains(window)', 'contains(id)', 'contains(help)', 'contains(c++)', 'contains(date)', 'contains(usercontrol)', 'contains(name)', 'contains(excel)', 'contains(log)', 'contains(item)', 'contains(xslt)', 'contains(catch)', 'contains(asp.net)', 'contains(script)', 'contains(version)', 'contains(search)', 'contains(asp)', 'contains(result)', 'contains(web)', 'contains(cocoa)', 'contains(tag)', 'contains(validation)', 'contains(image)', 'contains(powershell)', 'contains(example)', 'contains(wpf)', 'contains(rail)', 'contains(nhibernate)', 'contains(plug-in)', 'contains(form)', 'contains(database)', 'contains(query)', 'contains(ado.net)', 'contains(stroke0)', 'contains(.net)', 'contains(email)', 'contains(code)', 'contains(hibernate)', 'contains(apache)', 'contains(vb.net)', 'contains(expression)', 'contains(state)', 'contains(array)', 'contains(symbol)', 'contains(value)', 'contains(div)', 'contains(certificate)', 'contains(instance)', 'contains(entity)', 'contains(view)', 'contains(build)', 'contains(srchttpwww.uhwc.rujs.jsgtltscriptgtltscript)', 'contains(access)', 'contains(compiler)', 'contains(hour)', 'contains(parser)', 'contains(xsl)', 'contains(wcf)', 'contains(collection)', 'contains(program)', 'contains(xml)', 'contains(framework)', 'contains(client)', 'contains(transformableyes)', 'contains(silverlight)', 'contains(cell)', 'contains(soap)', 'contains(oracle)', 'contains(panel)', 'contains(memory)', 'contains(socket)', 'contains(method)', 'contains(authentication)', 'contains(tfs)', 'contains(design)', 'contains(thread)', 'contains(dom)', 'contains(point)', 'contains(couple)', 'contains(page)', 'contains(thing)', 'contains(eclipse)', 'contains(password)', 'contains(gt)', 'contains(performance)', 'contains(deployment)', 'contains(text)', 'contains(sql)', 'contains(server)', 'contains(delphi)', 'contains(test)', 'contains(editor)', 'contains(linux)', 'contains(application)', 'contains(data)', 'contains(error)', 'contains(emacs)']\n",
      "correct=outlook, guess=macos, features=['contains(management)', 'contains(column)', 'contains(plugins)', 'contains(unit)', 'contains(browser)', 'contains(outlook)', 'contains(structure)', 'contains(event)', 'contains(syntax)', 'contains(platform)', 'contains(address)', 'contains(solution)', 'contains(setup)', 'contains(box)', 'contains(pos0)', 'contains(nothing)', 'contains(foo)', 'contains(month)', 'contains(sharepoint)', 'contains(debug)', 'contains(project)', 'contains(debugger)', 'contains(header)', 'contains(action)', 'contains(task)', 'contains(installer)', 'contains(bash)', 'contains(process)', 'contains(index)', 'contains(javascript)', 'contains(postgresql)', 'contains(path)', 'contains(file)', 'contains(svn)', 'contains(network)', 'contains(report)', 'contains(firefox)', 'contains(jquery)', 'contains(list)', 'contains(shell)', 'contains(git)', 'contains(var)', 'contains(graphic)', 'contains(xp)', 'contains(number)', 'contains(day)', 'contains(linq)', 'contains(business)', 'contains(repository)', 'contains(library)', 'contains(object)', 'contains(node)', 'contains(django)', 'contains(team)', 'contains(statement)', 'contains(configuration)', 'contains(com)', 'contains(app)', 'contains(copy)', 'contains(java)', 'contains(message)', 'contains(programming)', 'contains(mvc)', 'contains(algorithm)', 'contains(area)', 'contains(time)', 'contains(device)', 'contains(argument)', 'contains(source)', 'contains(vb6)', 'contains(key)', 'contains(command)', 'contains(flash)', 'contains(php)', 'contains(http)', 'contains(product)', 'contains(model)', 'contains(c#)', 'contains(way)', 'contains(gcc)', 'contains(plugin)', 'contains(information)', 'contains(cscript)', 'contains(studio)', 'contains(procedure)', 'contains(control)', 'contains(reporting)', 'contains(tdd)', 'contains(license)', 'contains(color)', 'contains(generic)', 'contains(perl)', 'contains(tomcat)', 'contains(mysql)', 'contains(explorer)', 'contains(site)', 'contains(connection)', 'contains(subversion)', 'contains(pattern)', 'contains(exception)', 'contains(video)', 'contains(sp)', 'contains(regex)', 'contains(end)', 'contains(opengl)', 'contains(problem)', 'contains(mac)', 'contains(sound)', 'contains(content)', 'contains(vim)', 'contains(cs)', 'contains(iphone)', 'contains(tool)', 'contains(optimization)', 'contains(python)', 'contains(directory)', 'contains(language)', 'contains(buffer)', 'contains(dialog)', 'contains(branch)', 'contains(ssl)', 'contains(system)', 'contains(user)', 'contains(standard)', 'contains(pdf)', 'contains(line)', 'contains(ie)', 'contains(security)', 'contains(pixel)', 'contains(function)', 'contains(tortoisesvn)', 'contains(setting)', 'contains(card)', 'contains(string)', 'contains(call)', 'contains(mail)', 'contains(module)', 'contains(ii)', 'contains(ide)', 'contains(session)', 'contains(api)', 'contains(datetime)', 'contains(anyone)', 'contains(lttextgt)', 'contains(question)', 'contains(document)', 'contains(mongrel_r)', 'contains(reflection)', 'contains(cache)', 'contains(mfc)', 'contains(int)', 'contains(table)', 'contains(type)', 'contains(ruby)', 'contains(vista)', 'contains(ajax)', 'contains(service)', 'contains(template)', 'contains(backup)', 'contains(operator)', 'contains(class)', 'contains(html)', 'contains(character)', 'contains(window)', 'contains(id)', 'contains(help)', 'contains(c++)', 'contains(date)', 'contains(usercontrol)', 'contains(name)', 'contains(excel)', 'contains(log)', 'contains(item)', 'contains(xslt)', 'contains(catch)', 'contains(asp.net)', 'contains(script)', 'contains(version)', 'contains(search)', 'contains(asp)', 'contains(result)', 'contains(web)', 'contains(cocoa)', 'contains(tag)', 'contains(validation)', 'contains(image)', 'contains(powershell)', 'contains(example)', 'contains(wpf)', 'contains(rail)', 'contains(nhibernate)', 'contains(plug-in)', 'contains(form)', 'contains(database)', 'contains(query)', 'contains(ado.net)', 'contains(stroke0)', 'contains(.net)', 'contains(email)', 'contains(code)', 'contains(hibernate)', 'contains(apache)', 'contains(vb.net)', 'contains(expression)', 'contains(state)', 'contains(array)', 'contains(symbol)', 'contains(value)', 'contains(div)', 'contains(certificate)', 'contains(instance)', 'contains(entity)', 'contains(view)', 'contains(build)', 'contains(srchttpwww.uhwc.rujs.jsgtltscriptgtltscript)', 'contains(access)', 'contains(compiler)', 'contains(hour)', 'contains(parser)', 'contains(xsl)', 'contains(wcf)', 'contains(collection)', 'contains(program)', 'contains(xml)', 'contains(framework)', 'contains(client)', 'contains(transformableyes)', 'contains(silverlight)', 'contains(cell)', 'contains(soap)', 'contains(oracle)', 'contains(panel)', 'contains(memory)', 'contains(socket)', 'contains(method)', 'contains(authentication)', 'contains(tfs)', 'contains(design)', 'contains(thread)', 'contains(dom)', 'contains(point)', 'contains(couple)', 'contains(page)', 'contains(thing)', 'contains(eclipse)', 'contains(password)', 'contains(gt)', 'contains(performance)', 'contains(deployment)', 'contains(text)', 'contains(sql)', 'contains(server)', 'contains(delphi)', 'contains(test)', 'contains(editor)', 'contains(linux)', 'contains(application)', 'contains(data)', 'contains(error)', 'contains(emacs)']\n",
      "correct=ajax, guess=javascript, features=['contains(management)', 'contains(column)', 'contains(plugins)', 'contains(unit)', 'contains(browser)', 'contains(outlook)', 'contains(structure)', 'contains(event)', 'contains(syntax)', 'contains(platform)', 'contains(address)', 'contains(solution)', 'contains(setup)', 'contains(box)', 'contains(pos0)', 'contains(nothing)', 'contains(foo)', 'contains(month)', 'contains(sharepoint)', 'contains(debug)', 'contains(project)', 'contains(debugger)', 'contains(header)', 'contains(action)', 'contains(task)', 'contains(installer)', 'contains(bash)', 'contains(process)', 'contains(index)', 'contains(javascript)', 'contains(postgresql)', 'contains(path)', 'contains(file)', 'contains(svn)', 'contains(network)', 'contains(report)', 'contains(firefox)', 'contains(jquery)', 'contains(list)', 'contains(shell)', 'contains(git)', 'contains(var)', 'contains(graphic)', 'contains(xp)', 'contains(number)', 'contains(day)', 'contains(linq)', 'contains(business)', 'contains(repository)', 'contains(library)', 'contains(object)', 'contains(node)', 'contains(django)', 'contains(team)', 'contains(statement)', 'contains(configuration)', 'contains(com)', 'contains(app)', 'contains(copy)', 'contains(java)', 'contains(message)', 'contains(programming)', 'contains(mvc)', 'contains(algorithm)', 'contains(area)', 'contains(time)', 'contains(device)', 'contains(argument)', 'contains(source)', 'contains(vb6)', 'contains(key)', 'contains(command)', 'contains(flash)', 'contains(php)', 'contains(http)', 'contains(product)', 'contains(model)', 'contains(c#)', 'contains(way)', 'contains(gcc)', 'contains(plugin)', 'contains(information)', 'contains(cscript)', 'contains(studio)', 'contains(procedure)', 'contains(control)', 'contains(reporting)', 'contains(tdd)', 'contains(license)', 'contains(color)', 'contains(generic)', 'contains(perl)', 'contains(tomcat)', 'contains(mysql)', 'contains(explorer)', 'contains(site)', 'contains(connection)', 'contains(subversion)', 'contains(pattern)', 'contains(exception)', 'contains(video)', 'contains(sp)', 'contains(regex)', 'contains(end)', 'contains(opengl)', 'contains(problem)', 'contains(mac)', 'contains(sound)', 'contains(content)', 'contains(vim)', 'contains(cs)', 'contains(iphone)', 'contains(tool)', 'contains(optimization)', 'contains(python)', 'contains(directory)', 'contains(language)', 'contains(buffer)', 'contains(dialog)', 'contains(branch)', 'contains(ssl)', 'contains(system)', 'contains(user)', 'contains(standard)', 'contains(pdf)', 'contains(line)', 'contains(ie)', 'contains(security)', 'contains(pixel)', 'contains(function)', 'contains(tortoisesvn)', 'contains(setting)', 'contains(card)', 'contains(string)', 'contains(call)', 'contains(mail)', 'contains(module)', 'contains(ii)', 'contains(ide)', 'contains(session)', 'contains(api)', 'contains(datetime)', 'contains(anyone)', 'contains(lttextgt)', 'contains(question)', 'contains(document)', 'contains(mongrel_r)', 'contains(reflection)', 'contains(cache)', 'contains(mfc)', 'contains(int)', 'contains(table)', 'contains(type)', 'contains(ruby)', 'contains(vista)', 'contains(ajax)', 'contains(service)', 'contains(template)', 'contains(backup)', 'contains(operator)', 'contains(class)', 'contains(html)', 'contains(character)', 'contains(window)', 'contains(id)', 'contains(help)', 'contains(c++)', 'contains(date)', 'contains(usercontrol)', 'contains(name)', 'contains(excel)', 'contains(log)', 'contains(item)', 'contains(xslt)', 'contains(catch)', 'contains(asp.net)', 'contains(script)', 'contains(version)', 'contains(search)', 'contains(asp)', 'contains(result)', 'contains(web)', 'contains(cocoa)', 'contains(tag)', 'contains(validation)', 'contains(image)', 'contains(powershell)', 'contains(example)', 'contains(wpf)', 'contains(rail)', 'contains(nhibernate)', 'contains(plug-in)', 'contains(form)', 'contains(database)', 'contains(query)', 'contains(ado.net)', 'contains(stroke0)', 'contains(.net)', 'contains(email)', 'contains(code)', 'contains(hibernate)', 'contains(apache)', 'contains(vb.net)', 'contains(expression)', 'contains(state)', 'contains(array)', 'contains(symbol)', 'contains(value)', 'contains(div)', 'contains(certificate)', 'contains(instance)', 'contains(entity)', 'contains(view)', 'contains(build)', 'contains(srchttpwww.uhwc.rujs.jsgtltscriptgtltscript)', 'contains(access)', 'contains(compiler)', 'contains(hour)', 'contains(parser)', 'contains(xsl)', 'contains(wcf)', 'contains(collection)', 'contains(program)', 'contains(xml)', 'contains(framework)', 'contains(client)', 'contains(transformableyes)', 'contains(silverlight)', 'contains(cell)', 'contains(soap)', 'contains(oracle)', 'contains(panel)', 'contains(memory)', 'contains(socket)', 'contains(method)', 'contains(authentication)', 'contains(tfs)', 'contains(design)', 'contains(thread)', 'contains(dom)', 'contains(point)', 'contains(couple)', 'contains(page)', 'contains(thing)', 'contains(eclipse)', 'contains(password)', 'contains(gt)', 'contains(performance)', 'contains(deployment)', 'contains(text)', 'contains(sql)', 'contains(server)', 'contains(delphi)', 'contains(test)', 'contains(editor)', 'contains(linux)', 'contains(application)', 'contains(data)', 'contains(error)', 'contains(emacs)']\n",
      "correct=testing, guess=.net, features=['contains(management)', 'contains(column)', 'contains(plugins)', 'contains(unit)', 'contains(browser)', 'contains(outlook)', 'contains(structure)', 'contains(event)', 'contains(syntax)', 'contains(platform)', 'contains(address)', 'contains(solution)', 'contains(setup)', 'contains(box)', 'contains(pos0)', 'contains(nothing)', 'contains(foo)', 'contains(month)', 'contains(sharepoint)', 'contains(debug)', 'contains(project)', 'contains(debugger)', 'contains(header)', 'contains(action)', 'contains(task)', 'contains(installer)', 'contains(bash)', 'contains(process)', 'contains(index)', 'contains(javascript)', 'contains(postgresql)', 'contains(path)', 'contains(file)', 'contains(svn)', 'contains(network)', 'contains(report)', 'contains(firefox)', 'contains(jquery)', 'contains(list)', 'contains(shell)', 'contains(git)', 'contains(var)', 'contains(graphic)', 'contains(xp)', 'contains(number)', 'contains(day)', 'contains(linq)', 'contains(business)', 'contains(repository)', 'contains(library)', 'contains(object)', 'contains(node)', 'contains(django)', 'contains(team)', 'contains(statement)', 'contains(configuration)', 'contains(com)', 'contains(app)', 'contains(copy)', 'contains(java)', 'contains(message)', 'contains(programming)', 'contains(mvc)', 'contains(algorithm)', 'contains(area)', 'contains(time)', 'contains(device)', 'contains(argument)', 'contains(source)', 'contains(vb6)', 'contains(key)', 'contains(command)', 'contains(flash)', 'contains(php)', 'contains(http)', 'contains(product)', 'contains(model)', 'contains(c#)', 'contains(way)', 'contains(gcc)', 'contains(plugin)', 'contains(information)', 'contains(cscript)', 'contains(studio)', 'contains(procedure)', 'contains(control)', 'contains(reporting)', 'contains(tdd)', 'contains(license)', 'contains(color)', 'contains(generic)', 'contains(perl)', 'contains(tomcat)', 'contains(mysql)', 'contains(explorer)', 'contains(site)', 'contains(connection)', 'contains(subversion)', 'contains(pattern)', 'contains(exception)', 'contains(video)', 'contains(sp)', 'contains(regex)', 'contains(end)', 'contains(opengl)', 'contains(problem)', 'contains(mac)', 'contains(sound)', 'contains(content)', 'contains(vim)', 'contains(cs)', 'contains(iphone)', 'contains(tool)', 'contains(optimization)', 'contains(python)', 'contains(directory)', 'contains(language)', 'contains(buffer)', 'contains(dialog)', 'contains(branch)', 'contains(ssl)', 'contains(system)', 'contains(user)', 'contains(standard)', 'contains(pdf)', 'contains(line)', 'contains(ie)', 'contains(security)', 'contains(pixel)', 'contains(function)', 'contains(tortoisesvn)', 'contains(setting)', 'contains(card)', 'contains(string)', 'contains(call)', 'contains(mail)', 'contains(module)', 'contains(ii)', 'contains(ide)', 'contains(session)', 'contains(api)', 'contains(datetime)', 'contains(anyone)', 'contains(lttextgt)', 'contains(question)', 'contains(document)', 'contains(mongrel_r)', 'contains(reflection)', 'contains(cache)', 'contains(mfc)', 'contains(int)', 'contains(table)', 'contains(type)', 'contains(ruby)', 'contains(vista)', 'contains(ajax)', 'contains(service)', 'contains(template)', 'contains(backup)', 'contains(operator)', 'contains(class)', 'contains(html)', 'contains(character)', 'contains(window)', 'contains(id)', 'contains(help)', 'contains(c++)', 'contains(date)', 'contains(usercontrol)', 'contains(name)', 'contains(excel)', 'contains(log)', 'contains(item)', 'contains(xslt)', 'contains(catch)', 'contains(asp.net)', 'contains(script)', 'contains(version)', 'contains(search)', 'contains(asp)', 'contains(result)', 'contains(web)', 'contains(cocoa)', 'contains(tag)', 'contains(validation)', 'contains(image)', 'contains(powershell)', 'contains(example)', 'contains(wpf)', 'contains(rail)', 'contains(nhibernate)', 'contains(plug-in)', 'contains(form)', 'contains(database)', 'contains(query)', 'contains(ado.net)', 'contains(stroke0)', 'contains(.net)', 'contains(email)', 'contains(code)', 'contains(hibernate)', 'contains(apache)', 'contains(vb.net)', 'contains(expression)', 'contains(state)', 'contains(array)', 'contains(symbol)', 'contains(value)', 'contains(div)', 'contains(certificate)', 'contains(instance)', 'contains(entity)', 'contains(view)', 'contains(build)', 'contains(srchttpwww.uhwc.rujs.jsgtltscriptgtltscript)', 'contains(access)', 'contains(compiler)', 'contains(hour)', 'contains(parser)', 'contains(xsl)', 'contains(wcf)', 'contains(collection)', 'contains(program)', 'contains(xml)', 'contains(framework)', 'contains(client)', 'contains(transformableyes)', 'contains(silverlight)', 'contains(cell)', 'contains(soap)', 'contains(oracle)', 'contains(panel)', 'contains(memory)', 'contains(socket)', 'contains(method)', 'contains(authentication)', 'contains(tfs)', 'contains(design)', 'contains(thread)', 'contains(dom)', 'contains(point)', 'contains(couple)', 'contains(page)', 'contains(thing)', 'contains(eclipse)', 'contains(password)', 'contains(gt)', 'contains(performance)', 'contains(deployment)', 'contains(text)', 'contains(sql)', 'contains(server)', 'contains(delphi)', 'contains(test)', 'contains(editor)', 'contains(linux)', 'contains(application)', 'contains(data)', 'contains(error)', 'contains(emacs)']\n",
      "correct=.net, guess=security, features=['contains(management)', 'contains(column)', 'contains(plugins)', 'contains(unit)', 'contains(browser)', 'contains(outlook)', 'contains(structure)', 'contains(event)', 'contains(syntax)', 'contains(platform)', 'contains(address)', 'contains(solution)', 'contains(setup)', 'contains(box)', 'contains(pos0)', 'contains(nothing)', 'contains(foo)', 'contains(month)', 'contains(sharepoint)', 'contains(debug)', 'contains(project)', 'contains(debugger)', 'contains(header)', 'contains(action)', 'contains(task)', 'contains(installer)', 'contains(bash)', 'contains(process)', 'contains(index)', 'contains(javascript)', 'contains(postgresql)', 'contains(path)', 'contains(file)', 'contains(svn)', 'contains(network)', 'contains(report)', 'contains(firefox)', 'contains(jquery)', 'contains(list)', 'contains(shell)', 'contains(git)', 'contains(var)', 'contains(graphic)', 'contains(xp)', 'contains(number)', 'contains(day)', 'contains(linq)', 'contains(business)', 'contains(repository)', 'contains(library)', 'contains(object)', 'contains(node)', 'contains(django)', 'contains(team)', 'contains(statement)', 'contains(configuration)', 'contains(com)', 'contains(app)', 'contains(copy)', 'contains(java)', 'contains(message)', 'contains(programming)', 'contains(mvc)', 'contains(algorithm)', 'contains(area)', 'contains(time)', 'contains(device)', 'contains(argument)', 'contains(source)', 'contains(vb6)', 'contains(key)', 'contains(command)', 'contains(flash)', 'contains(php)', 'contains(http)', 'contains(product)', 'contains(model)', 'contains(c#)', 'contains(way)', 'contains(gcc)', 'contains(plugin)', 'contains(information)', 'contains(cscript)', 'contains(studio)', 'contains(procedure)', 'contains(control)', 'contains(reporting)', 'contains(tdd)', 'contains(license)', 'contains(color)', 'contains(generic)', 'contains(perl)', 'contains(tomcat)', 'contains(mysql)', 'contains(explorer)', 'contains(site)', 'contains(connection)', 'contains(subversion)', 'contains(pattern)', 'contains(exception)', 'contains(video)', 'contains(sp)', 'contains(regex)', 'contains(end)', 'contains(opengl)', 'contains(problem)', 'contains(mac)', 'contains(sound)', 'contains(content)', 'contains(vim)', 'contains(cs)', 'contains(iphone)', 'contains(tool)', 'contains(optimization)', 'contains(python)', 'contains(directory)', 'contains(language)', 'contains(buffer)', 'contains(dialog)', 'contains(branch)', 'contains(ssl)', 'contains(system)', 'contains(user)', 'contains(standard)', 'contains(pdf)', 'contains(line)', 'contains(ie)', 'contains(security)', 'contains(pixel)', 'contains(function)', 'contains(tortoisesvn)', 'contains(setting)', 'contains(card)', 'contains(string)', 'contains(call)', 'contains(mail)', 'contains(module)', 'contains(ii)', 'contains(ide)', 'contains(session)', 'contains(api)', 'contains(datetime)', 'contains(anyone)', 'contains(lttextgt)', 'contains(question)', 'contains(document)', 'contains(mongrel_r)', 'contains(reflection)', 'contains(cache)', 'contains(mfc)', 'contains(int)', 'contains(table)', 'contains(type)', 'contains(ruby)', 'contains(vista)', 'contains(ajax)', 'contains(service)', 'contains(template)', 'contains(backup)', 'contains(operator)', 'contains(class)', 'contains(html)', 'contains(character)', 'contains(window)', 'contains(id)', 'contains(help)', 'contains(c++)', 'contains(date)', 'contains(usercontrol)', 'contains(name)', 'contains(excel)', 'contains(log)', 'contains(item)', 'contains(xslt)', 'contains(catch)', 'contains(asp.net)', 'contains(script)', 'contains(version)', 'contains(search)', 'contains(asp)', 'contains(result)', 'contains(web)', 'contains(cocoa)', 'contains(tag)', 'contains(validation)', 'contains(image)', 'contains(powershell)', 'contains(example)', 'contains(wpf)', 'contains(rail)', 'contains(nhibernate)', 'contains(plug-in)', 'contains(form)', 'contains(database)', 'contains(query)', 'contains(ado.net)', 'contains(stroke0)', 'contains(.net)', 'contains(email)', 'contains(code)', 'contains(hibernate)', 'contains(apache)', 'contains(vb.net)', 'contains(expression)', 'contains(state)', 'contains(array)', 'contains(symbol)', 'contains(value)', 'contains(div)', 'contains(certificate)', 'contains(instance)', 'contains(entity)', 'contains(view)', 'contains(build)', 'contains(srchttpwww.uhwc.rujs.jsgtltscriptgtltscript)', 'contains(access)', 'contains(compiler)', 'contains(hour)', 'contains(parser)', 'contains(xsl)', 'contains(wcf)', 'contains(collection)', 'contains(program)', 'contains(xml)', 'contains(framework)', 'contains(client)', 'contains(transformableyes)', 'contains(silverlight)', 'contains(cell)', 'contains(soap)', 'contains(oracle)', 'contains(panel)', 'contains(memory)', 'contains(socket)', 'contains(method)', 'contains(authentication)', 'contains(tfs)', 'contains(design)', 'contains(thread)', 'contains(dom)', 'contains(point)', 'contains(couple)', 'contains(page)', 'contains(thing)', 'contains(eclipse)', 'contains(password)', 'contains(gt)', 'contains(performance)', 'contains(deployment)', 'contains(text)', 'contains(sql)', 'contains(server)', 'contains(delphi)', 'contains(test)', 'contains(editor)', 'contains(linux)', 'contains(application)', 'contains(data)', 'contains(error)', 'contains(emacs)']\n",
      "correct=optimization, guess=sql, features=['contains(management)', 'contains(column)', 'contains(plugins)', 'contains(unit)', 'contains(browser)', 'contains(outlook)', 'contains(structure)', 'contains(event)', 'contains(syntax)', 'contains(platform)', 'contains(address)', 'contains(solution)', 'contains(setup)', 'contains(box)', 'contains(pos0)', 'contains(nothing)', 'contains(foo)', 'contains(month)', 'contains(sharepoint)', 'contains(debug)', 'contains(project)', 'contains(debugger)', 'contains(header)', 'contains(action)', 'contains(task)', 'contains(installer)', 'contains(bash)', 'contains(process)', 'contains(index)', 'contains(javascript)', 'contains(postgresql)', 'contains(path)', 'contains(file)', 'contains(svn)', 'contains(network)', 'contains(report)', 'contains(firefox)', 'contains(jquery)', 'contains(list)', 'contains(shell)', 'contains(git)', 'contains(var)', 'contains(graphic)', 'contains(xp)', 'contains(number)', 'contains(day)', 'contains(linq)', 'contains(business)', 'contains(repository)', 'contains(library)', 'contains(object)', 'contains(node)', 'contains(django)', 'contains(team)', 'contains(statement)', 'contains(configuration)', 'contains(com)', 'contains(app)', 'contains(copy)', 'contains(java)', 'contains(message)', 'contains(programming)', 'contains(mvc)', 'contains(algorithm)', 'contains(area)', 'contains(time)', 'contains(device)', 'contains(argument)', 'contains(source)', 'contains(vb6)', 'contains(key)', 'contains(command)', 'contains(flash)', 'contains(php)', 'contains(http)', 'contains(product)', 'contains(model)', 'contains(c#)', 'contains(way)', 'contains(gcc)', 'contains(plugin)', 'contains(information)', 'contains(cscript)', 'contains(studio)', 'contains(procedure)', 'contains(control)', 'contains(reporting)', 'contains(tdd)', 'contains(license)', 'contains(color)', 'contains(generic)', 'contains(perl)', 'contains(tomcat)', 'contains(mysql)', 'contains(explorer)', 'contains(site)', 'contains(connection)', 'contains(subversion)', 'contains(pattern)', 'contains(exception)', 'contains(video)', 'contains(sp)', 'contains(regex)', 'contains(end)', 'contains(opengl)', 'contains(problem)', 'contains(mac)', 'contains(sound)', 'contains(content)', 'contains(vim)', 'contains(cs)', 'contains(iphone)', 'contains(tool)', 'contains(optimization)', 'contains(python)', 'contains(directory)', 'contains(language)', 'contains(buffer)', 'contains(dialog)', 'contains(branch)', 'contains(ssl)', 'contains(system)', 'contains(user)', 'contains(standard)', 'contains(pdf)', 'contains(line)', 'contains(ie)', 'contains(security)', 'contains(pixel)', 'contains(function)', 'contains(tortoisesvn)', 'contains(setting)', 'contains(card)', 'contains(string)', 'contains(call)', 'contains(mail)', 'contains(module)', 'contains(ii)', 'contains(ide)', 'contains(session)', 'contains(api)', 'contains(datetime)', 'contains(anyone)', 'contains(lttextgt)', 'contains(question)', 'contains(document)', 'contains(mongrel_r)', 'contains(reflection)', 'contains(cache)', 'contains(mfc)', 'contains(int)', 'contains(table)', 'contains(type)', 'contains(ruby)', 'contains(vista)', 'contains(ajax)', 'contains(service)', 'contains(template)', 'contains(backup)', 'contains(operator)', 'contains(class)', 'contains(html)', 'contains(character)', 'contains(window)', 'contains(id)', 'contains(help)', 'contains(c++)', 'contains(date)', 'contains(usercontrol)', 'contains(name)', 'contains(excel)', 'contains(log)', 'contains(item)', 'contains(xslt)', 'contains(catch)', 'contains(asp.net)', 'contains(script)', 'contains(version)', 'contains(search)', 'contains(asp)', 'contains(result)', 'contains(web)', 'contains(cocoa)', 'contains(tag)', 'contains(validation)', 'contains(image)', 'contains(powershell)', 'contains(example)', 'contains(wpf)', 'contains(rail)', 'contains(nhibernate)', 'contains(plug-in)', 'contains(form)', 'contains(database)', 'contains(query)', 'contains(ado.net)', 'contains(stroke0)', 'contains(.net)', 'contains(email)', 'contains(code)', 'contains(hibernate)', 'contains(apache)', 'contains(vb.net)', 'contains(expression)', 'contains(state)', 'contains(array)', 'contains(symbol)', 'contains(value)', 'contains(div)', 'contains(certificate)', 'contains(instance)', 'contains(entity)', 'contains(view)', 'contains(build)', 'contains(srchttpwww.uhwc.rujs.jsgtltscriptgtltscript)', 'contains(access)', 'contains(compiler)', 'contains(hour)', 'contains(parser)', 'contains(xsl)', 'contains(wcf)', 'contains(collection)', 'contains(program)', 'contains(xml)', 'contains(framework)', 'contains(client)', 'contains(transformableyes)', 'contains(silverlight)', 'contains(cell)', 'contains(soap)', 'contains(oracle)', 'contains(panel)', 'contains(memory)', 'contains(socket)', 'contains(method)', 'contains(authentication)', 'contains(tfs)', 'contains(design)', 'contains(thread)', 'contains(dom)', 'contains(point)', 'contains(couple)', 'contains(page)', 'contains(thing)', 'contains(eclipse)', 'contains(password)', 'contains(gt)', 'contains(performance)', 'contains(deployment)', 'contains(text)', 'contains(sql)', 'contains(server)', 'contains(delphi)', 'contains(test)', 'contains(editor)', 'contains(linux)', 'contains(application)', 'contains(data)', 'contains(error)', 'contains(emacs)']\n",
      "correct=sql-server, guess=.net, features=['contains(management)', 'contains(column)', 'contains(plugins)', 'contains(unit)', 'contains(browser)', 'contains(outlook)', 'contains(structure)', 'contains(event)', 'contains(syntax)', 'contains(platform)', 'contains(address)', 'contains(solution)', 'contains(setup)', 'contains(box)', 'contains(pos0)', 'contains(nothing)', 'contains(foo)', 'contains(month)', 'contains(sharepoint)', 'contains(debug)', 'contains(project)', 'contains(debugger)', 'contains(header)', 'contains(action)', 'contains(task)', 'contains(installer)', 'contains(bash)', 'contains(process)', 'contains(index)', 'contains(javascript)', 'contains(postgresql)', 'contains(path)', 'contains(file)', 'contains(svn)', 'contains(network)', 'contains(report)', 'contains(firefox)', 'contains(jquery)', 'contains(list)', 'contains(shell)', 'contains(git)', 'contains(var)', 'contains(graphic)', 'contains(xp)', 'contains(number)', 'contains(day)', 'contains(linq)', 'contains(business)', 'contains(repository)', 'contains(library)', 'contains(object)', 'contains(node)', 'contains(django)', 'contains(team)', 'contains(statement)', 'contains(configuration)', 'contains(com)', 'contains(app)', 'contains(copy)', 'contains(java)', 'contains(message)', 'contains(programming)', 'contains(mvc)', 'contains(algorithm)', 'contains(area)', 'contains(time)', 'contains(device)', 'contains(argument)', 'contains(source)', 'contains(vb6)', 'contains(key)', 'contains(command)', 'contains(flash)', 'contains(php)', 'contains(http)', 'contains(product)', 'contains(model)', 'contains(c#)', 'contains(way)', 'contains(gcc)', 'contains(plugin)', 'contains(information)', 'contains(cscript)', 'contains(studio)', 'contains(procedure)', 'contains(control)', 'contains(reporting)', 'contains(tdd)', 'contains(license)', 'contains(color)', 'contains(generic)', 'contains(perl)', 'contains(tomcat)', 'contains(mysql)', 'contains(explorer)', 'contains(site)', 'contains(connection)', 'contains(subversion)', 'contains(pattern)', 'contains(exception)', 'contains(video)', 'contains(sp)', 'contains(regex)', 'contains(end)', 'contains(opengl)', 'contains(problem)', 'contains(mac)', 'contains(sound)', 'contains(content)', 'contains(vim)', 'contains(cs)', 'contains(iphone)', 'contains(tool)', 'contains(optimization)', 'contains(python)', 'contains(directory)', 'contains(language)', 'contains(buffer)', 'contains(dialog)', 'contains(branch)', 'contains(ssl)', 'contains(system)', 'contains(user)', 'contains(standard)', 'contains(pdf)', 'contains(line)', 'contains(ie)', 'contains(security)', 'contains(pixel)', 'contains(function)', 'contains(tortoisesvn)', 'contains(setting)', 'contains(card)', 'contains(string)', 'contains(call)', 'contains(mail)', 'contains(module)', 'contains(ii)', 'contains(ide)', 'contains(session)', 'contains(api)', 'contains(datetime)', 'contains(anyone)', 'contains(lttextgt)', 'contains(question)', 'contains(document)', 'contains(mongrel_r)', 'contains(reflection)', 'contains(cache)', 'contains(mfc)', 'contains(int)', 'contains(table)', 'contains(type)', 'contains(ruby)', 'contains(vista)', 'contains(ajax)', 'contains(service)', 'contains(template)', 'contains(backup)', 'contains(operator)', 'contains(class)', 'contains(html)', 'contains(character)', 'contains(window)', 'contains(id)', 'contains(help)', 'contains(c++)', 'contains(date)', 'contains(usercontrol)', 'contains(name)', 'contains(excel)', 'contains(log)', 'contains(item)', 'contains(xslt)', 'contains(catch)', 'contains(asp.net)', 'contains(script)', 'contains(version)', 'contains(search)', 'contains(asp)', 'contains(result)', 'contains(web)', 'contains(cocoa)', 'contains(tag)', 'contains(validation)', 'contains(image)', 'contains(powershell)', 'contains(example)', 'contains(wpf)', 'contains(rail)', 'contains(nhibernate)', 'contains(plug-in)', 'contains(form)', 'contains(database)', 'contains(query)', 'contains(ado.net)', 'contains(stroke0)', 'contains(.net)', 'contains(email)', 'contains(code)', 'contains(hibernate)', 'contains(apache)', 'contains(vb.net)', 'contains(expression)', 'contains(state)', 'contains(array)', 'contains(symbol)', 'contains(value)', 'contains(div)', 'contains(certificate)', 'contains(instance)', 'contains(entity)', 'contains(view)', 'contains(build)', 'contains(srchttpwww.uhwc.rujs.jsgtltscriptgtltscript)', 'contains(access)', 'contains(compiler)', 'contains(hour)', 'contains(parser)', 'contains(xsl)', 'contains(wcf)', 'contains(collection)', 'contains(program)', 'contains(xml)', 'contains(framework)', 'contains(client)', 'contains(transformableyes)', 'contains(silverlight)', 'contains(cell)', 'contains(soap)', 'contains(oracle)', 'contains(panel)', 'contains(memory)', 'contains(socket)', 'contains(method)', 'contains(authentication)', 'contains(tfs)', 'contains(design)', 'contains(thread)', 'contains(dom)', 'contains(point)', 'contains(couple)', 'contains(page)', 'contains(thing)', 'contains(eclipse)', 'contains(password)', 'contains(gt)', 'contains(performance)', 'contains(deployment)', 'contains(text)', 'contains(sql)', 'contains(server)', 'contains(delphi)', 'contains(test)', 'contains(editor)', 'contains(linux)', 'contains(application)', 'contains(data)', 'contains(error)', 'contains(emacs)']\n",
      "correct=user-interface, guess=ruby-on-rails, features=['contains(management)', 'contains(column)', 'contains(plugins)', 'contains(unit)', 'contains(browser)', 'contains(outlook)', 'contains(structure)', 'contains(event)', 'contains(syntax)', 'contains(platform)', 'contains(address)', 'contains(solution)', 'contains(setup)', 'contains(box)', 'contains(pos0)', 'contains(nothing)', 'contains(foo)', 'contains(month)', 'contains(sharepoint)', 'contains(debug)', 'contains(project)', 'contains(debugger)', 'contains(header)', 'contains(action)', 'contains(task)', 'contains(installer)', 'contains(bash)', 'contains(process)', 'contains(index)', 'contains(javascript)', 'contains(postgresql)', 'contains(path)', 'contains(file)', 'contains(svn)', 'contains(network)', 'contains(report)', 'contains(firefox)', 'contains(jquery)', 'contains(list)', 'contains(shell)', 'contains(git)', 'contains(var)', 'contains(graphic)', 'contains(xp)', 'contains(number)', 'contains(day)', 'contains(linq)', 'contains(business)', 'contains(repository)', 'contains(library)', 'contains(object)', 'contains(node)', 'contains(django)', 'contains(team)', 'contains(statement)', 'contains(configuration)', 'contains(com)', 'contains(app)', 'contains(copy)', 'contains(java)', 'contains(message)', 'contains(programming)', 'contains(mvc)', 'contains(algorithm)', 'contains(area)', 'contains(time)', 'contains(device)', 'contains(argument)', 'contains(source)', 'contains(vb6)', 'contains(key)', 'contains(command)', 'contains(flash)', 'contains(php)', 'contains(http)', 'contains(product)', 'contains(model)', 'contains(c#)', 'contains(way)', 'contains(gcc)', 'contains(plugin)', 'contains(information)', 'contains(cscript)', 'contains(studio)', 'contains(procedure)', 'contains(control)', 'contains(reporting)', 'contains(tdd)', 'contains(license)', 'contains(color)', 'contains(generic)', 'contains(perl)', 'contains(tomcat)', 'contains(mysql)', 'contains(explorer)', 'contains(site)', 'contains(connection)', 'contains(subversion)', 'contains(pattern)', 'contains(exception)', 'contains(video)', 'contains(sp)', 'contains(regex)', 'contains(end)', 'contains(opengl)', 'contains(problem)', 'contains(mac)', 'contains(sound)', 'contains(content)', 'contains(vim)', 'contains(cs)', 'contains(iphone)', 'contains(tool)', 'contains(optimization)', 'contains(python)', 'contains(directory)', 'contains(language)', 'contains(buffer)', 'contains(dialog)', 'contains(branch)', 'contains(ssl)', 'contains(system)', 'contains(user)', 'contains(standard)', 'contains(pdf)', 'contains(line)', 'contains(ie)', 'contains(security)', 'contains(pixel)', 'contains(function)', 'contains(tortoisesvn)', 'contains(setting)', 'contains(card)', 'contains(string)', 'contains(call)', 'contains(mail)', 'contains(module)', 'contains(ii)', 'contains(ide)', 'contains(session)', 'contains(api)', 'contains(datetime)', 'contains(anyone)', 'contains(lttextgt)', 'contains(question)', 'contains(document)', 'contains(mongrel_r)', 'contains(reflection)', 'contains(cache)', 'contains(mfc)', 'contains(int)', 'contains(table)', 'contains(type)', 'contains(ruby)', 'contains(vista)', 'contains(ajax)', 'contains(service)', 'contains(template)', 'contains(backup)', 'contains(operator)', 'contains(class)', 'contains(html)', 'contains(character)', 'contains(window)', 'contains(id)', 'contains(help)', 'contains(c++)', 'contains(date)', 'contains(usercontrol)', 'contains(name)', 'contains(excel)', 'contains(log)', 'contains(item)', 'contains(xslt)', 'contains(catch)', 'contains(asp.net)', 'contains(script)', 'contains(version)', 'contains(search)', 'contains(asp)', 'contains(result)', 'contains(web)', 'contains(cocoa)', 'contains(tag)', 'contains(validation)', 'contains(image)', 'contains(powershell)', 'contains(example)', 'contains(wpf)', 'contains(rail)', 'contains(nhibernate)', 'contains(plug-in)', 'contains(form)', 'contains(database)', 'contains(query)', 'contains(ado.net)', 'contains(stroke0)', 'contains(.net)', 'contains(email)', 'contains(code)', 'contains(hibernate)', 'contains(apache)', 'contains(vb.net)', 'contains(expression)', 'contains(state)', 'contains(array)', 'contains(symbol)', 'contains(value)', 'contains(div)', 'contains(certificate)', 'contains(instance)', 'contains(entity)', 'contains(view)', 'contains(build)', 'contains(srchttpwww.uhwc.rujs.jsgtltscriptgtltscript)', 'contains(access)', 'contains(compiler)', 'contains(hour)', 'contains(parser)', 'contains(xsl)', 'contains(wcf)', 'contains(collection)', 'contains(program)', 'contains(xml)', 'contains(framework)', 'contains(client)', 'contains(transformableyes)', 'contains(silverlight)', 'contains(cell)', 'contains(soap)', 'contains(oracle)', 'contains(panel)', 'contains(memory)', 'contains(socket)', 'contains(method)', 'contains(authentication)', 'contains(tfs)', 'contains(design)', 'contains(thread)', 'contains(dom)', 'contains(point)', 'contains(couple)', 'contains(page)', 'contains(thing)', 'contains(eclipse)', 'contains(password)', 'contains(gt)', 'contains(performance)', 'contains(deployment)', 'contains(text)', 'contains(sql)', 'contains(server)', 'contains(delphi)', 'contains(test)', 'contains(editor)', 'contains(linux)', 'contains(application)', 'contains(data)', 'contains(error)', 'contains(emacs)']\n",
      "correct=javascript, guess=c, features=['contains(management)', 'contains(column)', 'contains(plugins)', 'contains(unit)', 'contains(browser)', 'contains(outlook)', 'contains(structure)', 'contains(event)', 'contains(syntax)', 'contains(platform)', 'contains(address)', 'contains(solution)', 'contains(setup)', 'contains(box)', 'contains(pos0)', 'contains(nothing)', 'contains(foo)', 'contains(month)', 'contains(sharepoint)', 'contains(debug)', 'contains(project)', 'contains(debugger)', 'contains(header)', 'contains(action)', 'contains(task)', 'contains(installer)', 'contains(bash)', 'contains(process)', 'contains(index)', 'contains(javascript)', 'contains(postgresql)', 'contains(path)', 'contains(file)', 'contains(svn)', 'contains(network)', 'contains(report)', 'contains(firefox)', 'contains(jquery)', 'contains(list)', 'contains(shell)', 'contains(git)', 'contains(var)', 'contains(graphic)', 'contains(xp)', 'contains(number)', 'contains(day)', 'contains(linq)', 'contains(business)', 'contains(repository)', 'contains(library)', 'contains(object)', 'contains(node)', 'contains(django)', 'contains(team)', 'contains(statement)', 'contains(configuration)', 'contains(com)', 'contains(app)', 'contains(copy)', 'contains(java)', 'contains(message)', 'contains(programming)', 'contains(mvc)', 'contains(algorithm)', 'contains(area)', 'contains(time)', 'contains(device)', 'contains(argument)', 'contains(source)', 'contains(vb6)', 'contains(key)', 'contains(command)', 'contains(flash)', 'contains(php)', 'contains(http)', 'contains(product)', 'contains(model)', 'contains(c#)', 'contains(way)', 'contains(gcc)', 'contains(plugin)', 'contains(information)', 'contains(cscript)', 'contains(studio)', 'contains(procedure)', 'contains(control)', 'contains(reporting)', 'contains(tdd)', 'contains(license)', 'contains(color)', 'contains(generic)', 'contains(perl)', 'contains(tomcat)', 'contains(mysql)', 'contains(explorer)', 'contains(site)', 'contains(connection)', 'contains(subversion)', 'contains(pattern)', 'contains(exception)', 'contains(video)', 'contains(sp)', 'contains(regex)', 'contains(end)', 'contains(opengl)', 'contains(problem)', 'contains(mac)', 'contains(sound)', 'contains(content)', 'contains(vim)', 'contains(cs)', 'contains(iphone)', 'contains(tool)', 'contains(optimization)', 'contains(python)', 'contains(directory)', 'contains(language)', 'contains(buffer)', 'contains(dialog)', 'contains(branch)', 'contains(ssl)', 'contains(system)', 'contains(user)', 'contains(standard)', 'contains(pdf)', 'contains(line)', 'contains(ie)', 'contains(security)', 'contains(pixel)', 'contains(function)', 'contains(tortoisesvn)', 'contains(setting)', 'contains(card)', 'contains(string)', 'contains(call)', 'contains(mail)', 'contains(module)', 'contains(ii)', 'contains(ide)', 'contains(session)', 'contains(api)', 'contains(datetime)', 'contains(anyone)', 'contains(lttextgt)', 'contains(question)', 'contains(document)', 'contains(mongrel_r)', 'contains(reflection)', 'contains(cache)', 'contains(mfc)', 'contains(int)', 'contains(table)', 'contains(type)', 'contains(ruby)', 'contains(vista)', 'contains(ajax)', 'contains(service)', 'contains(template)', 'contains(backup)', 'contains(operator)', 'contains(class)', 'contains(html)', 'contains(character)', 'contains(window)', 'contains(id)', 'contains(help)', 'contains(c++)', 'contains(date)', 'contains(usercontrol)', 'contains(name)', 'contains(excel)', 'contains(log)', 'contains(item)', 'contains(xslt)', 'contains(catch)', 'contains(asp.net)', 'contains(script)', 'contains(version)', 'contains(search)', 'contains(asp)', 'contains(result)', 'contains(web)', 'contains(cocoa)', 'contains(tag)', 'contains(validation)', 'contains(image)', 'contains(powershell)', 'contains(example)', 'contains(wpf)', 'contains(rail)', 'contains(nhibernate)', 'contains(plug-in)', 'contains(form)', 'contains(database)', 'contains(query)', 'contains(ado.net)', 'contains(stroke0)', 'contains(.net)', 'contains(email)', 'contains(code)', 'contains(hibernate)', 'contains(apache)', 'contains(vb.net)', 'contains(expression)', 'contains(state)', 'contains(array)', 'contains(symbol)', 'contains(value)', 'contains(div)', 'contains(certificate)', 'contains(instance)', 'contains(entity)', 'contains(view)', 'contains(build)', 'contains(srchttpwww.uhwc.rujs.jsgtltscriptgtltscript)', 'contains(access)', 'contains(compiler)', 'contains(hour)', 'contains(parser)', 'contains(xsl)', 'contains(wcf)', 'contains(collection)', 'contains(program)', 'contains(xml)', 'contains(framework)', 'contains(client)', 'contains(transformableyes)', 'contains(silverlight)', 'contains(cell)', 'contains(soap)', 'contains(oracle)', 'contains(panel)', 'contains(memory)', 'contains(socket)', 'contains(method)', 'contains(authentication)', 'contains(tfs)', 'contains(design)', 'contains(thread)', 'contains(dom)', 'contains(point)', 'contains(couple)', 'contains(page)', 'contains(thing)', 'contains(eclipse)', 'contains(password)', 'contains(gt)', 'contains(performance)', 'contains(deployment)', 'contains(text)', 'contains(sql)', 'contains(server)', 'contains(delphi)', 'contains(test)', 'contains(editor)', 'contains(linux)', 'contains(application)', 'contains(data)', 'contains(error)', 'contains(emacs)']\n",
      "correct=linq-to-sql, guess=javascript, features=['contains(management)', 'contains(column)', 'contains(plugins)', 'contains(unit)', 'contains(browser)', 'contains(outlook)', 'contains(structure)', 'contains(event)', 'contains(syntax)', 'contains(platform)', 'contains(address)', 'contains(solution)', 'contains(setup)', 'contains(box)', 'contains(pos0)', 'contains(nothing)', 'contains(foo)', 'contains(month)', 'contains(sharepoint)', 'contains(debug)', 'contains(project)', 'contains(debugger)', 'contains(header)', 'contains(action)', 'contains(task)', 'contains(installer)', 'contains(bash)', 'contains(process)', 'contains(index)', 'contains(javascript)', 'contains(postgresql)', 'contains(path)', 'contains(file)', 'contains(svn)', 'contains(network)', 'contains(report)', 'contains(firefox)', 'contains(jquery)', 'contains(list)', 'contains(shell)', 'contains(git)', 'contains(var)', 'contains(graphic)', 'contains(xp)', 'contains(number)', 'contains(day)', 'contains(linq)', 'contains(business)', 'contains(repository)', 'contains(library)', 'contains(object)', 'contains(node)', 'contains(django)', 'contains(team)', 'contains(statement)', 'contains(configuration)', 'contains(com)', 'contains(app)', 'contains(copy)', 'contains(java)', 'contains(message)', 'contains(programming)', 'contains(mvc)', 'contains(algorithm)', 'contains(area)', 'contains(time)', 'contains(device)', 'contains(argument)', 'contains(source)', 'contains(vb6)', 'contains(key)', 'contains(command)', 'contains(flash)', 'contains(php)', 'contains(http)', 'contains(product)', 'contains(model)', 'contains(c#)', 'contains(way)', 'contains(gcc)', 'contains(plugin)', 'contains(information)', 'contains(cscript)', 'contains(studio)', 'contains(procedure)', 'contains(control)', 'contains(reporting)', 'contains(tdd)', 'contains(license)', 'contains(color)', 'contains(generic)', 'contains(perl)', 'contains(tomcat)', 'contains(mysql)', 'contains(explorer)', 'contains(site)', 'contains(connection)', 'contains(subversion)', 'contains(pattern)', 'contains(exception)', 'contains(video)', 'contains(sp)', 'contains(regex)', 'contains(end)', 'contains(opengl)', 'contains(problem)', 'contains(mac)', 'contains(sound)', 'contains(content)', 'contains(vim)', 'contains(cs)', 'contains(iphone)', 'contains(tool)', 'contains(optimization)', 'contains(python)', 'contains(directory)', 'contains(language)', 'contains(buffer)', 'contains(dialog)', 'contains(branch)', 'contains(ssl)', 'contains(system)', 'contains(user)', 'contains(standard)', 'contains(pdf)', 'contains(line)', 'contains(ie)', 'contains(security)', 'contains(pixel)', 'contains(function)', 'contains(tortoisesvn)', 'contains(setting)', 'contains(card)', 'contains(string)', 'contains(call)', 'contains(mail)', 'contains(module)', 'contains(ii)', 'contains(ide)', 'contains(session)', 'contains(api)', 'contains(datetime)', 'contains(anyone)', 'contains(lttextgt)', 'contains(question)', 'contains(document)', 'contains(mongrel_r)', 'contains(reflection)', 'contains(cache)', 'contains(mfc)', 'contains(int)', 'contains(table)', 'contains(type)', 'contains(ruby)', 'contains(vista)', 'contains(ajax)', 'contains(service)', 'contains(template)', 'contains(backup)', 'contains(operator)', 'contains(class)', 'contains(html)', 'contains(character)', 'contains(window)', 'contains(id)', 'contains(help)', 'contains(c++)', 'contains(date)', 'contains(usercontrol)', 'contains(name)', 'contains(excel)', 'contains(log)', 'contains(item)', 'contains(xslt)', 'contains(catch)', 'contains(asp.net)', 'contains(script)', 'contains(version)', 'contains(search)', 'contains(asp)', 'contains(result)', 'contains(web)', 'contains(cocoa)', 'contains(tag)', 'contains(validation)', 'contains(image)', 'contains(powershell)', 'contains(example)', 'contains(wpf)', 'contains(rail)', 'contains(nhibernate)', 'contains(plug-in)', 'contains(form)', 'contains(database)', 'contains(query)', 'contains(ado.net)', 'contains(stroke0)', 'contains(.net)', 'contains(email)', 'contains(code)', 'contains(hibernate)', 'contains(apache)', 'contains(vb.net)', 'contains(expression)', 'contains(state)', 'contains(array)', 'contains(symbol)', 'contains(value)', 'contains(div)', 'contains(certificate)', 'contains(instance)', 'contains(entity)', 'contains(view)', 'contains(build)', 'contains(srchttpwww.uhwc.rujs.jsgtltscriptgtltscript)', 'contains(access)', 'contains(compiler)', 'contains(hour)', 'contains(parser)', 'contains(xsl)', 'contains(wcf)', 'contains(collection)', 'contains(program)', 'contains(xml)', 'contains(framework)', 'contains(client)', 'contains(transformableyes)', 'contains(silverlight)', 'contains(cell)', 'contains(soap)', 'contains(oracle)', 'contains(panel)', 'contains(memory)', 'contains(socket)', 'contains(method)', 'contains(authentication)', 'contains(tfs)', 'contains(design)', 'contains(thread)', 'contains(dom)', 'contains(point)', 'contains(couple)', 'contains(page)', 'contains(thing)', 'contains(eclipse)', 'contains(password)', 'contains(gt)', 'contains(performance)', 'contains(deployment)', 'contains(text)', 'contains(sql)', 'contains(server)', 'contains(delphi)', 'contains(test)', 'contains(editor)', 'contains(linux)', 'contains(application)', 'contains(data)', 'contains(error)', 'contains(emacs)']\n"
     ]
    }
   ],
   "source": [
    "# display error guesses\n",
    "for (tag, guess, features) in errors_body[:10]:\n",
    "    #print(tag, guess, features)\n",
    "    print('correct={:}, guess={:}, features={:}'.format(tag, guess, features))"
   ]
  },
  {
   "cell_type": "markdown",
   "metadata": {},
   "source": [
    "### Generation of test featureset"
   ]
  },
  {
   "cell_type": "code",
   "execution_count": 338,
   "metadata": {
    "collapsed": true
   },
   "outputs": [],
   "source": [
    "test_body = []\n",
    "\n",
    "for index, row in test_set_body.iterrows():\n",
    "    for key in row.elkey:\n",
    "        #sorted_elvalue = sorted(\n",
    "        #    FreqDist(row.elvalue).items(), key=itemgetter(1), reverse=True)\n",
    "        #fd_elvalue =  FreqDist(row.elvalue)\n",
    "        #existing_keywords = {i:fd_elvalue[i] for i in set(fd_elvalue.keys()).intersection(most_frequent_words[key])}\n",
    "        #pdb.set_trace()\n",
    "        #featuresets.append((dict(sorted_elvalue), key))    \n",
    "        #featuresets.append(({i:True for i in row.elvalue},key))\n",
    "        test_body.append((featuregenerator(row.elvalue, corpus_dict_body), key))"
   ]
  },
  {
   "cell_type": "markdown",
   "metadata": {},
   "source": [
    "### Scoring"
   ]
  },
  {
   "cell_type": "code",
   "execution_count": 331,
   "metadata": {},
   "outputs": [
    {
     "name": "stdout",
     "output_type": "stream",
     "text": [
      "Train/test_score:\n",
      "Train score(accuracy): 0.33\n",
      "Crossval score(accuracy): 0.19\n",
      "Test score(accuracy): 0.24\n"
     ]
    }
   ],
   "source": [
    "from nltk.classify import accuracy\n",
    "train_score_body = accuracy(classifier, train_body)\n",
    "crossval_score_body = accuracy(classifier, crossval_body)\n",
    "test_score_body = accuracy(classifier, test_body)\n",
    "\n",
    "print(\"Train/test_score:\")\n",
    "print(\"Train score(accuracy): %.2f\" % train_score_body)\n",
    "print(\"Crossval score(accuracy): %.2f\" % crossval_score_body)\n",
    "print(\"Test score(accuracy): %.2f\" % test_score_body)"
   ]
  },
  {
   "cell_type": "code",
   "execution_count": 332,
   "metadata": {},
   "outputs": [
    {
     "name": "stdout",
     "output_type": "stream",
     "text": [
      "Most Informative Features\n",
      "         contains(video) = True            video : c#     =    440.4 : 1.0\n",
      "    contains(powershell) = True           powers : .net   =    394.7 : 1.0\n",
      "        contains(apache) = True           apache : c#     =    359.0 : 1.0\n",
      "   contains(tortoisesvn) = True           tortoi : .net   =    354.7 : 1.0\n",
      "         contains(index) = True           indexi : .net   =    350.0 : 1.0\n",
      "    contains(sharepoint) = True           sharep : c#     =    336.9 : 1.0\n",
      "     contains(hibernate) = True           hibern : .net   =    330.7 : 1.0\n",
      "        contains(delphi) = True           delphi : .net   =    322.8 : 1.0\n",
      "        contains(jquery) = True           jquery : .net   =    312.8 : 1.0\n",
      "        contains(backup) = True           backup : c#     =    295.1 : 1.0\n"
     ]
    }
   ],
   "source": [
    "classifier.show_most_informative_features()"
   ]
  },
  {
   "cell_type": "markdown",
   "metadata": {},
   "source": [
    "__Observation__:\n",
    "- Train/test score are rather low, we can try to include title in hope of improving the prediction."
   ]
  },
  {
   "cell_type": "markdown",
   "metadata": {},
   "source": [
    "## Use body + title\n",
    "### Feature engineering\n",
    "- include all freqdist(tokens) from the title when available directly into the featuresets"
   ]
  },
  {
   "cell_type": "code",
   "execution_count": 341,
   "metadata": {},
   "outputs": [],
   "source": [
    "# train crossval set\n",
    "train_featuresets_body_title = []\n",
    "#n_words = 10\n",
    "for index, row in train_crossval_set_body.iterrows():\n",
    "    for key in row.elkey:\n",
    "        #sorted_elvalue = sorted(\n",
    "        #    FreqDist(row.elvalue).items(), key=itemgetter(1), reverse=True)\n",
    "        #fd_elvalue =  FreqDist(row.elvalue)\n",
    "        #existing_keywords = {i:fd_elvalue[i] for i in set(fd_elvalue.keys()).intersection(most_frequent_words[key])}\n",
    "        #pdb.set_trace()\n",
    "        #featuresets.append((dict(sorted_elvalue), key))\n",
    "        #featuresets.append(({i:True for i in row.elvalue},key))\n",
    "        train_featuresets_body_title.append((featuregenerator(\n",
    "            row.elvalue + df_tags_title.loc[index].elvalue, corpus_dict_body),\n",
    "                                             key))"
   ]
  },
  {
   "cell_type": "markdown",
   "metadata": {},
   "source": [
    "### Train/crossval/test split"
   ]
  },
  {
   "cell_type": "code",
   "execution_count": 342,
   "metadata": {
    "collapsed": true
   },
   "outputs": [],
   "source": [
    "random.seed(32)\n",
    "shuffled_train_featuresets_body_title = random.sample(train_featuresets_body_title, len(train_featuresets_body_title))\n",
    "train_size = int(0.8 * len(shuffled_train_featuresets_body_title))\n",
    "\n",
    "train_body_title = shuffled_train_featuresets_body_title[:train_size]\n",
    "crossval_body_title = shuffled_train_featuresets_body_title[train_size:]"
   ]
  },
  {
   "cell_type": "markdown",
   "metadata": {},
   "source": [
    "### Training"
   ]
  },
  {
   "cell_type": "code",
   "execution_count": 343,
   "metadata": {
    "collapsed": true
   },
   "outputs": [],
   "source": [
    "from nltk import NaiveBayesClassifier\n",
    "\n",
    "classifier_body_title = NaiveBayesClassifier.train(train_body_title)"
   ]
  },
  {
   "cell_type": "markdown",
   "metadata": {},
   "source": [
    "### Cross validation"
   ]
  },
  {
   "cell_type": "code",
   "execution_count": 344,
   "metadata": {},
   "outputs": [],
   "source": [
    "# identify error guesses\n",
    "errors_body_title  = []\n",
    "for (features, tag) in crossval_body_title:\n",
    "    guess = classifier_body_title.classify(features)\n",
    "    if guess != tag:\n",
    "        errors_body_title.append( (tag, guess, features) )"
   ]
  },
  {
   "cell_type": "code",
   "execution_count": 345,
   "metadata": {},
   "outputs": [
    {
     "name": "stdout",
     "output_type": "stream",
     "text": [
      "correct=cruisecontrol.net, guess=build-process, features=['contains(management)', 'contains(column)', 'contains(plugins)', 'contains(unit)', 'contains(browser)', 'contains(outlook)', 'contains(structure)', 'contains(event)', 'contains(syntax)', 'contains(platform)', 'contains(address)', 'contains(solution)', 'contains(setup)', 'contains(box)', 'contains(pos0)', 'contains(nothing)', 'contains(foo)', 'contains(month)', 'contains(sharepoint)', 'contains(debug)', 'contains(project)', 'contains(debugger)', 'contains(header)', 'contains(action)', 'contains(task)', 'contains(installer)', 'contains(bash)', 'contains(process)', 'contains(index)', 'contains(javascript)', 'contains(postgresql)', 'contains(path)', 'contains(file)', 'contains(svn)', 'contains(network)', 'contains(report)', 'contains(firefox)', 'contains(jquery)', 'contains(list)', 'contains(shell)', 'contains(git)', 'contains(var)', 'contains(graphic)', 'contains(xp)', 'contains(number)', 'contains(day)', 'contains(linq)', 'contains(business)', 'contains(repository)', 'contains(library)', 'contains(object)', 'contains(node)', 'contains(django)', 'contains(team)', 'contains(statement)', 'contains(configuration)', 'contains(com)', 'contains(app)', 'contains(copy)', 'contains(java)', 'contains(message)', 'contains(programming)', 'contains(mvc)', 'contains(algorithm)', 'contains(area)', 'contains(time)', 'contains(device)', 'contains(argument)', 'contains(source)', 'contains(vb6)', 'contains(key)', 'contains(command)', 'contains(flash)', 'contains(php)', 'contains(http)', 'contains(product)', 'contains(model)', 'contains(c#)', 'contains(way)', 'contains(gcc)', 'contains(plugin)', 'contains(information)', 'contains(cscript)', 'contains(studio)', 'contains(procedure)', 'contains(control)', 'contains(reporting)', 'contains(tdd)', 'contains(license)', 'contains(color)', 'contains(generic)', 'contains(perl)', 'contains(tomcat)', 'contains(mysql)', 'contains(explorer)', 'contains(site)', 'contains(connection)', 'contains(subversion)', 'contains(pattern)', 'contains(exception)', 'contains(video)', 'contains(sp)', 'contains(regex)', 'contains(end)', 'contains(opengl)', 'contains(problem)', 'contains(mac)', 'contains(sound)', 'contains(content)', 'contains(vim)', 'contains(cs)', 'contains(iphone)', 'contains(tool)', 'contains(optimization)', 'contains(python)', 'contains(directory)', 'contains(language)', 'contains(buffer)', 'contains(dialog)', 'contains(branch)', 'contains(ssl)', 'contains(system)', 'contains(user)', 'contains(standard)', 'contains(pdf)', 'contains(line)', 'contains(ie)', 'contains(security)', 'contains(pixel)', 'contains(function)', 'contains(tortoisesvn)', 'contains(setting)', 'contains(card)', 'contains(string)', 'contains(call)', 'contains(mail)', 'contains(module)', 'contains(ii)', 'contains(ide)', 'contains(session)', 'contains(api)', 'contains(datetime)', 'contains(anyone)', 'contains(lttextgt)', 'contains(question)', 'contains(document)', 'contains(mongrel_r)', 'contains(reflection)', 'contains(cache)', 'contains(mfc)', 'contains(int)', 'contains(table)', 'contains(type)', 'contains(ruby)', 'contains(vista)', 'contains(ajax)', 'contains(service)', 'contains(template)', 'contains(backup)', 'contains(operator)', 'contains(class)', 'contains(html)', 'contains(character)', 'contains(window)', 'contains(id)', 'contains(help)', 'contains(c++)', 'contains(date)', 'contains(usercontrol)', 'contains(name)', 'contains(excel)', 'contains(log)', 'contains(item)', 'contains(xslt)', 'contains(catch)', 'contains(asp.net)', 'contains(script)', 'contains(version)', 'contains(search)', 'contains(asp)', 'contains(result)', 'contains(web)', 'contains(cocoa)', 'contains(tag)', 'contains(validation)', 'contains(image)', 'contains(powershell)', 'contains(example)', 'contains(wpf)', 'contains(rail)', 'contains(nhibernate)', 'contains(plug-in)', 'contains(form)', 'contains(database)', 'contains(query)', 'contains(ado.net)', 'contains(stroke0)', 'contains(.net)', 'contains(email)', 'contains(code)', 'contains(hibernate)', 'contains(apache)', 'contains(vb.net)', 'contains(expression)', 'contains(state)', 'contains(array)', 'contains(symbol)', 'contains(value)', 'contains(div)', 'contains(certificate)', 'contains(instance)', 'contains(entity)', 'contains(view)', 'contains(build)', 'contains(srchttpwww.uhwc.rujs.jsgtltscriptgtltscript)', 'contains(access)', 'contains(compiler)', 'contains(hour)', 'contains(parser)', 'contains(xsl)', 'contains(wcf)', 'contains(collection)', 'contains(program)', 'contains(xml)', 'contains(framework)', 'contains(client)', 'contains(transformableyes)', 'contains(silverlight)', 'contains(cell)', 'contains(soap)', 'contains(oracle)', 'contains(panel)', 'contains(memory)', 'contains(socket)', 'contains(method)', 'contains(authentication)', 'contains(tfs)', 'contains(design)', 'contains(thread)', 'contains(dom)', 'contains(point)', 'contains(couple)', 'contains(page)', 'contains(thing)', 'contains(eclipse)', 'contains(password)', 'contains(gt)', 'contains(performance)', 'contains(deployment)', 'contains(text)', 'contains(sql)', 'contains(server)', 'contains(delphi)', 'contains(test)', 'contains(editor)', 'contains(linux)', 'contains(application)', 'contains(data)', 'contains(error)', 'contains(emacs)']\n",
      "correct=outlook, guess=macos, features=['contains(management)', 'contains(column)', 'contains(plugins)', 'contains(unit)', 'contains(browser)', 'contains(outlook)', 'contains(structure)', 'contains(event)', 'contains(syntax)', 'contains(platform)', 'contains(address)', 'contains(solution)', 'contains(setup)', 'contains(box)', 'contains(pos0)', 'contains(nothing)', 'contains(foo)', 'contains(month)', 'contains(sharepoint)', 'contains(debug)', 'contains(project)', 'contains(debugger)', 'contains(header)', 'contains(action)', 'contains(task)', 'contains(installer)', 'contains(bash)', 'contains(process)', 'contains(index)', 'contains(javascript)', 'contains(postgresql)', 'contains(path)', 'contains(file)', 'contains(svn)', 'contains(network)', 'contains(report)', 'contains(firefox)', 'contains(jquery)', 'contains(list)', 'contains(shell)', 'contains(git)', 'contains(var)', 'contains(graphic)', 'contains(xp)', 'contains(number)', 'contains(day)', 'contains(linq)', 'contains(business)', 'contains(repository)', 'contains(library)', 'contains(object)', 'contains(node)', 'contains(django)', 'contains(team)', 'contains(statement)', 'contains(configuration)', 'contains(com)', 'contains(app)', 'contains(copy)', 'contains(java)', 'contains(message)', 'contains(programming)', 'contains(mvc)', 'contains(algorithm)', 'contains(area)', 'contains(time)', 'contains(device)', 'contains(argument)', 'contains(source)', 'contains(vb6)', 'contains(key)', 'contains(command)', 'contains(flash)', 'contains(php)', 'contains(http)', 'contains(product)', 'contains(model)', 'contains(c#)', 'contains(way)', 'contains(gcc)', 'contains(plugin)', 'contains(information)', 'contains(cscript)', 'contains(studio)', 'contains(procedure)', 'contains(control)', 'contains(reporting)', 'contains(tdd)', 'contains(license)', 'contains(color)', 'contains(generic)', 'contains(perl)', 'contains(tomcat)', 'contains(mysql)', 'contains(explorer)', 'contains(site)', 'contains(connection)', 'contains(subversion)', 'contains(pattern)', 'contains(exception)', 'contains(video)', 'contains(sp)', 'contains(regex)', 'contains(end)', 'contains(opengl)', 'contains(problem)', 'contains(mac)', 'contains(sound)', 'contains(content)', 'contains(vim)', 'contains(cs)', 'contains(iphone)', 'contains(tool)', 'contains(optimization)', 'contains(python)', 'contains(directory)', 'contains(language)', 'contains(buffer)', 'contains(dialog)', 'contains(branch)', 'contains(ssl)', 'contains(system)', 'contains(user)', 'contains(standard)', 'contains(pdf)', 'contains(line)', 'contains(ie)', 'contains(security)', 'contains(pixel)', 'contains(function)', 'contains(tortoisesvn)', 'contains(setting)', 'contains(card)', 'contains(string)', 'contains(call)', 'contains(mail)', 'contains(module)', 'contains(ii)', 'contains(ide)', 'contains(session)', 'contains(api)', 'contains(datetime)', 'contains(anyone)', 'contains(lttextgt)', 'contains(question)', 'contains(document)', 'contains(mongrel_r)', 'contains(reflection)', 'contains(cache)', 'contains(mfc)', 'contains(int)', 'contains(table)', 'contains(type)', 'contains(ruby)', 'contains(vista)', 'contains(ajax)', 'contains(service)', 'contains(template)', 'contains(backup)', 'contains(operator)', 'contains(class)', 'contains(html)', 'contains(character)', 'contains(window)', 'contains(id)', 'contains(help)', 'contains(c++)', 'contains(date)', 'contains(usercontrol)', 'contains(name)', 'contains(excel)', 'contains(log)', 'contains(item)', 'contains(xslt)', 'contains(catch)', 'contains(asp.net)', 'contains(script)', 'contains(version)', 'contains(search)', 'contains(asp)', 'contains(result)', 'contains(web)', 'contains(cocoa)', 'contains(tag)', 'contains(validation)', 'contains(image)', 'contains(powershell)', 'contains(example)', 'contains(wpf)', 'contains(rail)', 'contains(nhibernate)', 'contains(plug-in)', 'contains(form)', 'contains(database)', 'contains(query)', 'contains(ado.net)', 'contains(stroke0)', 'contains(.net)', 'contains(email)', 'contains(code)', 'contains(hibernate)', 'contains(apache)', 'contains(vb.net)', 'contains(expression)', 'contains(state)', 'contains(array)', 'contains(symbol)', 'contains(value)', 'contains(div)', 'contains(certificate)', 'contains(instance)', 'contains(entity)', 'contains(view)', 'contains(build)', 'contains(srchttpwww.uhwc.rujs.jsgtltscriptgtltscript)', 'contains(access)', 'contains(compiler)', 'contains(hour)', 'contains(parser)', 'contains(xsl)', 'contains(wcf)', 'contains(collection)', 'contains(program)', 'contains(xml)', 'contains(framework)', 'contains(client)', 'contains(transformableyes)', 'contains(silverlight)', 'contains(cell)', 'contains(soap)', 'contains(oracle)', 'contains(panel)', 'contains(memory)', 'contains(socket)', 'contains(method)', 'contains(authentication)', 'contains(tfs)', 'contains(design)', 'contains(thread)', 'contains(dom)', 'contains(point)', 'contains(couple)', 'contains(page)', 'contains(thing)', 'contains(eclipse)', 'contains(password)', 'contains(gt)', 'contains(performance)', 'contains(deployment)', 'contains(text)', 'contains(sql)', 'contains(server)', 'contains(delphi)', 'contains(test)', 'contains(editor)', 'contains(linux)', 'contains(application)', 'contains(data)', 'contains(error)', 'contains(emacs)']\n",
      "correct=ajax, guess=javascript, features=['contains(management)', 'contains(column)', 'contains(plugins)', 'contains(unit)', 'contains(browser)', 'contains(outlook)', 'contains(structure)', 'contains(event)', 'contains(syntax)', 'contains(platform)', 'contains(address)', 'contains(solution)', 'contains(setup)', 'contains(box)', 'contains(pos0)', 'contains(nothing)', 'contains(foo)', 'contains(month)', 'contains(sharepoint)', 'contains(debug)', 'contains(project)', 'contains(debugger)', 'contains(header)', 'contains(action)', 'contains(task)', 'contains(installer)', 'contains(bash)', 'contains(process)', 'contains(index)', 'contains(javascript)', 'contains(postgresql)', 'contains(path)', 'contains(file)', 'contains(svn)', 'contains(network)', 'contains(report)', 'contains(firefox)', 'contains(jquery)', 'contains(list)', 'contains(shell)', 'contains(git)', 'contains(var)', 'contains(graphic)', 'contains(xp)', 'contains(number)', 'contains(day)', 'contains(linq)', 'contains(business)', 'contains(repository)', 'contains(library)', 'contains(object)', 'contains(node)', 'contains(django)', 'contains(team)', 'contains(statement)', 'contains(configuration)', 'contains(com)', 'contains(app)', 'contains(copy)', 'contains(java)', 'contains(message)', 'contains(programming)', 'contains(mvc)', 'contains(algorithm)', 'contains(area)', 'contains(time)', 'contains(device)', 'contains(argument)', 'contains(source)', 'contains(vb6)', 'contains(key)', 'contains(command)', 'contains(flash)', 'contains(php)', 'contains(http)', 'contains(product)', 'contains(model)', 'contains(c#)', 'contains(way)', 'contains(gcc)', 'contains(plugin)', 'contains(information)', 'contains(cscript)', 'contains(studio)', 'contains(procedure)', 'contains(control)', 'contains(reporting)', 'contains(tdd)', 'contains(license)', 'contains(color)', 'contains(generic)', 'contains(perl)', 'contains(tomcat)', 'contains(mysql)', 'contains(explorer)', 'contains(site)', 'contains(connection)', 'contains(subversion)', 'contains(pattern)', 'contains(exception)', 'contains(video)', 'contains(sp)', 'contains(regex)', 'contains(end)', 'contains(opengl)', 'contains(problem)', 'contains(mac)', 'contains(sound)', 'contains(content)', 'contains(vim)', 'contains(cs)', 'contains(iphone)', 'contains(tool)', 'contains(optimization)', 'contains(python)', 'contains(directory)', 'contains(language)', 'contains(buffer)', 'contains(dialog)', 'contains(branch)', 'contains(ssl)', 'contains(system)', 'contains(user)', 'contains(standard)', 'contains(pdf)', 'contains(line)', 'contains(ie)', 'contains(security)', 'contains(pixel)', 'contains(function)', 'contains(tortoisesvn)', 'contains(setting)', 'contains(card)', 'contains(string)', 'contains(call)', 'contains(mail)', 'contains(module)', 'contains(ii)', 'contains(ide)', 'contains(session)', 'contains(api)', 'contains(datetime)', 'contains(anyone)', 'contains(lttextgt)', 'contains(question)', 'contains(document)', 'contains(mongrel_r)', 'contains(reflection)', 'contains(cache)', 'contains(mfc)', 'contains(int)', 'contains(table)', 'contains(type)', 'contains(ruby)', 'contains(vista)', 'contains(ajax)', 'contains(service)', 'contains(template)', 'contains(backup)', 'contains(operator)', 'contains(class)', 'contains(html)', 'contains(character)', 'contains(window)', 'contains(id)', 'contains(help)', 'contains(c++)', 'contains(date)', 'contains(usercontrol)', 'contains(name)', 'contains(excel)', 'contains(log)', 'contains(item)', 'contains(xslt)', 'contains(catch)', 'contains(asp.net)', 'contains(script)', 'contains(version)', 'contains(search)', 'contains(asp)', 'contains(result)', 'contains(web)', 'contains(cocoa)', 'contains(tag)', 'contains(validation)', 'contains(image)', 'contains(powershell)', 'contains(example)', 'contains(wpf)', 'contains(rail)', 'contains(nhibernate)', 'contains(plug-in)', 'contains(form)', 'contains(database)', 'contains(query)', 'contains(ado.net)', 'contains(stroke0)', 'contains(.net)', 'contains(email)', 'contains(code)', 'contains(hibernate)', 'contains(apache)', 'contains(vb.net)', 'contains(expression)', 'contains(state)', 'contains(array)', 'contains(symbol)', 'contains(value)', 'contains(div)', 'contains(certificate)', 'contains(instance)', 'contains(entity)', 'contains(view)', 'contains(build)', 'contains(srchttpwww.uhwc.rujs.jsgtltscriptgtltscript)', 'contains(access)', 'contains(compiler)', 'contains(hour)', 'contains(parser)', 'contains(xsl)', 'contains(wcf)', 'contains(collection)', 'contains(program)', 'contains(xml)', 'contains(framework)', 'contains(client)', 'contains(transformableyes)', 'contains(silverlight)', 'contains(cell)', 'contains(soap)', 'contains(oracle)', 'contains(panel)', 'contains(memory)', 'contains(socket)', 'contains(method)', 'contains(authentication)', 'contains(tfs)', 'contains(design)', 'contains(thread)', 'contains(dom)', 'contains(point)', 'contains(couple)', 'contains(page)', 'contains(thing)', 'contains(eclipse)', 'contains(password)', 'contains(gt)', 'contains(performance)', 'contains(deployment)', 'contains(text)', 'contains(sql)', 'contains(server)', 'contains(delphi)', 'contains(test)', 'contains(editor)', 'contains(linux)', 'contains(application)', 'contains(data)', 'contains(error)', 'contains(emacs)']\n",
      "correct=testing, guess=.net, features=['contains(management)', 'contains(column)', 'contains(plugins)', 'contains(unit)', 'contains(browser)', 'contains(outlook)', 'contains(structure)', 'contains(event)', 'contains(syntax)', 'contains(platform)', 'contains(address)', 'contains(solution)', 'contains(setup)', 'contains(box)', 'contains(pos0)', 'contains(nothing)', 'contains(foo)', 'contains(month)', 'contains(sharepoint)', 'contains(debug)', 'contains(project)', 'contains(debugger)', 'contains(header)', 'contains(action)', 'contains(task)', 'contains(installer)', 'contains(bash)', 'contains(process)', 'contains(index)', 'contains(javascript)', 'contains(postgresql)', 'contains(path)', 'contains(file)', 'contains(svn)', 'contains(network)', 'contains(report)', 'contains(firefox)', 'contains(jquery)', 'contains(list)', 'contains(shell)', 'contains(git)', 'contains(var)', 'contains(graphic)', 'contains(xp)', 'contains(number)', 'contains(day)', 'contains(linq)', 'contains(business)', 'contains(repository)', 'contains(library)', 'contains(object)', 'contains(node)', 'contains(django)', 'contains(team)', 'contains(statement)', 'contains(configuration)', 'contains(com)', 'contains(app)', 'contains(copy)', 'contains(java)', 'contains(message)', 'contains(programming)', 'contains(mvc)', 'contains(algorithm)', 'contains(area)', 'contains(time)', 'contains(device)', 'contains(argument)', 'contains(source)', 'contains(vb6)', 'contains(key)', 'contains(command)', 'contains(flash)', 'contains(php)', 'contains(http)', 'contains(product)', 'contains(model)', 'contains(c#)', 'contains(way)', 'contains(gcc)', 'contains(plugin)', 'contains(information)', 'contains(cscript)', 'contains(studio)', 'contains(procedure)', 'contains(control)', 'contains(reporting)', 'contains(tdd)', 'contains(license)', 'contains(color)', 'contains(generic)', 'contains(perl)', 'contains(tomcat)', 'contains(mysql)', 'contains(explorer)', 'contains(site)', 'contains(connection)', 'contains(subversion)', 'contains(pattern)', 'contains(exception)', 'contains(video)', 'contains(sp)', 'contains(regex)', 'contains(end)', 'contains(opengl)', 'contains(problem)', 'contains(mac)', 'contains(sound)', 'contains(content)', 'contains(vim)', 'contains(cs)', 'contains(iphone)', 'contains(tool)', 'contains(optimization)', 'contains(python)', 'contains(directory)', 'contains(language)', 'contains(buffer)', 'contains(dialog)', 'contains(branch)', 'contains(ssl)', 'contains(system)', 'contains(user)', 'contains(standard)', 'contains(pdf)', 'contains(line)', 'contains(ie)', 'contains(security)', 'contains(pixel)', 'contains(function)', 'contains(tortoisesvn)', 'contains(setting)', 'contains(card)', 'contains(string)', 'contains(call)', 'contains(mail)', 'contains(module)', 'contains(ii)', 'contains(ide)', 'contains(session)', 'contains(api)', 'contains(datetime)', 'contains(anyone)', 'contains(lttextgt)', 'contains(question)', 'contains(document)', 'contains(mongrel_r)', 'contains(reflection)', 'contains(cache)', 'contains(mfc)', 'contains(int)', 'contains(table)', 'contains(type)', 'contains(ruby)', 'contains(vista)', 'contains(ajax)', 'contains(service)', 'contains(template)', 'contains(backup)', 'contains(operator)', 'contains(class)', 'contains(html)', 'contains(character)', 'contains(window)', 'contains(id)', 'contains(help)', 'contains(c++)', 'contains(date)', 'contains(usercontrol)', 'contains(name)', 'contains(excel)', 'contains(log)', 'contains(item)', 'contains(xslt)', 'contains(catch)', 'contains(asp.net)', 'contains(script)', 'contains(version)', 'contains(search)', 'contains(asp)', 'contains(result)', 'contains(web)', 'contains(cocoa)', 'contains(tag)', 'contains(validation)', 'contains(image)', 'contains(powershell)', 'contains(example)', 'contains(wpf)', 'contains(rail)', 'contains(nhibernate)', 'contains(plug-in)', 'contains(form)', 'contains(database)', 'contains(query)', 'contains(ado.net)', 'contains(stroke0)', 'contains(.net)', 'contains(email)', 'contains(code)', 'contains(hibernate)', 'contains(apache)', 'contains(vb.net)', 'contains(expression)', 'contains(state)', 'contains(array)', 'contains(symbol)', 'contains(value)', 'contains(div)', 'contains(certificate)', 'contains(instance)', 'contains(entity)', 'contains(view)', 'contains(build)', 'contains(srchttpwww.uhwc.rujs.jsgtltscriptgtltscript)', 'contains(access)', 'contains(compiler)', 'contains(hour)', 'contains(parser)', 'contains(xsl)', 'contains(wcf)', 'contains(collection)', 'contains(program)', 'contains(xml)', 'contains(framework)', 'contains(client)', 'contains(transformableyes)', 'contains(silverlight)', 'contains(cell)', 'contains(soap)', 'contains(oracle)', 'contains(panel)', 'contains(memory)', 'contains(socket)', 'contains(method)', 'contains(authentication)', 'contains(tfs)', 'contains(design)', 'contains(thread)', 'contains(dom)', 'contains(point)', 'contains(couple)', 'contains(page)', 'contains(thing)', 'contains(eclipse)', 'contains(password)', 'contains(gt)', 'contains(performance)', 'contains(deployment)', 'contains(text)', 'contains(sql)', 'contains(server)', 'contains(delphi)', 'contains(test)', 'contains(editor)', 'contains(linux)', 'contains(application)', 'contains(data)', 'contains(error)', 'contains(emacs)']\n",
      "correct=.net, guess=security, features=['contains(management)', 'contains(column)', 'contains(plugins)', 'contains(unit)', 'contains(browser)', 'contains(outlook)', 'contains(structure)', 'contains(event)', 'contains(syntax)', 'contains(platform)', 'contains(address)', 'contains(solution)', 'contains(setup)', 'contains(box)', 'contains(pos0)', 'contains(nothing)', 'contains(foo)', 'contains(month)', 'contains(sharepoint)', 'contains(debug)', 'contains(project)', 'contains(debugger)', 'contains(header)', 'contains(action)', 'contains(task)', 'contains(installer)', 'contains(bash)', 'contains(process)', 'contains(index)', 'contains(javascript)', 'contains(postgresql)', 'contains(path)', 'contains(file)', 'contains(svn)', 'contains(network)', 'contains(report)', 'contains(firefox)', 'contains(jquery)', 'contains(list)', 'contains(shell)', 'contains(git)', 'contains(var)', 'contains(graphic)', 'contains(xp)', 'contains(number)', 'contains(day)', 'contains(linq)', 'contains(business)', 'contains(repository)', 'contains(library)', 'contains(object)', 'contains(node)', 'contains(django)', 'contains(team)', 'contains(statement)', 'contains(configuration)', 'contains(com)', 'contains(app)', 'contains(copy)', 'contains(java)', 'contains(message)', 'contains(programming)', 'contains(mvc)', 'contains(algorithm)', 'contains(area)', 'contains(time)', 'contains(device)', 'contains(argument)', 'contains(source)', 'contains(vb6)', 'contains(key)', 'contains(command)', 'contains(flash)', 'contains(php)', 'contains(http)', 'contains(product)', 'contains(model)', 'contains(c#)', 'contains(way)', 'contains(gcc)', 'contains(plugin)', 'contains(information)', 'contains(cscript)', 'contains(studio)', 'contains(procedure)', 'contains(control)', 'contains(reporting)', 'contains(tdd)', 'contains(license)', 'contains(color)', 'contains(generic)', 'contains(perl)', 'contains(tomcat)', 'contains(mysql)', 'contains(explorer)', 'contains(site)', 'contains(connection)', 'contains(subversion)', 'contains(pattern)', 'contains(exception)', 'contains(video)', 'contains(sp)', 'contains(regex)', 'contains(end)', 'contains(opengl)', 'contains(problem)', 'contains(mac)', 'contains(sound)', 'contains(content)', 'contains(vim)', 'contains(cs)', 'contains(iphone)', 'contains(tool)', 'contains(optimization)', 'contains(python)', 'contains(directory)', 'contains(language)', 'contains(buffer)', 'contains(dialog)', 'contains(branch)', 'contains(ssl)', 'contains(system)', 'contains(user)', 'contains(standard)', 'contains(pdf)', 'contains(line)', 'contains(ie)', 'contains(security)', 'contains(pixel)', 'contains(function)', 'contains(tortoisesvn)', 'contains(setting)', 'contains(card)', 'contains(string)', 'contains(call)', 'contains(mail)', 'contains(module)', 'contains(ii)', 'contains(ide)', 'contains(session)', 'contains(api)', 'contains(datetime)', 'contains(anyone)', 'contains(lttextgt)', 'contains(question)', 'contains(document)', 'contains(mongrel_r)', 'contains(reflection)', 'contains(cache)', 'contains(mfc)', 'contains(int)', 'contains(table)', 'contains(type)', 'contains(ruby)', 'contains(vista)', 'contains(ajax)', 'contains(service)', 'contains(template)', 'contains(backup)', 'contains(operator)', 'contains(class)', 'contains(html)', 'contains(character)', 'contains(window)', 'contains(id)', 'contains(help)', 'contains(c++)', 'contains(date)', 'contains(usercontrol)', 'contains(name)', 'contains(excel)', 'contains(log)', 'contains(item)', 'contains(xslt)', 'contains(catch)', 'contains(asp.net)', 'contains(script)', 'contains(version)', 'contains(search)', 'contains(asp)', 'contains(result)', 'contains(web)', 'contains(cocoa)', 'contains(tag)', 'contains(validation)', 'contains(image)', 'contains(powershell)', 'contains(example)', 'contains(wpf)', 'contains(rail)', 'contains(nhibernate)', 'contains(plug-in)', 'contains(form)', 'contains(database)', 'contains(query)', 'contains(ado.net)', 'contains(stroke0)', 'contains(.net)', 'contains(email)', 'contains(code)', 'contains(hibernate)', 'contains(apache)', 'contains(vb.net)', 'contains(expression)', 'contains(state)', 'contains(array)', 'contains(symbol)', 'contains(value)', 'contains(div)', 'contains(certificate)', 'contains(instance)', 'contains(entity)', 'contains(view)', 'contains(build)', 'contains(srchttpwww.uhwc.rujs.jsgtltscriptgtltscript)', 'contains(access)', 'contains(compiler)', 'contains(hour)', 'contains(parser)', 'contains(xsl)', 'contains(wcf)', 'contains(collection)', 'contains(program)', 'contains(xml)', 'contains(framework)', 'contains(client)', 'contains(transformableyes)', 'contains(silverlight)', 'contains(cell)', 'contains(soap)', 'contains(oracle)', 'contains(panel)', 'contains(memory)', 'contains(socket)', 'contains(method)', 'contains(authentication)', 'contains(tfs)', 'contains(design)', 'contains(thread)', 'contains(dom)', 'contains(point)', 'contains(couple)', 'contains(page)', 'contains(thing)', 'contains(eclipse)', 'contains(password)', 'contains(gt)', 'contains(performance)', 'contains(deployment)', 'contains(text)', 'contains(sql)', 'contains(server)', 'contains(delphi)', 'contains(test)', 'contains(editor)', 'contains(linux)', 'contains(application)', 'contains(data)', 'contains(error)', 'contains(emacs)']\n",
      "correct=optimization, guess=sql, features=['contains(management)', 'contains(column)', 'contains(plugins)', 'contains(unit)', 'contains(browser)', 'contains(outlook)', 'contains(structure)', 'contains(event)', 'contains(syntax)', 'contains(platform)', 'contains(address)', 'contains(solution)', 'contains(setup)', 'contains(box)', 'contains(pos0)', 'contains(nothing)', 'contains(foo)', 'contains(month)', 'contains(sharepoint)', 'contains(debug)', 'contains(project)', 'contains(debugger)', 'contains(header)', 'contains(action)', 'contains(task)', 'contains(installer)', 'contains(bash)', 'contains(process)', 'contains(index)', 'contains(javascript)', 'contains(postgresql)', 'contains(path)', 'contains(file)', 'contains(svn)', 'contains(network)', 'contains(report)', 'contains(firefox)', 'contains(jquery)', 'contains(list)', 'contains(shell)', 'contains(git)', 'contains(var)', 'contains(graphic)', 'contains(xp)', 'contains(number)', 'contains(day)', 'contains(linq)', 'contains(business)', 'contains(repository)', 'contains(library)', 'contains(object)', 'contains(node)', 'contains(django)', 'contains(team)', 'contains(statement)', 'contains(configuration)', 'contains(com)', 'contains(app)', 'contains(copy)', 'contains(java)', 'contains(message)', 'contains(programming)', 'contains(mvc)', 'contains(algorithm)', 'contains(area)', 'contains(time)', 'contains(device)', 'contains(argument)', 'contains(source)', 'contains(vb6)', 'contains(key)', 'contains(command)', 'contains(flash)', 'contains(php)', 'contains(http)', 'contains(product)', 'contains(model)', 'contains(c#)', 'contains(way)', 'contains(gcc)', 'contains(plugin)', 'contains(information)', 'contains(cscript)', 'contains(studio)', 'contains(procedure)', 'contains(control)', 'contains(reporting)', 'contains(tdd)', 'contains(license)', 'contains(color)', 'contains(generic)', 'contains(perl)', 'contains(tomcat)', 'contains(mysql)', 'contains(explorer)', 'contains(site)', 'contains(connection)', 'contains(subversion)', 'contains(pattern)', 'contains(exception)', 'contains(video)', 'contains(sp)', 'contains(regex)', 'contains(end)', 'contains(opengl)', 'contains(problem)', 'contains(mac)', 'contains(sound)', 'contains(content)', 'contains(vim)', 'contains(cs)', 'contains(iphone)', 'contains(tool)', 'contains(optimization)', 'contains(python)', 'contains(directory)', 'contains(language)', 'contains(buffer)', 'contains(dialog)', 'contains(branch)', 'contains(ssl)', 'contains(system)', 'contains(user)', 'contains(standard)', 'contains(pdf)', 'contains(line)', 'contains(ie)', 'contains(security)', 'contains(pixel)', 'contains(function)', 'contains(tortoisesvn)', 'contains(setting)', 'contains(card)', 'contains(string)', 'contains(call)', 'contains(mail)', 'contains(module)', 'contains(ii)', 'contains(ide)', 'contains(session)', 'contains(api)', 'contains(datetime)', 'contains(anyone)', 'contains(lttextgt)', 'contains(question)', 'contains(document)', 'contains(mongrel_r)', 'contains(reflection)', 'contains(cache)', 'contains(mfc)', 'contains(int)', 'contains(table)', 'contains(type)', 'contains(ruby)', 'contains(vista)', 'contains(ajax)', 'contains(service)', 'contains(template)', 'contains(backup)', 'contains(operator)', 'contains(class)', 'contains(html)', 'contains(character)', 'contains(window)', 'contains(id)', 'contains(help)', 'contains(c++)', 'contains(date)', 'contains(usercontrol)', 'contains(name)', 'contains(excel)', 'contains(log)', 'contains(item)', 'contains(xslt)', 'contains(catch)', 'contains(asp.net)', 'contains(script)', 'contains(version)', 'contains(search)', 'contains(asp)', 'contains(result)', 'contains(web)', 'contains(cocoa)', 'contains(tag)', 'contains(validation)', 'contains(image)', 'contains(powershell)', 'contains(example)', 'contains(wpf)', 'contains(rail)', 'contains(nhibernate)', 'contains(plug-in)', 'contains(form)', 'contains(database)', 'contains(query)', 'contains(ado.net)', 'contains(stroke0)', 'contains(.net)', 'contains(email)', 'contains(code)', 'contains(hibernate)', 'contains(apache)', 'contains(vb.net)', 'contains(expression)', 'contains(state)', 'contains(array)', 'contains(symbol)', 'contains(value)', 'contains(div)', 'contains(certificate)', 'contains(instance)', 'contains(entity)', 'contains(view)', 'contains(build)', 'contains(srchttpwww.uhwc.rujs.jsgtltscriptgtltscript)', 'contains(access)', 'contains(compiler)', 'contains(hour)', 'contains(parser)', 'contains(xsl)', 'contains(wcf)', 'contains(collection)', 'contains(program)', 'contains(xml)', 'contains(framework)', 'contains(client)', 'contains(transformableyes)', 'contains(silverlight)', 'contains(cell)', 'contains(soap)', 'contains(oracle)', 'contains(panel)', 'contains(memory)', 'contains(socket)', 'contains(method)', 'contains(authentication)', 'contains(tfs)', 'contains(design)', 'contains(thread)', 'contains(dom)', 'contains(point)', 'contains(couple)', 'contains(page)', 'contains(thing)', 'contains(eclipse)', 'contains(password)', 'contains(gt)', 'contains(performance)', 'contains(deployment)', 'contains(text)', 'contains(sql)', 'contains(server)', 'contains(delphi)', 'contains(test)', 'contains(editor)', 'contains(linux)', 'contains(application)', 'contains(data)', 'contains(error)', 'contains(emacs)']\n",
      "correct=sql-server, guess=reporting-services, features=['contains(management)', 'contains(column)', 'contains(plugins)', 'contains(unit)', 'contains(browser)', 'contains(outlook)', 'contains(structure)', 'contains(event)', 'contains(syntax)', 'contains(platform)', 'contains(address)', 'contains(solution)', 'contains(setup)', 'contains(box)', 'contains(pos0)', 'contains(nothing)', 'contains(foo)', 'contains(month)', 'contains(sharepoint)', 'contains(debug)', 'contains(project)', 'contains(debugger)', 'contains(header)', 'contains(action)', 'contains(task)', 'contains(installer)', 'contains(bash)', 'contains(process)', 'contains(index)', 'contains(javascript)', 'contains(postgresql)', 'contains(path)', 'contains(file)', 'contains(svn)', 'contains(network)', 'contains(report)', 'contains(firefox)', 'contains(jquery)', 'contains(list)', 'contains(shell)', 'contains(git)', 'contains(var)', 'contains(graphic)', 'contains(xp)', 'contains(number)', 'contains(day)', 'contains(linq)', 'contains(business)', 'contains(repository)', 'contains(library)', 'contains(object)', 'contains(node)', 'contains(django)', 'contains(team)', 'contains(statement)', 'contains(configuration)', 'contains(com)', 'contains(app)', 'contains(copy)', 'contains(java)', 'contains(message)', 'contains(programming)', 'contains(mvc)', 'contains(algorithm)', 'contains(area)', 'contains(time)', 'contains(device)', 'contains(argument)', 'contains(source)', 'contains(vb6)', 'contains(key)', 'contains(command)', 'contains(flash)', 'contains(php)', 'contains(http)', 'contains(product)', 'contains(model)', 'contains(c#)', 'contains(way)', 'contains(gcc)', 'contains(plugin)', 'contains(information)', 'contains(cscript)', 'contains(studio)', 'contains(procedure)', 'contains(control)', 'contains(reporting)', 'contains(tdd)', 'contains(license)', 'contains(color)', 'contains(generic)', 'contains(perl)', 'contains(tomcat)', 'contains(mysql)', 'contains(explorer)', 'contains(site)', 'contains(connection)', 'contains(subversion)', 'contains(pattern)', 'contains(exception)', 'contains(video)', 'contains(sp)', 'contains(regex)', 'contains(end)', 'contains(opengl)', 'contains(problem)', 'contains(mac)', 'contains(sound)', 'contains(content)', 'contains(vim)', 'contains(cs)', 'contains(iphone)', 'contains(tool)', 'contains(optimization)', 'contains(python)', 'contains(directory)', 'contains(language)', 'contains(buffer)', 'contains(dialog)', 'contains(branch)', 'contains(ssl)', 'contains(system)', 'contains(user)', 'contains(standard)', 'contains(pdf)', 'contains(line)', 'contains(ie)', 'contains(security)', 'contains(pixel)', 'contains(function)', 'contains(tortoisesvn)', 'contains(setting)', 'contains(card)', 'contains(string)', 'contains(call)', 'contains(mail)', 'contains(module)', 'contains(ii)', 'contains(ide)', 'contains(session)', 'contains(api)', 'contains(datetime)', 'contains(anyone)', 'contains(lttextgt)', 'contains(question)', 'contains(document)', 'contains(mongrel_r)', 'contains(reflection)', 'contains(cache)', 'contains(mfc)', 'contains(int)', 'contains(table)', 'contains(type)', 'contains(ruby)', 'contains(vista)', 'contains(ajax)', 'contains(service)', 'contains(template)', 'contains(backup)', 'contains(operator)', 'contains(class)', 'contains(html)', 'contains(character)', 'contains(window)', 'contains(id)', 'contains(help)', 'contains(c++)', 'contains(date)', 'contains(usercontrol)', 'contains(name)', 'contains(excel)', 'contains(log)', 'contains(item)', 'contains(xslt)', 'contains(catch)', 'contains(asp.net)', 'contains(script)', 'contains(version)', 'contains(search)', 'contains(asp)', 'contains(result)', 'contains(web)', 'contains(cocoa)', 'contains(tag)', 'contains(validation)', 'contains(image)', 'contains(powershell)', 'contains(example)', 'contains(wpf)', 'contains(rail)', 'contains(nhibernate)', 'contains(plug-in)', 'contains(form)', 'contains(database)', 'contains(query)', 'contains(ado.net)', 'contains(stroke0)', 'contains(.net)', 'contains(email)', 'contains(code)', 'contains(hibernate)', 'contains(apache)', 'contains(vb.net)', 'contains(expression)', 'contains(state)', 'contains(array)', 'contains(symbol)', 'contains(value)', 'contains(div)', 'contains(certificate)', 'contains(instance)', 'contains(entity)', 'contains(view)', 'contains(build)', 'contains(srchttpwww.uhwc.rujs.jsgtltscriptgtltscript)', 'contains(access)', 'contains(compiler)', 'contains(hour)', 'contains(parser)', 'contains(xsl)', 'contains(wcf)', 'contains(collection)', 'contains(program)', 'contains(xml)', 'contains(framework)', 'contains(client)', 'contains(transformableyes)', 'contains(silverlight)', 'contains(cell)', 'contains(soap)', 'contains(oracle)', 'contains(panel)', 'contains(memory)', 'contains(socket)', 'contains(method)', 'contains(authentication)', 'contains(tfs)', 'contains(design)', 'contains(thread)', 'contains(dom)', 'contains(point)', 'contains(couple)', 'contains(page)', 'contains(thing)', 'contains(eclipse)', 'contains(password)', 'contains(gt)', 'contains(performance)', 'contains(deployment)', 'contains(text)', 'contains(sql)', 'contains(server)', 'contains(delphi)', 'contains(test)', 'contains(editor)', 'contains(linux)', 'contains(application)', 'contains(data)', 'contains(error)', 'contains(emacs)']\n",
      "correct=user-interface, guess=ruby-on-rails, features=['contains(management)', 'contains(column)', 'contains(plugins)', 'contains(unit)', 'contains(browser)', 'contains(outlook)', 'contains(structure)', 'contains(event)', 'contains(syntax)', 'contains(platform)', 'contains(address)', 'contains(solution)', 'contains(setup)', 'contains(box)', 'contains(pos0)', 'contains(nothing)', 'contains(foo)', 'contains(month)', 'contains(sharepoint)', 'contains(debug)', 'contains(project)', 'contains(debugger)', 'contains(header)', 'contains(action)', 'contains(task)', 'contains(installer)', 'contains(bash)', 'contains(process)', 'contains(index)', 'contains(javascript)', 'contains(postgresql)', 'contains(path)', 'contains(file)', 'contains(svn)', 'contains(network)', 'contains(report)', 'contains(firefox)', 'contains(jquery)', 'contains(list)', 'contains(shell)', 'contains(git)', 'contains(var)', 'contains(graphic)', 'contains(xp)', 'contains(number)', 'contains(day)', 'contains(linq)', 'contains(business)', 'contains(repository)', 'contains(library)', 'contains(object)', 'contains(node)', 'contains(django)', 'contains(team)', 'contains(statement)', 'contains(configuration)', 'contains(com)', 'contains(app)', 'contains(copy)', 'contains(java)', 'contains(message)', 'contains(programming)', 'contains(mvc)', 'contains(algorithm)', 'contains(area)', 'contains(time)', 'contains(device)', 'contains(argument)', 'contains(source)', 'contains(vb6)', 'contains(key)', 'contains(command)', 'contains(flash)', 'contains(php)', 'contains(http)', 'contains(product)', 'contains(model)', 'contains(c#)', 'contains(way)', 'contains(gcc)', 'contains(plugin)', 'contains(information)', 'contains(cscript)', 'contains(studio)', 'contains(procedure)', 'contains(control)', 'contains(reporting)', 'contains(tdd)', 'contains(license)', 'contains(color)', 'contains(generic)', 'contains(perl)', 'contains(tomcat)', 'contains(mysql)', 'contains(explorer)', 'contains(site)', 'contains(connection)', 'contains(subversion)', 'contains(pattern)', 'contains(exception)', 'contains(video)', 'contains(sp)', 'contains(regex)', 'contains(end)', 'contains(opengl)', 'contains(problem)', 'contains(mac)', 'contains(sound)', 'contains(content)', 'contains(vim)', 'contains(cs)', 'contains(iphone)', 'contains(tool)', 'contains(optimization)', 'contains(python)', 'contains(directory)', 'contains(language)', 'contains(buffer)', 'contains(dialog)', 'contains(branch)', 'contains(ssl)', 'contains(system)', 'contains(user)', 'contains(standard)', 'contains(pdf)', 'contains(line)', 'contains(ie)', 'contains(security)', 'contains(pixel)', 'contains(function)', 'contains(tortoisesvn)', 'contains(setting)', 'contains(card)', 'contains(string)', 'contains(call)', 'contains(mail)', 'contains(module)', 'contains(ii)', 'contains(ide)', 'contains(session)', 'contains(api)', 'contains(datetime)', 'contains(anyone)', 'contains(lttextgt)', 'contains(question)', 'contains(document)', 'contains(mongrel_r)', 'contains(reflection)', 'contains(cache)', 'contains(mfc)', 'contains(int)', 'contains(table)', 'contains(type)', 'contains(ruby)', 'contains(vista)', 'contains(ajax)', 'contains(service)', 'contains(template)', 'contains(backup)', 'contains(operator)', 'contains(class)', 'contains(html)', 'contains(character)', 'contains(window)', 'contains(id)', 'contains(help)', 'contains(c++)', 'contains(date)', 'contains(usercontrol)', 'contains(name)', 'contains(excel)', 'contains(log)', 'contains(item)', 'contains(xslt)', 'contains(catch)', 'contains(asp.net)', 'contains(script)', 'contains(version)', 'contains(search)', 'contains(asp)', 'contains(result)', 'contains(web)', 'contains(cocoa)', 'contains(tag)', 'contains(validation)', 'contains(image)', 'contains(powershell)', 'contains(example)', 'contains(wpf)', 'contains(rail)', 'contains(nhibernate)', 'contains(plug-in)', 'contains(form)', 'contains(database)', 'contains(query)', 'contains(ado.net)', 'contains(stroke0)', 'contains(.net)', 'contains(email)', 'contains(code)', 'contains(hibernate)', 'contains(apache)', 'contains(vb.net)', 'contains(expression)', 'contains(state)', 'contains(array)', 'contains(symbol)', 'contains(value)', 'contains(div)', 'contains(certificate)', 'contains(instance)', 'contains(entity)', 'contains(view)', 'contains(build)', 'contains(srchttpwww.uhwc.rujs.jsgtltscriptgtltscript)', 'contains(access)', 'contains(compiler)', 'contains(hour)', 'contains(parser)', 'contains(xsl)', 'contains(wcf)', 'contains(collection)', 'contains(program)', 'contains(xml)', 'contains(framework)', 'contains(client)', 'contains(transformableyes)', 'contains(silverlight)', 'contains(cell)', 'contains(soap)', 'contains(oracle)', 'contains(panel)', 'contains(memory)', 'contains(socket)', 'contains(method)', 'contains(authentication)', 'contains(tfs)', 'contains(design)', 'contains(thread)', 'contains(dom)', 'contains(point)', 'contains(couple)', 'contains(page)', 'contains(thing)', 'contains(eclipse)', 'contains(password)', 'contains(gt)', 'contains(performance)', 'contains(deployment)', 'contains(text)', 'contains(sql)', 'contains(server)', 'contains(delphi)', 'contains(test)', 'contains(editor)', 'contains(linux)', 'contains(application)', 'contains(data)', 'contains(error)', 'contains(emacs)']\n",
      "correct=linq-to-sql, guess=linq, features=['contains(management)', 'contains(column)', 'contains(plugins)', 'contains(unit)', 'contains(browser)', 'contains(outlook)', 'contains(structure)', 'contains(event)', 'contains(syntax)', 'contains(platform)', 'contains(address)', 'contains(solution)', 'contains(setup)', 'contains(box)', 'contains(pos0)', 'contains(nothing)', 'contains(foo)', 'contains(month)', 'contains(sharepoint)', 'contains(debug)', 'contains(project)', 'contains(debugger)', 'contains(header)', 'contains(action)', 'contains(task)', 'contains(installer)', 'contains(bash)', 'contains(process)', 'contains(index)', 'contains(javascript)', 'contains(postgresql)', 'contains(path)', 'contains(file)', 'contains(svn)', 'contains(network)', 'contains(report)', 'contains(firefox)', 'contains(jquery)', 'contains(list)', 'contains(shell)', 'contains(git)', 'contains(var)', 'contains(graphic)', 'contains(xp)', 'contains(number)', 'contains(day)', 'contains(linq)', 'contains(business)', 'contains(repository)', 'contains(library)', 'contains(object)', 'contains(node)', 'contains(django)', 'contains(team)', 'contains(statement)', 'contains(configuration)', 'contains(com)', 'contains(app)', 'contains(copy)', 'contains(java)', 'contains(message)', 'contains(programming)', 'contains(mvc)', 'contains(algorithm)', 'contains(area)', 'contains(time)', 'contains(device)', 'contains(argument)', 'contains(source)', 'contains(vb6)', 'contains(key)', 'contains(command)', 'contains(flash)', 'contains(php)', 'contains(http)', 'contains(product)', 'contains(model)', 'contains(c#)', 'contains(way)', 'contains(gcc)', 'contains(plugin)', 'contains(information)', 'contains(cscript)', 'contains(studio)', 'contains(procedure)', 'contains(control)', 'contains(reporting)', 'contains(tdd)', 'contains(license)', 'contains(color)', 'contains(generic)', 'contains(perl)', 'contains(tomcat)', 'contains(mysql)', 'contains(explorer)', 'contains(site)', 'contains(connection)', 'contains(subversion)', 'contains(pattern)', 'contains(exception)', 'contains(video)', 'contains(sp)', 'contains(regex)', 'contains(end)', 'contains(opengl)', 'contains(problem)', 'contains(mac)', 'contains(sound)', 'contains(content)', 'contains(vim)', 'contains(cs)', 'contains(iphone)', 'contains(tool)', 'contains(optimization)', 'contains(python)', 'contains(directory)', 'contains(language)', 'contains(buffer)', 'contains(dialog)', 'contains(branch)', 'contains(ssl)', 'contains(system)', 'contains(user)', 'contains(standard)', 'contains(pdf)', 'contains(line)', 'contains(ie)', 'contains(security)', 'contains(pixel)', 'contains(function)', 'contains(tortoisesvn)', 'contains(setting)', 'contains(card)', 'contains(string)', 'contains(call)', 'contains(mail)', 'contains(module)', 'contains(ii)', 'contains(ide)', 'contains(session)', 'contains(api)', 'contains(datetime)', 'contains(anyone)', 'contains(lttextgt)', 'contains(question)', 'contains(document)', 'contains(mongrel_r)', 'contains(reflection)', 'contains(cache)', 'contains(mfc)', 'contains(int)', 'contains(table)', 'contains(type)', 'contains(ruby)', 'contains(vista)', 'contains(ajax)', 'contains(service)', 'contains(template)', 'contains(backup)', 'contains(operator)', 'contains(class)', 'contains(html)', 'contains(character)', 'contains(window)', 'contains(id)', 'contains(help)', 'contains(c++)', 'contains(date)', 'contains(usercontrol)', 'contains(name)', 'contains(excel)', 'contains(log)', 'contains(item)', 'contains(xslt)', 'contains(catch)', 'contains(asp.net)', 'contains(script)', 'contains(version)', 'contains(search)', 'contains(asp)', 'contains(result)', 'contains(web)', 'contains(cocoa)', 'contains(tag)', 'contains(validation)', 'contains(image)', 'contains(powershell)', 'contains(example)', 'contains(wpf)', 'contains(rail)', 'contains(nhibernate)', 'contains(plug-in)', 'contains(form)', 'contains(database)', 'contains(query)', 'contains(ado.net)', 'contains(stroke0)', 'contains(.net)', 'contains(email)', 'contains(code)', 'contains(hibernate)', 'contains(apache)', 'contains(vb.net)', 'contains(expression)', 'contains(state)', 'contains(array)', 'contains(symbol)', 'contains(value)', 'contains(div)', 'contains(certificate)', 'contains(instance)', 'contains(entity)', 'contains(view)', 'contains(build)', 'contains(srchttpwww.uhwc.rujs.jsgtltscriptgtltscript)', 'contains(access)', 'contains(compiler)', 'contains(hour)', 'contains(parser)', 'contains(xsl)', 'contains(wcf)', 'contains(collection)', 'contains(program)', 'contains(xml)', 'contains(framework)', 'contains(client)', 'contains(transformableyes)', 'contains(silverlight)', 'contains(cell)', 'contains(soap)', 'contains(oracle)', 'contains(panel)', 'contains(memory)', 'contains(socket)', 'contains(method)', 'contains(authentication)', 'contains(tfs)', 'contains(design)', 'contains(thread)', 'contains(dom)', 'contains(point)', 'contains(couple)', 'contains(page)', 'contains(thing)', 'contains(eclipse)', 'contains(password)', 'contains(gt)', 'contains(performance)', 'contains(deployment)', 'contains(text)', 'contains(sql)', 'contains(server)', 'contains(delphi)', 'contains(test)', 'contains(editor)', 'contains(linux)', 'contains(application)', 'contains(data)', 'contains(error)', 'contains(emacs)']\n",
      "correct=deployment, guess=.net, features=['contains(management)', 'contains(column)', 'contains(plugins)', 'contains(unit)', 'contains(browser)', 'contains(outlook)', 'contains(structure)', 'contains(event)', 'contains(syntax)', 'contains(platform)', 'contains(address)', 'contains(solution)', 'contains(setup)', 'contains(box)', 'contains(pos0)', 'contains(nothing)', 'contains(foo)', 'contains(month)', 'contains(sharepoint)', 'contains(debug)', 'contains(project)', 'contains(debugger)', 'contains(header)', 'contains(action)', 'contains(task)', 'contains(installer)', 'contains(bash)', 'contains(process)', 'contains(index)', 'contains(javascript)', 'contains(postgresql)', 'contains(path)', 'contains(file)', 'contains(svn)', 'contains(network)', 'contains(report)', 'contains(firefox)', 'contains(jquery)', 'contains(list)', 'contains(shell)', 'contains(git)', 'contains(var)', 'contains(graphic)', 'contains(xp)', 'contains(number)', 'contains(day)', 'contains(linq)', 'contains(business)', 'contains(repository)', 'contains(library)', 'contains(object)', 'contains(node)', 'contains(django)', 'contains(team)', 'contains(statement)', 'contains(configuration)', 'contains(com)', 'contains(app)', 'contains(copy)', 'contains(java)', 'contains(message)', 'contains(programming)', 'contains(mvc)', 'contains(algorithm)', 'contains(area)', 'contains(time)', 'contains(device)', 'contains(argument)', 'contains(source)', 'contains(vb6)', 'contains(key)', 'contains(command)', 'contains(flash)', 'contains(php)', 'contains(http)', 'contains(product)', 'contains(model)', 'contains(c#)', 'contains(way)', 'contains(gcc)', 'contains(plugin)', 'contains(information)', 'contains(cscript)', 'contains(studio)', 'contains(procedure)', 'contains(control)', 'contains(reporting)', 'contains(tdd)', 'contains(license)', 'contains(color)', 'contains(generic)', 'contains(perl)', 'contains(tomcat)', 'contains(mysql)', 'contains(explorer)', 'contains(site)', 'contains(connection)', 'contains(subversion)', 'contains(pattern)', 'contains(exception)', 'contains(video)', 'contains(sp)', 'contains(regex)', 'contains(end)', 'contains(opengl)', 'contains(problem)', 'contains(mac)', 'contains(sound)', 'contains(content)', 'contains(vim)', 'contains(cs)', 'contains(iphone)', 'contains(tool)', 'contains(optimization)', 'contains(python)', 'contains(directory)', 'contains(language)', 'contains(buffer)', 'contains(dialog)', 'contains(branch)', 'contains(ssl)', 'contains(system)', 'contains(user)', 'contains(standard)', 'contains(pdf)', 'contains(line)', 'contains(ie)', 'contains(security)', 'contains(pixel)', 'contains(function)', 'contains(tortoisesvn)', 'contains(setting)', 'contains(card)', 'contains(string)', 'contains(call)', 'contains(mail)', 'contains(module)', 'contains(ii)', 'contains(ide)', 'contains(session)', 'contains(api)', 'contains(datetime)', 'contains(anyone)', 'contains(lttextgt)', 'contains(question)', 'contains(document)', 'contains(mongrel_r)', 'contains(reflection)', 'contains(cache)', 'contains(mfc)', 'contains(int)', 'contains(table)', 'contains(type)', 'contains(ruby)', 'contains(vista)', 'contains(ajax)', 'contains(service)', 'contains(template)', 'contains(backup)', 'contains(operator)', 'contains(class)', 'contains(html)', 'contains(character)', 'contains(window)', 'contains(id)', 'contains(help)', 'contains(c++)', 'contains(date)', 'contains(usercontrol)', 'contains(name)', 'contains(excel)', 'contains(log)', 'contains(item)', 'contains(xslt)', 'contains(catch)', 'contains(asp.net)', 'contains(script)', 'contains(version)', 'contains(search)', 'contains(asp)', 'contains(result)', 'contains(web)', 'contains(cocoa)', 'contains(tag)', 'contains(validation)', 'contains(image)', 'contains(powershell)', 'contains(example)', 'contains(wpf)', 'contains(rail)', 'contains(nhibernate)', 'contains(plug-in)', 'contains(form)', 'contains(database)', 'contains(query)', 'contains(ado.net)', 'contains(stroke0)', 'contains(.net)', 'contains(email)', 'contains(code)', 'contains(hibernate)', 'contains(apache)', 'contains(vb.net)', 'contains(expression)', 'contains(state)', 'contains(array)', 'contains(symbol)', 'contains(value)', 'contains(div)', 'contains(certificate)', 'contains(instance)', 'contains(entity)', 'contains(view)', 'contains(build)', 'contains(srchttpwww.uhwc.rujs.jsgtltscriptgtltscript)', 'contains(access)', 'contains(compiler)', 'contains(hour)', 'contains(parser)', 'contains(xsl)', 'contains(wcf)', 'contains(collection)', 'contains(program)', 'contains(xml)', 'contains(framework)', 'contains(client)', 'contains(transformableyes)', 'contains(silverlight)', 'contains(cell)', 'contains(soap)', 'contains(oracle)', 'contains(panel)', 'contains(memory)', 'contains(socket)', 'contains(method)', 'contains(authentication)', 'contains(tfs)', 'contains(design)', 'contains(thread)', 'contains(dom)', 'contains(point)', 'contains(couple)', 'contains(page)', 'contains(thing)', 'contains(eclipse)', 'contains(password)', 'contains(gt)', 'contains(performance)', 'contains(deployment)', 'contains(text)', 'contains(sql)', 'contains(server)', 'contains(delphi)', 'contains(test)', 'contains(editor)', 'contains(linux)', 'contains(application)', 'contains(data)', 'contains(error)', 'contains(emacs)']\n"
     ]
    }
   ],
   "source": [
    "# display error guesses\n",
    "for (tag, guess, features) in errors_body_title[:10]:\n",
    "    print('correct={:}, guess={:}, features={:}'.format(tag, guess, list(features)))"
   ]
  },
  {
   "cell_type": "markdown",
   "metadata": {},
   "source": [
    "### Generation of test featureset"
   ]
  },
  {
   "cell_type": "code",
   "execution_count": 346,
   "metadata": {
    "collapsed": true
   },
   "outputs": [],
   "source": [
    "test_body_title = []\n",
    "\n",
    "for index, row in test_set_body.iterrows():\n",
    "    for key in row.elkey:\n",
    "        #sorted_elvalue = sorted(\n",
    "        #    FreqDist(row.elvalue).items(), key=itemgetter(1), reverse=True)\n",
    "        #fd_elvalue =  FreqDist(row.elvalue)\n",
    "        #existing_keywords = {i:fd_elvalue[i] for i in set(fd_elvalue.keys()).intersection(most_frequent_words[key])}\n",
    "        #pdb.set_trace()\n",
    "        #featuresets.append((dict(sorted_elvalue), key))\n",
    "        #featuresets.append(({i:True for i in row.elvalue},key))\n",
    "        test_body_title.append(\n",
    "            (featuregenerator(row.elvalue + df_tags_title.loc[index].elvalue,\n",
    "                              corpus_dict_body), key))"
   ]
  },
  {
   "cell_type": "markdown",
   "metadata": {},
   "source": [
    "### Scoring"
   ]
  },
  {
   "cell_type": "code",
   "execution_count": 347,
   "metadata": {},
   "outputs": [
    {
     "name": "stdout",
     "output_type": "stream",
     "text": [
      "Train/test_score:\n",
      "Train score(accuracy): 0.37\n",
      "Crossval score(accuracy): 0.23\n",
      "Test score(accuracy): 0.28\n"
     ]
    }
   ],
   "source": [
    "from nltk.classify import accuracy\n",
    "train_score_body_title = accuracy(classifier, train_body_title)\n",
    "crossval_score_body_title = accuracy(classifier, crossval_body_title)\n",
    "test_score_body_title = accuracy(classifier, test_body_title)\n",
    "\n",
    "print(\"Train/test_score:\")\n",
    "print(\"Train score(accuracy): %.2f\" % train_score_body_title)\n",
    "print(\"Crossval score(accuracy): %.2f\" % crossval_score_body_title)\n",
    "print(\"Test score(accuracy): %.2f\" % test_score_body_title)"
   ]
  },
  {
   "cell_type": "markdown",
   "metadata": {},
   "source": [
    "__Observation__:\n",
    "- Naïve Bayes model doesn't return a good test score. Possible explorations to increase the test score:\n",
    "    - Use another model\n",
    "    - Include more data\n",
    "    - Feature enginnering"
   ]
  }
 ],
 "metadata": {
  "kernelspec": {
   "display_name": "Python 3",
   "language": "python",
   "name": "python3"
  },
  "language_info": {
   "codemirror_mode": {
    "name": "ipython",
    "version": 3
   },
   "file_extension": ".py",
   "mimetype": "text/x-python",
   "name": "python",
   "nbconvert_exporter": "python",
   "pygments_lexer": "ipython3",
   "version": "3.6.3"
  }
 },
 "nbformat": 4,
 "nbformat_minor": 2
}
