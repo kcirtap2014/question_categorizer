{
 "cells": [
  {
   "cell_type": "markdown",
   "metadata": {},
   "source": [
    "This notebook aims to develop a tag recommendation system for StackOverflow."
   ]
  },
  {
   "cell_type": "code",
   "execution_count": 2,
   "metadata": {},
   "outputs": [
    {
     "name": "stdout",
     "output_type": "stream",
     "text": [
      "Populating the interactive namespace from numpy and matplotlib\n"
     ]
    }
   ],
   "source": [
    "import os\n",
    "import pandas as pd\n",
    "import seaborn as sns\n",
    "import string\n",
    "import re\n",
    "from collections import defaultdict\n",
    "from helper_functions import (group_sort, unique_values, freq_stats_corpora, \n",
    "                              evaluate, ngram, jaccard_distance, \n",
    "                              cosine_similarity, check_similar_tags, \n",
    "                              get_best_tags, CrossValidation, rpc_score, \n",
    "                              print_top_words, topic_name_attribution, \n",
    "                              no_tag_percentage_score)\n",
    "\n",
    "sns.set_style(\"white\")\n",
    "%pylab inline"
   ]
  },
  {
   "cell_type": "markdown",
   "metadata": {},
   "source": [
    "# Load Data\n",
    "The data are downloaded from StackExchange Data Explorer, with the folliwng SQL query:\n",
    "\n",
    "SELECT TOP 50000* FROM posts WHERE CREATIONDATE>='2018-01-01' "
   ]
  },
  {
   "cell_type": "code",
   "execution_count": 3,
   "metadata": {
    "collapsed": true
   },
   "outputs": [],
   "source": [
    "save_dir = \"/Users/pmlee/Documents/CAPGemini_OpenClassroom/\"+\\\n",
    "           \"OpenClassrooms_Patrick_Lee/Assignment5/report/\""
   ]
  },
  {
   "cell_type": "code",
   "execution_count": 4,
   "metadata": {
    "collapsed": true
   },
   "outputs": [],
   "source": [
    "cur_dir = os.path.dirname(os.getcwd())\n",
    "df = pd.read_csv(cur_dir + \"/db/QueryResults2018.csv\", index_col=0)\n",
    "df_reduced = df[df.Body.notnull()]"
   ]
  },
  {
   "cell_type": "code",
   "execution_count": 5,
   "metadata": {},
   "outputs": [
    {
     "data": {
      "text/plain": [
       "(49969, 21)"
      ]
     },
     "execution_count": 5,
     "metadata": {},
     "output_type": "execute_result"
    }
   ],
   "source": [
    "df_reduced.shape"
   ]
  },
  {
   "cell_type": "code",
   "execution_count": 6,
   "metadata": {},
   "outputs": [
    {
     "data": {
      "image/png": "[encoded data removed]",
      "text/plain": [
       "<matplotlib.figure.Figure at 0x114472f98>"
      ]
     },
     "metadata": {},
     "output_type": "display_data"
    }
   ],
   "source": [
    "df_reduced_count = df_reduced.count().sort_values(ascending=False)\n",
    "fig, ax = plt.subplots(figsize=(5,3.5))\n",
    "df_reduced_count.plot.bar(color=\"steelblue\", ax=ax)\n",
    "sns.despine()\n",
    "plt.tight_layout()\n",
    "fig.savefig(save_dir + \"non_zero_count_analysis.pdf\")"
   ]
  },
  {
   "cell_type": "markdown",
   "metadata": {},
   "source": [
    "__Observation__:\n",
    "- Each post has an id, PostTypeId, CommentCount, CreationDate, Score and LastActivityDate\n",
    "- Tags have a significant missing values, in fact only questions have Tags and Title. \n",
    "- Body consists of questions and answers\n",
    "\n",
    "Here, we are interested in analysing the title and body and then suggest tags to users.\n",
    "\n",
    "In *supervised learning*, tags are the target variable, whereas in *unsupervised learning*, they are used to attribute names to topics."
   ]
  },
  {
   "cell_type": "code",
   "execution_count": 7,
   "metadata": {
    "collapsed": true
   },
   "outputs": [],
   "source": [
    "# Combine columns\n",
    "# add an empty space for distinction\n",
    "df_text = pd.DataFrame(list(zip(df_reduced.Title,\n",
    "                                df_reduced.Body)), index = df_reduced.index).rename(columns={\n",
    "                                    0: 'TITLE',\n",
    "                                    1: 'BODY',\n",
    "                                })"
   ]
  },
  {
   "cell_type": "code",
   "execution_count": 8,
   "metadata": {
    "collapsed": true
   },
   "outputs": [],
   "source": [
    "# code is put in another column in the database\n",
    "# tags are modified \n",
    "def stringbetweencode(data):\n",
    "    if pd.notnull(data):\n",
    "        p = re.compile(\"<code>(.+?)<\\/code>\", flags=re.DOTALL)\n",
    "        return p.findall(data) \n",
    "    return data\n",
    "    \n",
    "\n",
    "def tag_between_brackets(data):\n",
    "    if pd.notnull(data):\n",
    "        p = re.compile(r'<(.*?)>')\n",
    "        return p.findall(data)\n",
    "    return data\n",
    "\n",
    "#df_text[\"CODE\"] = np.nan\n",
    "df_text[\"CODE\"] = df_text[\"BODY\"].apply(stringbetweencode) \n",
    "df_text[\"TAGS\"] = df_reduced[\"Tags\"].apply(tag_between_brackets) "
   ]
  },
  {
   "cell_type": "markdown",
   "metadata": {},
   "source": [
    "# EDA for Tags\n",
    "This section explores the statistics on tags (tags frequency analysis)"
   ]
  },
  {
   "cell_type": "code",
   "execution_count": 9,
   "metadata": {
    "collapsed": true
   },
   "outputs": [],
   "source": [
    "from nltk import FreqDist\n",
    "from nltk.tokenize import word_tokenize\n",
    "\n",
    "df_tags = df_text[df_text.TAGS.notnull()][\"TAGS\"]\n",
    "\n",
    "# combine all tokens together for freq dist\n",
    "tagslist = df_tags.sum()\n",
    "\n",
    "# count frequency of each tag\n",
    "# How many documents are tagged with a specific tag?\n",
    "tagsfreq = FreqDist(tagslist)"
   ]
  },
  {
   "cell_type": "code",
   "execution_count": 10,
   "metadata": {
    "collapsed": true
   },
   "outputs": [],
   "source": [
    "from operator import itemgetter\n",
    "# sort by values in descending order\n",
    "sorted_tagsfreq = sorted(tagsfreq.items(), key=itemgetter(1), reverse=True)\n",
    "tags_key, tags_value = zip(*sorted_tagsfreq)"
   ]
  },
  {
   "cell_type": "code",
   "execution_count": 11,
   "metadata": {},
   "outputs": [
    {
     "name": "stderr",
     "output_type": "stream",
     "text": [
      "/Users/pmlee/anaconda3/lib/python3.6/site-packages/seaborn/categorical.py:1460: FutureWarning: remove_na is deprecated and is a private function. Do not use.\n",
      "  stat_data = remove_na(group_data)\n"
     ]
    },
    {
     "data": {
      "image/png": "[encoded data removed]",
      "text/plain": [
       "<matplotlib.figure.Figure at 0x10cba7080>"
      ]
     },
     "metadata": {},
     "output_type": "display_data"
    }
   ],
   "source": [
    "# tag frequency count plot\n",
    "fig, ax = plt.subplots( figsize=(8, 4))\n",
    "n_element = 20\n",
    "x_tags = np.array(tags_key[:n_element]+ tags_key[-n_element:])\n",
    "y_tags = np.array(tags_value[:n_element]+ tags_value[-n_element:])\n",
    "sns.barplot(x_tags, y_tags, ax=ax)\n",
    "ax.set_xticklabels(x_tags, rotation=90)\n",
    "sns.despine()\n",
    "plt.tight_layout()\n",
    "fig.savefig(save_dir + \"top_bottom_20tags.pdf\")"
   ]
  },
  {
   "cell_type": "code",
   "execution_count": null,
   "metadata": {
    "scrolled": true
   },
   "outputs": [],
   "source": [
    "# Count unique tags\n",
    "unique_tags = pd.Series(list(tags_key)).nunique()\n",
    "print(\"Num of unique tags: %d\" %unique_tags)"
   ]
  },
  {
   "cell_type": "code",
   "execution_count": 13,
   "metadata": {},
   "outputs": [
    {
     "data": {
      "text/plain": [
       "count    9509.000000\n",
       "mean        7.213692\n",
       "std        54.839911\n",
       "min         1.000000\n",
       "50%         1.000000\n",
       "75%         3.000000\n",
       "90%         9.000000\n",
       "95%        18.000000\n",
       "97%        31.000000\n",
       "max      2455.000000\n",
       "dtype: float64"
      ]
     },
     "execution_count": 13,
     "metadata": {},
     "output_type": "execute_result"
    }
   ],
   "source": [
    "pd.Series(tags_value).describe([0.5,0.75,0.9,0.95, 0.97])"
   ]
  },
  {
   "cell_type": "markdown",
   "metadata": {},
   "source": [
    "__Observation__:\n",
    "- 50% of the tags only occur once, we will eliminate tags that have low counts, taking the arg of 97% as threshold"
   ]
  },
  {
   "cell_type": "markdown",
   "metadata": {},
   "source": [
    "## Text preprocessing with scikit learn and NLTK\n",
    "Here the unstructure text goes through a series of process for vectorization."
   ]
  },
  {
   "cell_type": "code",
   "execution_count": 14,
   "metadata": {
    "collapsed": true,
    "scrolled": false
   },
   "outputs": [],
   "source": [
    "from sklearn.decomposition import LatentDirichletAllocation\n",
    "from nltk import regexp_tokenize, pos_tag\n",
    "from nltk.corpus import stopwords\n",
    "from nltk.stem import WordNetLemmatizer\n",
    "import pdb\n",
    "\n",
    "wnl = WordNetLemmatizer()\n",
    "\n",
    "\n",
    "def convert_tag(tag):\n",
    "    \"\"\"\n",
    "    Convert the tag given by nltk.pos_tag \n",
    "    to the tag used by wordnet.synsets\n",
    "    \"\"\"\n",
    "    tag_dict = {'N': 'n', 'J': 'a', 'R': 'r', 'V': 'v'}\n",
    "    try:\n",
    "        return tag_dict[tag[0]]\n",
    "    except KeyError:\n",
    "        # defalut value\n",
    "        return 'n'  #None\n",
    "\n",
    "\n",
    "def lemmatizer(doc):\n",
    "    \"\"\"\n",
    "    returns lemmatized tokens after removing stop words and pos tagging\n",
    "    \n",
    "    Parameters:\n",
    "    -----------\n",
    "    doc: pandas dataframe\n",
    "        text description in df\n",
    "    \n",
    "    Return:\n",
    "    -------\n",
    "    pandas dataframe\n",
    "        lemmatized, pos_tagged, and removed stopwords tokens\n",
    "    \"\"\"\n",
    "    if pd.notnull(doc):\n",
    "        # add words to stoplist, previously punctuations have been removed,\n",
    "        # so we should do the same for the stoplist\n",
    "        # we also add the top 10 words in the stoplist, these top 10 words\n",
    "        # are found after post-processing\n",
    "\n",
    "        stoplist = [striphtmlpunct(x)\n",
    "                    for x in stopwords.words('english')] + ['im', 'ive'] + [\n",
    "                        'use', 'get', 'like', 'file', 'would', 'way', 'code',\n",
    "                        'work', 'want', 'need'\n",
    "                    ]\n",
    "\n",
    "        lemmatized = []\n",
    "\n",
    "        regex_tokens = regexp_tokenize(doc, pattern='\\w+\\S+|\\.\\w+')\n",
    "\n",
    "        for word, p_tags in pos_tag(regex_tokens):\n",
    "            convert_pos_tag = convert_tag(p_tags)\n",
    "            lemmatized_word = wnl.lemmatize(word, pos=convert_pos_tag)\n",
    "            \n",
    "            if lemmatized_word not in set(stoplist):\n",
    "                lemmatized.append(lemmatized_word)\n",
    "\n",
    "        return pd.Series(' '.join(lemmatized))\n",
    "    return pd.Series(doc)\n",
    "\n",
    "\n",
    "def postagged(data):\n",
    "    convert_pos_tag = []\n",
    "\n",
    "    if pd.notnull(data):\n",
    "        tokens = regexp_tokenize(data, pattern='\\w+\\S+|\\.\\w+')\n",
    "\n",
    "        for word, p_tags in pos_tag(tokens):\n",
    "            convert_pos_tag.append(convert_tag(p_tags))\n",
    "    return convert_pos_tag\n",
    "\n",
    "\n",
    "def striphtmlpunct(data):\n",
    "    # remove html tags, code unnecessary punctuations\n",
    "    # <.*?> to remove everything between <>\n",
    "    # [^\\w\\s+\\.\\-\\#\\+] remove punctuations except .-#+\n",
    "    # (\\.{1,3})(?!\\S) negative lookahead assertion: only match .{1,3} that\n",
    "    # is followed by white space\n",
    "    if pd.notnull(data):\n",
    "        p = re.compile(r'<.*?>|[^\\w\\s+\\.\\-\\#\\+]')\n",
    "        res = p.sub('', data)\n",
    "        pe = re.compile('(\\.{1,3})(?!\\S)')\n",
    "\n",
    "        return pe.sub('', res)\n",
    "\n",
    "    return data\n",
    "\n",
    "\n",
    "def stripcode(data):\n",
    "    p = re.compile(\"<code>(.+?)<\\/code>\", flags=re.DOTALL)\n",
    "    return p.sub('', data)\n",
    "\n",
    "\n",
    "def striptabs(data):\n",
    "    # remove tabs breaklines\n",
    "    p = re.compile(r'(\\r\\n)+|\\r+|\\n+|\\t+/i')\n",
    "    return p.sub(' ', data)\n",
    "\n",
    "\n",
    "def lower(data):\n",
    "    if pd.notnull(data):\n",
    "        return data.lower()\n",
    "    return data\n",
    "\n",
    "\n",
    "# remove html tags\n",
    "df_text[\"BODY_STRIPPED\"] = df_text.BODY.apply(lower).apply(stripcode).apply(\n",
    "    striphtmlpunct).apply(striptabs)\n",
    "df_text[\"CODE_STRIPPED\"] = df_text.CODE.apply(\n",
    "    lambda x: [striptabs(line.lower()) for line in x if x])\n",
    "df_text[\"TITLE_STRIPPED\"] = df_text.TITLE.apply(lower).apply(striphtmlpunct)\n",
    "\n",
    "# remove stop words, pos_tag, and lemmatize\n",
    "df_text[\"BODY_LEMMATIZED\"] = df_text[\"BODY_STRIPPED\"].apply(lemmatizer)\n",
    "df_text[\"TITLE_LEMMATIZED\"] = df_text[\"TITLE_STRIPPED\"].apply(lemmatizer)\n",
    "\n",
    "# postagged column for EDA\n",
    "df_text[\"BODY_POSTAGGED\"] = df_text[\"BODY_STRIPPED\"].apply(postagged)\n",
    "df_text[\"TITLE_POSTAGGED\"] = df_text[\"TITLE_STRIPPED\"].apply(postagged)"
   ]
  },
  {
   "cell_type": "markdown",
   "metadata": {},
   "source": [
    "## Eliminate entries without tags\n",
    "The preprocessing is done for all documents in the collection, but for supervised learning only documents with tags are retained."
   ]
  },
  {
   "cell_type": "code",
   "execution_count": 15,
   "metadata": {
    "collapsed": true
   },
   "outputs": [],
   "source": [
    "df_text_reduced = df_text.loc[df_tags.index]"
   ]
  },
  {
   "cell_type": "code",
   "execution_count": 13,
   "metadata": {
    "scrolled": true
   },
   "outputs": [
    {
     "data": {
      "text/html": [
       "<div>\n",
       "<style scoped>\n",
       "    .dataframe tbody tr th:only-of-type {\n",
       "        vertical-align: middle;\n",
       "    }\n",
       "\n",
       "    .dataframe tbody tr th {\n",
       "        vertical-align: top;\n",
       "    }\n",
       "\n",
       "    .dataframe thead th {\n",
       "        text-align: right;\n",
       "    }\n",
       "</style>\n",
       "<table border=\"1\" class=\"dataframe\">\n",
       "  <thead>\n",
       "    <tr style=\"text-align: right;\">\n",
       "      <th></th>\n",
       "      <th>TITLE</th>\n",
       "      <th>BODY</th>\n",
       "      <th>CODE</th>\n",
       "      <th>TAGS</th>\n",
       "      <th>BODY_STRIPPED</th>\n",
       "      <th>CODE_STRIPPED</th>\n",
       "      <th>TITLE_STRIPPED</th>\n",
       "      <th>BODY_LEMMATIZED</th>\n",
       "      <th>TITLE_LEMMATIZED</th>\n",
       "      <th>BODY_POSTAGGED</th>\n",
       "      <th>TITLE_POSTAGGED</th>\n",
       "    </tr>\n",
       "    <tr>\n",
       "      <th>Id</th>\n",
       "      <th></th>\n",
       "      <th></th>\n",
       "      <th></th>\n",
       "      <th></th>\n",
       "      <th></th>\n",
       "      <th></th>\n",
       "      <th></th>\n",
       "      <th></th>\n",
       "      <th></th>\n",
       "      <th></th>\n",
       "      <th></th>\n",
       "    </tr>\n",
       "  </thead>\n",
       "  <tbody>\n",
       "    <tr>\n",
       "      <th>49047792</th>\n",
       "      <td>nodejs SSL handshake error on aws</td>\n",
       "      <td>&lt;p&gt;I am trying to hit third party api splash p...</td>\n",
       "      <td>[var options = {\\n    method: 'post',\\n    bod...</td>\n",
       "      <td>[node.js, amazon-web-services]</td>\n",
       "      <td>i am trying to hit third party api splash paym...</td>\n",
       "      <td>[var options = {     method: 'post',     body:...</td>\n",
       "      <td>nodejs ssl handshake error on aws</td>\n",
       "      <td>try hit third party api splash payment nodejs ...</td>\n",
       "      <td>nodejs ssl handshake error aws</td>\n",
       "      <td>[v, v, n, v, a, n, n, a, n, n, n, a, n, n, v, ...</td>\n",
       "      <td>[a, n, v, n, n, n]</td>\n",
       "    </tr>\n",
       "    <tr>\n",
       "      <th>49043638</th>\n",
       "      <td>Asynchronous problems in C#</td>\n",
       "      <td>&lt;p&gt;I am learning C# and in order to train, I w...</td>\n",
       "      <td>[TaskCompletionSource&amp;lt;bool&amp;gt; tcs = null; ...</td>\n",
       "      <td>[c#, .net, asynchronous]</td>\n",
       "      <td>i am learning c# and in order to train i would...</td>\n",
       "      <td>[taskcompletionsource&amp;lt;bool&amp;gt; tcs = null; ...</td>\n",
       "      <td>asynchronous problems in c#</td>\n",
       "      <td>learn c# order train make powerpoint addin ask...</td>\n",
       "      <td>asynchronous problem c#</td>\n",
       "      <td>[v, v, n, n, n, n, n, v, n, v, n, v, n, n, v, ...</td>\n",
       "      <td>[a, n, n, n]</td>\n",
       "    </tr>\n",
       "    <tr>\n",
       "      <th>50428018</th>\n",
       "      <td>Facebook instant article URL Claim</td>\n",
       "      <td>&lt;p&gt;I'm not getting the exact way to claim the ...</td>\n",
       "      <td>[]</td>\n",
       "      <td>[facebook, facebook-instant-articles]</td>\n",
       "      <td>im not getting the exact way to claim the url ...</td>\n",
       "      <td>[]</td>\n",
       "      <td>facebook instant article url claim</td>\n",
       "      <td>exact claim url facebook instant article site ...</td>\n",
       "      <td>facebook instant article url claim</td>\n",
       "      <td>[n, r, v, n, a, n, n, v, n, n, n, n, a, n, n, ...</td>\n",
       "      <td>[n, a, n, a, n]</td>\n",
       "    </tr>\n",
       "  </tbody>\n",
       "</table>\n",
       "</div>"
      ],
      "text/plain": [
       "                                       TITLE  \\\n",
       "Id                                             \n",
       "49047792   nodejs SSL handshake error on aws   \n",
       "49043638         Asynchronous problems in C#   \n",
       "50428018  Facebook instant article URL Claim   \n",
       "\n",
       "                                                       BODY  \\\n",
       "Id                                                            \n",
       "49047792  <p>I am trying to hit third party api splash p...   \n",
       "49043638  <p>I am learning C# and in order to train, I w...   \n",
       "50428018  <p>I'm not getting the exact way to claim the ...   \n",
       "\n",
       "                                                       CODE  \\\n",
       "Id                                                            \n",
       "49047792  [var options = {\\n    method: 'post',\\n    bod...   \n",
       "49043638  [TaskCompletionSource&lt;bool&gt; tcs = null; ...   \n",
       "50428018                                                 []   \n",
       "\n",
       "                                           TAGS  \\\n",
       "Id                                                \n",
       "49047792         [node.js, amazon-web-services]   \n",
       "49043638               [c#, .net, asynchronous]   \n",
       "50428018  [facebook, facebook-instant-articles]   \n",
       "\n",
       "                                              BODY_STRIPPED  \\\n",
       "Id                                                            \n",
       "49047792  i am trying to hit third party api splash paym...   \n",
       "49043638  i am learning c# and in order to train i would...   \n",
       "50428018  im not getting the exact way to claim the url ...   \n",
       "\n",
       "                                              CODE_STRIPPED  \\\n",
       "Id                                                            \n",
       "49047792  [var options = {     method: 'post',     body:...   \n",
       "49043638  [taskcompletionsource&lt;bool&gt; tcs = null; ...   \n",
       "50428018                                                 []   \n",
       "\n",
       "                              TITLE_STRIPPED  \\\n",
       "Id                                             \n",
       "49047792   nodejs ssl handshake error on aws   \n",
       "49043638         asynchronous problems in c#   \n",
       "50428018  facebook instant article url claim   \n",
       "\n",
       "                                            BODY_LEMMATIZED  \\\n",
       "Id                                                            \n",
       "49047792  try hit third party api splash payment nodejs ...   \n",
       "49043638  learn c# order train make powerpoint addin ask...   \n",
       "50428018  exact claim url facebook instant article site ...   \n",
       "\n",
       "                            TITLE_LEMMATIZED  \\\n",
       "Id                                             \n",
       "49047792      nodejs ssl handshake error aws   \n",
       "49043638             asynchronous problem c#   \n",
       "50428018  facebook instant article url claim   \n",
       "\n",
       "                                             BODY_POSTAGGED  \\\n",
       "Id                                                            \n",
       "49047792  [v, v, n, v, a, n, n, a, n, n, n, a, n, n, v, ...   \n",
       "49043638  [v, v, n, n, n, n, n, v, n, v, n, v, n, n, v, ...   \n",
       "50428018  [n, r, v, n, a, n, n, v, n, n, n, n, a, n, n, ...   \n",
       "\n",
       "             TITLE_POSTAGGED  \n",
       "Id                            \n",
       "49047792  [a, n, v, n, n, n]  \n",
       "49043638        [a, n, n, n]  \n",
       "50428018     [n, a, n, a, n]  "
      ]
     },
     "execution_count": 13,
     "metadata": {},
     "output_type": "execute_result"
    }
   ],
   "source": [
    "df_text_reduced.sample(3, random_state=344)"
   ]
  },
  {
   "cell_type": "markdown",
   "metadata": {},
   "source": [
    "## Sample"
   ]
  },
  {
   "cell_type": "code",
   "execution_count": 19,
   "metadata": {
    "collapsed": true
   },
   "outputs": [],
   "source": [
    "n_example = df_text_reduced[np.logical_and(df_text_reduced.CODE_STRIPPED.notnull(),\n",
    "                             df_text_reduced.TITLE.notnull())].sample(1, random_state=18).index[0]"
   ]
  },
  {
   "cell_type": "code",
   "execution_count": 20,
   "metadata": {},
   "outputs": [
    {
     "data": {
      "text/plain": [
       "'Python encapsulate data for a class'"
      ]
     },
     "execution_count": 20,
     "metadata": {},
     "output_type": "execute_result"
    }
   ],
   "source": [
    "df_text_reduced.loc[n_example].TITLE"
   ]
  },
  {
   "cell_type": "code",
   "execution_count": 22,
   "metadata": {},
   "outputs": [
    {
     "data": {
      "text/plain": [
       "'python encapsulate data class'"
      ]
     },
     "execution_count": 22,
     "metadata": {},
     "output_type": "execute_result"
    }
   ],
   "source": [
    "df_text_reduced.loc[n_example].TITLE_LEMMATIZED"
   ]
  },
  {
   "cell_type": "code",
   "execution_count": 21,
   "metadata": {
    "scrolled": true
   },
   "outputs": [
    {
     "data": {
      "text/plain": [
       "'<p>I have two python classes, A and B that inherits from A.\\nAt runtime, I only have one instance of class A, but many instances of class B.</p>\\n\\n<pre><code>class A:\\n  def __init__(self, a):\\n    self.a = a\\n\\n  def _init2 (self, AA)\\n    self.a = AA.a\\n\\nclass B(A):\\n  def __init__(self, AA, b):\\n    super()._init2(AA)\\n    self.b = b\\n\\nAA = A(0)\\nBB = B(AA, 1)\\n</code></pre>\\n\\n<p>Is this the good way of writing it ? It seems ugly ...</p>\\n'"
      ]
     },
     "execution_count": 21,
     "metadata": {},
     "output_type": "execute_result"
    }
   ],
   "source": [
    "df_text_reduced.loc[n_example].BODY"
   ]
  },
  {
   "cell_type": "code",
   "execution_count": 24,
   "metadata": {
    "scrolled": true
   },
   "outputs": [
    {
     "data": {
      "text/plain": [
       "'two python class inherit runtime one instance class many instance class good write seem ugly'"
      ]
     },
     "execution_count": 24,
     "metadata": {},
     "output_type": "execute_result"
    }
   ],
   "source": [
    "df_text_reduced.loc[n_example].BODY_LEMMATIZED"
   ]
  },
  {
   "cell_type": "code",
   "execution_count": 25,
   "metadata": {},
   "outputs": [
    {
     "data": {
      "text/plain": [
       "['class a:   def __init__(self, a):     self.a = a   def _init2 (self, aa)     self.a = aa.a class b(a):   def __init__(self, aa, b):     super()._init2(aa)     self.b = b aa = a(0) bb = b(aa, 1) ']"
      ]
     },
     "execution_count": 25,
     "metadata": {},
     "output_type": "execute_result"
    }
   ],
   "source": [
    "df_text_reduced.loc[n_example].CODE_STRIPPED"
   ]
  },
  {
   "cell_type": "markdown",
   "metadata": {},
   "source": [
    "## Eliminate low count tags\n",
    "Since there is a total of ~9500 unique tags, some tags might be considered as outliers. We perform a count analysis on these tags, and eliminate the outliers. We only keep the top 3% tags with the higest count."
   ]
  },
  {
   "cell_type": "code",
   "execution_count": 26,
   "metadata": {
    "collapsed": true,
    "scrolled": true
   },
   "outputs": [],
   "source": [
    "def remove_low_count_tags(data, tags_key=None):\n",
    "\n",
    "    reduced = []\n",
    "    for el in data:\n",
    "        if el in set(tags_key):\n",
    "            reduced.append(el)\n",
    "\n",
    "    if not reduced:\n",
    "        reduced = np.NaN\n",
    "\n",
    "    return reduced\n",
    "\n",
    "\n",
    "# combine all tokens together for freq dist\n",
    "tagslist_reduced = df_text_reduced.TAGS.sum()\n",
    "\n",
    "# count frequency of each tag\n",
    "# How many documents are tagged with a specific tag?\n",
    "tagsfreq_reduced = FreqDist(tagslist_reduced)\n",
    "sorted_tagsfreq_reduced = sorted(\n",
    "    tagsfreq_reduced.items(), key=itemgetter(1), reverse=True)\n",
    "tags_key_reduced, tags_value_reduced = zip(*sorted_tagsfreq_reduced)\n",
    "\n",
    "# drop keywords that have less than tag_freq\n",
    "quartile = 0.97\n",
    "n_tag = pd.Series(tags_value_reduced).quantile([quartile]).values[0]\n",
    "sorted_tagsfreq_reduced_quartile = [\n",
    "    el for el in sorted_tagsfreq_reduced if el[1] > n_tag\n",
    "]\n",
    "tags_key_reduced_quartile, tags_value_reduced_quartile = zip(\n",
    "    *sorted_tagsfreq_reduced_quartile)\n",
    "df_tags_temp = df_text_reduced.TAGS.apply(\n",
    "    remove_low_count_tags, tags_key=tags_key_reduced_quartile)\n",
    "df_text_reduced[\"TAGS_MODIFIED\"] = df_tags_temp\n",
    "df_tags_reduced = df_text_reduced[df_text_reduced.TAGS_MODIFIED.notnull()]"
   ]
  },
  {
   "cell_type": "code",
   "execution_count": 27,
   "metadata": {
    "scrolled": true
   },
   "outputs": [
    {
     "data": {
      "text/plain": [
       "count    9509.000000\n",
       "mean        7.213692\n",
       "std        54.839911\n",
       "min         1.000000\n",
       "50%         1.000000\n",
       "90%         9.000000\n",
       "95%        18.000000\n",
       "97%        31.000000\n",
       "max      2455.000000\n",
       "dtype: float64"
      ]
     },
     "execution_count": 27,
     "metadata": {},
     "output_type": "execute_result"
    }
   ],
   "source": [
    "pd.Series(tags_value_reduced).describe([0.5,0.9,0.95,0.97])"
   ]
  },
  {
   "cell_type": "code",
   "execution_count": 28,
   "metadata": {},
   "outputs": [
    {
     "name": "stdout",
     "output_type": "stream",
     "text": [
      "We keep 280 unique tags\n"
     ]
    }
   ],
   "source": [
    "tags_unique_len = pd.Series(tags_key_reduced_quartile).nunique()\n",
    "print(\"We keep %.d unique tags.\" %(tags_unique_len))"
   ]
  },
  {
   "cell_type": "code",
   "execution_count": null,
   "metadata": {},
   "outputs": [],
   "source": [
    "print(\"After eliminating the low count tags, %.1f%% of the documents still have at least one tag.\" %(100*len(df_tags_reduced)/len(df_tags)))"
   ]
  },
  {
   "cell_type": "code",
   "execution_count": 30,
   "metadata": {},
   "outputs": [
    {
     "data": {
      "text/plain": [
       "(20721, 12)"
      ]
     },
     "execution_count": 30,
     "metadata": {},
     "output_type": "execute_result"
    }
   ],
   "source": [
    "df_tags_reduced.shape"
   ]
  },
  {
   "cell_type": "code",
   "execution_count": 31,
   "metadata": {},
   "outputs": [
    {
     "name": "stderr",
     "output_type": "stream",
     "text": [
      "/Users/pmlee/anaconda3/lib/python3.6/site-packages/seaborn/categorical.py:1460: FutureWarning: remove_na is deprecated and is a private function. Do not use.\n",
      "  stat_data = remove_na(group_data)\n"
     ]
    },
    {
     "data": {
      "image/png": "[encoded data removed]",
      "text/plain": [
       "<matplotlib.figure.Figure at 0x1a19332400>"
      ]
     },
     "metadata": {},
     "output_type": "display_data"
    }
   ],
   "source": [
    "fig, ax = plt.subplots(figsize=(10, 5))\n",
    "\n",
    "n_element = 30\n",
    "key_tags_key_reduced = (tags_key_reduced_quartile[:n_element] +\n",
    "                        tags_key_reduced_quartile[-n_element:])\n",
    "value_tags_key_reduced = (tags_value_reduced_quartile[:n_element] +\n",
    "                          tags_value_reduced_quartile[-n_element:])\n",
    "\n",
    "sns.barplot(\n",
    "    np.array(key_tags_key_reduced), np.array(value_tags_key_reduced), ax=ax)\n",
    "ax.set_xticklabels(key_tags_key_reduced, rotation=90)\n",
    "#ax.set_title('Top 50 words for %s from title' %key)\n",
    "sns.despine()\n",
    "plt.tight_layout()\n",
    "fig.savefig(save_dir + \"sanity_check.pdf\")"
   ]
  },
  {
   "cell_type": "markdown",
   "metadata": {},
   "source": [
    "## Word types statistics in the collection of document\n",
    "We study the statistics of the word functions."
   ]
  },
  {
   "cell_type": "markdown",
   "metadata": {},
   "source": [
    "### From Title"
   ]
  },
  {
   "cell_type": "code",
   "execution_count": 32,
   "metadata": {
    "collapsed": true
   },
   "outputs": [],
   "source": [
    "# combine all tokens together for freq dist\n",
    "postags_title = df_text_reduced.TITLE_POSTAGGED.sum()\n",
    "\n",
    "postagsfreq_reduced = FreqDist(postags_title)\n",
    "sorted_postagsfreq_reduced = sorted(\n",
    "    postagsfreq_reduced.items(), key=itemgetter(1), reverse=True)\n",
    "postags_key_reduced, postags_value_reduced = zip(*sorted_postagsfreq_reduced)\n",
    "norm_value_title = np.array(postags_value_reduced)/len(postags_title)"
   ]
  },
  {
   "cell_type": "markdown",
   "metadata": {},
   "source": [
    "### From Body"
   ]
  },
  {
   "cell_type": "code",
   "execution_count": 33,
   "metadata": {
    "collapsed": true
   },
   "outputs": [],
   "source": [
    "# combine all tokens together for freq dist\n",
    "postags_body = df_text_reduced.BODY_POSTAGGED.sum()\n",
    "\n",
    "postagsfreq_body = FreqDist(postags_body)\n",
    "sorted_postagsfreq_body = sorted(\n",
    "    postagsfreq_body.items(), key=itemgetter(1), reverse=True)\n",
    "postags_key_body, postags_value_body = zip(*sorted_postagsfreq_body)\n",
    "norm_value_body = np.array(postags_value_body)/len(postags_body)"
   ]
  },
  {
   "cell_type": "code",
   "execution_count": 34,
   "metadata": {},
   "outputs": [
    {
     "name": "stderr",
     "output_type": "stream",
     "text": [
      "/Users/pmlee/anaconda3/lib/python3.6/site-packages/seaborn/categorical.py:1460: FutureWarning: remove_na is deprecated and is a private function. Do not use.\n",
      "  stat_data = remove_na(group_data)\n"
     ]
    },
    {
     "data": {
      "image/png": "[encoded data removed]",
      "text/plain": [
       "<matplotlib.figure.Figure at 0x1a23e3a898>"
      ]
     },
     "metadata": {},
     "output_type": "display_data"
    }
   ],
   "source": [
    "fig, ax = plt.subplots(1,2, figsize=(8, 4), sharey=True)\n",
    "n_element = 50\n",
    "sns.barplot(\n",
    "    np.array(postags_key_reduced),\n",
    "    np.array(norm_value_title),\n",
    "    ax=ax[0])\n",
    "sns.barplot(\n",
    "    np.array(postags_key_body),\n",
    "    np.array(norm_value_body),\n",
    "    ax=ax[1])\n",
    "ax[0].set_xticklabels([\"noun\", \"verb\", \"adj\", \"adv\"])\n",
    "ax[0].set_title('Top 50 words from text title' )\n",
    "ax[1].set_xticklabels([\"noun\", \"verb\", \"adj\", \"adv\"])\n",
    "ax[1].set_title('Top 50 words from text body')\n",
    "ax[0].set_ylabel('Fraction')\n",
    "ax[0].set_xlabel(\"Word type\")\n",
    "ax[1].set_xlabel(\"Word type\")\n",
    "\n",
    "sns.despine()"
   ]
  },
  {
   "cell_type": "markdown",
   "metadata": {},
   "source": [
    "## Bag-of-words distribution associated to a tag\n",
    "We perform an analysis to look at the word distrbution for each tag."
   ]
  },
  {
   "cell_type": "markdown",
   "metadata": {},
   "source": [
    "### On text title"
   ]
  },
  {
   "cell_type": "code",
   "execution_count": 35,
   "metadata": {
    "collapsed": true
   },
   "outputs": [],
   "source": [
    "df_text_reduced_tokens = df_text_reduced.loc[\n",
    "    :, \"TITLE_LEMMATIZED\"].apply(lambda x: x.split())\n",
    "df_tags_title = pd.DataFrame(\n",
    "    list(zip(df_tags_reduced.TAGS_MODIFIED,\n",
    "             df_text_reduced_tokens))).rename(columns={\n",
    "                 0: \"elkey\",\n",
    "                 1: \"elvalue\"\n",
    "             })"
   ]
  },
  {
   "cell_type": "code",
   "execution_count": 36,
   "metadata": {
    "collapsed": true
   },
   "outputs": [],
   "source": [
    "corpfreq_title, corpstats_title, corpora_title = freq_stats_corpora(\n",
    "    df_tags_title)"
   ]
  },
  {
   "cell_type": "code",
   "execution_count": 37,
   "metadata": {
    "collapsed": true
   },
   "outputs": [],
   "source": [
    "# sort by values in descending order\n",
    "sorted_corpfreq_title = defaultdict(list)\n",
    "cutoff = 10\n",
    "\n",
    "for tag, tagfreq in corpfreq_title.items():\n",
    "    # only add into sorted_corpfreq if the word occurencces are>50\n",
    "    if sum(list(tagfreq.values())) > cutoff:\n",
    "        sorted_corpfreq_title[tag] = sorted(\n",
    "            tagfreq.items(), key=itemgetter(1), reverse=True)"
   ]
  },
  {
   "cell_type": "code",
   "execution_count": 38,
   "metadata": {},
   "outputs": [
    {
     "name": "stderr",
     "output_type": "stream",
     "text": [
      "/Users/pmlee/anaconda3/lib/python3.6/site-packages/seaborn/categorical.py:1460: FutureWarning: remove_na is deprecated and is a private function. Do not use.\n",
      "  stat_data = remove_na(group_data)\n"
     ]
    },
    {
     "data": {
      "image/png": "[encoded data removed]",
      "text/plain": [
       "<matplotlib.figure.Figure at 0x1a25880438>"
      ]
     },
     "metadata": {},
     "output_type": "display_data"
    }
   ],
   "source": [
    "token_index = 10\n",
    "key = list(sorted_corpfreq_title.keys())[token_index]\n",
    "corptags_key_title, corptags_value_title = zip(*sorted_corpfreq_title[key])\n",
    "fig, ax = plt.subplots(figsize=(10, 4))\n",
    "n_element = 50\n",
    "sns.barplot(\n",
    "    np.array(corptags_key_title[:n_element]),\n",
    "    np.array(corptags_value_title[:n_element]),\n",
    "    ax=ax)\n",
    "ax.set_xticklabels(corptags_key_title[:n_element], rotation=90)\n",
    "ax.set_title('Top 50 words for %s from title' %key)\n",
    "sns.despine()"
   ]
  },
  {
   "cell_type": "markdown",
   "metadata": {},
   "source": [
    "### On text body"
   ]
  },
  {
   "cell_type": "code",
   "execution_count": 39,
   "metadata": {
    "collapsed": true
   },
   "outputs": [],
   "source": [
    "df_body_reduced_tokens = df_text_reduced.loc[\n",
    "    :, \"BODY_LEMMATIZED\"].apply(lambda x: x.split())\n",
    "\n",
    "df_tags_body = pd.DataFrame(\n",
    "    list(\n",
    "        zip(df_tags_reduced.TAGS_MODIFIED,\n",
    "            df_body_reduced_tokens))).rename(\n",
    "                columns={\n",
    "                    0: \"elkey\",\n",
    "                    1: \"elvalue\"\n",
    "                })"
   ]
  },
  {
   "cell_type": "code",
   "execution_count": 40,
   "metadata": {
    "collapsed": true
   },
   "outputs": [],
   "source": [
    "corpfreq_body, corpstats_body, corpora_body = freq_stats_corpora(df_tags_body)"
   ]
  },
  {
   "cell_type": "code",
   "execution_count": 41,
   "metadata": {
    "collapsed": true
   },
   "outputs": [],
   "source": [
    "# sort by values in descending order\n",
    "sorted_corpfreq_body = defaultdict(list)\n",
    "cutoff = 1\n",
    "cutoff_doc = 50\n",
    "n_most_common = 20\n",
    "# most frequent words will be the corpora that we use as a dictionary\n",
    "most_frequent_words = defaultdict(list)\n",
    "\n",
    "for tag, tagfreq in corpfreq_body.items():\n",
    "    # only add into sorted_corpfreq if the word occurencces > cutoff_doc\n",
    "    if sum(list(tagfreq.values())) > cutoff_doc:\n",
    "    \n",
    "        most_frequent_words[tag] = set(\n",
    "            i[0] for i in tagfreq.most_common(n_most_common) if i[1] > cutoff)\n",
    "        sorted_corpfreq_body[tag] = sorted(\n",
    "            tagfreq.items(), key=itemgetter(1), reverse=True)\n"
   ]
  },
  {
   "cell_type": "code",
   "execution_count": 42,
   "metadata": {},
   "outputs": [
    {
     "name": "stderr",
     "output_type": "stream",
     "text": [
      "/Users/pmlee/anaconda3/lib/python3.6/site-packages/seaborn/categorical.py:1460: FutureWarning: remove_na is deprecated and is a private function. Do not use.\n",
      "  stat_data = remove_na(group_data)\n"
     ]
    },
    {
     "data": {
      "image/png": "[encoded data removed]",
      "text/plain": [
       "<matplotlib.figure.Figure at 0x1a25887550>"
      ]
     },
     "metadata": {},
     "output_type": "display_data"
    }
   ],
   "source": [
    "token_index = 10\n",
    "key = list(sorted_corpfreq_body.keys())[token_index]\n",
    "corptags_key_body, corptags_value_body = zip(*sorted_corpfreq_body[key])\n",
    "fig, ax = plt.subplots(figsize=(5, 3))\n",
    "n_element = 30\n",
    "sns.barplot(\n",
    "    np.array(corptags_key_body[:n_element]),\n",
    "    np.array(corptags_value_body[:n_element]),\n",
    "    ax=ax)\n",
    "ax.set_xticklabels(corptags_key_body[:n_element], rotation=90)\n",
    "ax.set_title(\n",
    "    'Top 50 words for %s from text body' %key)\n",
    "sns.despine()"
   ]
  },
  {
   "cell_type": "markdown",
   "metadata": {},
   "source": [
    "## Tags similarity\n",
    "Some tags are similar etymologically and contextually. In this section, we aim on finding tags that are similar and grouping them together. In the supervised learning approach, we aim to develop a tolerant evaluation metric by incorporating a similar tags graph. \n",
    "\n",
    "### Similar etymology tags\n",
    "We build sets of trigrams for each tag, and we compute the pariwise Cosine similarity."
   ]
  },
  {
   "cell_type": "code",
   "execution_count": 43,
   "metadata": {
    "collapsed": true
   },
   "outputs": [],
   "source": [
    "from nltk.stem import PorterStemmer\n",
    "\n",
    "stemmer = PorterStemmer()\n",
    "selection_threshold =0.5\n",
    "\n",
    "sim_word_cosine = defaultdict(list)\n",
    "sim_word_jaccard = defaultdict(list)\n",
    "\n",
    "for i in range(len(tags_key_reduced_quartile)):\n",
    "    for j in range(len(tags_key_reduced_quartile)):\n",
    "        word_i = tags_key_reduced_quartile[i]\n",
    "        word_j = tags_key_reduced_quartile[j]\n",
    "        \n",
    "        # Porter stem to avoid matching words that have the same ending\n",
    "        # such as serialization, internationalization\n",
    "        word_i_lem = stemmer.stem(word_i)\n",
    "        word_j_lem = stemmer.stem(word_j)\n",
    "        \n",
    "        # generation of trigrams\n",
    "        trigrams_i = ngram(word_i_lem, 3)\n",
    "        trigrams_j = ngram(word_j_lem, 3)\n",
    "\n",
    "        cosine_sim = cosine_similarity(trigrams_i, trigrams_j)\n",
    "        jaccard_sim = jaccard_distance(trigrams_i, trigrams_j)\n",
    "\n",
    "        if cosine_sim >= selection_threshold and cosine_sim < 0.98:\n",
    "            sim_word_cosine[tags_key_reduced_quartile[i]].append({\n",
    "                tags_key_reduced_quartile[j]:\n",
    "                cosine_sim\n",
    "            })\n",
    "\n",
    "        if jaccard_sim >= selection_threshold and jaccard_sim < 1.:\n",
    "            sim_word_jaccard[tags_key_reduced_quartile[i]].append({\n",
    "                tags_key_reduced_quartile[j]:\n",
    "                jaccard_sim\n",
    "            })\n",
    "        "
   ]
  },
  {
   "cell_type": "code",
   "execution_count": 44,
   "metadata": {
    "collapsed": true
   },
   "outputs": [],
   "source": [
    "# Create a dataframe to illustrate the differences\n",
    "df_tags_word = pd.DataFrame()\n",
    "\n",
    "for key, values in sim_word_cosine.items():\n",
    "    for i in range(len(sim_word_cosine[key])):\n",
    "        try:\n",
    "            jaccard_entry = list(sim_word_jaccard[key][i].keys())[0]\n",
    "        except IndexError:\n",
    "            jaccard_entry = np.NaN\n",
    "\n",
    "        try:\n",
    "            cosine_entry = list(sim_word_cosine[key][i].keys())[0]\n",
    "        except IndexError:\n",
    "            cosine_entry = np.NaN\n",
    "            \n",
    "        df_tags_word = df_tags_word.append(\n",
    "            {\n",
    "                \"TAG\": key,\n",
    "                \"TAG_JACCARD\": jaccard_entry,\n",
    "                \"TAG_COSINE\": cosine_entry\n",
    "            },\n",
    "            ignore_index=True)"
   ]
  },
  {
   "cell_type": "code",
   "execution_count": 45,
   "metadata": {},
   "outputs": [
    {
     "data": {
      "text/html": [
       "<div>\n",
       "<style scoped>\n",
       "    .dataframe tbody tr th:only-of-type {\n",
       "        vertical-align: middle;\n",
       "    }\n",
       "\n",
       "    .dataframe tbody tr th {\n",
       "        vertical-align: top;\n",
       "    }\n",
       "\n",
       "    .dataframe thead th {\n",
       "        text-align: right;\n",
       "    }\n",
       "</style>\n",
       "<table border=\"1\" class=\"dataframe\">\n",
       "  <thead>\n",
       "    <tr style=\"text-align: right;\">\n",
       "      <th></th>\n",
       "      <th>A_TAG</th>\n",
       "    </tr>\n",
       "    <tr>\n",
       "      <th>TAG</th>\n",
       "      <th></th>\n",
       "    </tr>\n",
       "  </thead>\n",
       "  <tbody>\n",
       "    <tr>\n",
       "      <th>javascript</th>\n",
       "      <td>ecmascript-6</td>\n",
       "    </tr>\n",
       "    <tr>\n",
       "      <th>python</th>\n",
       "      <td>python-3.x</td>\n",
       "    </tr>\n",
       "    <tr>\n",
       "      <th>python</th>\n",
       "      <td>python-2.7</td>\n",
       "    </tr>\n",
       "    <tr>\n",
       "      <th>python</th>\n",
       "      <td>python-3.6</td>\n",
       "    </tr>\n",
       "    <tr>\n",
       "      <th>python</th>\n",
       "      <td>python-requests</td>\n",
       "    </tr>\n",
       "    <tr>\n",
       "      <th>java</th>\n",
       "      <td>javafx</td>\n",
       "    </tr>\n",
       "    <tr>\n",
       "      <th>java</th>\n",
       "      <td>java-8</td>\n",
       "    </tr>\n",
       "    <tr>\n",
       "      <th>android</th>\n",
       "      <td>android-studio</td>\n",
       "    </tr>\n",
       "    <tr>\n",
       "      <th>android</th>\n",
       "      <td>android-layout</td>\n",
       "    </tr>\n",
       "    <tr>\n",
       "      <th>android</th>\n",
       "      <td>android-recyclerview</td>\n",
       "    </tr>\n",
       "  </tbody>\n",
       "</table>\n",
       "</div>"
      ],
      "text/plain": [
       "                           A_TAG\n",
       "TAG                             \n",
       "javascript          ecmascript-6\n",
       "python                python-3.x\n",
       "python                python-2.7\n",
       "python                python-3.6\n",
       "python           python-requests\n",
       "java                      javafx\n",
       "java                      java-8\n",
       "android           android-studio\n",
       "android           android-layout\n",
       "android     android-recyclerview"
      ]
     },
     "execution_count": 45,
     "metadata": {},
     "output_type": "execute_result"
    }
   ],
   "source": [
    "df_tags_word = pd.DataFrame(df_tags_word[[\"TAG\",\n",
    "                                          \"TAG_COSINE\"]]).set_index(\"TAG\")\n",
    "df_tags_word.columns = [\"A_TAG\"]\n",
    "df_tags_word.head(10)"
   ]
  },
  {
   "cell_type": "markdown",
   "metadata": {},
   "source": [
    "### Similar context tags\n",
    "We look at the word distribution of each tag, and compute a pairwise Jaccard distance between vectors of word distrbutions."
   ]
  },
  {
   "cell_type": "code",
   "execution_count": 46,
   "metadata": {
    "collapsed": true
   },
   "outputs": [],
   "source": [
    "keys_body = list(sorted_corpfreq_body.keys())\n",
    "tags_merge = pd.DataFrame()\n",
    "\n",
    "for i in range(len(keys_body)):\n",
    "    pd_columns = [val[0] for val in sorted_corpfreq_body[keys_body[i]]]\n",
    "    pd_values = [[val[1] for val in sorted_corpfreq_body[keys_body[i]]]]\n",
    "    temp_tags = pd.DataFrame(\n",
    "        pd_values, columns=pd_columns, index=[keys_body[i]]).astype(int)\n",
    "    # merge to construct the tag term matrix\n",
    "    tags_merge = pd.concat([tags_merge, temp_tags], axis=0, sort=True)\n",
    "\n",
    "tags_merge = tags_merge.fillna(0)"
   ]
  },
  {
   "cell_type": "code",
   "execution_count": 47,
   "metadata": {
    "collapsed": true
   },
   "outputs": [],
   "source": [
    "new_tags_merge = tags_merge[tags_merge.sum(axis=1)>0]\n",
    "#new_tags_merge[\"SUM\"] = new_tags_merge.sum(axis=1)"
   ]
  },
  {
   "cell_type": "code",
   "execution_count": 48,
   "metadata": {
    "scrolled": true
   },
   "outputs": [
    {
     "name": "stderr",
     "output_type": "stream",
     "text": [
      "/Users/pmlee/anaconda3/lib/python3.6/site-packages/sklearn/utils/validation.py:475: DataConversionWarning: Data with input dtype float64 was converted to bool by check_pairwise_arrays.\n",
      "  warnings.warn(msg, DataConversionWarning)\n"
     ]
    }
   ],
   "source": [
    "from sklearn.metrics.pairwise import pairwise_distances\n",
    "\n",
    "tags_cosine = pairwise_distances(new_tags_merge, metric=\"cosine\")\n",
    "tags_hamming = pairwise_distances(new_tags_merge, metric=\"hamming\")\n",
    "\n",
    "# jaccard distance requires boolean type\n",
    "tags_jaccard = pairwise_distances(new_tags_merge, metric=\"jaccard\")"
   ]
  },
  {
   "cell_type": "code",
   "execution_count": 49,
   "metadata": {
    "collapsed": true
   },
   "outputs": [],
   "source": [
    "def tag_distance(df, v_thres):\n",
    "    # comparing distances, the lower the better\n",
    "    tags_adjlist = []\n",
    "\n",
    "    for i in range(len(keys_body) - 1):\n",
    "\n",
    "        for j in range(i + 1, len(keys_body) - 1):\n",
    "            temp_list = [keys_body[i]]\n",
    "            if df[i, j] < v_thres:\n",
    "                temp_list.append(keys_body[j])\n",
    "            else:\n",
    "                temp_list.append(np.NaN)\n",
    "\n",
    "            tags_adjlist.append(temp_list)\n",
    "\n",
    "            #reset list\n",
    "            temp_list = []\n",
    "    return tags_adjlist\n",
    "\n",
    "\n",
    "df_tags_jaccard = pd.DataFrame(\n",
    "    tag_distance(tags_jaccard, 0.7), columns=[\"TAG\",\n",
    "                                              \"Jaccard\"]).set_index(\"TAG\")\n",
    "df_tags_cosine = pd.DataFrame(\n",
    "    tag_distance(tags_cosine, 0.05), columns=[\"TAG\",\n",
    "                                              \"Cosine\"]).set_index(\"TAG\")\n",
    "df_tags_hamming = pd.DataFrame(\n",
    "    tag_distance(tags_hamming, 0.015), columns=[\"TAG\",\n",
    "                                                \"Hamming\"]).set_index(\"TAG\")\n",
    "\n",
    "df_tags_jaccard = df_tags_jaccard.dropna(axis=0, how=\"all\")\n",
    "df_tags_cosine = df_tags_cosine.dropna(axis=0, how=\"all\")\n",
    "df_tags_hamming = df_tags_hamming.dropna(axis=0, how=\"all\")"
   ]
  },
  {
   "cell_type": "code",
   "execution_count": 50,
   "metadata": {
    "scrolled": false
   },
   "outputs": [
    {
     "data": {
      "text/html": [
       "<div>\n",
       "<style scoped>\n",
       "    .dataframe tbody tr th:only-of-type {\n",
       "        vertical-align: middle;\n",
       "    }\n",
       "\n",
       "    .dataframe tbody tr th {\n",
       "        vertical-align: top;\n",
       "    }\n",
       "\n",
       "    .dataframe thead th {\n",
       "        text-align: right;\n",
       "    }\n",
       "</style>\n",
       "<table border=\"1\" class=\"dataframe\">\n",
       "  <thead>\n",
       "    <tr style=\"text-align: right;\">\n",
       "      <th></th>\n",
       "      <th>A_TAG</th>\n",
       "    </tr>\n",
       "    <tr>\n",
       "      <th>TAG</th>\n",
       "      <th></th>\n",
       "    </tr>\n",
       "  </thead>\n",
       "  <tbody>\n",
       "    <tr>\n",
       "      <th>android</th>\n",
       "      <td>java</td>\n",
       "    </tr>\n",
       "    <tr>\n",
       "      <th>sql</th>\n",
       "      <td>mysql</td>\n",
       "    </tr>\n",
       "    <tr>\n",
       "      <th>sql</th>\n",
       "      <td>sql-server</td>\n",
       "    </tr>\n",
       "    <tr>\n",
       "      <th>regex</th>\n",
       "      <td>string</td>\n",
       "    </tr>\n",
       "    <tr>\n",
       "      <th>api</th>\n",
       "      <td>apache-spark</td>\n",
       "    </tr>\n",
       "    <tr>\n",
       "      <th>api</th>\n",
       "      <td>rest</td>\n",
       "    </tr>\n",
       "    <tr>\n",
       "      <th>api</th>\n",
       "      <td>asp.net-mvc</td>\n",
       "    </tr>\n",
       "    <tr>\n",
       "      <th>pandas</th>\n",
       "      <td>dataframe</td>\n",
       "    </tr>\n",
       "    <tr>\n",
       "      <th>pandas</th>\n",
       "      <td>python-3.x</td>\n",
       "    </tr>\n",
       "    <tr>\n",
       "      <th>dataframe</th>\n",
       "      <td>apache-spark</td>\n",
       "    </tr>\n",
       "  </tbody>\n",
       "</table>\n",
       "</div>"
      ],
      "text/plain": [
       "                  A_TAG\n",
       "TAG                    \n",
       "android            java\n",
       "sql               mysql\n",
       "sql          sql-server\n",
       "regex            string\n",
       "api        apache-spark\n",
       "api                rest\n",
       "api         asp.net-mvc\n",
       "pandas        dataframe\n",
       "pandas       python-3.x\n",
       "dataframe  apache-spark"
      ]
     },
     "execution_count": 50,
     "metadata": {},
     "output_type": "execute_result"
    }
   ],
   "source": [
    "df_tags_jaccard.columns = [\"A_TAG\"]\n",
    "df_tags_jaccard.head(10)"
   ]
  },
  {
   "cell_type": "markdown",
   "metadata": {},
   "source": [
    "### Concatenate both similar etymology words and contextual words"
   ]
  },
  {
   "cell_type": "code",
   "execution_count": 70,
   "metadata": {},
   "outputs": [],
   "source": [
    "df_tags_sim = pd.concat(\n",
    "    [df_tags_jaccard,\n",
    "     df_tags_word]).reset_index().drop_duplicates().set_index(\"TAG\")"
   ]
  },
  {
   "cell_type": "markdown",
   "metadata": {},
   "source": [
    "### Using networkx to store sim_tags"
   ]
  },
  {
   "cell_type": "code",
   "execution_count": 71,
   "metadata": {},
   "outputs": [],
   "source": [
    "# network x\n",
    "import networkx as nx\n",
    "from networkx.drawing.nx_agraph import graphviz_layout\n",
    "\n",
    "# use a bidirectional graph\n",
    "G_tags = nx.Graph()\n",
    "node2link = zip(df_tags_sim.index, df_tags_sim.A_TAG)\n",
    "G_tags.add_nodes_from(list(df_tags_sim.index))\n",
    "G_tags.add_edges_from(node2link)"
   ]
  },
  {
   "cell_type": "code",
   "execution_count": 72,
   "metadata": {},
   "outputs": [
    {
     "name": "stdout",
     "output_type": "stream",
     "text": [
      "Name: \n",
      "Type: Graph\n",
      "Number of nodes: 193\n",
      "Number of edges: 192\n",
      "Average degree:   1.9896\n"
     ]
    }
   ],
   "source": [
    "info = nx.info(G_tags)\n",
    "print(info)"
   ]
  },
  {
   "cell_type": "code",
   "execution_count": 73,
   "metadata": {},
   "outputs": [
    {
     "data": {
      "image/png": "[encoded data removed]",
      "text/plain": [
       "<matplotlib.figure.Figure at 0x1a23a9cba8>"
      ]
     },
     "metadata": {},
     "output_type": "display_data"
    }
   ],
   "source": [
    "# Similar tag graph\n",
    "pos = nx.spring_layout(\n",
    "    G_tags, k=.9 * 1 / np.sqrt(len(G_tags.nodes())), iterations=20)\n",
    "fig, ax = plt.subplots(figsize=(8, 6))\n",
    "\n",
    "nx.draw(\n",
    "    G_tags,\n",
    "    pos,\n",
    "    node_size=0,\n",
    "    alpha=1,\n",
    "    with_labels=True,\n",
    "    edge_color='red',\n",
    "    font_size=10,\n",
    "    ax=ax)\n",
    "plt.tight_layout()\n",
    "fig.savefig(save_dir + \"similar_tag_graph.pdf\")"
   ]
  },
  {
   "cell_type": "markdown",
   "metadata": {},
   "source": [
    "__Observation__:\n",
    "- a similar tags graph is constructed with 193 nodes.\n",
    "- similar tags are clustered together and linked by red edges\n",
    "- there are some mistakes, example url and curl, but the model will be smart enough to not predict url for a question that is on curl."
   ]
  },
  {
   "cell_type": "markdown",
   "metadata": {},
   "source": [
    "# Supervised learning: ScikitLearn OneVsRest Classifier"
   ]
  },
  {
   "cell_type": "code",
   "execution_count": 74,
   "metadata": {
    "collapsed": true
   },
   "outputs": [],
   "source": [
    "# Some flags\n",
    "l_crossval = False"
   ]
  },
  {
   "cell_type": "markdown",
   "metadata": {},
   "source": [
    "## Prepare the input and output\n",
    "we use text and body combined together as input."
   ]
  },
  {
   "cell_type": "markdown",
   "metadata": {},
   "source": [
    "### Random sampling\n",
    "We choose only 10000 samples to speed up the training."
   ]
  },
  {
   "cell_type": "code",
   "execution_count": 75,
   "metadata": {
    "collapsed": true
   },
   "outputs": [],
   "source": [
    "df_tags_reduced_sampled = df_tags_reduced.sample(10000, random_state=2)"
   ]
  },
  {
   "cell_type": "markdown",
   "metadata": {},
   "source": [
    "### Label binarization\n",
    "We use multilabel binarizer to convert tags in string to vectors in boolean."
   ]
  },
  {
   "cell_type": "code",
   "execution_count": 76,
   "metadata": {
    "collapsed": true
   },
   "outputs": [],
   "source": [
    "from sklearn.preprocessing import MultiLabelBinarizer\n",
    "\n",
    "lb = MultiLabelBinarizer()\n",
    "targets = lb.fit_transform(df_tags_reduced_sampled.TAGS_MODIFIED)"
   ]
  },
  {
   "cell_type": "markdown",
   "metadata": {},
   "source": [
    "### Train/crossval/test split\n",
    "Here we apply a 80/20 rule."
   ]
  },
  {
   "cell_type": "code",
   "execution_count": 77,
   "metadata": {
    "collapsed": true
   },
   "outputs": [],
   "source": [
    "X_counts = df_tags_reduced_sampled.TITLE_LEMMATIZED \\\n",
    "            +' '+ df_tags_reduced_sampled.BODY_LEMMATIZED\n",
    "\n",
    "# shuffle indices\n",
    "idx = np.arange(X_counts.shape[0])\n",
    "np.random.seed(23)\n",
    "np.random.shuffle(idx)\n",
    "\n",
    "# Generate train/crossval/test sets\n",
    "train_size = int(.8 * X_counts.shape[0])\n",
    "\n",
    "X_train = X_counts.iloc[idx[:train_size]]\n",
    "y_train = targets[idx[:train_size],:]\n",
    "X_test = X_counts.iloc[idx[train_size:]]\n",
    "y_test = targets[idx[train_size:],:]\n",
    "y_all = df_tags_reduced_sampled.TAGS_MODIFIED"
   ]
  },
  {
   "cell_type": "markdown",
   "metadata": {},
   "source": [
    "## Study of the most frequent words with respect to ngrams\n",
    "This study allows us to decide on how many number of features is necessary for supervised model trainings."
   ]
  },
  {
   "cell_type": "code",
   "execution_count": 78,
   "metadata": {
    "collapsed": true
   },
   "outputs": [],
   "source": [
    "df_X_counts = X_counts.apply(lambda x: x.split())\n",
    "# combine all tokens together for freq dist\n",
    "X_counts_corpora = df_X_counts.sum()"
   ]
  },
  {
   "cell_type": "markdown",
   "metadata": {},
   "source": [
    "### Unigrams"
   ]
  },
  {
   "cell_type": "code",
   "execution_count": 79,
   "metadata": {
    "collapsed": true
   },
   "outputs": [],
   "source": [
    "X_count_freq = FreqDist(X_counts_corpora)\n",
    "sorted_X_count_freq = sorted(X_count_freq.items(), key = itemgetter(1), reverse=True)\n",
    "X_counts_key, X_counts_value = zip(*sorted_X_count_freq)"
   ]
  },
  {
   "cell_type": "code",
   "execution_count": 80,
   "metadata": {},
   "outputs": [
    {
     "data": {
      "text/plain": [
       "count    35114.000000\n",
       "mean        12.970012\n",
       "std         94.196039\n",
       "min          1.000000\n",
       "50%          1.000000\n",
       "80%          3.000000\n",
       "90%          9.000000\n",
       "95%         30.000000\n",
       "max       5353.000000\n",
       "Name: FREQ, dtype: float64"
      ]
     },
     "execution_count": 80,
     "metadata": {},
     "output_type": "execute_result"
    }
   ],
   "source": [
    "df_X_counts = pd.DataFrame(\n",
    "    list(zip(X_counts_key, X_counts_value)), columns=[\"WORD\", \"FREQ\"])\n",
    "df_X_counts.FREQ.describe([0.8, 0.9, 0.95])"
   ]
  },
  {
   "cell_type": "code",
   "execution_count": 81,
   "metadata": {},
   "outputs": [
    {
     "name": "stdout",
     "output_type": "stream",
     "text": [
      "Total number of words: 35114, we'll take only the top 10%: 3367 words\n"
     ]
    }
   ],
   "source": [
    "df_X_counts_90 = df_X_counts[df_X_counts.FREQ>df_X_counts.FREQ.quantile(0.9)]\n",
    "print(\"Total number of words: {}, we'll take only the top 10%: {} words\".format(\n",
    "    len(X_counts_key), len(df_X_counts_90)))"
   ]
  },
  {
   "cell_type": "code",
   "execution_count": 82,
   "metadata": {},
   "outputs": [
    {
     "name": "stderr",
     "output_type": "stream",
     "text": [
      "/Users/pmlee/anaconda3/lib/python3.6/site-packages/seaborn/categorical.py:1460: FutureWarning: remove_na is deprecated and is a private function. Do not use.\n",
      "  stat_data = remove_na(group_data)\n"
     ]
    },
    {
     "data": {
      "image/png": "[encoded data removed]",
      "text/plain": [
       "<matplotlib.figure.Figure at 0x1a29ff5748>"
      ]
     },
     "metadata": {},
     "output_type": "display_data"
    }
   ],
   "source": [
    "fig, ax = plt.subplots(figsize=(10, 4))\n",
    "n_element = 50\n",
    "sns.barplot(\n",
    "    np.array(X_counts_key[:n_element]),\n",
    "    np.array(X_counts_value[:n_element]),\n",
    "    ax=ax)\n",
    "ax.set_xticklabels(X_counts_key[:n_element], rotation=90)\n",
    "ax.set_title(\n",
    "    'Top 50 words from text')\n",
    "sns.despine()"
   ]
  },
  {
   "cell_type": "markdown",
   "metadata": {},
   "source": [
    "__Observation__:\n",
    "- more than 50% of the words only have 1 occurence, we can a limit at the selection of max features. Here top 5% of the words have >= 19 occurences, we can reduce our number choice of words to the top 5%."
   ]
  },
  {
   "cell_type": "markdown",
   "metadata": {},
   "source": [
    "### Bigrams"
   ]
  },
  {
   "cell_type": "code",
   "execution_count": 83,
   "metadata": {
    "collapsed": true
   },
   "outputs": [],
   "source": [
    "from nltk import bigrams\n",
    "X_count_corpora_bi = bigrams(X_counts_corpora)\n",
    "X_count_freq_bi = FreqDist(X_count_corpora_bi)\n",
    "sorted_X_count_freq_bi = sorted(X_count_freq_bi.items(), key = itemgetter(1), reverse=True)\n",
    "X_counts_key_bi, X_counts_value_bi = zip(*sorted_X_count_freq_bi)\n",
    "X_counts_join_key_bi = [\" \".join(w) for w in X_counts_key_bi]"
   ]
  },
  {
   "cell_type": "code",
   "execution_count": 84,
   "metadata": {},
   "outputs": [
    {
     "data": {
      "text/plain": [
       "count    294772.000000\n",
       "mean          1.545018\n",
       "std           2.897238\n",
       "min           1.000000\n",
       "50%           1.000000\n",
       "80%           1.000000\n",
       "90%           2.000000\n",
       "95%           4.000000\n",
       "98%           6.000000\n",
       "max         351.000000\n",
       "Name: FREQ, dtype: float64"
      ]
     },
     "execution_count": 84,
     "metadata": {},
     "output_type": "execute_result"
    }
   ],
   "source": [
    "df_X_counts_bi = pd.DataFrame(\n",
    "    list(zip(X_counts_join_key_bi, X_counts_value_bi)),\n",
    "    columns=[\"WORD\", \"FREQ\"])\n",
    "df_X_counts_bi.FREQ.describe([0.8, 0.9, 0.95, 0.98])"
   ]
  },
  {
   "cell_type": "code",
   "execution_count": 85,
   "metadata": {},
   "outputs": [
    {
     "name": "stdout",
     "output_type": "stream",
     "text": [
      "Total number of words: 294772, we'll take only the top 10%: 25846 words\n"
     ]
    }
   ],
   "source": [
    "df_X_counts_bi_90 = df_X_counts_bi[\n",
    "    df_X_counts_bi.FREQ > df_X_counts_bi.FREQ.quantile(0.9)]\n",
    "print(\"Total number of words: {}, we'll take only the top 10%: {} words\".format(\n",
    "    len(X_counts_join_key_bi), len(df_X_counts_bi_90)))"
   ]
  },
  {
   "cell_type": "code",
   "execution_count": 86,
   "metadata": {},
   "outputs": [
    {
     "name": "stderr",
     "output_type": "stream",
     "text": [
      "/Users/pmlee/anaconda3/lib/python3.6/site-packages/seaborn/categorical.py:1460: FutureWarning: remove_na is deprecated and is a private function. Do not use.\n",
      "  stat_data = remove_na(group_data)\n"
     ]
    },
    {
     "data": {
      "image/png": "[encoded data removed]",
      "text/plain": [
       "<matplotlib.figure.Figure at 0x1a43230780>"
      ]
     },
     "metadata": {},
     "output_type": "display_data"
    }
   ],
   "source": [
    "fig, ax = plt.subplots(figsize=(10, 4))\n",
    "n_element = 50\n",
    "sns.barplot(\n",
    "    np.array(X_counts_join_key_bi[:n_element]),\n",
    "    np.array(X_counts_value_bi[:n_element]),\n",
    "    ax=ax)\n",
    "ax.set_xticklabels(X_counts_join_key_bi[:n_element], rotation=90)\n",
    "ax.set_title(\n",
    "    'Top 50 bigrams from text')\n",
    "sns.despine()"
   ]
  },
  {
   "cell_type": "markdown",
   "metadata": {},
   "source": [
    "### Trigrams"
   ]
  },
  {
   "cell_type": "code",
   "execution_count": 87,
   "metadata": {
    "collapsed": true
   },
   "outputs": [],
   "source": [
    "from nltk import trigrams\n",
    "X_count_corpora_tri = trigrams(X_counts_corpora)\n",
    "X_count_freq_tri = FreqDist(X_count_corpora_tri)\n",
    "sorted_X_count_freq_tri = sorted(X_count_freq_tri.items(), key = itemgetter(1), reverse=True)\n",
    "X_counts_key_tri, X_counts_value_tri = zip(*sorted_X_count_freq_tri)\n",
    "X_counts_join_key_tri = [\" \".join(w) for w in X_counts_key_tri]"
   ]
  },
  {
   "cell_type": "code",
   "execution_count": 88,
   "metadata": {},
   "outputs": [
    {
     "data": {
      "text/plain": [
       "count    434815.000000\n",
       "mean          1.047404\n",
       "std           0.399979\n",
       "min           1.000000\n",
       "50%           1.000000\n",
       "80%           1.000000\n",
       "90%           1.000000\n",
       "95%           1.000000\n",
       "98%           2.000000\n",
       "max          65.000000\n",
       "Name: FREQ, dtype: float64"
      ]
     },
     "execution_count": 88,
     "metadata": {},
     "output_type": "execute_result"
    }
   ],
   "source": [
    "df_X_counts_tri = pd.DataFrame(\n",
    "    list(zip(X_counts_join_key_tri, X_counts_value_tri)),\n",
    "    columns=[\"WORD\", \"FREQ\"])\n",
    "df_X_counts_tri.FREQ.describe([0.8, 0.9, 0.95, 0.98])"
   ]
  },
  {
   "cell_type": "code",
   "execution_count": 89,
   "metadata": {},
   "outputs": [
    {
     "name": "stdout",
     "output_type": "stream",
     "text": [
      "Total number of words: 434815, we'll take only the top 2%: 14301 words\n"
     ]
    }
   ],
   "source": [
    "df_X_counts_tri_90 = df_X_counts_tri[\n",
    "    df_X_counts_tri.FREQ > df_X_counts_tri.FREQ.quantile(0.9)]\n",
    "print(\"Total number of words: {}, we'll take only the top 2%: {} words\".format(\n",
    "    len(X_counts_join_key_tri), len(df_X_counts_tri_90)))"
   ]
  },
  {
   "cell_type": "code",
   "execution_count": 90,
   "metadata": {},
   "outputs": [
    {
     "name": "stderr",
     "output_type": "stream",
     "text": [
      "/Users/pmlee/anaconda3/lib/python3.6/site-packages/seaborn/categorical.py:1460: FutureWarning: remove_na is deprecated and is a private function. Do not use.\n",
      "  stat_data = remove_na(group_data)\n"
     ]
    },
    {
     "data": {
      "image/png": "[encoded data removed]",
      "text/plain": [
       "<matplotlib.figure.Figure at 0x1a4328d438>"
      ]
     },
     "metadata": {},
     "output_type": "display_data"
    }
   ],
   "source": [
    "fig, ax = plt.subplots(figsize=(8, 4))\n",
    "n_element = 30\n",
    "sns.barplot(\n",
    "    np.array(X_counts_join_key_tri[:n_element]),\n",
    "    np.array(X_counts_value_tri[:n_element]),\n",
    "    ax=ax)\n",
    "ax.set_xticklabels(X_counts_join_key_tri[:n_element], rotation=90)\n",
    "ax.set_title(\n",
    "    'Top 50 trigrams from text')\n",
    "sns.despine()"
   ]
  },
  {
   "cell_type": "markdown",
   "metadata": {},
   "source": [
    "### Unigrams + Bigrams"
   ]
  },
  {
   "cell_type": "code",
   "execution_count": 91,
   "metadata": {},
   "outputs": [
    {
     "data": {
      "text/plain": [
       "count    329886.000000\n",
       "mean          2.761127\n",
       "std          31.053946\n",
       "min           1.000000\n",
       "50%           1.000000\n",
       "80%           2.000000\n",
       "90%           3.000000\n",
       "95%           4.000000\n",
       "98%           9.000000\n",
       "max        5353.000000\n",
       "Name: FREQ, dtype: float64"
      ]
     },
     "execution_count": 91,
     "metadata": {},
     "output_type": "execute_result"
    }
   ],
   "source": [
    "df_X_counts_mono_bi = pd.DataFrame(\n",
    "    list(zip(X_counts_key, X_counts_value)) +\n",
    "    list(zip(X_counts_join_key_bi, X_counts_value_bi)),\n",
    "    columns=[\"WORD\", \"FREQ\"])\n",
    "df_X_counts_mono_bi.FREQ.describe([0.8, 0.9, 0.95, 0.98])"
   ]
  },
  {
   "cell_type": "code",
   "execution_count": 92,
   "metadata": {},
   "outputs": [
    {
     "name": "stdout",
     "output_type": "stream",
     "text": [
      "Total number of words: 329886, we'll take only the top 10%: 21714 words\n"
     ]
    }
   ],
   "source": [
    "df_X_counts_mono_bi_90 = df_X_counts_mono_bi[\n",
    "    df_X_counts_mono_bi.FREQ > df_X_counts_mono_bi.FREQ.quantile(0.9)]\n",
    "print(\n",
    "    \"Total number of words: {}, we'll take only the top 10%: {} words\".format(\n",
    "        len(df_X_counts_mono_bi), len(df_X_counts_mono_bi_90)))"
   ]
  },
  {
   "cell_type": "markdown",
   "metadata": {},
   "source": [
    "### Bigrams + Trigrams"
   ]
  },
  {
   "cell_type": "code",
   "execution_count": 93,
   "metadata": {},
   "outputs": [
    {
     "data": {
      "text/plain": [
       "count    729587.000000\n",
       "mean          1.248453\n",
       "std           1.883176\n",
       "min           1.000000\n",
       "50%           1.000000\n",
       "80%           1.000000\n",
       "90%           1.000000\n",
       "95%           2.000000\n",
       "98%           4.000000\n",
       "max         351.000000\n",
       "Name: FREQ, dtype: float64"
      ]
     },
     "execution_count": 93,
     "metadata": {},
     "output_type": "execute_result"
    }
   ],
   "source": [
    "df_X_counts_bi_tri = pd.DataFrame(\n",
    "    list(zip(X_counts_join_key_bi, X_counts_value_bi)) +\n",
    "    list(zip(X_counts_join_key_tri, X_counts_value_tri)),\n",
    "    columns=[\"WORD\", \"FREQ\"])\n",
    "df_X_counts_bi_tri.FREQ.describe([0.8, 0.9, 0.95, 0.98])"
   ]
  },
  {
   "cell_type": "code",
   "execution_count": 94,
   "metadata": {},
   "outputs": [
    {
     "name": "stdout",
     "output_type": "stream",
     "text": [
      "Total number of words: 729587, we'll take only the top 10%: 72415 words\n"
     ]
    }
   ],
   "source": [
    "df_X_counts_bi_tri_90 = df_X_counts_bi_tri[\n",
    "    df_X_counts_bi_tri.FREQ > df_X_counts_bi_tri.FREQ.quantile(0.90)]\n",
    "print(\"Total number of words: {}, we'll take only the top 10%: {} words\".format(\n",
    "    len(df_X_counts_bi_tri), len(df_X_counts_bi_tri_90)))"
   ]
  },
  {
   "cell_type": "markdown",
   "metadata": {},
   "source": [
    "### Unigrams + Bigrams + Trigrams"
   ]
  },
  {
   "cell_type": "code",
   "execution_count": 95,
   "metadata": {},
   "outputs": [
    {
     "data": {
      "text/plain": [
       "count    764701.000000\n",
       "mean          1.786690\n",
       "std          20.416234\n",
       "min           1.000000\n",
       "50%           1.000000\n",
       "80%           1.000000\n",
       "90%           2.000000\n",
       "95%           2.000000\n",
       "98%           5.000000\n",
       "max        5353.000000\n",
       "Name: FREQ, dtype: float64"
      ]
     },
     "execution_count": 95,
     "metadata": {},
     "output_type": "execute_result"
    }
   ],
   "source": [
    "df_X_counts_mono_tri = pd.DataFrame(\n",
    "    list(zip(X_counts_key, X_counts_value)) +\n",
    "    list(zip(X_counts_join_key_bi, X_counts_value_bi)) +\n",
    "    list(zip(X_counts_join_key_tri, X_counts_value_tri)),\n",
    "    columns=[\"WORD\", \"FREQ\"])\n",
    "df_X_counts_mono_tri.FREQ.describe([0.8, 0.9, 0.95, 0.98])"
   ]
  },
  {
   "cell_type": "code",
   "execution_count": 96,
   "metadata": {},
   "outputs": [
    {
     "name": "stdout",
     "output_type": "stream",
     "text": [
      "Total number of words: 764701, we'll take only the top 10%: 37273 words\n"
     ]
    }
   ],
   "source": [
    "df_X_counts_mono_tri_90 = df_X_counts_mono_tri[\n",
    "    df_X_counts_mono_tri.FREQ > df_X_counts_mono_tri.FREQ.quantile(0.90)]\n",
    "print(\"Total number of words: {}, we'll take only the top 10%: {} words\".format(\n",
    "    len(df_X_counts_mono_tri), len(df_X_counts_mono_tri_90)))"
   ]
  },
  {
   "cell_type": "markdown",
   "metadata": {},
   "source": [
    "## Training with Dummy Classifier (strategy=prior)\n",
    "__Count vectorizer__ "
   ]
  },
  {
   "cell_type": "code",
   "execution_count": 97,
   "metadata": {
    "collapsed": true
   },
   "outputs": [],
   "source": [
    "def tokenize(text):\n",
    "    return text.split(' ')\n",
    "\n",
    "params_vectorizer = {'max_features': len(df_X_counts_90), \n",
    "                     'tokenizer' :tokenize, 'lowercase':False}"
   ]
  },
  {
   "cell_type": "code",
   "execution_count": 98,
   "metadata": {
    "scrolled": true
   },
   "outputs": [
    {
     "name": "stdout",
     "output_type": "stream",
     "text": [
      "Test score: 0.14\n"
     ]
    }
   ],
   "source": [
    "from sklearn.multiclass import OneVsRestClassifier\n",
    "from sklearn.pipeline import Pipeline\n",
    "from sklearn.dummy import DummyClassifier\n",
    "from sklearn.metrics import jaccard_similarity_score\n",
    "from sklearn.feature_extraction.text import CountVectorizer\n",
    "\n",
    "Dummy_pipeline_count = Pipeline([\n",
    "    ('count', CountVectorizer(**params_vectorizer)),\n",
    "    ('clf', OneVsRestClassifier(DummyClassifier(strategy='prior'))),\n",
    "])\n",
    "\n",
    "Dummy_pipeline_count.fit(X_train, y_train)\n",
    "# compute the testing accuracy\n",
    "y_pred_count_dummy = Dummy_pipeline_count.predict(X_test)\n",
    "y_pred_proba_count_dummy = Dummy_pipeline_count.predict_proba(X_test)\n",
    "y_pred_new_count_dummy = get_best_tags(y_pred_count_dummy,\n",
    "                                       y_pred_proba_count_dummy, n_tags=3)\n",
    "score_dummy_count = evaluate(\n",
    "    y_test,\n",
    "    y_pred_new_count_dummy,\n",
    "    binarizer=lb,\n",
    "    G_tags=G_tags,\n",
    "    l_print_errors=False,\n",
    "    l_deduplication=True)\n",
    "\n",
    "print('Test score: {0:.2f}'.format(score_dummy_count))"
   ]
  },
  {
   "cell_type": "markdown",
   "metadata": {},
   "source": [
    "__Tfidf vectorizer__ "
   ]
  },
  {
   "cell_type": "code",
   "execution_count": 99,
   "metadata": {},
   "outputs": [
    {
     "name": "stdout",
     "output_type": "stream",
     "text": [
      "Test score: 0.14\n"
     ]
    }
   ],
   "source": [
    "from sklearn.feature_extraction.text import TfidfVectorizer\n",
    "\n",
    "Dummy_pipeline_tfidf = Pipeline([\n",
    "    ('tfidf', TfidfVectorizer(**params_vectorizer)),\n",
    "    ('clf', OneVsRestClassifier(DummyClassifier(strategy='prior'))),\n",
    "])\n",
    "\n",
    "Dummy_pipeline_tfidf.fit(X_train, y_train)\n",
    "# compute the testing accuracy\n",
    "y_pred_tfidf_dummy = Dummy_pipeline_tfidf.predict(X_test)\n",
    "y_pred_proba_tfidf_dummy = Dummy_pipeline_tfidf.predict_proba(X_test)\n",
    "y_pred_new_tfidf_dummy = get_best_tags(y_pred_tfidf_dummy,\n",
    "                                       y_pred_proba_tfidf_dummy, n_tags=3)\n",
    "score_dummy_tfidf = evaluate(\n",
    "    y_test,\n",
    "    y_pred_new_tfidf_dummy,\n",
    "    binarizer=lb,\n",
    "    G_tags=G_tags,\n",
    "    l_print_errors=False,\n",
    "    l_deduplication=True)\n",
    "\n",
    "print('Test score: {0:.2f}'.format(score_dummy_tfidf))"
   ]
  },
  {
   "cell_type": "markdown",
   "metadata": {},
   "source": [
    "## Training with Naive Bayes Classifier\n",
    "__Count vectorizer__ "
   ]
  },
  {
   "cell_type": "code",
   "execution_count": 100,
   "metadata": {
    "scrolled": true
   },
   "outputs": [
    {
     "name": "stdout",
     "output_type": "stream",
     "text": [
      "Test score: 0.43\n"
     ]
    }
   ],
   "source": [
    "from sklearn.naive_bayes import MultinomialNB\n",
    "\n",
    "NB_pipeline_count = Pipeline([\n",
    "    ('count', CountVectorizer(**params_vectorizer)),\n",
    "    ('clf', OneVsRestClassifier(\n",
    "        MultinomialNB(fit_prior=True, class_prior=None))),\n",
    "])\n",
    "\n",
    "NB_pipeline_count.fit(X_train, y_train)\n",
    "# compute the testing accuracy\n",
    "y_pred_count = NB_pipeline_count.predict(X_test)\n",
    "y_pred_proba_count = NB_pipeline_count.predict_proba(X_test)\n",
    "y_pred_new_count = get_best_tags(y_pred_count, y_pred_proba_count, n_tags=3)\n",
    "\n",
    "score_nb_count, errors_count = evaluate(\n",
    "    y_test,\n",
    "    y_pred_new_count,\n",
    "    binarizer=lb,\n",
    "    G_tags=G_tags,\n",
    "    l_print_errors=True,\n",
    "    l_deduplication=True)\n",
    "\n",
    "print('Test score: {0:.2f}'.format(score_nb_count))"
   ]
  },
  {
   "cell_type": "markdown",
   "metadata": {},
   "source": [
    "__Tfidf vectorizer__"
   ]
  },
  {
   "cell_type": "code",
   "execution_count": 101,
   "metadata": {},
   "outputs": [
    {
     "name": "stdout",
     "output_type": "stream",
     "text": [
      "Test score: 0.27\n"
     ]
    }
   ],
   "source": [
    "NB_pipeline_tfidf = Pipeline([\n",
    "    ('tfidf', TfidfVectorizer(**params_vectorizer)),\n",
    "    ('clf', OneVsRestClassifier(\n",
    "        MultinomialNB(fit_prior=True, class_prior=None))),\n",
    "])\n",
    "\n",
    "NB_pipeline_tfidf.fit(X_train, y_train)\n",
    "# compute the testing accuracy\n",
    "y_pred_tfidf = NB_pipeline_tfidf.predict(X_test)\n",
    "y_pred_proba_tfidf = NB_pipeline_tfidf.predict_proba(X_test)\n",
    "y_pred_new_tfidf = get_best_tags(y_pred_tfidf, y_pred_proba_tfidf, n_tags=3)\n",
    "\n",
    "score_nb_tfidf, errors_tfidf = evaluate(\n",
    "    y_test,\n",
    "    y_pred_new_tfidf,\n",
    "    binarizer=lb,\n",
    "    G_tags=G_tags,\n",
    "    l_print_errors=True,\n",
    "    l_deduplication=True)\n",
    "\n",
    "print('Test score: {0:.2f}'.format(score_nb_tfidf))"
   ]
  },
  {
   "cell_type": "markdown",
   "metadata": {},
   "source": [
    "## Training with SVM\n",
    "__Count vectorizer__"
   ]
  },
  {
   "cell_type": "code",
   "execution_count": 102,
   "metadata": {},
   "outputs": [
    {
     "name": "stdout",
     "output_type": "stream",
     "text": [
      "Test score: 0.52\n"
     ]
    }
   ],
   "source": [
    "from sklearn.svm import SVC\n",
    "from sklearn.calibration import CalibratedClassifierCV\n",
    "\n",
    "best_params = {\"kernel\": \"linear\"}\n",
    "# cross validation\n",
    "if l_crossval:\n",
    "    params_classifier = {\"base_estimator__C\": np.logspace(-2, 1, 4)}\n",
    "    crossval = CrossValidation(\n",
    "        OneVsRestClassifier(CalibratedClassifierCV(SVC(**best_params))),\n",
    "        CountVectorizer(**params_vectorizer), params_classifier, lb, G_tags)\n",
    "    crossval.cv(X_train, y_train)\n",
    "\n",
    "    best_params[\"C\"] = crossval.best_parameter_[\"base_estimator__C\"][\"value\"]\n",
    "    print(\"Best parameter\", crossval.best_parameter_)\n",
    "\n",
    "else:\n",
    "    # result is given by previously cross validation process\n",
    "    best_params[\"C\"] = .01\n",
    "\n",
    "SVM_pipeline_count = Pipeline([\n",
    "    ('count', CountVectorizer(**params_vectorizer)),\n",
    "    ('clf', OneVsRestClassifier(CalibratedClassifierCV(SVC(**best_params)))),\n",
    "])\n",
    "\n",
    "SVM_pipeline_count.fit(X_train, y_train)\n",
    "y_pred_svm_count = SVM_pipeline_count.predict(X_test)\n",
    "y_pred_proba_svm_count = SVM_pipeline_count.predict_proba(X_test)\n",
    "y_pred_new_svm_count = get_best_tags(y_pred_svm_count, y_pred_proba_svm_count)\n",
    "\n",
    "score_svm_count = evaluate(\n",
    "    y_test,\n",
    "    y_pred_new_svm_count,\n",
    "    binarizer=lb,\n",
    "    G_tags=G_tags,\n",
    "    l_print_errors=False,\n",
    "    l_deduplication=True)\n",
    "\n",
    "print('Test score: {0:.2f}'.format(score_svm_count))"
   ]
  },
  {
   "cell_type": "markdown",
   "metadata": {},
   "source": [
    "__Tfidf vectorizer__"
   ]
  },
  {
   "cell_type": "code",
   "execution_count": 103,
   "metadata": {},
   "outputs": [
    {
     "name": "stdout",
     "output_type": "stream",
     "text": [
      "Test score: 0.56\n"
     ]
    }
   ],
   "source": [
    "# cross validation\n",
    "best_params = {\"kernel\": \"linear\"}\n",
    "if l_crossval:\n",
    "    params_classifier = {\"base_estimator__C\": np.logspace(-2, 1, 4)}\n",
    "    crossval_tfidf = CrossValidation(\n",
    "        OneVsRestClassifier(CalibratedClassifierCV(SVC(**best_params))),\n",
    "        TfidfVectorizer(**params_vectorizer), params_classifier, lb, G_tags)\n",
    "    crossval_tfidf.cv(X_train, y_train)\n",
    "    best_params[\"C\"] = crossval.best_parameter_[\"base_estimator__C\"][\"value\"]\n",
    "    print(\"Best parameter\", crossval_tfidf.best_parameter_)\n",
    "\n",
    "else:\n",
    "    # result is given by previously cross validation process\n",
    "    best_params[\"C\"] = 0.01\n",
    "\n",
    "SVM_pipeline_tfidf = Pipeline([\n",
    "    ('tfidf', TfidfVectorizer(**params_vectorizer)),\n",
    "    ('clf', OneVsRestClassifier(CalibratedClassifierCV(SVC(**best_params)))),\n",
    "])\n",
    "\n",
    "SVM_pipeline_tfidf.fit(X_train, y_train)\n",
    "y_pred_svm_tfidf = SVM_pipeline_tfidf.predict(X_test)\n",
    "y_pred_proba_svm_tfidf = SVM_pipeline_tfidf.predict_proba(X_test)\n",
    "y_pred_new_svm_tfidf = get_best_tags(\n",
    "    y_pred_svm_tfidf, y_pred_proba_svm_tfidf)\n",
    "\n",
    "score_svm_tfidf = evaluate(\n",
    "    y_test,\n",
    "    y_pred_new_svm_tfidf,\n",
    "    binarizer=lb,\n",
    "    G_tags=G_tags,\n",
    "    l_print_errors=False,\n",
    "    l_deduplication=True)\n",
    "\n",
    "print('Test score: {0:.2f}'.format(score_svm_tfidf))"
   ]
  },
  {
   "cell_type": "code",
   "execution_count": 104,
   "metadata": {},
   "outputs": [
    {
     "name": "stdout",
     "output_type": "stream",
     "text": [
      "y_true:  [('express', 'mongoose')] , y_pred: [('c#', 'mongoose')]\n",
      "y_true:  [('c++',)] , y_pred: [('c++', 'javascript')]\n",
      "y_true:  [('docker',)] , y_pred: [('docker', 'hadoop')]\n",
      "y_true:  [('file', 'python')] , y_pred: [('java', 'python-3.x')]\n",
      "y_true:  [('python', 'scikit-learn')] , y_pred: [('iis', 'image')]\n",
      "y_true:  [('reactjs', 'typescript')] , y_pred: [('node.js', 'npm', 'reactjs', 'typescript', 'webpack')]\n",
      "y_true:  [('debugging', 'python', 'tensorflow')] , y_pred: [('tensorflow',)]\n",
      "y_true:  [('css',)] , y_pred: [('css',)]\n",
      "y_true:  [('postgresql', 'sql')] , y_pred: [('postgresql',)]\n",
      "y_true:  [('ruby', 'server')] , y_pred: [('node.js', 'ruby-on-rails')]\n"
     ]
    }
   ],
   "source": [
    "## Examples\n",
    "n_sample = 10\n",
    "test_index = np.arange(y_test.shape[0])\n",
    "np.random.seed(42)\n",
    "np.random.shuffle(test_index)\n",
    "\n",
    "for i in test_index[:n_sample]:\n",
    "    y_lb_pred = lb.inverse_transform(y_pred_new_svm_tfidf[i].reshape(1,-1))\n",
    "    y_lb_test = lb.inverse_transform(y_test[i].reshape(1,-1))\n",
    "    print(\"y_true: \",y_lb_test,\", y_pred:\",y_lb_pred)"
   ]
  },
  {
   "cell_type": "markdown",
   "metadata": {},
   "source": [
    "## Training with MaxEnt"
   ]
  },
  {
   "cell_type": "markdown",
   "metadata": {},
   "source": [
    "__Count vectorizer__"
   ]
  },
  {
   "cell_type": "code",
   "execution_count": 105,
   "metadata": {
    "scrolled": true
   },
   "outputs": [
    {
     "name": "stdout",
     "output_type": "stream",
     "text": [
      "Test score: 0.51\n"
     ]
    }
   ],
   "source": [
    "from sklearn.linear_model import LogisticRegressionCV\n",
    "\n",
    "lr_pipeline_count = Pipeline([\n",
    "    ('count', CountVectorizer(**params_vectorizer)),\n",
    "    ('clf',\n",
    "     OneVsRestClassifier(\n",
    "         LogisticRegressionCV(\n",
    "             Cs=np.logspace(-2, 2, 5), dual=True, cv=5, solver='liblinear'))),\n",
    "])\n",
    "\n",
    "lr_pipeline_count.fit(X_train, y_train)\n",
    "y_pred_lr_count = lr_pipeline_count.predict(X_test)\n",
    "y_pred_proba_lr_count = lr_pipeline_count.decision_function(X_test)\n",
    "y_pred_new_lr_count = get_best_tags(\n",
    "    y_pred_lr_count, y_pred_proba_lr_count)\n",
    "\n",
    "score_lr_count = evaluate(\n",
    "    y_test,\n",
    "    y_pred_new_lr_count,\n",
    "    binarizer=lb,\n",
    "    G_tags=G_tags,\n",
    "    l_print_errors=False,\n",
    "    l_deduplication=True)\n",
    "\n",
    "print('Test score: {0:.2f}'.format(score_lr_count))"
   ]
  },
  {
   "cell_type": "markdown",
   "metadata": {},
   "source": [
    "__Tfidf vectorizer__"
   ]
  },
  {
   "cell_type": "code",
   "execution_count": 106,
   "metadata": {},
   "outputs": [
    {
     "name": "stdout",
     "output_type": "stream",
     "text": [
      "Test score: 0.51\n"
     ]
    }
   ],
   "source": [
    "lr_pipeline_tfidf = Pipeline([\n",
    "    ('tfidf', TfidfVectorizer(**params_vectorizer)),\n",
    "    ('clf',\n",
    "     OneVsRestClassifier(\n",
    "         LogisticRegressionCV(\n",
    "             Cs=np.logspace(-2, 2, 5), dual=True, cv=5, solver='liblinear'))),\n",
    "])\n",
    "\n",
    "lr_pipeline_tfidf.fit(X_train, y_train)\n",
    "y_pred_lr_tfidf = lr_pipeline_tfidf.predict(X_test)\n",
    "y_pred_proba_lr_tfidf = lr_pipeline_tfidf.decision_function(X_test)\n",
    "y_pred_new_lr_tfidf = get_best_tags(y_pred_lr_tfidf, y_pred_proba_lr_tfidf)\n",
    "\n",
    "score_lr_tfidf = evaluate(\n",
    "    y_test,\n",
    "    y_pred_new_lr_tfidf,\n",
    "    binarizer=lb,\n",
    "    G_tags=G_tags,\n",
    "    l_print_errors=False,\n",
    "    l_deduplication=True)\n",
    "\n",
    "print('Test score: {0:.2f}'.format(score_lr_tfidf))"
   ]
  },
  {
   "cell_type": "markdown",
   "metadata": {},
   "source": [
    "## Summary table"
   ]
  },
  {
   "cell_type": "code",
   "execution_count": 107,
   "metadata": {},
   "outputs": [
    {
     "data": {
      "text/html": [
       "<div>\n",
       "<style scoped>\n",
       "    .dataframe tbody tr th:only-of-type {\n",
       "        vertical-align: middle;\n",
       "    }\n",
       "\n",
       "    .dataframe tbody tr th {\n",
       "        vertical-align: top;\n",
       "    }\n",
       "\n",
       "    .dataframe thead th {\n",
       "        text-align: right;\n",
       "    }\n",
       "</style>\n",
       "<table border=\"1\" class=\"dataframe\">\n",
       "  <thead>\n",
       "    <tr style=\"text-align: right;\">\n",
       "      <th></th>\n",
       "      <th></th>\n",
       "      <th>AVG F1 SCORE</th>\n",
       "    </tr>\n",
       "    <tr>\n",
       "      <th>MODEL</th>\n",
       "      <th>VECTORIZER</th>\n",
       "      <th></th>\n",
       "    </tr>\n",
       "  </thead>\n",
       "  <tbody>\n",
       "    <tr>\n",
       "      <th rowspan=\"2\" valign=\"top\">DUMMY</th>\n",
       "      <th>COUNT</th>\n",
       "      <td>0.137</td>\n",
       "    </tr>\n",
       "    <tr>\n",
       "      <th>TFIDF</th>\n",
       "      <td>0.137</td>\n",
       "    </tr>\n",
       "    <tr>\n",
       "      <th rowspan=\"2\" valign=\"top\">NAIVE BAYES</th>\n",
       "      <th>COUNT</th>\n",
       "      <td>0.427</td>\n",
       "    </tr>\n",
       "    <tr>\n",
       "      <th>TFIDF</th>\n",
       "      <td>0.267</td>\n",
       "    </tr>\n",
       "    <tr>\n",
       "      <th rowspan=\"2\" valign=\"top\">MAXENT</th>\n",
       "      <th>COUNT</th>\n",
       "      <td>0.506</td>\n",
       "    </tr>\n",
       "    <tr>\n",
       "      <th>TFIDF</th>\n",
       "      <td>0.508</td>\n",
       "    </tr>\n",
       "    <tr>\n",
       "      <th rowspan=\"2\" valign=\"top\">SVM</th>\n",
       "      <th>COUNT</th>\n",
       "      <td>0.522</td>\n",
       "    </tr>\n",
       "    <tr>\n",
       "      <th>TFIDF</th>\n",
       "      <td>0.561</td>\n",
       "    </tr>\n",
       "  </tbody>\n",
       "</table>\n",
       "</div>"
      ],
      "text/plain": [
       "                        AVG F1 SCORE\n",
       "MODEL       VECTORIZER              \n",
       "DUMMY       COUNT              0.137\n",
       "            TFIDF              0.137\n",
       "NAIVE BAYES COUNT              0.427\n",
       "            TFIDF              0.267\n",
       "MAXENT      COUNT              0.506\n",
       "            TFIDF              0.508\n",
       "SVM         COUNT              0.522\n",
       "            TFIDF              0.561"
      ]
     },
     "execution_count": 107,
     "metadata": {},
     "output_type": "execute_result"
    }
   ],
   "source": [
    "vectorizer = 4 * [\"COUNT\", \"TFIDF\"]\n",
    "model = 2* [\"DUMMY\"] + 2 * [\"NAIVE BAYES\"] + 2*[\"MAXENT\"] +2*[\"SVM\"]\n",
    "\n",
    "test_score = [\n",
    "    np.round(score_dummy_count,3),\n",
    "    np.round(score_dummy_tfidf,3),\n",
    "    np.round(score_nb_count,3),\n",
    "    np.round(score_nb_tfidf,3),\n",
    "    np.round(score_lr_count,3),\n",
    "    np.round(score_lr_tfidf,3),\n",
    "    np.round(score_svm_count,3),\n",
    "    np.round(score_svm_tfidf,3),\n",
    "   \n",
    "]\n",
    "\n",
    "df_summary = pd.DataFrame(\n",
    "    list(zip(model, vectorizer, test_score)),\n",
    "    columns=[\"MODEL\", \"VECTORIZER\",\n",
    "             \"AVG F1 SCORE\"]).set_index([\"MODEL\", \"VECTORIZER\"])\n",
    "df_summary"
   ]
  },
  {
   "cell_type": "markdown",
   "metadata": {},
   "source": [
    "__Observation__:\n",
    "- SVM with TFIDF vectorizer returns the best avg F1 score so far (0.56). \n",
    "- MaxEnt classifier performs not bad either.\n",
    "- Naïve Bayes classifier are very senstive to the input. With count vectorizer, it performs way better than tf-idf vectorizer."
   ]
  },
  {
   "cell_type": "markdown",
   "metadata": {},
   "source": [
    "## Study of performance vs ngrams\n",
    "Here we look at the effect of ngrams."
   ]
  },
  {
   "cell_type": "code",
   "execution_count": 108,
   "metadata": {},
   "outputs": [
    {
     "name": "stdout",
     "output_type": "stream",
     "text": [
      "Test score: 0.56\n",
      "Test score: 0.33\n",
      "Test score: 0.17\n",
      "Test score: 0.58\n",
      "Test score: 0.34\n",
      "Test score: 0.58\n"
     ]
    }
   ],
   "source": [
    "n_gram_list = [(1, 1), (2, 2), (3, 3), (1, 2), (2, 3), (1, 3)]\n",
    "max_features = [\n",
    "    len(df_X_counts_90),\n",
    "    len(df_X_counts_bi_90),\n",
    "    len(df_X_counts_tri_90),\n",
    "    len(df_X_counts_mono_bi_90),\n",
    "    len(df_X_counts_bi_tri_90),\n",
    "    len(df_X_counts_mono_tri_90)\n",
    "]\n",
    "best_params = {'C': 1, 'kernel': 'linear'}\n",
    "n_grams_score = []\n",
    "\n",
    "for idx, n_gram in enumerate(n_gram_list):\n",
    "    # cross validation\n",
    "    params_vectorizer = {\n",
    "        \"max_features\": max_features[idx],\n",
    "        \"ngram_range\": n_gram,\n",
    "        'tokenizer': tokenize,\n",
    "        'lowercase': False\n",
    "    }\n",
    "\n",
    "    SVM_pipeline = Pipeline([\n",
    "        ('tfidf', TfidfVectorizer(**params_vectorizer)),\n",
    "        ('clf', OneVsRestClassifier(\n",
    "            CalibratedClassifierCV(SVC(**best_params)))),\n",
    "    ])\n",
    "\n",
    "    SVM_pipeline.fit(X_train, y_train)\n",
    "    y_pred_svm = SVM_pipeline.predict(X_test)\n",
    "    y_pred_proba_svm = SVM_pipeline.predict_proba(X_test)\n",
    "    y_pred_new_svm = get_best_tags(y_pred_svm, y_pred_proba_svm)\n",
    "\n",
    "    score_svm = evaluate(\n",
    "        y_test,\n",
    "        y_pred_new_svm,\n",
    "        binarizer=lb,\n",
    "        G_tags=G_tags,\n",
    "        l_print_errors=False,\n",
    "        l_deduplication=True)\n",
    "\n",
    "    print('Test score: {0:.2f}'.format(score_svm))\n",
    "    n_grams_score.append(score_svm)"
   ]
  },
  {
   "cell_type": "code",
   "execution_count": 109,
   "metadata": {},
   "outputs": [
    {
     "name": "stderr",
     "output_type": "stream",
     "text": [
      "/Users/pmlee/anaconda3/lib/python3.6/site-packages/seaborn/categorical.py:1460: FutureWarning: remove_na is deprecated and is a private function. Do not use.\n",
      "  stat_data = remove_na(group_data)\n"
     ]
    },
    {
     "data": {
      "image/png": "[encoded data removed]",
      "text/plain": [
       "<matplotlib.figure.Figure at 0x1a5e949d30>"
      ]
     },
     "metadata": {},
     "output_type": "display_data"
    }
   ],
   "source": [
    "fig, ax = plt.subplots(figsize=(3,2.5))\n",
    "sns.barplot(\n",
    "    np.arange(len(n_gram_list)),\n",
    "    np.array(n_grams_score),\n",
    "    ax=ax)\n",
    "for p in ax.patches:\n",
    "    ax.annotate(\n",
    "        np.round(p.get_height(), decimals=2),\n",
    "        (p.get_x() + p.get_width() / 2., p.get_height()),\n",
    "        ha='center',\n",
    "        va='bottom',\n",
    "        xytext=(0, 1),\n",
    "        textcoords='offset points')\n",
    "ax.set_xticklabels(n_gram_list)\n",
    "ax.set_ylabel(r\"$F_{1-avg}$\")\n",
    "ax.set_xlabel(\"n-grams\")\n",
    "sns.despine()\n",
    "plt.tight_layout()\n",
    "fig.savefig(save_dir + \"ngram_study.pdf\")"
   ]
  },
  {
   "cell_type": "markdown",
   "metadata": {},
   "source": [
    "__Observation__:\n",
    "- with monograms, we attain the highest average F1 score, it is unnecessary to build bigrams or trigrams"
   ]
  },
  {
   "cell_type": "markdown",
   "metadata": {},
   "source": [
    "## Study of performance vs max features\n",
    "Here we look at the effect of input max features."
   ]
  },
  {
   "cell_type": "code",
   "execution_count": null,
   "metadata": {},
   "outputs": [
    {
     "name": "stdout",
     "output_type": "stream",
     "text": [
      "Test score: 0.44\n",
      "Test score: 0.49\n",
      "Test score: 0.52\n",
      "Test score: 0.54\n",
      "Test score: 0.55\n",
      "Test score: 0.56\n",
      "Test score: 0.56\n",
      "Test score: 0.57\n"
     ]
    }
   ],
   "source": [
    "max_features_list =np.logspace(2.8, 4.5, 10 , dtype=int)\n",
    "best_params = {'C': 1., 'kernel': 'linear'}\n",
    "max_features_score = []\n",
    "\n",
    "for max_feature in max_features_list:\n",
    "    # cross validation\n",
    "    params_vectorizer = {\"max_features\": max_feature, \n",
    "                         \"ngram_range\": (1, 2),\n",
    "                         'tokenizer' :tokenize, \n",
    "                         'lowercase':False}\n",
    "\n",
    "    SVM_pipeline = Pipeline([\n",
    "        ('tfidf', TfidfVectorizer(**params_vectorizer)),\n",
    "        ('clf', OneVsRestClassifier(CalibratedClassifierCV(SVC(**best_params)))),\n",
    "    ])\n",
    "\n",
    "    SVM_pipeline.fit(X_train, y_train)\n",
    "    y_pred_svm = SVM_pipeline.predict(X_test)\n",
    "    y_pred_proba_svm = SVM_pipeline.predict_proba(X_test)\n",
    "    y_pred_new_svm = get_best_tags(y_pred_svm, y_pred_proba_svm)\n",
    "\n",
    "    score_svm = evaluate(\n",
    "        y_test,\n",
    "        y_pred_new_svm,\n",
    "        binarizer=lb,\n",
    "        G_tags=G_tags,\n",
    "        l_print_errors=False,\n",
    "        l_deduplication=True)\n",
    "\n",
    "    print('Test score: {0:.2f}'.format(score_svm))\n",
    "    max_features_score.append(score_svm)"
   ]
  },
  {
   "cell_type": "code",
   "execution_count": null,
   "metadata": {},
   "outputs": [],
   "source": [
    "fig, ax = plt.subplots(figsize=(3,2.5))\n",
    "ax.semilogx(max_features_list,  max_features_score, marker=\"X\")\n",
    "ax.set_ylabel(r\"$F_{1-avg}$\")\n",
    "ax.set_xlabel(\"# features\")\n",
    "ax.set_ylim(0.43,0.6)\n",
    "sns.despine()\n",
    "plt.tight_layout()\n",
    "fig.savefig(save_dir + \"feature_num_study.pdf\")"
   ]
  },
  {
   "cell_type": "markdown",
   "metadata": {},
   "source": [
    "## Saving necessary modules for best model"
   ]
  },
  {
   "cell_type": "code",
   "execution_count": null,
   "metadata": {
    "collapsed": true
   },
   "outputs": [],
   "source": [
    "import pickle\n",
    "with open('binarizer.pk', 'wb') as fin:\n",
    "    pickle.dump(lb, fin)"
   ]
  },
  {
   "cell_type": "code",
   "execution_count": null,
   "metadata": {
    "collapsed": true
   },
   "outputs": [],
   "source": [
    "X_train.to_csv(\"X_train.csv\", header=True)\n",
    "X_test.to_csv(\"X_test.csv\", header=True)\n",
    "y_all.to_csv(\"y.csv\", header=True)\n",
    "np.save(\"y_train.npy\", y_train )\n",
    "np.save(\"y_test.npy\", y_test )"
   ]
  },
  {
   "cell_type": "code",
   "execution_count": null,
   "metadata": {
    "collapsed": true
   },
   "outputs": [],
   "source": [
    "nx.write_gpickle(G_tags, \"G_tags.gpickle\")"
   ]
  },
  {
   "cell_type": "markdown",
   "metadata": {},
   "source": [
    "__Observation__:\n",
    "- the performance saturates when we approach high number of features, the increase is logarithmic. From 20000 features onwards, the test score attains 0.59."
   ]
  },
  {
   "cell_type": "markdown",
   "metadata": {},
   "source": [
    "# Unsupervised learning\n",
    "In this section, we will train 3 models: LSA (NMF+Forbenius), PLSA (NMF+KL divergence), and LDA. Then we will compare the their performance. The number of topics is determined by SVD + the elbow method, and *Rate of Perplexity Change (RPC)* from LDA.\n",
    "\n",
    "Using the novel metric RPC defined by RPC(i) = |(P_i-P_i-1)/(t_i-t_i-1)|, where P represents the perplexity and t the number of topics, this overcomes weaknesses on the selection of an appropriate number of topics in LDA modelling based on only the perplexity measure (it is less stable because it depends on seeds).\n",
    "\n",
    "Rather than choosing among several numbers of topics over a potentially large range where perplexity fluctuates, the quantity defined as the changepoint of rate of perplexity change can be chosen as to be the most appropriate number of topics from a heuristic analysis.\n",
    "\n",
    "Ref: Zhao et al. BMC Bioinformatics 2015, 16(Suppl 13):S8 http://www.biomedcentral.com/1471-2105/16/S13/S8"
   ]
  },
  {
   "cell_type": "markdown",
   "metadata": {},
   "source": [
    "## Determining number of topics using truncated SVD\n",
    "Using SVD (Singular Value Decomposition) to determine the number of topics for the training of models."
   ]
  },
  {
   "cell_type": "code",
   "execution_count": null,
   "metadata": {},
   "outputs": [],
   "source": [
    "from sklearn.decomposition import TruncatedSVD\n",
    "\n",
    "# Prep text body\n",
    "X_body = df_text[[\"TITLE_LEMMATIZED\", \"BODY_LEMMATIZED\"]].apply(\n",
    "    lambda x: ' '.join(x) if pd.notnull(x[\"TITLE_LEMMATIZED\"]) else x[\"BODY_LEMMATIZED\"],\n",
    "    axis=1)\n",
    "\n",
    "n_components = 2750\n",
    "params_vectorizer = {\n",
    "    \"max_features\": 5200,\n",
    "    \"ngram_range\": (1, 1),\n",
    "    'tokenizer': tokenize,\n",
    "    'lowercase': False\n",
    "}\n",
    "count_vect = CountVectorizer(**params_vectorizer)\n",
    "svd = TruncatedSVD(n_components=n_components)\n",
    "\n",
    "X_body_vect = count_vect.fit_transform(X_body)\n",
    "\n",
    "#Fit the SVD model\n",
    "print(\"Fitting the SVD model with \"\n",
    "      \"count features...\")\n",
    "\n",
    "X_body_svd = svd.fit_transform(X_body_vect)\n",
    "X_body_cumsum = np.cumsum(svd.explained_variance_ratio_)\n",
    "count_feature_names = count_vect.get_feature_names()"
   ]
  },
  {
   "cell_type": "code",
   "execution_count": null,
   "metadata": {
    "collapsed": true
   },
   "outputs": [],
   "source": [
    "# Save non supervised input data\n",
    "X_body.to_csv(\"X_train_nmfkl.csv\", index=True, header=True)"
   ]
  },
  {
   "cell_type": "code",
   "execution_count": null,
   "metadata": {},
   "outputs": [],
   "source": [
    "n_top_words = 50\n",
    "message = \"\"\n",
    "sorted_SVD = sorted(\n",
    "            list(zip(svd.components_[0], count_feature_names)),\n",
    "            key=itemgetter(0),\n",
    "            reverse=True)\n",
    "message += \", \".join([i[1] for i in sorted_SVD[:n_top_words]])\n",
    "print(\"\\nTopics in SVD model :\")\n",
    "print(message)"
   ]
  },
  {
   "cell_type": "code",
   "execution_count": null,
   "metadata": {
    "scrolled": true
   },
   "outputs": [],
   "source": [
    "from scipy.interpolate import InterpolatedUnivariateSpline\n",
    "\n",
    "fig, ax = plt.subplots(figsize=(3, 2.5))\n",
    "\n",
    "x = np.arange(n_components)\n",
    "y = X_body_cumsum\n",
    "ax.plot(x, y)\n",
    "ax.tick_params('y')\n",
    "ax.set_xlabel(\"# components\")\n",
    "ax.set_ylabel(\"Cum. Explained Variance Ratio\")\n",
    "\n",
    "# determination of inflexion points\n",
    "## line 1\n",
    "x1 = x[0:300]\n",
    "y1 = (y[0] - y[300]) / (x[0] - x[300]) * x1 + y[30]\n",
    "new_x1 = np.arange(500)\n",
    "f = InterpolatedUnivariateSpline(x1, y1)\n",
    "new_y1 = f(new_x1)\n",
    "\n",
    "## line 2\n",
    "x2 = x[1400:]\n",
    "y2 = (y[1400] - y[-1]) / (x[1400] - x[-1]) * x2 + y[900]\n",
    "new_x2 = np.arange(2750)\n",
    "f2 = InterpolatedUnivariateSpline(x2, y2)\n",
    "new_y2 = f2(new_x2)\n",
    "\n",
    "## plot inflexion lines\n",
    "ax.plot(new_x1, new_y1, color='black', linestyle='dashed')\n",
    "ax.plot(new_x2, new_y2, color='black', linestyle='dashed')\n",
    "ylim = ax.get_ylim()\n",
    "ax.vlines(310, 0., 0.88, color=\"green\", linestyle='dotted')\n",
    "ax.text(150, -0.09, r\"$\\mathbf{300}$\")\n",
    "ax.set_ylim(0, 1)\n",
    "ax.set_xlim(0,2800)\n",
    "sns.despine()\n",
    "plt.tight_layout()\n",
    "fig.savefig(save_dir+\"svd_cumsum.pdf\")\n",
    "print(\"With %d components, %.1f%% of the data is retained.\" %\n",
    "      (n_components, 100 * X_body_cumsum[-1]))"
   ]
  },
  {
   "cell_type": "markdown",
   "metadata": {},
   "source": [
    "__Observation__:\n",
    "- with SVD, we observe that with 2750 components, we retain 97.5% of the data\n",
    "- with the elbow method, we observe that the number of topics that can be generated is around 300"
   ]
  },
  {
   "cell_type": "markdown",
   "metadata": {},
   "source": [
    "## Topic modeling with LSA (NMF+Frobenius)"
   ]
  },
  {
   "cell_type": "markdown",
   "metadata": {},
   "source": [
    "__Name Attribution to topics__ \n",
    "- attributed by looking at the top 100 word distribution of each topic, then retain the 2 most probable words that match words in the tags_reduced_quartile. If no match is found, attribute 'UNKNOWN'.\n",
    "\n",
    "__Tags Attribution to documents__\n",
    "- tags are recommended to the document by looking over the probability of topic distribution, at most 3 tags are recommended to a document. If no preponderant topic is found, then the document will not be given a tag.\n",
    "\n",
    "__Note__: to decide if a topic is preponderant to a document or the words are suitable for a topic, we have to deal with the definition of a probability threshold. In the following, we have included the study of the probability threhosld on the performance."
   ]
  },
  {
   "cell_type": "code",
   "execution_count": null,
   "metadata": {
    "collapsed": true,
    "scrolled": true
   },
   "outputs": [],
   "source": [
    "from sklearn.decomposition import NMF\n",
    "    \n",
    "n_chosen_components = 5200\n",
    "n_top_words = 20\n",
    "n_topics = 300\n",
    "\n",
    "params_vectorizer = {\"max_features\": n_chosen_components, \"ngram_range\": (1, 1),\n",
    "                     'tokenizer' :tokenize, 'lowercase':False}\n",
    "\n",
    "count_vect = CountVectorizer(**params_vectorizer)\n",
    "X_NMF = count_vect.fit_transform(X_body)"
   ]
  },
  {
   "cell_type": "code",
   "execution_count": null,
   "metadata": {},
   "outputs": [],
   "source": [
    "#Fit the NMF model\n",
    "print(\"Fitting the NMF model (Frobenius norm) with \"\n",
    "      \"tf-idf features, num_topics =%d...\" %n_topics)  \n",
    "num_topics = np.linspace(120,240,6, dtype=int)\n",
    "\n",
    "print(\"Processing num topic %d \" % (n_topics))\n",
    "nmf_fr = NMF(n_components=n_topics, random_state=1,\n",
    "          alpha=.1, l1_ratio=.5).fit(X_NMF)\n",
    "count_feature_names = count_vect.get_feature_names()"
   ]
  },
  {
   "cell_type": "code",
   "execution_count": null,
   "metadata": {
    "collapsed": true
   },
   "outputs": [],
   "source": [
    "n_top_words = 10\n",
    "count_feature_names = count_vect.get_feature_names()\n",
    "#print(\"\\nTopics in NMF model (Frobenius norm):\")\n",
    "#print_top_words(nmf_fr, tfidf_feature_names, n_top_words)"
   ]
  },
  {
   "cell_type": "code",
   "execution_count": null,
   "metadata": {},
   "outputs": [],
   "source": [
    "df_top_words_nmf_fr = pd.DataFrame(\n",
    "    nmf_fr.components_, columns=count_feature_names)\n",
    "dict_topicnames_nmf_fr, topicnames_nmf_fr = topic_name_attribution(df_top_words_nmf_fr,\n",
    "                                                     tags_key_reduced_quartile)"
   ]
  },
  {
   "cell_type": "code",
   "execution_count": null,
   "metadata": {
    "collapsed": true
   },
   "outputs": [],
   "source": [
    "# Create Document - Topic Matrix\n",
    "index_topicnames_fr = list(dict_topicnames_nmf_fr.keys())\n",
    "nmf_fr_output = nmf_fr.transform(X_NMF)[:, index_topicnames_fr]\n",
    "\n",
    "\n",
    "def potential_tags(data, threshold=0.1):\n",
    "    \"\"\"\n",
    "    attribute potential tags to each document\n",
    "    \"\"\"\n",
    "    #pdb.set_trace()\n",
    "    sorted_data = sorted(data.items(), key=itemgetter(1), reverse=True)\n",
    "    tags_temp = [k.split(',') for k, v in sorted_data if v > threshold]\n",
    "\n",
    "    tags_temp = [item for sublist in tags_temp for item in sublist]\n",
    "    # we set 5 tags maximum\n",
    "    if len(tags_temp) > 3:\n",
    "        tags_temp = tags_temp[:3]\n",
    "\n",
    "    # if no tags have a value above the threshold, attribute no tags,\n",
    "    # this is going to be useful for the evaluation\n",
    "    if not tags_temp:\n",
    "        tags_temp = [\"No tags\"]  #[k.split(',') for k, v in sorted_data][0]\n",
    "\n",
    "    # set is used to avoid redundancy\n",
    "    tags = list(set(tags_temp))\n",
    "\n",
    "    return tags\n",
    "\n",
    "\n",
    "# Make the pandas dataframe\n",
    "df_document_topic_nmf_fr = pd.DataFrame(\n",
    "    np.round(nmf_fr_output, 2), columns=topicnames_nmf_fr, index=X_body.index)\n",
    "\n",
    "threshold_list = np.arange(0, 0.2, 0.04)\n",
    "for i in range(len(threshold_list)):\n",
    "    kwds = {'threshold': threshold_list[i]}\n",
    "    dominant_topic_nmf_fr = df_document_topic_nmf_fr.apply(\n",
    "        potential_tags, **kwds, axis=1)\n",
    "    df_text.loc[df_document_topic_nmf_fr.index, 'POTENTIAL_TAGS_NMFFR_THRE_' +\n",
    "                str(np.round(threshold_list[i], 2))] = dominant_topic_nmf_fr"
   ]
  },
  {
   "cell_type": "code",
   "execution_count": null,
   "metadata": {},
   "outputs": [],
   "source": [
    "from wordcloud import WordCloud\n",
    "sns.set_style('white')\n",
    "\n",
    "n_top = 30\n",
    "fig, axes = plt.subplots(4, 3, figsize=(14, 9))\n",
    "ax = axes.flatten()\n",
    "i = 0\n",
    "index_topicnames = list(dict_topicnames_nmf_fr.keys())\n",
    "\n",
    "for k in df_top_words_nmf_fr.loc[index_topicnames].sample(\n",
    "        12, random_state=42).index:\n",
    "    # take relative word frequencies into account, lower max_font_size\n",
    "    df_top_words_sorted = df_top_words_nmf_fr.loc[k].sort_values(\n",
    "        ascending=False)\n",
    "    wordcloud = WordCloud(\n",
    "        background_color=\"white\",\n",
    "        max_words=n_top,\n",
    "        max_font_size=50,\n",
    "        colormap=\"inferno\",\n",
    "        relative_scaling=.2).generate(' '.join(\n",
    "            df_top_words_sorted[:n_top].index))\n",
    "\n",
    "    ax[i].imshow(wordcloud, interpolation=\"bilinear\")\n",
    "    ax[i].xaxis.set_visible(False)\n",
    "    ax[i].yaxis.set_visible(False)\n",
    "    ax[i].set_title(\n",
    "        \"%s\" % dict_topicnames_nmf_fr[k], fontsize=14, fontweight=\"bold\")\n",
    "\n",
    "    i += 1\n",
    "\n",
    "plt.tight_layout(w_pad=-4., h_pad=1)\n",
    "#fig.savefig(\"topics_word_cloud.pdf\")"
   ]
  },
  {
   "cell_type": "markdown",
   "metadata": {},
   "source": [
    "## Topic modeling with PLSA (NMF+KL)"
   ]
  },
  {
   "cell_type": "code",
   "execution_count": null,
   "metadata": {},
   "outputs": [],
   "source": [
    "#Fit the NMF model\n",
    "print(\"Fitting the NMF model (KL divergence) with \"\n",
    "      \"tf-idf features, num_topics =%d...\" % n_topics)\n",
    "nmf_KL = NMF(\n",
    "    n_components=n_topics,\n",
    "    random_state=1,\n",
    "    beta_loss='kullback-leibler',\n",
    "    solver='mu',\n",
    "    max_iter=1000,\n",
    "    alpha=.1,\n",
    "    l1_ratio=.5).fit(X_NMF)"
   ]
  },
  {
   "cell_type": "code",
   "execution_count": null,
   "metadata": {
    "collapsed": true,
    "scrolled": true
   },
   "outputs": [],
   "source": [
    "df_top_words_nmf_KL = pd.DataFrame(\n",
    "    nmf_KL.components_, columns=count_feature_names)\n",
    "dict_topicnames_nmf_kl, topicnames_nmf_kl = topic_name_attribution(df_top_words_nmf_KL,\n",
    "                                                     tags_key_reduced_quartile)"
   ]
  },
  {
   "cell_type": "code",
   "execution_count": null,
   "metadata": {
    "collapsed": true
   },
   "outputs": [],
   "source": [
    "# Create Document - Topic Matrix\n",
    "index_topicnames_KL = list(dict_topicnames_nmf_kl.keys())\n",
    "nmf_KL_output = nmf_KL.transform(X_NMF)[:,index_topicnames_KL]\n",
    "\n",
    "# Make the pandas dataframe\n",
    "df_document_topic_nmf_KL = pd.DataFrame(\n",
    "    np.round(nmf_KL_output, 2), columns=topicnames_nmf_kl, index=X_body.index)\n",
    "\n",
    "#dominant_topic_nmf_KL = df_document_topic_nmf_KL.apply(potential_tags, axis=1)\n",
    "for i in range(len(threshold_list)):\n",
    "    kwds = {'threshold': threshold_list[i]}\n",
    "    dominant_topic_nmf_KL = df_document_topic_nmf_KL.apply(\n",
    "        potential_tags, **kwds, axis=1)\n",
    "    df_text.loc[df_document_topic_nmf_KL.index, 'POTENTIAL_TAGS_NMFKL_THRE_' +\n",
    "                str(np.round(threshold_list[i],2))] = dominant_topic_nmf_KL"
   ]
  },
  {
   "cell_type": "code",
   "execution_count": null,
   "metadata": {
    "scrolled": true
   },
   "outputs": [],
   "source": [
    "n_top = 30\n",
    "fig, axes = plt.subplots(4, 3, figsize=(14, 9))\n",
    "ax = axes.flatten()\n",
    "i = 0\n",
    "index_topicnames = list(dict_topicnames_nmf_kl.keys())\n",
    "\n",
    "for k in df_top_words_nmf_KL.loc[index_topicnames].sample(\n",
    "        12, random_state=42).index:\n",
    "    # take relative word frequencies into account, lower max_font_size\n",
    "    df_top_words_sorted = df_top_words_nmf_KL.loc[k].sort_values(\n",
    "        ascending=False)\n",
    "    wordcloud = WordCloud(\n",
    "        background_color=\"white\",\n",
    "        max_words=n_top,\n",
    "        max_font_size=50,\n",
    "        colormap=\"inferno\",\n",
    "        relative_scaling=.2).generate(' '.join(\n",
    "            df_top_words_sorted[:n_top].index))\n",
    "\n",
    "    ax[i].imshow(wordcloud, interpolation=\"bilinear\")\n",
    "    ax[i].xaxis.set_visible(False)\n",
    "    ax[i].yaxis.set_visible(False)\n",
    "    ax[i].set_title(\n",
    "        \"%s\" % dict_topicnames_nmf_kl[k], fontsize=14, fontweight=\"bold\")\n",
    "\n",
    "    i += 1\n",
    "\n",
    "plt.tight_layout(w_pad=-4., h_pad=1)\n",
    "#fig.savefig(\"topics_word_cloud.pdf\")"
   ]
  },
  {
   "cell_type": "code",
   "execution_count": null,
   "metadata": {},
   "outputs": [],
   "source": [
    "n_top = 30\n",
    "fig, axes = plt.subplots(3, 2, figsize=(7, 5))\n",
    "ax = axes.flatten()\n",
    "i = 0\n",
    "index_topicnames = list(dict_topicnames_nmf_kl.keys())\n",
    "\n",
    "for k in df_top_words_nmf_KL.loc[index_topicnames].sample(\n",
    "        6, random_state=412).index:\n",
    "    # take relative word frequencies into account, lower max_font_size\n",
    "    df_top_words_sorted = df_top_words_nmf_KL.loc[k].sort_values(\n",
    "        ascending=False)\n",
    "    wordcloud = WordCloud(\n",
    "        background_color=\"white\",\n",
    "        max_words=n_top,\n",
    "        max_font_size=50,\n",
    "        colormap=\"inferno\",\n",
    "        relative_scaling=.2).generate(' '.join(\n",
    "            df_top_words_sorted[:n_top].index))\n",
    "\n",
    "    ax[i].imshow(wordcloud, interpolation=\"bilinear\")\n",
    "    ax[i].xaxis.set_visible(False)\n",
    "    ax[i].yaxis.set_visible(False)\n",
    "    ax[i].set_title(\n",
    "        \"%s\" % dict_topicnames_nmf_kl[k], fontsize=14, fontweight=\"bold\")\n",
    "\n",
    "    i += 1\n",
    "\n",
    "plt.tight_layout(w_pad=-4, h_pad=.5)\n",
    "fig.savefig(save_dir + \"topics_word_cloud_KL.pdf\")"
   ]
  },
  {
   "cell_type": "markdown",
   "metadata": {},
   "source": [
    "## Topic Modeling using LDA"
   ]
  },
  {
   "cell_type": "code",
   "execution_count": null,
   "metadata": {
    "scrolled": false
   },
   "outputs": [],
   "source": [
    "from sklearn.decomposition import LatentDirichletAllocation\n",
    "\n",
    "num_topics = np.linspace(120, 360, 7, dtype=int)\n",
    "\n",
    "if l_crossval:\n",
    "    num_cv = 3\n",
    "    perplexities = [[] for x in range(len(num_topics))]\n",
    "    ldas2 = [[] for x in range(len(num_topics))]\n",
    "\n",
    "    for i in range(len(num_topics)):\n",
    "        for cv in range(num_cv):\n",
    "            print(\"%d: processing num topic %d \" % (cv, num_topics[i]))\n",
    "            lda = LatentDirichletAllocation(\n",
    "                n_components=num_topics[i],\n",
    "                max_iter=10,\n",
    "                learning_method='online',\n",
    "                learning_offset=50.,\n",
    "                total_samples=2000)\n",
    "\n",
    "            ldas2[i].append(lda.fit(X_NMF))\n",
    "            perplexities[i].append(lda.perplexity(X_NMF))\n",
    "\n",
    "else:\n",
    "     perplexities = [[\n",
    "        2730.042169502154, 2657.850198542552, 2732.1554380872576\n",
    "    ], [3121.5851356346216, 3160.3933702070544, 3078.5464417945764], [\n",
    "        3449.4380844531966, 3489.793489956359, 3702.514848183639\n",
    "    ], [3908.6500865491134, 4100.030580369049, 4189.624879016464], [\n",
    "        4558.44572249753, 4396.575439797789, 4711.380212690162\n",
    "    ], [4816.138272701868, 4908.89953730471, 4882.461734075558],\n",
    "                    [5718.505960887363, 5258.114135803885, 5405.5119863024165]]\n",
    "    # from previous cross validation\n",
    "\n",
    "n_topics = 300\n",
    "lda_chosen = LatentDirichletAllocation(\n",
    "        n_components=n_topics,\n",
    "        max_iter=10,\n",
    "        learning_method='online',\n",
    "        learning_offset=50.,\n",
    "        total_samples=2000)\n",
    "\n",
    "lda_chosen.fit(X_NMF)\n",
    "   \n",
    "mean_perplexity = np.mean(perplexities, axis=-1)"
   ]
  },
  {
   "cell_type": "markdown",
   "metadata": {},
   "source": [
    "### Determining number of topics with RPC"
   ]
  },
  {
   "cell_type": "code",
   "execution_count": null,
   "metadata": {},
   "outputs": [],
   "source": [
    "fig, ax = plt.subplots(1, figsize=(4, 3))\n",
    "\n",
    "# interpolation\n",
    "new_x = np.arange(100,360,10)\n",
    "f = InterpolatedUnivariateSpline(num_topics, mean_perplexity)\n",
    "\n",
    "ax.plot(new_x, f(new_x) , marker=\"X\")\n",
    "ax.set_xlabel(\"# topics\")\n",
    "ax.set_ylabel(\"Perplexity\")\n",
    "sns.despine()\n",
    "plt.tight_layout()"
   ]
  },
  {
   "cell_type": "code",
   "execution_count": null,
   "metadata": {},
   "outputs": [],
   "source": [
    "# calculate rpc based on interpolated functions\n",
    "rpc2 = rpc_score( f(new_x), new_x)\n",
    "mid_new_x = .5*(new_x[:-1] +new_x[1:])\n",
    "\n",
    "# plot\n",
    "fig, ax = plt.subplots(1, figsize=(4, 3))\n",
    "ax.plot(mid_new_x, rpc2, marker=\"X\")\n",
    "ax.set_xlabel(\"# topics\")\n",
    "ax.set_ylabel(\"RPC\")\n",
    "sns.despine()\n",
    "plt.tight_layout()\n",
    "fig.savefig(save_dir + \"RPC.pdf\")"
   ]
  },
  {
   "cell_type": "code",
   "execution_count": null,
   "metadata": {
    "collapsed": true
   },
   "outputs": [],
   "source": [
    "tf_feature_names = count_vect.get_feature_names()\n",
    "opt_lda_model = lda_chosen\n",
    "df_top_words_lda = pd.DataFrame(opt_lda_model.components_, columns=tf_feature_names)\n",
    "dict_topicnames_lda, topicnames_lda = topic_name_attribution(df_top_words_lda,\n",
    "                                                     tags_key_reduced_quartile)"
   ]
  },
  {
   "cell_type": "code",
   "execution_count": null,
   "metadata": {},
   "outputs": [],
   "source": [
    "from wordcloud import WordCloud\n",
    "sns.set_style('white')\n",
    "\n",
    "n_top = 30\n",
    "fig, axes = plt.subplots(4, 3, figsize=(14, 9))\n",
    "ax = axes.flatten()\n",
    "i = 0\n",
    "index_topicnames = list(dict_topicnames_lda.keys())\n",
    "\n",
    "for k in df_top_words_lda.loc[index_topicnames].sample(12,random_state=42).index:\n",
    "    # take relative word frequencies into account, lower max_font_size\n",
    "    df_top_words_sorted = df_top_words_lda.loc[k].sort_values(ascending=False)\n",
    "    wordcloud = WordCloud(\n",
    "        background_color=\"white\",\n",
    "        max_words=n_top,\n",
    "        max_font_size=50,\n",
    "        colormap=\"inferno\",\n",
    "        relative_scaling=.2).generate(' '.join(\n",
    "            df_top_words_sorted[:n_top].index))\n",
    "\n",
    "    ax[i].imshow(wordcloud, interpolation=\"bilinear\")\n",
    "    ax[i].xaxis.set_visible(False)\n",
    "    ax[i].yaxis.set_visible(False)\n",
    "    ax[i].set_title(\"%s\" % dict_topicnames_lda[k], fontsize=14, fontweight=\"bold\")\n",
    "\n",
    "    i += 1\n",
    "\n",
    "plt.tight_layout(w_pad=-4., h_pad=1)\n",
    "#fig.savefig(\"topics_word_cloud.pdf\")"
   ]
  },
  {
   "cell_type": "markdown",
   "metadata": {},
   "source": [
    "__Observation__:\n",
    "- the topic names are very coherent with the word distribution "
   ]
  },
  {
   "cell_type": "code",
   "execution_count": null,
   "metadata": {
    "collapsed": true,
    "scrolled": true
   },
   "outputs": [],
   "source": [
    "# Create Document - Topic Matrix\n",
    "index_topicnames_lda = list(dict_topicnames_lda.keys())\n",
    "lda_output = opt_lda_model.transform(X_LDA)[:, index_topicnames_lda]\n",
    "\n",
    "# Make the pandas dataframe\n",
    "df_document_topic_lda = pd.DataFrame(\n",
    "    np.round(lda_output, 2), columns=topicnames_lda, index=X_body.index)\n",
    "\n",
    "#dominant_topic_lda = df_document_topic_lda.apply(potential_tags, axis=1)\n",
    "\n",
    "for i in range(len(threshold_list)):\n",
    "    kwds = {'threshold': threshold_list[i]}\n",
    "    dominant_topic_lda = df_document_topic_lda.apply(\n",
    "        potential_tags, **kwds, axis=1)\n",
    "    df_text.loc[df_document_topic_lda.index, 'POTENTIAL_TAGS_LDA_THRE_' +\n",
    "                str(np.round(threshold_list[i],2))] = dominant_topic_lda"
   ]
  },
  {
   "cell_type": "markdown",
   "metadata": {},
   "source": [
    "## Unsupervised learning model performance\n",
    "Performance evaluation for unsupervised learning models use both avg F1 score and no tag ratio. The avg F1 score is calculated only on entries that have tags, the no tag ratio is calculated on all entries."
   ]
  },
  {
   "cell_type": "code",
   "execution_count": null,
   "metadata": {
    "collapsed": true
   },
   "outputs": [],
   "source": [
    "columns_to_keep = []\n",
    "\n",
    "for i in range(len(threshold_list)):\n",
    "    columns_to_keep += [\n",
    "        'POTENTIAL_TAGS_LDA_THRE_' + str(np.round(threshold_list[i], 2))\n",
    "    ]\n",
    "    columns_to_keep += [\n",
    "        'POTENTIAL_TAGS_NMFFR_THRE_' + str(np.round(threshold_list[i], 2))\n",
    "    ]\n",
    "    columns_to_keep += [\n",
    "        'POTENTIAL_TAGS_NMFKL_THRE_' + str(np.round(threshold_list[i], 2))\n",
    "    ]\n",
    "\n",
    "df_text_reduced_clusterized = pd.merge(\n",
    "    df_tags_reduced_sampled,\n",
    "    pd.DataFrame(df_text[columns_to_keep]),\n",
    "    left_index=True,\n",
    "    right_index=True)"
   ]
  },
  {
   "cell_type": "code",
   "execution_count": null,
   "metadata": {
    "scrolled": true
   },
   "outputs": [],
   "source": [
    "columns_to_show = [\"BODY\",\"TAGS_MODIFIED\"] + columns_to_keep\n",
    "df_text_reduced_clusterized[columns_to_show].sample(\n",
    "    10, random_state=42)"
   ]
  },
  {
   "cell_type": "code",
   "execution_count": null,
   "metadata": {
    "collapsed": true,
    "scrolled": true
   },
   "outputs": [],
   "source": [
    "mlb_tagslist = tuple(\n",
    "    set([\"No tags\", \"unknown\"] +\n",
    "        df_text_reduced_clusterized.TAGS_MODIFIED.sum()))\n",
    "mlb = MultiLabelBinarizer(classes=mlb_tagslist)\n",
    "y_true = mlb.fit_transform(df_text_reduced_clusterized.TAGS_MODIFIED)\n",
    "score_ldas = []\n",
    "no_tag_ldas = []\n",
    "\n",
    "for i in range(len(threshold_list)):\n",
    "    y_pred_lda = mlb.fit_transform(\n",
    "        df_text_reduced_clusterized[\"POTENTIAL_TAGS_LDA_THRE_\"\n",
    "                                    + str(round(threshold_list[i], 2))])\n",
    "\n",
    "    score_lda = evaluate(\n",
    "        y_true,\n",
    "        y_pred_lda,\n",
    "        binarizer=mlb,\n",
    "        G_tags=G_tags,\n",
    "        l_print_errors=False,\n",
    "        l_deduplication=True)\n",
    "    #print('Test score: {0:.2f}'.format(score_lda))\n",
    "    score_ldas.append(score_lda)\n",
    "\n",
    "    y_pred_text_lda = mlb.fit_transform(\n",
    "        df_text[\"POTENTIAL_TAGS_LDA_THRE_\" + str(round(threshold_list[i], 2))])\n",
    "    no_tag_score_lda = no_tag_percentage_score(y_pred_text_lda, mlb)\n",
    "    no_tag_ldas.append(no_tag_score_lda)"
   ]
  },
  {
   "cell_type": "code",
   "execution_count": null,
   "metadata": {
    "collapsed": true
   },
   "outputs": [],
   "source": [
    "with open('new_binarizer.pk', 'wb') as fin:\n",
    "    pickle.dump(mlb, fin)"
   ]
  },
  {
   "cell_type": "code",
   "execution_count": null,
   "metadata": {
    "collapsed": true
   },
   "outputs": [],
   "source": [
    "score_nmf_frs = []\n",
    "no_tag_nmf_frs = []\n",
    "\n",
    "for i in range(len(threshold_list)):\n",
    "    y_pred_nmf_fr = mlb.fit_transform(\n",
    "        df_text_reduced_clusterized[\"POTENTIAL_TAGS_NMFFR_THRE_\"\n",
    "                                    + str(round(threshold_list[i], 2))])\n",
    "\n",
    "    score_nmf_fr = evaluate(\n",
    "        y_true,\n",
    "        y_pred_nmf_fr,\n",
    "        binarizer=mlb,\n",
    "        G_tags=G_tags,\n",
    "        l_print_errors=False,\n",
    "        l_deduplication=True)\n",
    "    #print('Test score: {0:.2f}'.format(score_nmf_fr))\n",
    "    score_nmf_frs.append(score_nmf_fr)\n",
    "\n",
    "    y_pred_text_nmf_fr = mlb.fit_transform(\n",
    "        df_text[\"POTENTIAL_TAGS_NMFFR_THRE_\"\n",
    "                + str(round(threshold_list[i], 2))])\n",
    "\n",
    "    no_tag_score_nmf_fr = no_tag_percentage_score(y_pred_text_nmf_fr, mlb)\n",
    "    no_tag_nmf_frs.append(no_tag_score_nmf_fr)"
   ]
  },
  {
   "cell_type": "code",
   "execution_count": null,
   "metadata": {
    "collapsed": true,
    "scrolled": true
   },
   "outputs": [],
   "source": [
    "score_nmf_kls = []\n",
    "no_tag_nmf_kls = []\n",
    "for i in range(len(threshold_list)):\n",
    "    y_pred_nmf_kl = mlb.fit_transform(\n",
    "        df_text_reduced_clusterized[\"POTENTIAL_TAGS_NMFKL_THRE_\"\n",
    "                                    + str(round(threshold_list[i], 2))])\n",
    "\n",
    "    score_nmf_kl = evaluate(\n",
    "        y_true,\n",
    "        y_pred_nmf_kl,\n",
    "        binarizer=mlb,\n",
    "        G_tags=G_tags,\n",
    "        l_print_errors=False,\n",
    "        l_deduplication=True)\n",
    "    #print('Test score: {0:.2f}'.format(score_nmf_kl))\n",
    "    score_nmf_kls.append(score_nmf_kl)\n",
    "\n",
    "    y_pred_text_nmf_kl = mlb.fit_transform(\n",
    "        df_text[\"POTENTIAL_TAGS_NMFKL_THRE_\"\n",
    "                + str(round(threshold_list[i], 2))])\n",
    "    no_tag_score_nmf_kl = no_tag_percentage_score(y_pred_text_nmf_kl, mlb)\n",
    "    no_tag_nmf_kls.append(no_tag_score_nmf_kl)"
   ]
  },
  {
   "cell_type": "code",
   "execution_count": null,
   "metadata": {},
   "outputs": [],
   "source": [
    "fig,ax = plt.subplots(figsize=(4,4))\n",
    "ax.scatter(threshold_list, score_nmf_kls, marker = \"^\", linestyle=\"dashed\", \n",
    "        s=80, color=\"b\")\n",
    "ax.scatter(threshold_list, score_nmf_frs, marker = \"^\", linestyle=\"dashdot\", \n",
    "        s=80, color=\"b\")\n",
    "ax.scatter(threshold_list, score_ldas, marker = \"^\", linestyle=\"solid\", \n",
    "        s=80, color=\"b\")\n",
    "ax.plot(threshold_list, score_nmf_kls, linestyle=\"dashed\", label=\"NMF (KL)\", \n",
    "           color=\"b\")\n",
    "ax.plot(threshold_list, score_nmf_frs, linestyle=\"dashdot\", \n",
    "           label=\"NMF (Frobenius)\", color=\"b\")\n",
    "ax.plot(threshold_list, score_ldas, linestyle=\"solid\", \n",
    "           label=\"LDA\", color=\"b\")\n",
    "ax2 = ax.twinx()\n",
    "ax2.plot(threshold_list, no_tag_nmf_kls, marker = \"o\", linestyle=\"dashed\", \n",
    "         markersize=10, color=\"r\")\n",
    "ax2.plot(threshold_list, no_tag_nmf_frs, marker = \"o\", linestyle=\"dashdot\", \n",
    "         markersize=10, color=\"r\")\n",
    "ax2.plot(threshold_list, no_tag_ldas, marker = \"o\", linestyle=\"solid\", \n",
    "         markersize=10, color=\"r\")\n",
    "ax.tick_params('y', colors='b')\n",
    "ax.set_ylim(-0.01,0.16)\n",
    "ax.set_xlim(-0.02,0.18)\n",
    "ax2.tick_params('y', colors='r')\n",
    "ax2.set_ylabel(r\"$\\mathrm{No\\,tag\\,documents\\,fraction}$\", color='r')\n",
    "ax.set_ylabel(r\"$\\mathrm{Average\\,F1\\,score}$\", color='b')\n",
    "\n",
    "ax.set_xlabel(\"threshold probability\")\n",
    "ax.legend(loc='center left')\n",
    "plt.show()\n"
   ]
  },
  {
   "cell_type": "markdown",
   "metadata": {},
   "source": [
    "__Observation__:\n",
    "- Average F1 score is only evaluated on examples that have true labels. A good clustering should have a high average F1 score. In this case, the threshold probability should be 0 for all models\n",
    "- No tag ratio is evaluated on the whole document set. It should be kept at a low value. The threshold probabilty should be set to 0 for all models\n",
    "- so we have chosen 0 as the threshold value."
   ]
  },
  {
   "cell_type": "code",
   "execution_count": null,
   "metadata": {},
   "outputs": [],
   "source": [
    "pd.DataFrame(\n",
    "    [ [score_nmf_frs[0], no_tag_nmf_frs[0]],\n",
    "     [score_nmf_kls[0], no_tag_nmf_kls[0]], [score_ldas[0], no_tag_ldas[0]]],\n",
    "    index=[\"LSA\", \"PLSA\", \"LDA\"],\n",
    "    columns=[\"AVG F1 SCORE\", \"NO TAG SCORE\"])"
   ]
  },
  {
   "cell_type": "markdown",
   "metadata": {},
   "source": [
    "# Conclusion:\n",
    "__EDA__:\n",
    "- We have defined a preprocessing pipeline for unstructure text.\n",
    "- We have grouped similar tags and presented them in a graph structure to define a lenient evaluation metric.\n",
    "\n",
    "__Classification__:\n",
    "- As compared to supervised learning, the AVG F1 scores best are very close to the baseline supervised learning models.\n",
    "- The no tag score indicates the fraction of documents which are not attributed a tag. It would be great to minimize this score.\n",
    "- A way to compare the performance among all these unsupervised models, AVG F1 score needs to be high and the no tag score has to below, therefore the best performance is obtained with PLSA (NMF + KL) model.\n",
    "- We conclude that the best models are: TFIDF + SVM for the supervised approach, and PLSA model in the unsupervised approach.\n",
    "\n",
    "__Deployment__:\n",
    "- These two best models will be trained in the best_model.py and deployed to https://so-tags-recommender.herokuapp.com\n",
    "\n",
    "__Perspective__:\n",
    "- The metric might not be global and complete enough to evaluate the performance of unsupervised models."
   ]
  }
 ],
 "metadata": {
  "kernelspec": {
   "display_name": "Python 3",
   "language": "python",
   "name": "python3"
  },
  "language_info": {
   "codemirror_mode": {
    "name": "ipython",
    "version": 3
   },
   "file_extension": ".py",
   "mimetype": "text/x-python",
   "name": "python",
   "nbconvert_exporter": "python",
   "pygments_lexer": "ipython3",
   "version": "3.6.3"
  }
 },
 "nbformat": 4,
 "nbformat_minor": 2
}
