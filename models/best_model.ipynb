{
 "cells": [
  {
   "cell_type": "code",
   "execution_count": 82,
   "metadata": {},
   "outputs": [],
   "source": [
    "import pandas as pd\n",
    "import numpy as np\n",
    "import pickle\n",
    "from lemma_tokenizer import LemmaTokenizer\n",
    "from sklearn.feature_extraction.text import TfidfVectorizer, CountVectorizer\n",
    "from sklearn.multiclass import OneVsRestClassifier\n",
    "from sklearn.externals import joblib\n",
    "from sklearn.svm import SVC\n",
    "from helper_functions import (evaluate, get_best_tags, potential_tags, \n",
    "                              topic_name_attribution, no_tag_percentage_score)\n",
    "from sklearn.pipeline import Pipeline\n",
    "from sklearn.calibration import CalibratedClassifierCV\n",
    "from sklearn.decomposition import NMF"
   ]
  },
  {
   "cell_type": "code",
   "execution_count": 76,
   "metadata": {},
   "outputs": [],
   "source": [
    "# load data\n",
    "X_train = pd.read_csv(\"X_train.csv\", index_col = \"Id\")\n",
    "X_train_all = pd.read_csv(\"X_train_nmfkl.csv\", index_col = \"Id\")\n",
    "X_train_nmfkl = X_train_all[X_train_all['0'].notnull()]\n",
    "X_test = pd.read_csv(\"X_test.csv\", index_col = \"Id\")\n",
    "index_y_all = np.load(\"index_y_true_nmf.npy\")\n",
    "y_all = np.load(\"y_true_nmf.npy\")\n",
    "y_train = np.load(\"y_train.npy\")\n",
    "y_test = np.load(\"y_test.npy\")\n",
    "\n",
    "# load binarizer\n",
    "lb = joblib.load(\"binarizer.pk\")\n",
    "mlb = joblib.load(\"new_binarizer.pk\")\n",
    "\n",
    "# file directory\n",
    "file_dir = \"/Users/pmlee/Documents/CAPGemini_OpenClassroom/\" + \\\n",
    "           \"OpenClassrooms_Patrick_Lee/Assignment5/question_categorizer/\" + \\\n",
    "           \"tags_recommender_app/TagsRecommenderApp/static/db/\"\n",
    "\n",
    "# load networkx graph\n",
    "G_tags = nx.read_gpickle(\"G_tags.gpickle\")"
   ]
  },
  {
   "cell_type": "markdown",
   "metadata": {},
   "source": [
    "# Supervised learning \n",
    "## Best model"
   ]
  },
  {
   "cell_type": "code",
   "execution_count": 3,
   "metadata": {},
   "outputs": [
    {
     "name": "stdout",
     "output_type": "stream",
     "text": [
      "Test score: 0.57\n"
     ]
    }
   ],
   "source": [
    "params_vectorizer = {\n",
    "    \"max_features\": 5000,\n",
    "    \"ngram_range\": (1, 2),\n",
    "    'tokenizer': LemmaTokenizer(),\n",
    "    'lowercase': False\n",
    "}\n",
    "best_params = {\"kernel\": \"linear\", \"C\": 0.01}\n",
    "SVM_pipeline = Pipeline([\n",
    "    ('tfidf', TfidfVectorizer(**params_vectorizer)),\n",
    "    ('clf', OneVsRestClassifier(CalibratedClassifierCV(SVC(**best_params)))),\n",
    "])\n",
    "\n",
    "SVM_pipeline.fit(X_train['0'], y_train)\n",
    "\n",
    "y_pred_svm = SVM_pipeline.predict(X_test['0'])\n",
    "y_pred_proba_svm = SVM_pipeline.predict_proba(X_test['0'])\n",
    "y_pred_new_svm = get_best_tags(y_pred_svm, y_pred_proba_svm)\n",
    "score_svm = evaluate(\n",
    "    y_test,\n",
    "    y_pred_new_svm,\n",
    "    binarizer=lb,\n",
    "    G_tags=G_tags,\n",
    "    l_print_errors=False,\n",
    "    l_deduplication=True)\n",
    "\n",
    "print('Test score: {0:.2f}'.format(score_svm))"
   ]
  },
  {
   "cell_type": "code",
   "execution_count": 4,
   "metadata": {},
   "outputs": [],
   "source": [
    "filename_vect = file_dir + \"vectorizer_lemma2.pk\"\n",
    "filename_SVM = file_dir + \"OVR_SVM_model.sav\"\n",
    "pickle.dump(SVM_pipeline.named_steps[\"tfidf\"], open(filename_vect, 'wb'))\n",
    "pickle.dump(SVM_pipeline.named_steps[\"clf\"], open(filename_SVM, 'wb'))"
   ]
  },
  {
   "cell_type": "markdown",
   "metadata": {},
   "source": [
    "# Unsupervised learning\n"
   ]
  },
  {
   "cell_type": "code",
   "execution_count": null,
   "metadata": {
    "scrolled": false
   },
   "outputs": [],
   "source": [
    "\n",
    "n_chosen_components = 5200\n",
    "n_top_words = 20\n",
    "n_topics = 300\n",
    "\n",
    "params_vectorizer = {\n",
    "    \"max_features\": n_chosen_components,\n",
    "    \"ngram_range\": (1, 1),\n",
    "    'tokenizer': LemmaTokenizer(),\n",
    "    'lowercase': False\n",
    "}\n",
    "\n",
    "best_params_nmf = {\n",
    "    \"n_components\": n_topics,\n",
    "    \"beta_loss\": \"kullback-leibler\",\n",
    "    \"solver\": 'mu',\n",
    "    \"max_iter\": 1000,\n",
    "    \"alpha\": .1,\n",
    "    \"l1_ratio\": .5\n",
    "}\n",
    "\n",
    "NMFKL_pipeline = Pipeline([\n",
    "    ('count', CountVectorizer(**params_vectorizer)),\n",
    "    ('clf_nmf', NMF(**best_params_nmf)),\n",
    "])\n",
    "\n",
    "#Fit the NMF model\n",
    "print(\"Fitting the NMF model (KL divergence) with \"\n",
    "      \"tf-idf features, num_topics =%d...\" % n_topics)\n",
    "NMFKL_pipeline.fit(X_train_nmfkl['0'])\n",
    "\n",
    "count_feature_names = NMFKL_pipeline.named_steps[\"count\"].get_feature_names()\n",
    "\n",
    "# Label attribution\n",
    "df_top_words_nmf_kl = pd.DataFrame(\n",
    "    NMFKL_pipeline.named_steps[\"clf_nmf\"].components_,\n",
    "    columns=count_feature_names)\n",
    "\n",
    "tags_keys = lb.classes_\n",
    "dict_topicnames_nmf_kl, topicnames_nmf_kl = topic_name_attribution(\n",
    "    df_top_words_nmf_kl, tags_keys)\n",
    "\n",
    "nmf_kl_output = NMFKL_pipeline.transform(\n",
    "    X_train_nmfkl['0'])\n",
    "\n",
    "# Make the pandas dataframe\n",
    "df_document_topic_nmf_kl = pd.DataFrame(\n",
    "    np.round(nmf_kl_output, 2),\n",
    "    columns=topicnames_nmf_kl,\n",
    "    index=X_train_nmfkl.index)\n",
    "\n",
    "dominant_topic_nmf_kl = df_document_topic_nmf_kl.apply(potential_tags, axis=1)\n",
    "\n",
    "y_pred_nmfkl = mlb.fit_transform(dominant_topic_nmf_kl.loc[X_test.index])\n",
    "\n",
    "score_nmfkl = evaluate(\n",
    "    y_true,\n",
    "    y_pred_nmfkl,\n",
    "    binarizer=mlb,\n",
    "    G_tags=G_tags,\n",
    "    l_print_errors=False,\n",
    "    l_deduplication=True)\n",
    "\n",
    "print('Test score: {0:.2f}'.format(score_nfmkl))\n",
    "\n",
    "y_pred_text_nmfkl = mlb.fit_transform(dominant_topic_nmf_kl)\n",
    "no_tag_score_nmfkl = no_tag_percentage_score(y_pred_text_nmfkl, mlb)\n",
    "\n",
    "print('No tag score: {0:.2f}'.format(no_tag_score_nmfkl))"
   ]
  },
  {
   "cell_type": "code",
   "execution_count": 89,
   "metadata": {},
   "outputs": [
    {
     "data": {
      "text/plain": [
       "299"
      ]
     },
     "execution_count": 89,
     "metadata": {},
     "output_type": "execute_result"
    }
   ],
   "source": [
    "len(topicnames_nmf_kl)"
   ]
  },
  {
   "cell_type": "code",
   "execution_count": 84,
   "metadata": {},
   "outputs": [
    {
     "name": "stdout",
     "output_type": "stream",
     "text": [
      "Test score: 0.13\n",
      "No tag score: 0.00\n"
     ]
    }
   ],
   "source": [
    "# prepare the predicted labels\n",
    "y_pred_nmfkl = mlb.fit_transform(dominant_topic_nmf_kl.loc[index_y_all])\n",
    "\n",
    "score_nmfkl = evaluate(\n",
    "    y_all,\n",
    "    y_pred_nmfkl,\n",
    "    binarizer=mlb,\n",
    "    G_tags=G_tags,\n",
    "    l_print_errors=False,\n",
    "    l_deduplication=True)\n",
    "\n",
    "print('Test score: {0:.2f}'.format(score_nmfkl))\n",
    "\n",
    "y_pred_text_nmfkl = mlb.fit_transform(dominant_topic_nmf_kl)\n",
    "no_tag_score_nmfkl = no_tag_percentage_score(y_pred_text_nmfkl, mlb)\n",
    "\n",
    "print('No tag score: {0:.2f}'.format(no_tag_score_nmfkl))"
   ]
  },
  {
   "cell_type": "code",
   "execution_count": null,
   "metadata": {
    "collapsed": true
   },
   "outputs": [],
   "source": [
    "filename_vect_nmfkl = file_dir + \"vectorizer_lemma_nmfkl.pk\"\n",
    "filename_nmfkl = file_dir + \"NMFKL_model.sav\"\n",
    "filename_topicnames_nmfkl = file_dir + \"topicnames.pk\"\n",
    "\n",
    "pickle.dump(NMFKL_pipeline.named_steps[\"count\"], open(filename_vect_nmfkl, 'wb'))\n",
    "pickle.dump(NMFKL_pipeline.named_steps[\"clf_nmf\"], open(filename_nmfkl, 'wb'))\n",
    "pickle.dump((dict_topicnames_nmf_kl, topicnames_nmf_kl), open(filename_topicnames_nmfkl, 'wb'))"
   ]
  }
 ],
 "metadata": {
  "kernelspec": {
   "display_name": "Python 3",
   "language": "python",
   "name": "python3"
  },
  "language_info": {
   "codemirror_mode": {
    "name": "ipython",
    "version": 3
   },
   "file_extension": ".py",
   "mimetype": "text/x-python",
   "name": "python",
   "nbconvert_exporter": "python",
   "pygments_lexer": "ipython3",
   "version": "3.6.3"
  }
 },
 "nbformat": 4,
 "nbformat_minor": 2
}
