{
 "cells": [
  {
   "cell_type": "code",
   "execution_count": 42,
   "metadata": {
    "collapsed": true
   },
   "outputs": [],
   "source": [
    "import pandas as pd\n",
    "import numpy as np\n",
    "from nltk import regexp_tokenize\n",
    "from nltk.corpus import stopwords\n",
    "from nltk.stem import WordNetLemmatizer\n",
    "import pdb\n",
    "import re\n",
    "import pickle\n",
    "from lemma_tokenizer import LemmaTokenizer\n",
    "from sklearn.feature_extraction.text import TfidfVectorizer\n",
    "from sklearn.multiclass import OneVsRestClassifier\n",
    "from sklearn.externals import joblib\n",
    "from sklearn.svm import SVC\n",
    "from helper_functions import evaluate, get_best_tags\n",
    "from sklearn.pipeline import Pipeline\n",
    "from sklearn.calibration import CalibratedClassifierCV\n",
    "from sklearn.preprocessing import MultiLabelBinarizer\n",
    "import networkx as nx"
   ]
  },
  {
   "cell_type": "code",
   "execution_count": 43,
   "metadata": {},
   "outputs": [],
   "source": [
    "# load data\n",
    "X_train = pd.read_csv(\"X_train.csv\")\n",
    "X_test = pd.read_csv(\"X_test.csv\")\n",
    "y_train = np.load(\"y_train.npy\")\n",
    "y_test = np.load(\"y_test.npy\")\n",
    "\n",
    "# load binarizer\n",
    "lb = joblib.load(\"binarizer.pk\")\n",
    "mlb = joblib.load(\"new_binarizer.pk\")\n",
    "\n",
    "# load networkx graph\n",
    "G_tags = nx.read_gpickle(\"G_tags.gpickle\")"
   ]
  },
  {
   "cell_type": "code",
   "execution_count": 49,
   "metadata": {},
   "outputs": [
    {
     "name": "stderr",
     "output_type": "stream",
     "text": [
      "/Users/pmlee/anaconda3/lib/python3.6/site-packages/sklearn/metrics/classification.py:1135: UndefinedMetricWarning: F-score is ill-defined and being set to 0.0 due to no predicted samples.\n",
      "  'precision', 'predicted', average, warn_for)\n"
     ]
    },
    {
     "name": "stdout",
     "output_type": "stream",
     "text": [
      "Test score: 0.41\n"
     ]
    }
   ],
   "source": [
    "params_vectorizer = {\"max_features\": 2700, \n",
    "                         \"ngram_range\": (1, 2),\n",
    "                         'tokenizer': LemmaTokenizer(),\n",
    "                         'lowercase':False}\n",
    "best_params = {\"kernel\": \"linear\", \"C\":1}\n",
    "SVM_pipeline = Pipeline([\n",
    "        ('tfidf', TfidfVectorizer(**params_vectorizer)),\n",
    "        ('clf', OneVsRestClassifier(CalibratedClassifierCV(SVC(**best_params)))),\n",
    "    ])\n",
    "\n",
    "SVM_pipeline.fit(X_train['0'], y_train)\n",
    "\n",
    "y_pred_svm = SVM_pipeline.predict(X_test['0'])\n",
    "y_pred_proba_svm = SVM_pipeline.predict_proba(X_test['0'])\n",
    "y_pred_new_svm = get_best_tags(y_pred_svm, y_pred_proba_svm)\n",
    "score_svm = evaluate(\n",
    "        y_test,\n",
    "        y_pred_svm,\n",
    "        binarizer=lb,\n",
    "        G_tags=G_tags,\n",
    "        l_print_errors=False,\n",
    "        l_deduplication=True)\n",
    "\n",
    "print('Test score: {0:.2f}'.format(score_svm))"
   ]
  },
  {
   "cell_type": "code",
   "execution_count": 48,
   "metadata": {
    "collapsed": true
   },
   "outputs": [],
   "source": [
    "file_dir = \"/Users/pmlee/Documents/CAPGemini_OpenClassroom/OpenClassrooms_Patrick_Lee/Assignment5/question_categorizer/tags_recommender_app/TagsRecommenderApp/static/db/\"\n",
    "filename_vect = file_dir + \"vectorizer_lemma2.pk\"\n",
    "filename_SVM = file_dir + \"OVR_SVM_model.sav\"\n",
    "pickle.dump(SVM_pipeline.named_steps[\"tfidf\"], open(filename_vect, 'wb'))\n",
    "pickle.dump(SVM_pipeline.named_steps[\"clf\"], open(filename_SVM, 'wb'))"
   ]
  }
 ],
 "metadata": {
  "kernelspec": {
   "display_name": "Python 3",
   "language": "python",
   "name": "python3"
  },
  "language_info": {
   "codemirror_mode": {
    "name": "ipython",
    "version": 3
   },
   "file_extension": ".py",
   "mimetype": "text/x-python",
   "name": "python",
   "nbconvert_exporter": "python",
   "pygments_lexer": "ipython3",
   "version": "3.6.3"
  }
 },
 "nbformat": 4,
 "nbformat_minor": 2
}
